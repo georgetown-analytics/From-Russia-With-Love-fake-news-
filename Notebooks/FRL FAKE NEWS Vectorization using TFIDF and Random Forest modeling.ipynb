{
 "cells": [
  {
   "cell_type": "code",
   "execution_count": 1,
   "metadata": {
    "ExecuteTime": {
     "end_time": "2020-11-29T22:04:34.115076Z",
     "start_time": "2020-11-29T22:03:54.445009Z"
    }
   },
   "outputs": [],
   "source": [
    "#import all needed libraries and perform required configuration setup\n",
    "import pandas as pd\n",
    "import matplotlib.pyplot as plt\n",
    "import numpy as np\n",
    "import seaborn as sns\n",
    "from wordcloud import WordCloud, STOPWORDS\n",
    "import nltk\n",
    "from nltk.corpus import stopwords\n",
    "from nltk.stem import WordNetLemmatizer\n",
    "from nltk.util import ngrams\n",
    "from collections import Counter\n",
    "from sklearn.preprocessing import RobustScaler\n",
    "from sklearn.preprocessing import OneHotEncoder\n",
    "from sklearn.compose import ColumnTransformer\n",
    "from sklearn.feature_extraction.text import CountVectorizer, TfidfVectorizer\n",
    "from sklearn.model_selection import train_test_split \n",
    "from sklearn.preprocessing import LabelEncoder\n",
    "from sklearn.ensemble import RandomForestClassifier\n",
    "from sklearn.metrics import accuracy_score, classification_report\n",
    "from sklearn.metrics import confusion_matrix\n",
    "\n",
    "import warnings\n",
    "warnings.filterwarnings('ignore')\n",
    "\n",
    "%matplotlib inline\n",
    "sns.set(style='white',palette='Dark2',rc={'figure.figsize':(9,6),'figure.dpi':90})\n"
   ]
  },
  {
   "cell_type": "markdown",
   "metadata": {},
   "source": [
    "## Set random seed"
   ]
  },
  {
   "cell_type": "code",
   "execution_count": 2,
   "metadata": {
    "ExecuteTime": {
     "end_time": "2020-11-29T22:04:45.281232Z",
     "start_time": "2020-11-29T22:04:45.265620Z"
    }
   },
   "outputs": [],
   "source": [
    "seed = 500"
   ]
  },
  {
   "cell_type": "code",
   "execution_count": 3,
   "metadata": {
    "ExecuteTime": {
     "end_time": "2020-11-29T22:05:39.093174Z",
     "start_time": "2020-11-29T22:04:48.373806Z"
    }
   },
   "outputs": [
    {
     "data": {
      "text/html": [
       "<div>\n",
       "<style scoped>\n",
       "    .dataframe tbody tr th:only-of-type {\n",
       "        vertical-align: middle;\n",
       "    }\n",
       "\n",
       "    .dataframe tbody tr th {\n",
       "        vertical-align: top;\n",
       "    }\n",
       "\n",
       "    .dataframe thead th {\n",
       "        text-align: right;\n",
       "    }\n",
       "</style>\n",
       "<table border=\"1\" class=\"dataframe\">\n",
       "  <thead>\n",
       "    <tr style=\"text-align: right;\">\n",
       "      <th></th>\n",
       "      <th>domain</th>\n",
       "      <th>content</th>\n",
       "      <th>scraped_at</th>\n",
       "      <th>title</th>\n",
       "      <th>label</th>\n",
       "      <th>day_name</th>\n",
       "    </tr>\n",
       "  </thead>\n",
       "  <tbody>\n",
       "    <tr>\n",
       "      <th>0</th>\n",
       "      <td>nytimes</td>\n",
       "      <td>month threejudge panel federal appeal court re...</td>\n",
       "      <td>2018-02-11 00:42:14.935145+00:00</td>\n",
       "      <td>appeal challenge child</td>\n",
       "      <td>real</td>\n",
       "      <td>sunday</td>\n",
       "    </tr>\n",
       "    <tr>\n",
       "      <th>1</th>\n",
       "      <td>yahoo</td>\n",
       "      <td>stockholm reuters sweden seek assurance presid...</td>\n",
       "      <td>2016-11-11 14:16:53.754000+00:00</td>\n",
       "      <td>sweden seek assurance trump defense agreement</td>\n",
       "      <td>real</td>\n",
       "      <td>friday</td>\n",
       "    </tr>\n",
       "    <tr>\n",
       "      <th>2</th>\n",
       "      <td>nytimes</td>\n",
       "      <td>week bus practice gained widespread publicity ...</td>\n",
       "      <td>2018-02-11 00:45:31.225957+00:00</td>\n",
       "      <td>brooklyn clash religious woman right</td>\n",
       "      <td>real</td>\n",
       "      <td>sunday</td>\n",
       "    </tr>\n",
       "    <tr>\n",
       "      <th>3</th>\n",
       "      <td>yahoo</td>\n",
       "      <td>beirut latest development syria backed kurdish...</td>\n",
       "      <td>2016-11-08 03:28:07.118000+00:00</td>\n",
       "      <td>latest turkey kurd naive</td>\n",
       "      <td>real</td>\n",
       "      <td>tuesday</td>\n",
       "    </tr>\n",
       "    <tr>\n",
       "      <th>4</th>\n",
       "      <td>sfgate</td>\n",
       "      <td>hotshooting tennessee tech rout alabama publis...</td>\n",
       "      <td>2016-11-18 22:38:10.550000+00:00</td>\n",
       "      <td>hotshooting tennessee tech rout alabama sfgate</td>\n",
       "      <td>real</td>\n",
       "      <td>friday</td>\n",
       "    </tr>\n",
       "  </tbody>\n",
       "</table>\n",
       "</div>"
      ],
      "text/plain": [
       "    domain                                            content  \\\n",
       "0  nytimes  month threejudge panel federal appeal court re...   \n",
       "1    yahoo  stockholm reuters sweden seek assurance presid...   \n",
       "2  nytimes  week bus practice gained widespread publicity ...   \n",
       "3    yahoo  beirut latest development syria backed kurdish...   \n",
       "4   sfgate  hotshooting tennessee tech rout alabama publis...   \n",
       "\n",
       "                         scraped_at  \\\n",
       "0  2018-02-11 00:42:14.935145+00:00   \n",
       "1  2016-11-11 14:16:53.754000+00:00   \n",
       "2  2018-02-11 00:45:31.225957+00:00   \n",
       "3  2016-11-08 03:28:07.118000+00:00   \n",
       "4  2016-11-18 22:38:10.550000+00:00   \n",
       "\n",
       "                                            title label day_name  \n",
       "0                          appeal challenge child  real   sunday  \n",
       "1   sweden seek assurance trump defense agreement  real   friday  \n",
       "2            brooklyn clash religious woman right  real   sunday  \n",
       "3                        latest turkey kurd naive  real  tuesday  \n",
       "4  hotshooting tennessee tech rout alabama sfgate  real   friday  "
      ]
     },
     "execution_count": 3,
     "metadata": {},
     "output_type": "execute_result"
    }
   ],
   "source": [
    "# Import the data\n",
    "df = pd.read_csv(r\"C:\\Users\\lanre\\Documents\\data_science\\preprocessed_frl_fake.csv\")\n",
    "df.head()"
   ]
  },
  {
   "cell_type": "code",
   "execution_count": 4,
   "metadata": {
    "ExecuteTime": {
     "end_time": "2020-11-29T22:06:05.277218Z",
     "start_time": "2020-11-29T22:06:05.145628Z"
    }
   },
   "outputs": [
    {
     "name": "stdout",
     "output_type": "stream",
     "text": [
      "<class 'pandas.core.frame.DataFrame'>\n",
      "RangeIndex: 1788000 entries, 0 to 1787999\n",
      "Data columns (total 6 columns):\n",
      " #   Column      Dtype \n",
      "---  ------      ----- \n",
      " 0   domain      object\n",
      " 1   content     object\n",
      " 2   scraped_at  object\n",
      " 3   title       object\n",
      " 4   label       object\n",
      " 5   day_name    object\n",
      "dtypes: object(6)\n",
      "memory usage: 81.8+ MB\n"
     ]
    }
   ],
   "source": [
    "df.info()"
   ]
  },
  {
   "cell_type": "code",
   "execution_count": 5,
   "metadata": {
    "ExecuteTime": {
     "end_time": "2020-11-29T22:06:07.468116Z",
     "start_time": "2020-11-29T22:06:07.430347Z"
    }
   },
   "outputs": [],
   "source": [
    "# checking missing values\n",
    "def missing_value(df):\n",
    "    \"\"\"\" Function to calculate the number and percent of missing values in a dataframe\"\"\"\n",
    "    total = df.isnull().sum().sort_values(ascending=False)\n",
    "    percent = ((df.isnull().sum()/df.isnull().count())*100).sort_values(ascending=False)\n",
    "    missing_value = pd.concat([total, percent], axis=1, keys=['Total','Percent'])\n",
    "    return missing_value"
   ]
  },
  {
   "cell_type": "code",
   "execution_count": 6,
   "metadata": {
    "ExecuteTime": {
     "end_time": "2020-11-29T22:06:12.897956Z",
     "start_time": "2020-11-29T22:06:11.039593Z"
    }
   },
   "outputs": [
    {
     "data": {
      "text/html": [
       "<div>\n",
       "<style scoped>\n",
       "    .dataframe tbody tr th:only-of-type {\n",
       "        vertical-align: middle;\n",
       "    }\n",
       "\n",
       "    .dataframe tbody tr th {\n",
       "        vertical-align: top;\n",
       "    }\n",
       "\n",
       "    .dataframe thead th {\n",
       "        text-align: right;\n",
       "    }\n",
       "</style>\n",
       "<table border=\"1\" class=\"dataframe\">\n",
       "  <thead>\n",
       "    <tr style=\"text-align: right;\">\n",
       "      <th></th>\n",
       "      <th>Total</th>\n",
       "      <th>Percent</th>\n",
       "    </tr>\n",
       "  </thead>\n",
       "  <tbody>\n",
       "    <tr>\n",
       "      <th>title</th>\n",
       "      <td>12629</td>\n",
       "      <td>0.706320</td>\n",
       "    </tr>\n",
       "    <tr>\n",
       "      <th>content</th>\n",
       "      <td>18</td>\n",
       "      <td>0.001007</td>\n",
       "    </tr>\n",
       "    <tr>\n",
       "      <th>day_name</th>\n",
       "      <td>0</td>\n",
       "      <td>0.000000</td>\n",
       "    </tr>\n",
       "    <tr>\n",
       "      <th>label</th>\n",
       "      <td>0</td>\n",
       "      <td>0.000000</td>\n",
       "    </tr>\n",
       "    <tr>\n",
       "      <th>scraped_at</th>\n",
       "      <td>0</td>\n",
       "      <td>0.000000</td>\n",
       "    </tr>\n",
       "    <tr>\n",
       "      <th>domain</th>\n",
       "      <td>0</td>\n",
       "      <td>0.000000</td>\n",
       "    </tr>\n",
       "  </tbody>\n",
       "</table>\n",
       "</div>"
      ],
      "text/plain": [
       "            Total   Percent\n",
       "title       12629  0.706320\n",
       "content        18  0.001007\n",
       "day_name        0  0.000000\n",
       "label           0  0.000000\n",
       "scraped_at      0  0.000000\n",
       "domain          0  0.000000"
      ]
     },
     "execution_count": 6,
     "metadata": {},
     "output_type": "execute_result"
    }
   ],
   "source": [
    "missing_value(df)"
   ]
  },
  {
   "cell_type": "code",
   "execution_count": 7,
   "metadata": {
    "ExecuteTime": {
     "end_time": "2020-11-29T22:06:17.911603Z",
     "start_time": "2020-11-29T22:06:15.474166Z"
    }
   },
   "outputs": [
    {
     "data": {
      "text/html": [
       "<div>\n",
       "<style scoped>\n",
       "    .dataframe tbody tr th:only-of-type {\n",
       "        vertical-align: middle;\n",
       "    }\n",
       "\n",
       "    .dataframe tbody tr th {\n",
       "        vertical-align: top;\n",
       "    }\n",
       "\n",
       "    .dataframe thead th {\n",
       "        text-align: right;\n",
       "    }\n",
       "</style>\n",
       "<table border=\"1\" class=\"dataframe\">\n",
       "  <thead>\n",
       "    <tr style=\"text-align: right;\">\n",
       "      <th></th>\n",
       "      <th>Total</th>\n",
       "      <th>Percent</th>\n",
       "    </tr>\n",
       "  </thead>\n",
       "  <tbody>\n",
       "    <tr>\n",
       "      <th>day_name</th>\n",
       "      <td>0</td>\n",
       "      <td>0.0</td>\n",
       "    </tr>\n",
       "    <tr>\n",
       "      <th>label</th>\n",
       "      <td>0</td>\n",
       "      <td>0.0</td>\n",
       "    </tr>\n",
       "    <tr>\n",
       "      <th>title</th>\n",
       "      <td>0</td>\n",
       "      <td>0.0</td>\n",
       "    </tr>\n",
       "    <tr>\n",
       "      <th>scraped_at</th>\n",
       "      <td>0</td>\n",
       "      <td>0.0</td>\n",
       "    </tr>\n",
       "    <tr>\n",
       "      <th>content</th>\n",
       "      <td>0</td>\n",
       "      <td>0.0</td>\n",
       "    </tr>\n",
       "    <tr>\n",
       "      <th>domain</th>\n",
       "      <td>0</td>\n",
       "      <td>0.0</td>\n",
       "    </tr>\n",
       "  </tbody>\n",
       "</table>\n",
       "</div>"
      ],
      "text/plain": [
       "            Total  Percent\n",
       "day_name        0      0.0\n",
       "label           0      0.0\n",
       "title           0      0.0\n",
       "scraped_at      0      0.0\n",
       "content         0      0.0\n",
       "domain          0      0.0"
      ]
     },
     "execution_count": 7,
     "metadata": {},
     "output_type": "execute_result"
    }
   ],
   "source": [
    "df.dropna(inplace=True)\n",
    "missing_value(df)"
   ]
  },
  {
   "cell_type": "code",
   "execution_count": 8,
   "metadata": {
    "ExecuteTime": {
     "end_time": "2020-11-29T22:06:22.372247Z",
     "start_time": "2020-11-29T22:06:22.340989Z"
    }
   },
   "outputs": [
    {
     "name": "stdout",
     "output_type": "stream",
     "text": [
      "<class 'pandas.core.frame.DataFrame'>\n",
      "Int64Index: 1775353 entries, 0 to 1787999\n",
      "Data columns (total 6 columns):\n",
      " #   Column      Dtype \n",
      "---  ------      ----- \n",
      " 0   domain      object\n",
      " 1   content     object\n",
      " 2   scraped_at  object\n",
      " 3   title       object\n",
      " 4   label       object\n",
      " 5   day_name    object\n",
      "dtypes: object(6)\n",
      "memory usage: 94.8+ MB\n"
     ]
    }
   ],
   "source": [
    "df.info()"
   ]
  },
  {
   "cell_type": "markdown",
   "metadata": {},
   "source": [
    "**Exploring few rows from title and column**"
   ]
  },
  {
   "cell_type": "code",
   "execution_count": 9,
   "metadata": {
    "ExecuteTime": {
     "end_time": "2020-11-29T17:22:39.778466Z",
     "start_time": "2020-11-29T17:22:39.762827Z"
    }
   },
   "outputs": [
    {
     "name": "stdout",
     "output_type": "stream",
     "text": [
      "Title 1:\n",
      " weekender richmond mass \n",
      "\n",
      "Title 2:\n",
      " preview sun wizard reuters \n",
      "\n",
      "Title 3:\n",
      " afghanistan failing force \n",
      "\n"
     ]
    }
   ],
   "source": [
    "# Taking a look at some few rows in the title\n",
    "for index,text in enumerate(df['title'][120:123]):\n",
    "    print('Title %d:\\n'%(index+1),text, '\\n')"
   ]
  },
  {
   "cell_type": "code",
   "execution_count": 10,
   "metadata": {
    "ExecuteTime": {
     "end_time": "2020-11-29T17:22:43.421477Z",
     "start_time": "2020-11-29T17:22:43.405853Z"
    }
   },
   "outputs": [
    {
     "name": "stdout",
     "output_type": "stream",
     "text": [
      "Content 1:\n",
      " regulation passed stampede veteran baby boomer quarteracre splitlevel said fullblown zoning bylaw helped shield egregious development place accident horse outnumber people richmond working horse farm building permit issued year lot minimum half acre prevent unsightly mountaintop development landowner parcel foot grade percent higher town conservation committee permission building rule richmond worth beauty valley nestled foot lenox mountain cone brook running beguiles prospective buyer year jonathan feuer importer great neck wife marcia director public policy mental health association spent month futile search second home berkshire couple given broker west stockbridge told land sale richmond combined parcel acre built threebedroom threebath house barn loft bedroom bath intended build house said waiting feuer recalled scene interested history richmond plenty originally lenox known time mount ephraim yoakun town micah mudge ichabod wood settled renamed place richmont officially incorporating separate town eventually altered current spelling census taken town population impressive frontier outpost year grown whopping population despite long history richmond xenophobic yankee town homeowner expect know neighbor town reputation familyfriendly welcoming newcomer summer weekend fulltime resident gather richmond shore town beach richmond pond boat ramp swimming lesson child lifeguard admission fee town gathering spot richmond store people coffee morning paper sell good wine imported cheese penny candy cafe downstairs mano open breakfast lunch allday brunch weekend advertisement continue reading main story pro highest perfamily income berkshire county richmond welltended place elementary school highly regarded teenager usually high school great barrington lenox town service rural community offer like mail delivery individual house instead post office box richmond berkshire cultural attraction fairly quickly including tanglewood shakespeare company norman rockwell museum town minitanglewood fall winter spring number musician boston symphony orchestra house richmond schedule performance elementary school county schedule available musicworks newsletter sign continue reading main story verify robot clicking invalid email address reenter select newsletter subscribe sign agree receive occasional update special offer york times product service thank subscribing error occurred later view york time newsletter con elementary school richmond desirable prospective fulltime resident compete weekender home driving price higher said marla agent stone house property west stockbridge property market richmond ranging million richmond feel remote need fullservice supermarket large retail store drive pittsfield direct train service unlike lenox great barrington little going village center richmond store mano night teenager single want active night life probably richmond boring real estate market fallen weekend radar richmond property snapped year betterknown berkshire town ellen cohen owner cohen white associate church street lenox lived richmond estimate price berkshire general risen percent year year richmond particularly said cohen white listing richmond yearold squarefoot contemporary view valley bedroom bath small barn asking price second colonial built late half acre bedroom bath swimming pool listed neighborhood association shared tennis court wheeler taylor realty great barrington current richmond listing including squarefoot contemporary priced bedroom bath acre higher fourbedroom contemporary square foot acre offered cohen say richmond market wiggle room people came year kicking right said land rural charm firmly defended population percent fulltime resident size square mile advertisement continue reading main story number house median house price neighbor secondhome owner york boston local professional horse breeder trainer orchard worker recent sale oldest house richmond threebedroom twobath saltbox built half acre stream barn sold october september federal mansion bedroom half bath acre sold million including furnishing property pool paddock tennis court tennis house carriage house guest suite caretaker apartment distance manhattan mile getting taconic state parkway exit route drive northeastward east chatham follow end route turn right proceed town center richmond travel time normal traffic hour minute bonanza line offer service port authority nearby stockbridge lenox twice arriving half hour later summer extra friday night information looking stay richmond colonial acre working horse farm room range night suite cottage suite kitchen sleep adult child rate include breakfast state road williamsville nearby west stockbridge room country dcor restored thcentury barn room night twonight minimum holiday weekend breakfast included route \n",
      "\n",
      "Content 2:\n",
      " intel preview sun wizard washington wizard phoenix sun struggle defensive finding difficult consistently column team better effort sun visit wizard monday phoenix average point allowed worst mark allowed lowly philadelphia shoot percent loss saturday matched franchise record pointer sun struggled guard perimeter small forward warren illness shooting guard devin booker hobbled ankle injury wizard surrendering average point allowed miami heat shoot percent floor home loss saturday sound like record saying need bradley beal told washington post defense know need effort matter arizona phoenix midatlantic washington sun phoenix coming best defensive performance season indiana friday night stumbled philadelphia coach earl watson letting team excuse backtoback young team figure consistency watson told reporter start mental aspect mentality court team confidence home rolling sun missing defensive anchor tyson chandler missed game personal matter wizard washington backcourt john wall bradley beal scored seasonhigh point saturday center marcin gortat point rebound block player score double figure watching film better defensive forward markieff morris told washington post offensively going start clicking eventually guy tonight offensively better defensive wall averaging point game wizard contest buzzer beater sun seldomused alan williams rotation game delivered pair doubledoubles bench morris suffered sprained ankle saturday daytoday xrays came negative washington took meeting season phoenix swept twogame series prediction sun wizard intel \n",
      "\n",
      "Content 3:\n",
      " news afghanistan grim week june attack level seen late president obama right send american troop fight violence surely increase strengthened ground force step pressure taliban qaeda sanctuary true lasting security exit american force afghanistan functioning army national police hold insurgent earn trust afghan citizen come close today washington spent year billion failed training program president george bush pentagon sent trainer available assigned iraq systematically embed american adviser afghan army unit approach paying dividend iraq failed afghan soldier living wage making easy taliban drug lord outbid country unemployed young pentagon neglected track weapon gave like mortar grenade launcher automatic rifle ten thousand disappeared sold highest bidder case american soldier fundamentally american planner understand effective afghan army honest competent police force help persuade civilian taliban fight american fought territory advertisement continue reading main story obama team giving afghanistan attention requires chance correct mistake thousand trainer dramatic increase year revived training effort require engagement american commander stanley mcchrystal \n",
      "\n"
     ]
    }
   ],
   "source": [
    "# Taking a look at some  rows in the content column\n",
    "for index,text in enumerate(df['content'][120:123]):\n",
    "    print('Content %d:\\n'%(index+1),text, '\\n')"
   ]
  },
  {
   "cell_type": "markdown",
   "metadata": {},
   "source": [
    "## Frequencies of words visualization"
   ]
  },
  {
   "cell_type": "markdown",
   "metadata": {},
   "source": [
    "**The `counter` function from the `collections` library will be used to count and store the occurrences of each word in a list of tuples. This is a very useful function when we deal with word-level analysis in natural language processing**"
   ]
  },
  {
   "cell_type": "code",
   "execution_count": 11,
   "metadata": {
    "ExecuteTime": {
     "end_time": "2020-11-29T17:22:48.876923Z",
     "start_time": "2020-11-29T17:22:48.406711Z"
    }
   },
   "outputs": [
    {
     "name": "stderr",
     "output_type": "stream",
     "text": [
      "[nltk_data] Downloading package stopwords to\n",
      "[nltk_data]     C:\\Users\\lanre\\AppData\\Roaming\\nltk_data...\n",
      "[nltk_data]   Package stopwords is already up-to-date!\n"
     ]
    },
    {
     "data": {
      "text/plain": [
       "True"
      ]
     },
     "execution_count": 11,
     "metadata": {},
     "output_type": "execute_result"
    }
   ],
   "source": [
    "import nltk\n",
    "nltk.download('stopwords')"
   ]
  },
  {
   "cell_type": "code",
   "execution_count": 12,
   "metadata": {
    "ExecuteTime": {
     "end_time": "2020-11-29T17:22:52.520535Z",
     "start_time": "2020-11-29T17:22:52.504911Z"
    }
   },
   "outputs": [],
   "source": [
    "def plot_top_non_stopwords_barchart(text):\n",
    "    stop=set(stopwords.words('english'))\n",
    "    new= text.str.split()\n",
    "    new=new.values.tolist()\n",
    "    corpus=[word for i in new for word in i]\n",
    "    counter=Counter(corpus)\n",
    "    most=counter.most_common()\n",
    "    x, y=[], []\n",
    "    for word,count in most[:20]:\n",
    "        if (word not in stop):\n",
    "            x.append(word)\n",
    "            y.append(count)\n",
    "    sns.barplot(x=y,y=x)"
   ]
  },
  {
   "cell_type": "markdown",
   "metadata": {},
   "source": [
    "###  Plot of top 20 words in the title"
   ]
  },
  {
   "cell_type": "code",
   "execution_count": 13,
   "metadata": {
    "ExecuteTime": {
     "end_time": "2020-11-29T17:23:05.674980Z",
     "start_time": "2020-11-29T17:22:57.468162Z"
    }
   },
   "outputs": [
    {
     "data": {
      "image/png": "[encoded data removed]",
      "text/plain": [
       "<Figure size 810x540 with 1 Axes>"
      ]
     },
     "metadata": {},
     "output_type": "display_data"
    }
   ],
   "source": [
    "plot_top_non_stopwords_barchart(df['title']);"
   ]
  },
  {
   "cell_type": "markdown",
   "metadata": {},
   "source": [
    "###  Plot of top 20 words in the content"
   ]
  },
  {
   "cell_type": "code",
   "execution_count": null,
   "metadata": {
    "ExecuteTime": {
     "start_time": "2020-11-29T14:47:44.419Z"
    }
   },
   "outputs": [],
   "source": [
    "#plot_top_non_stopwords_barchart(df['content']); # skipped because it is taking forever to run"
   ]
  },
  {
   "cell_type": "markdown",
   "metadata": {},
   "source": [
    "### Distribution of words and characters in the text "
   ]
  },
  {
   "cell_type": "code",
   "execution_count": 15,
   "metadata": {
    "ExecuteTime": {
     "end_time": "2020-11-29T17:24:03.729517Z",
     "start_time": "2020-11-29T17:24:02.911771Z"
    }
   },
   "outputs": [
    {
     "data": {
      "image/png": "[encoded data removed]",
      "text/plain": [
       "<Figure size 810x540 with 1 Axes>"
      ]
     },
     "metadata": {},
     "output_type": "display_data"
    }
   ],
   "source": [
    "#Number of characters in the title\n",
    "df['title'].str.len().hist(bins=50);"
   ]
  },
  {
   "cell_type": "code",
   "execution_count": 16,
   "metadata": {
    "ExecuteTime": {
     "end_time": "2020-11-29T17:24:28.134315Z",
     "start_time": "2020-11-29T17:24:27.379084Z"
    }
   },
   "outputs": [
    {
     "data": {
      "image/png": "[encoded data removed]",
      "text/plain": [
       "<Figure size 810x540 with 1 Axes>"
      ]
     },
     "metadata": {},
     "output_type": "display_data"
    }
   ],
   "source": [
    "df['title'].str.len().hist().autoscale(enable=True, axis='x', tight=True);"
   ]
  },
  {
   "cell_type": "code",
   "execution_count": 17,
   "metadata": {
    "ExecuteTime": {
     "end_time": "2020-11-29T17:24:52.904618Z",
     "start_time": "2020-11-29T17:24:48.191476Z"
    }
   },
   "outputs": [
    {
     "data": {
      "image/png": "[encoded data removed]",
      "text/plain": [
       "<Figure size 810x540 with 1 Axes>"
      ]
     },
     "metadata": {},
     "output_type": "display_data"
    }
   ],
   "source": [
    "#The number of words- plot the number of words appearing in each title\n",
    "df['title'].str.split().map(lambda x: len(x)).hist().autoscale(enable=True, axis='x', tight=True);"
   ]
  },
  {
   "cell_type": "code",
   "execution_count": 18,
   "metadata": {
    "ExecuteTime": {
     "end_time": "2020-11-29T17:25:26.818193Z",
     "start_time": "2020-11-29T17:24:59.242809Z"
    }
   },
   "outputs": [
    {
     "data": {
      "image/png": "[encoded data removed]",
      "text/plain": [
       "<Figure size 810x540 with 1 Axes>"
      ]
     },
     "metadata": {},
     "output_type": "display_data"
    }
   ],
   "source": [
    "#Average word length \n",
    "df['title'].str.split().apply(lambda x : [len(i) for i in x]).map(lambda x: np.mean(x)).hist()\n",
    "plt.autoscale(enable=True, axis='x', tight=True);"
   ]
  },
  {
   "cell_type": "code",
   "execution_count": 20,
   "metadata": {
    "ExecuteTime": {
     "end_time": "2020-11-29T17:26:10.939490Z",
     "start_time": "2020-11-29T17:26:09.774092Z"
    }
   },
   "outputs": [
    {
     "data": {
      "image/png": "[encoded data removed]",
      "text/plain": [
       "<Figure size 810x540 with 1 Axes>"
      ]
     },
     "metadata": {},
     "output_type": "display_data"
    }
   ],
   "source": [
    "#Number of characters present in content row. This can give us a rough idea about the content length\n",
    "df['content'].str.len().hist().autoscale(enable=True, axis='x', tight=True);"
   ]
  },
  {
   "cell_type": "code",
   "execution_count": 21,
   "metadata": {
    "ExecuteTime": {
     "end_time": "2020-11-29T18:19:49.386749Z",
     "start_time": "2020-11-29T17:26:16.141041Z"
    }
   },
   "outputs": [
    {
     "data": {
      "image/png": "[encoded data removed]",
      "text/plain": [
       "<Figure size 810x540 with 1 Axes>"
      ]
     },
     "metadata": {},
     "output_type": "display_data"
    }
   ],
   "source": [
    "#The number of words in each content\n",
    "df['content'].str.split().map(lambda x: len(x)).hist().autoscale(enable=True, axis='x', tight=True);"
   ]
  },
  {
   "cell_type": "code",
   "execution_count": 22,
   "metadata": {
    "ExecuteTime": {
     "end_time": "2020-11-29T20:59:46.073514Z",
     "start_time": "2020-11-29T18:20:06.314517Z"
    }
   },
   "outputs": [
    {
     "name": "stderr",
     "output_type": "stream",
     "text": [
      "\n",
      "KeyboardInterrupt\n",
      "\n"
     ]
    }
   ],
   "source": [
    "#Average word length \n",
    "df['content'].str.split().apply(lambda x : [len(i) for i in x]).map(lambda x: np.mean(x)).hist(bins=10)\n",
    "plt.autoscale(enable=True, axis='x', tight=True);"
   ]
  },
  {
   "cell_type": "code",
   "execution_count": null,
   "metadata": {},
   "outputs": [],
   "source": [
    "# The total number of words in the content\n",
    "df['content'].apply(lambda x: len(x.split(' '))).sum()"
   ]
  },
  {
   "cell_type": "markdown",
   "metadata": {},
   "source": [
    "## Ngram exploration\n",
    "Ngrams are simply contiguous sequences of n words."
   ]
  },
  {
   "cell_type": "code",
   "execution_count": 23,
   "metadata": {
    "ExecuteTime": {
     "end_time": "2020-11-29T21:01:43.434996Z",
     "start_time": "2020-11-29T21:01:42.933188Z"
    }
   },
   "outputs": [],
   "source": [
    "def get_top_ngram(corpus, n=None):\n",
    "    vec = CountVectorizer(ngram_range=(n, n)).fit(corpus)\n",
    "    bag_of_words = vec.transform(corpus)\n",
    "    sum_words = bag_of_words.sum(axis=0)\n",
    "    words_freq = [(word, sum_words[0, idx]) for word, idx in vec.vocabulary_.items()]\n",
    "    words_freq =sorted(words_freq, key = lambda x: x[1], reverse=True)\n",
    "    return words_freq[:10]"
   ]
  },
  {
   "cell_type": "code",
   "execution_count": 24,
   "metadata": {
    "ExecuteTime": {
     "end_time": "2020-11-29T21:03:07.101037Z",
     "start_time": "2020-11-29T21:01:48.050706Z"
    }
   },
   "outputs": [
    {
     "data": {
      "image/png": "[encoded data removed]",
      "text/plain": [
       "<Figure size 810x540 with 1 Axes>"
      ]
     },
     "metadata": {},
     "output_type": "display_data"
    }
   ],
   "source": [
    "top_n_bigrams=get_top_ngram(df['title'],2)[:10]\n",
    "x,y=map(list,zip(*top_n_bigrams))\n",
    "sns.barplot(x=y,y=x).set_title('Bigram');"
   ]
  },
  {
   "cell_type": "code",
   "execution_count": 25,
   "metadata": {
    "ExecuteTime": {
     "end_time": "2020-11-29T21:04:30.536331Z",
     "start_time": "2020-11-29T21:03:26.210042Z"
    }
   },
   "outputs": [
    {
     "data": {
      "image/png": "[encoded data removed]",
      "text/plain": [
       "<Figure size 810x540 with 1 Axes>"
      ]
     },
     "metadata": {},
     "output_type": "display_data"
    }
   ],
   "source": [
    "top_n_bigrams=get_top_ngram(df['title'],3)[:10]\n",
    "x,y=map(list,zip(*top_n_bigrams))\n",
    "sns.barplot(x=y,y=x).set_title('Trigram');"
   ]
  },
  {
   "cell_type": "code",
   "execution_count": null,
   "metadata": {
    "ExecuteTime": {
     "start_time": "2020-11-29T21:04:51.112Z"
    }
   },
   "outputs": [],
   "source": [
    "# Content column\n",
    "top_n_bigrams=get_top_ngram(df['content'],2)[:10]\n",
    "x,y=map(list,zip(*top_n_bigrams))\n",
    "sns.barplot(x=y,y=x).set_title('Bigram');"
   ]
  },
  {
   "cell_type": "code",
   "execution_count": null,
   "metadata": {},
   "outputs": [],
   "source": [
    "from wordcloud import WordCloud, STOPWORDS\n",
    "stopwords = set(STOPWORDS)\n",
    "\n",
    "def show_wordcloud(data):\n",
    "    wordcloud = WordCloud(\n",
    "        background_color='white',\n",
    "        stopwords=stopwords,\n",
    "        max_words=2000,\n",
    "        max_font_size=40,\n",
    "        scale=3,\n",
    "        random_state=1)\n",
    "    wordcloud=wordcloud.generate(str(data))\n",
    "    fig = plt.figure(1, figsize=(12, 12))\n",
    "    plt.axis('off')\n",
    "    plt.imshow(wordcloud)\n",
    "    plt.show()"
   ]
  },
  {
   "cell_type": "code",
   "execution_count": null,
   "metadata": {},
   "outputs": [],
   "source": [
    "#\n",
    "top_n_bigrams=get_top_ngram(df['content'],3)[:10]\n",
    "x,y=map(list,zip(*top_n_bigrams))\n",
    "sns.barplot(x=y,y=x).set_title('Trigram');"
   ]
  },
  {
   "cell_type": "markdown",
   "metadata": {},
   "source": [
    "## Wordcloud"
   ]
  },
  {
   "cell_type": "code",
   "execution_count": null,
   "metadata": {},
   "outputs": [],
   "source": [
    "#wordcloud for the title\n",
    "show_wordcloud(df['title'])"
   ]
  },
  {
   "cell_type": "code",
   "execution_count": null,
   "metadata": {},
   "outputs": [],
   "source": [
    "    #Wordcloud for the content\n",
    "show_wordcloud(df['content'])"
   ]
  },
  {
   "cell_type": "markdown",
   "metadata": {},
   "source": [
    "# Feature engineering and word embedding"
   ]
  },
  {
   "cell_type": "markdown",
   "metadata": {},
   "source": [
    "Our data contains heterogeneous data types, there are  categorical  and text data. We want to use different pre-processing steps and  transformations for those different types of columns.\n",
    "\n",
    "For example: we may want to `one-hot encode` the categorical features and `tfidfvectorize` the text features.\n",
    "\n",
    "Label encode the `label` column which is the target feature that will be predicted."
   ]
  },
  {
   "cell_type": "code",
   "execution_count": 9,
   "metadata": {
    "ExecuteTime": {
     "end_time": "2020-11-29T22:07:50.962287Z",
     "start_time": "2020-11-29T22:07:50.160230Z"
    }
   },
   "outputs": [],
   "source": [
    "#Convert `domain` to category data type.\n",
    "#Convert `dayofweek` to category data type.\n",
    "df['domain'] = df['domain'].astype('category')\n",
    "df['day_name'] = df['day_name'].astype('category')\n"
   ]
  },
  {
   "cell_type": "markdown",
   "metadata": {},
   "source": [
    "### Features and target variables"
   ]
  },
  {
   "cell_type": "code",
   "execution_count": 10,
   "metadata": {
    "ExecuteTime": {
     "end_time": "2020-11-29T22:08:08.847472Z",
     "start_time": "2020-11-29T22:08:08.541473Z"
    }
   },
   "outputs": [],
   "source": [
    "target = df.label\n",
    "features = df[['domain', 'content', 'title','day_name']].copy()"
   ]
  },
  {
   "cell_type": "markdown",
   "metadata": {},
   "source": [
    "### Split the data in training and test sets:"
   ]
  },
  {
   "cell_type": "code",
   "execution_count": 11,
   "metadata": {
    "ExecuteTime": {
     "end_time": "2020-11-29T22:08:15.540684Z",
     "start_time": "2020-11-29T22:08:14.359642Z"
    }
   },
   "outputs": [
    {
     "name": "stdout",
     "output_type": "stream",
     "text": [
      "(1775353, 6)\n",
      "(1242747, 4)\n",
      "(532606, 4)\n"
     ]
    }
   ],
   "source": [
    "X_train, X_test, y_train, y_test = train_test_split(features, target, test_size = 0.3, random_state=seed)\n",
    "print(df.shape); print(X_train.shape); print(X_test.shape)"
   ]
  },
  {
   "cell_type": "markdown",
   "metadata": {},
   "source": [
    "### Apply [ColumnTransformer](https://scikit-learn.org/stable/modules/generated/sklearn.compose.ColumnTransformer.html). "
   ]
  },
  {
   "cell_type": "code",
   "execution_count": 12,
   "metadata": {
    "ExecuteTime": {
     "end_time": "2020-11-29T22:09:02.188926Z",
     "start_time": "2020-11-29T22:09:02.173289Z"
    }
   },
   "outputs": [],
   "source": [
    "\n",
    "#Important:  pass the columns as string to CountVectorizer/TfifVectorizer and list of columns (even list of one column) to \n",
    "# OneHotEncoding (OHE) to make it work\n",
    "ct = ColumnTransformer(\n",
    "    [('domain_category', OneHotEncoder(dtype='int', handle_unknown='ignore'), ['domain']),\n",
    "     ('day_name_category', OneHotEncoder(dtype='int', handle_unknown='ignore'), ['day_name']),\n",
    "     ('title_countvec', CountVectorizer(), 'title'),\n",
    "     ('content_tfidf', TfidfVectorizer(max_features = 6000, stop_words = 'english'), 'content')])"
   ]
  },
  {
   "cell_type": "code",
   "execution_count": 14,
   "metadata": {
    "ExecuteTime": {
     "end_time": "2020-11-29T22:25:02.677315Z",
     "start_time": "2020-11-29T22:17:56.699590Z"
    }
   },
   "outputs": [],
   "source": [
    "# Creating the Tfidf matrix\n",
    "X_train_tfidf = ct.fit_transform(X_train)\n",
    "X_test_tfidf = ct.transform(X_test)"
   ]
  },
  {
   "cell_type": "code",
   "execution_count": 15,
   "metadata": {
    "ExecuteTime": {
     "end_time": "2020-11-29T22:26:51.949317Z",
     "start_time": "2020-11-29T22:26:51.933688Z"
    }
   },
   "outputs": [
    {
     "name": "stdout",
     "output_type": "stream",
     "text": [
      "Shape of Term Frequency Matrix of train: (1242747, 209872)\n",
      "Shape of Term Frequency Matrix of test: (532606, 209872)\n"
     ]
    }
   ],
   "source": [
    "print(f'Shape of Term Frequency Matrix of train: {X_train_tfidf.shape}')\n",
    "print(f'Shape of Term Frequency Matrix of test: {X_test_tfidf.shape}')"
   ]
  },
  {
   "cell_type": "markdown",
   "metadata": {},
   "source": [
    "## Encoding the label"
   ]
  },
  {
   "cell_type": "code",
   "execution_count": 16,
   "metadata": {
    "ExecuteTime": {
     "end_time": "2020-11-29T22:28:09.581719Z",
     "start_time": "2020-11-29T22:28:09.243183Z"
    }
   },
   "outputs": [
    {
     "name": "stdout",
     "output_type": "stream",
     "text": [
      "(1242747,)\n",
      "(532606,)\n"
     ]
    }
   ],
   "source": [
    "Encoder = LabelEncoder()\n",
    "y_train = Encoder.fit_transform(y_train)\n",
    "y_test = Encoder.fit_transform(y_test)\n",
    "print(y_train.shape); print(y_test.shape)"
   ]
  },
  {
   "cell_type": "markdown",
   "metadata": {},
   "source": [
    "# Random Forest Classifier model with default parameters"
   ]
  },
  {
   "cell_type": "markdown",
   "metadata": {},
   "source": [
    "**Model with RandomForest classifier with default 100 decision trees**\n"
   ]
  },
  {
   "cell_type": "code",
   "execution_count": 17,
   "metadata": {
    "ExecuteTime": {
     "end_time": "2020-11-30T02:44:17.715651Z",
     "start_time": "2020-11-29T22:30:26.685370Z"
    }
   },
   "outputs": [
    {
     "name": "stdout",
     "output_type": "stream",
     "text": [
      "Model accuracy score with 10 decision-trees : 0.9898\n"
     ]
    }
   ],
   "source": [
    "# instantiate the classifier \n",
    "rfc = RandomForestClassifier(random_state=seed)\n",
    "# fit the model\n",
    "rfc.fit(X_train_tfidf, y_train)\n",
    "# Predict the Test set results\n",
    "y_pred = rfc.predict(X_test_tfidf)\n",
    "# Check accuracy score\n",
    "print('Model accuracy score with 10 decision-trees : {0:0.4f}'. format(accuracy_score(y_test, y_pred)))"
   ]
  },
  {
   "cell_type": "markdown",
   "metadata": {},
   "source": [
    "**Random Forest Classifier model with 200 Decision Trees** "
   ]
  },
  {
   "cell_type": "code",
   "execution_count": 18,
   "metadata": {
    "ExecuteTime": {
     "end_time": "2020-11-30T11:11:37.087097Z",
     "start_time": "2020-11-30T03:03:09.088746Z"
    }
   },
   "outputs": [
    {
     "name": "stdout",
     "output_type": "stream",
     "text": [
      "Model accuracy score with 200 decision-trees : 0.9909\n"
     ]
    }
   ],
   "source": [
    "# instantiate the classifier with n_estimators = 200\n",
    "rfc200 = RandomForestClassifier(n_estimators=200, random_state=seed)\n",
    "# fit the model to the training set\n",
    "rfc200.fit(X_train_tfidf, y_train)\n",
    "# Predict on the test set results\n",
    "y_pred_200 = rfc200.predict(X_test_tfidf)\n",
    "# Check accuracy score \n",
    "print('Model accuracy score with 200 decision-trees : {0:0.4f}'. format(accuracy_score(y_test, y_pred_200)))"
   ]
  },
  {
   "cell_type": "markdown",
   "metadata": {},
   "source": [
    "## Feature importance"
   ]
  },
  {
   "cell_type": "markdown",
   "metadata": {},
   "source": [
    "**Investigating to see only the important features that can be used to build another the model** "
   ]
  },
  {
   "cell_type": "code",
   "execution_count": 19,
   "metadata": {
    "ExecuteTime": {
     "end_time": "2020-12-01T02:56:56.974128Z",
     "start_time": "2020-11-30T18:49:18.689062Z"
    }
   },
   "outputs": [
    {
     "data": {
      "text/plain": [
       "RandomForestClassifier(n_estimators=200, random_state=500)"
      ]
     },
     "execution_count": 19,
     "metadata": {},
     "output_type": "execute_result"
    }
   ],
   "source": [
    "# create the classifier with n_estimators = 200\n",
    "clf = RandomForestClassifier(n_estimators=200, random_state=seed)\n",
    "\n",
    "# fit the model to the training set\n",
    "clf.fit(X_train_tfidf, y_train)\n"
   ]
  },
  {
   "cell_type": "code",
   "execution_count": 25,
   "metadata": {
    "ExecuteTime": {
     "end_time": "2020-12-01T03:25:44.681477Z",
     "start_time": "2020-12-01T03:25:44.628067Z"
    }
   },
   "outputs": [
    {
     "name": "stdout",
     "output_type": "stream",
     "text": [
      "Model accuracy score with native_country_41 variable removed : 0.9898\n"
     ]
    }
   ],
   "source": [
    "# Check accuracy score \n",
    "print('Model accuracy score with native_country_41 variable removed : {0:0.4f}'. format(accuracy_score(y_test, y_pred)))\n"
   ]
  },
  {
   "cell_type": "code",
   "execution_count": 21,
   "metadata": {
    "ExecuteTime": {
     "end_time": "2020-12-01T03:22:37.897730Z",
     "start_time": "2020-12-01T03:22:36.901431Z"
    }
   },
   "outputs": [
    {
     "data": {
      "text/plain": [
       "array([4.52306844e-05, 3.50964436e-06, 6.18320797e-07, ...,\n",
       "       1.04307457e-05, 8.09026044e-06, 5.27750472e-05])"
      ]
     },
     "execution_count": 21,
     "metadata": {},
     "output_type": "execute_result"
    }
   ],
   "source": [
    "clf.feature_importances_"
   ]
  },
  {
   "cell_type": "code",
   "execution_count": 20,
   "metadata": {
    "ExecuteTime": {
     "end_time": "2020-12-01T03:21:30.652021Z",
     "start_time": "2020-12-01T03:21:29.464476Z"
    }
   },
   "outputs": [
    {
     "ename": "AttributeError",
     "evalue": "columns not found",
     "output_type": "error",
     "traceback": [
      "\u001b[1;31m---------------------------------------------------------------------------\u001b[0m",
      "\u001b[1;31mAttributeError\u001b[0m                            Traceback (most recent call last)",
      "\u001b[1;32m<ipython-input-20-70e4573f6001>\u001b[0m in \u001b[0;36m<module>\u001b[1;34m\u001b[0m\n\u001b[0;32m      1\u001b[0m \u001b[1;31m# Using feature importance variable to see feature importance scores\u001b[0m\u001b[1;33m\u001b[0m\u001b[1;33m\u001b[0m\u001b[1;33m\u001b[0m\u001b[0m\n\u001b[1;32m----> 2\u001b[1;33m \u001b[0mfeature_scores\u001b[0m \u001b[1;33m=\u001b[0m \u001b[0mpd\u001b[0m\u001b[1;33m.\u001b[0m\u001b[0mSeries\u001b[0m\u001b[1;33m(\u001b[0m\u001b[0mclf\u001b[0m\u001b[1;33m.\u001b[0m\u001b[0mfeature_importances_\u001b[0m\u001b[1;33m,\u001b[0m \u001b[0mindex\u001b[0m\u001b[1;33m=\u001b[0m\u001b[0mX_train_tfidf\u001b[0m\u001b[1;33m.\u001b[0m\u001b[0mcolumns\u001b[0m\u001b[1;33m)\u001b[0m\u001b[1;33m.\u001b[0m\u001b[0msort_values\u001b[0m\u001b[1;33m(\u001b[0m\u001b[0mascending\u001b[0m\u001b[1;33m=\u001b[0m\u001b[1;32mFalse\u001b[0m\u001b[1;33m)\u001b[0m\u001b[1;33m\u001b[0m\u001b[1;33m\u001b[0m\u001b[0m\n\u001b[0m\u001b[0;32m      3\u001b[0m \u001b[0mfeature_scores\u001b[0m\u001b[1;33m\u001b[0m\u001b[1;33m\u001b[0m\u001b[0m\n",
      "\u001b[1;32mC:\\ProgramData\\Anaconda3\\lib\\site-packages\\scipy\\sparse\\base.py\u001b[0m in \u001b[0;36m__getattr__\u001b[1;34m(self, attr)\u001b[0m\n\u001b[0;32m    685\u001b[0m             \u001b[1;32mreturn\u001b[0m \u001b[0mself\u001b[0m\u001b[1;33m.\u001b[0m\u001b[0mgetnnz\u001b[0m\u001b[1;33m(\u001b[0m\u001b[1;33m)\u001b[0m\u001b[1;33m\u001b[0m\u001b[1;33m\u001b[0m\u001b[0m\n\u001b[0;32m    686\u001b[0m         \u001b[1;32melse\u001b[0m\u001b[1;33m:\u001b[0m\u001b[1;33m\u001b[0m\u001b[1;33m\u001b[0m\u001b[0m\n\u001b[1;32m--> 687\u001b[1;33m             \u001b[1;32mraise\u001b[0m \u001b[0mAttributeError\u001b[0m\u001b[1;33m(\u001b[0m\u001b[0mattr\u001b[0m \u001b[1;33m+\u001b[0m \u001b[1;34m\" not found\"\u001b[0m\u001b[1;33m)\u001b[0m\u001b[1;33m\u001b[0m\u001b[1;33m\u001b[0m\u001b[0m\n\u001b[0m\u001b[0;32m    688\u001b[0m \u001b[1;33m\u001b[0m\u001b[0m\n\u001b[0;32m    689\u001b[0m     \u001b[1;32mdef\u001b[0m \u001b[0mtranspose\u001b[0m\u001b[1;33m(\u001b[0m\u001b[0mself\u001b[0m\u001b[1;33m,\u001b[0m \u001b[0maxes\u001b[0m\u001b[1;33m=\u001b[0m\u001b[1;32mNone\u001b[0m\u001b[1;33m,\u001b[0m \u001b[0mcopy\u001b[0m\u001b[1;33m=\u001b[0m\u001b[1;32mFalse\u001b[0m\u001b[1;33m)\u001b[0m\u001b[1;33m:\u001b[0m\u001b[1;33m\u001b[0m\u001b[1;33m\u001b[0m\u001b[0m\n",
      "\u001b[1;31mAttributeError\u001b[0m: columns not found"
     ]
    }
   ],
   "source": [
    "# Using feature importance variable to see feature importance scores\n",
    "feature_scores = pd.Series(clf.feature_importances_, index=X_train_tfidf.columns).sort_values(ascending=False)\n",
    "feature_scores"
   ]
  },
  {
   "cell_type": "code",
   "execution_count": null,
   "metadata": {},
   "outputs": [],
   "source": [
    "# plot of the feature importance \n",
    "f, ax = plt.subplots()\n",
    "ax = sns.barplot(x=feature_scores, y=feature_scores.index, data=df)\n",
    "ax.set_title(\"Plot of the important features\")\n",
    "ax.set_yticklabels(feature_scores.index)\n",
    "ax.set_xlabel(\"Feature importance score\")\n",
    "ax.set_ylabel(\"Features\")\n",
    "plt.show();"
   ]
  },
  {
   "cell_type": "markdown",
   "metadata": {},
   "source": [
    "**Build the Random Forest model on selected features**"
   ]
  },
  {
   "cell_type": "code",
   "execution_count": null,
   "metadata": {},
   "outputs": [],
   "source": [
    "# drop the least important feature from X_train and X_test\n",
    "#X_train = X_train.drop(['native_country_41'], axis=1)\n",
    "#X_test = X_test.drop(['native_country_41'], axis=1)\n"
   ]
  },
  {
   "cell_type": "code",
   "execution_count": null,
   "metadata": {},
   "outputs": [],
   "source": [
    "# instantiate the classifier with n_estimators = 200\n",
    "clf = RandomForestClassifier(n_estimators=200, random_state=seed)\n",
    "# fit the model to the training set\n",
    "clf.fit(X_train, y_train)\n",
    "# Predict on the test set results\n",
    "y_pred = clf.predict(X_test)\n",
    "# Check accuracy score \n",
    "#print('Model accuracy score with native_country_41 variable removed : {0:0.4f}'. format(accuracy_score(y_test, y_pred)))\n"
   ]
  },
  {
   "cell_type": "markdown",
   "metadata": {},
   "source": [
    "## Confusion matrix "
   ]
  },
  {
   "cell_type": "code",
   "execution_count": 26,
   "metadata": {
    "ExecuteTime": {
     "end_time": "2020-12-01T03:27:12.287785Z",
     "start_time": "2020-12-01T03:27:11.848942Z"
    }
   },
   "outputs": [
    {
     "name": "stdout",
     "output_type": "stream",
     "text": [
      "Confusion matrix\n",
      "\n",
      " [[265271    573]\n",
      " [  4283 262479]]\n"
     ]
    }
   ],
   "source": [
    "# Print the Confusion Matrix and slice it into four pieces\n",
    "cm = confusion_matrix(y_test, y_pred_200)\n",
    "print('Confusion matrix\\n\\n', cm)\n",
    "\n"
   ]
  },
  {
   "cell_type": "markdown",
   "metadata": {},
   "source": [
    "The confusion matrix shows 265271 + 262479 = 527,750 correct predictions and 573 + 4283= 4856 incorrect predictions.\n",
    "- True Positives(TP) (Actual Positive:1 and Predict Positive:1) - 265271\n",
    "- True Negatives (TN) (Actual Negative:0 and Predict Negative:0) - 262479\n",
    "- False Positives (FP) (Actual Negative:0 but Predict Positive:1) - 573 (Type I error)\n",
    "- False Negatives (FN) (Actual Positive:1 but Predict Negative:0) - 4283 (Type II error)\n"
   ]
  },
  {
   "cell_type": "code",
   "execution_count": 27,
   "metadata": {
    "ExecuteTime": {
     "end_time": "2020-12-01T03:27:24.894016Z",
     "start_time": "2020-12-01T03:27:24.677821Z"
    }
   },
   "outputs": [
    {
     "data": {
      "image/png": "[encoded data removed]",
      "text/plain": [
       "<Figure size 810x540 with 2 Axes>"
      ]
     },
     "metadata": {},
     "output_type": "display_data"
    }
   ],
   "source": [
    "# visualize confusion matrix with heatmap\n",
    "cm_matrix = pd.DataFrame(data=cm, columns=['Actual Positive:1', 'Actual Negative:0'], \n",
    "                                 index=['Predict Positive:1', 'Predict Negative:0'])\n",
    "\n",
    "sns.heatmap(cm_matrix, annot=True, fmt='d', cmap='YlGnBu');"
   ]
  },
  {
   "cell_type": "markdown",
   "metadata": {},
   "source": [
    "## Classification Report"
   ]
  },
  {
   "cell_type": "code",
   "execution_count": 28,
   "metadata": {
    "ExecuteTime": {
     "end_time": "2020-12-01T03:27:38.109410Z",
     "start_time": "2020-12-01T03:27:37.338450Z"
    }
   },
   "outputs": [
    {
     "name": "stdout",
     "output_type": "stream",
     "text": [
      "              precision    recall  f1-score   support\n",
      "\n",
      "           0       0.98      1.00      0.99    265844\n",
      "           1       1.00      0.98      0.99    266762\n",
      "\n",
      "    accuracy                           0.99    532606\n",
      "   macro avg       0.99      0.99      0.99    532606\n",
      "weighted avg       0.99      0.99      0.99    532606\n",
      "\n"
     ]
    }
   ],
   "source": [
    "print(classification_report(y_test, y_pred_200))"
   ]
  },
  {
   "cell_type": "markdown",
   "metadata": {},
   "source": [
    "# Results and Conclusion"
   ]
  },
  {
   "cell_type": "markdown",
   "metadata": {},
   "source": [
    "-  Two Random Forest Classifiers (with 100 and 200 decision trees) were used to predict whether a news article is real or fake. \n",
    "- The model accuracy score with 100 decision-trees is 0.9898 which increases to 0.9909 when the number of decision-trees in the model was increased to 200.\n",
    "- Other tools like the classification report and confusion matrix are used to present the performance of the Random Forest classification model"
   ]
  },
  {
   "cell_type": "code",
   "execution_count": null,
   "metadata": {},
   "outputs": [],
   "source": []
  }
 ],
 "metadata": {
  "kernelspec": {
   "display_name": "Python 3",
   "language": "python",
   "name": "python3"
  },
  "language_info": {
   "codemirror_mode": {
    "name": "ipython",
    "version": 3
   },
   "file_extension": ".py",
   "mimetype": "text/x-python",
   "name": "python",
   "nbconvert_exporter": "python",
   "pygments_lexer": "ipython3",
   "version": "3.8.5"
  }
 },
 "nbformat": 4,
 "nbformat_minor": 4
}
