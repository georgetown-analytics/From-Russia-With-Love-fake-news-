{
 "cells": [
  {
   "cell_type": "markdown",
   "metadata": {},
   "source": [
    "# Fake News Capstone Project Data Wrangling and Preprocessing"
   ]
  },
  {
   "cell_type": "code",
   "execution_count": 1,
   "metadata": {
    "ExecuteTime": {
     "end_time": "2021-01-09T22:39:23.151627Z",
     "start_time": "2021-01-09T22:39:17.731041Z"
    }
   },
   "outputs": [
    {
     "name": "stderr",
     "output_type": "stream",
     "text": [
      "<ipython-input-1-e3f470490460>:10: TqdmExperimentalWarning: Using `tqdm.autonotebook.tqdm` in notebook mode. Use `tqdm.tqdm` instead to force console mode (e.g. in jupyter console)\n",
      "  from tqdm.autonotebook import tqdm\n",
      "C:\\ProgramData\\Anaconda3\\lib\\site-packages\\tqdm\\std.py:701: FutureWarning: The Panel class is removed from pandas. Accessing it from the top-level namespace will also be removed in the next version\n",
      "  from pandas import Panel\n"
     ]
    }
   ],
   "source": [
    "import s3fs\n",
    "import pandas as pd\n",
    "pd.set_option('display.max_columns', 100000)\n",
    "pd.set_option('display.max_row', 1000000)\n",
    "import matplotlib.pyplot as plt\n",
    "import numpy as np\n",
    "import seaborn as sns\n",
    "import re\n",
    "import tldextract\n",
    "from tqdm.autonotebook import tqdm\n",
    "tqdm.pandas(desc=\"progress-bar\", leave=False)\n",
    "import string\n",
    "import spacy\n",
    "from spacy.lang import punctuation\n",
    "import unicodedata  # might need to pip install unicodedate2 on aws sagemaker\n",
    "import contractions\n",
    "from contractions import contractions_dict \n",
    "from textblob import TextBlob\n",
    "import nltk\n",
    "from nltk.corpus import stopwords\n",
    "from nltk.stem import WordNetLemmatizer\n",
    "from nltk import word_tokenize\n",
    "from nltk.stem.wordnet import WordNetLemmatizer\n",
    "import gensim\n",
    "from gensim.utils import simple_preprocess\n",
    "from gensim.parsing.preprocessing import preprocess_string\n",
    "from gensim.parsing.preprocessing import STOPWORDS\n",
    "import warnings\n",
    "warnings.filterwarnings('ignore')\n",
    "\n",
    "%matplotlib inline\n",
    "sns.set(style='darkgrid',palette='Dark2',rc={'figure.figsize':(9,6),'figure.dpi':90})\n",
    "\n",
    "punctuation = string.punctuation + '”' + '“' + '–' + '““' + \"’’\" + '”'\n",
    "stopword = stopwords.words('english')\n",
    "stopwords = set(STOPWORDS)\n",
    "wordnet_lemmatizer = WordNetLemmatizer()"
   ]
  },
  {
   "cell_type": "markdown",
   "metadata": {},
   "source": [
    "## Random seed"
   ]
  },
  {
   "cell_type": "code",
   "execution_count": 2,
   "metadata": {
    "ExecuteTime": {
     "end_time": "2021-01-09T22:39:29.413468Z",
     "start_time": "2021-01-09T22:39:29.404470Z"
    }
   },
   "outputs": [],
   "source": [
    "seed = 123"
   ]
  },
  {
   "cell_type": "markdown",
   "metadata": {},
   "source": [
    "## Read in the dataset"
   ]
  },
  {
   "cell_type": "code",
   "execution_count": 3,
   "metadata": {
    "ExecuteTime": {
     "end_time": "2021-01-09T22:45:25.608375Z",
     "start_time": "2021-01-09T22:39:33.354472Z"
    }
   },
   "outputs": [
    {
     "data": {
      "text/html": [
       "<div>\n",
       "<style scoped>\n",
       "    .dataframe tbody tr th:only-of-type {\n",
       "        vertical-align: middle;\n",
       "    }\n",
       "\n",
       "    .dataframe tbody tr th {\n",
       "        vertical-align: top;\n",
       "    }\n",
       "\n",
       "    .dataframe thead th {\n",
       "        text-align: right;\n",
       "    }\n",
       "</style>\n",
       "<table border=\"1\" class=\"dataframe\">\n",
       "  <thead>\n",
       "    <tr style=\"text-align: right;\">\n",
       "      <th></th>\n",
       "      <th>domain</th>\n",
       "      <th>type</th>\n",
       "      <th>content</th>\n",
       "      <th>title</th>\n",
       "      <th>authors</th>\n",
       "    </tr>\n",
       "  </thead>\n",
       "  <tbody>\n",
       "    <tr>\n",
       "      <th>0</th>\n",
       "      <td>nytimes.com</td>\n",
       "      <td>real</td>\n",
       "      <td>FIRST PERSON\\n\\nAn Astonishingly Frank Self-Po...</td>\n",
       "      <td>The K.G.B. Candidate</td>\n",
       "      <td>Bernard Gwertzman</td>\n",
       "    </tr>\n",
       "    <tr>\n",
       "      <th>1</th>\n",
       "      <td>nytimes.com</td>\n",
       "      <td>real</td>\n",
       "      <td>Under prodding from a federal judge, the Bush ...</td>\n",
       "      <td>White House Sets Deadline on Forest Rules</td>\n",
       "      <td>Douglas Jehl</td>\n",
       "    </tr>\n",
       "    <tr>\n",
       "      <th>2</th>\n",
       "      <td>nytimes.com</td>\n",
       "      <td>real</td>\n",
       "      <td>Twenty-five years ago Aerosmith, the headliner...</td>\n",
       "      <td>Aerosmith, Relishing The Third Incarnation</td>\n",
       "      <td>Ann Powers</td>\n",
       "    </tr>\n",
       "    <tr>\n",
       "      <th>3</th>\n",
       "      <td>nytimes.com</td>\n",
       "      <td>real</td>\n",
       "      <td>\"The worst-case scenario for newly minted coll...</td>\n",
       "      <td>College Graduates for a Year, Hoping for Chanc...</td>\n",
       "      <td>Marc B. Zawel</td>\n",
       "    </tr>\n",
       "    <tr>\n",
       "      <th>4</th>\n",
       "      <td>nytimes.com</td>\n",
       "      <td>real</td>\n",
       "      <td>Each night, the family members pitch their din...</td>\n",
       "      <td>Rolled by Hands Large and Small</td>\n",
       "      <td>Elaine Louie</td>\n",
       "    </tr>\n",
       "  </tbody>\n",
       "</table>\n",
       "</div>"
      ],
      "text/plain": [
       "        domain  type                                            content  \\\n",
       "0  nytimes.com  real  FIRST PERSON\\n\\nAn Astonishingly Frank Self-Po...   \n",
       "1  nytimes.com  real  Under prodding from a federal judge, the Bush ...   \n",
       "2  nytimes.com  real  Twenty-five years ago Aerosmith, the headliner...   \n",
       "3  nytimes.com  real  \"The worst-case scenario for newly minted coll...   \n",
       "4  nytimes.com  real  Each night, the family members pitch their din...   \n",
       "\n",
       "                                               title            authors  \n",
       "0                               The K.G.B. Candidate  Bernard Gwertzman  \n",
       "1          White House Sets Deadline on Forest Rules       Douglas Jehl  \n",
       "2         Aerosmith, Relishing The Third Incarnation         Ann Powers  \n",
       "3  College Graduates for a Year, Hoping for Chanc...      Marc B. Zawel  \n",
       "4                    Rolled by Hands Large and Small       Elaine Louie  "
      ]
     },
     "execution_count": 3,
     "metadata": {},
     "output_type": "execute_result"
    }
   ],
   "source": [
    "df = pd.read_csv('s3://osanusi-auto/capstone_prep2021.csv')\n",
    "df.head(5)"
   ]
  },
  {
   "cell_type": "code",
   "execution_count": 6,
   "metadata": {
    "ExecuteTime": {
     "end_time": "2021-01-09T22:46:32.748138Z",
     "start_time": "2021-01-09T22:46:32.353160Z"
    }
   },
   "outputs": [
    {
     "name": "stdout",
     "output_type": "stream",
     "text": [
      "<class 'pandas.core.frame.DataFrame'>\n",
      "RangeIndex: 1090432 entries, 0 to 1090431\n",
      "Data columns (total 5 columns):\n",
      " #   Column   Non-Null Count    Dtype \n",
      "---  ------   --------------    ----- \n",
      " 0   domain   1090432 non-null  object\n",
      " 1   type     1090432 non-null  object\n",
      " 2   content  1090432 non-null  object\n",
      " 3   title    1090432 non-null  object\n",
      " 4   authors  1090432 non-null  object\n",
      "dtypes: object(5)\n",
      "memory usage: 41.6+ MB\n"
     ]
    }
   ],
   "source": [
    "df.info()"
   ]
  },
  {
   "cell_type": "markdown",
   "metadata": {},
   "source": [
    "## Clean up the domain and check the unique domains"
   ]
  },
  {
   "cell_type": "code",
   "execution_count": 7,
   "metadata": {
    "ExecuteTime": {
     "end_time": "2021-01-09T22:46:42.043606Z",
     "start_time": "2021-01-09T22:46:42.037606Z"
    }
   },
   "outputs": [],
   "source": [
    "def extract_domain(url):\n",
    "    \"\"\"\n",
    "    Extract domain name from fld url\n",
    "    \"\"\"\n",
    "    info = tldextract.extract(url)\n",
    "    return info.domain"
   ]
  },
  {
   "cell_type": "code",
   "execution_count": 8,
   "metadata": {
    "ExecuteTime": {
     "end_time": "2021-01-09T22:47:12.624443Z",
     "start_time": "2021-01-09T22:47:01.185426Z"
    }
   },
   "outputs": [
    {
     "data": {
      "text/html": [
       "<div>\n",
       "<style scoped>\n",
       "    .dataframe tbody tr th:only-of-type {\n",
       "        vertical-align: middle;\n",
       "    }\n",
       "\n",
       "    .dataframe tbody tr th {\n",
       "        vertical-align: top;\n",
       "    }\n",
       "\n",
       "    .dataframe thead th {\n",
       "        text-align: right;\n",
       "    }\n",
       "</style>\n",
       "<table border=\"1\" class=\"dataframe\">\n",
       "  <thead>\n",
       "    <tr style=\"text-align: right;\">\n",
       "      <th></th>\n",
       "      <th>domain</th>\n",
       "      <th>type</th>\n",
       "      <th>content</th>\n",
       "      <th>title</th>\n",
       "      <th>authors</th>\n",
       "    </tr>\n",
       "  </thead>\n",
       "  <tbody>\n",
       "    <tr>\n",
       "      <th>0</th>\n",
       "      <td>nytimes</td>\n",
       "      <td>real</td>\n",
       "      <td>FIRST PERSON\\n\\nAn Astonishingly Frank Self-Po...</td>\n",
       "      <td>The K.G.B. Candidate</td>\n",
       "      <td>Bernard Gwertzman</td>\n",
       "    </tr>\n",
       "    <tr>\n",
       "      <th>1</th>\n",
       "      <td>nytimes</td>\n",
       "      <td>real</td>\n",
       "      <td>Under prodding from a federal judge, the Bush ...</td>\n",
       "      <td>White House Sets Deadline on Forest Rules</td>\n",
       "      <td>Douglas Jehl</td>\n",
       "    </tr>\n",
       "    <tr>\n",
       "      <th>2</th>\n",
       "      <td>nytimes</td>\n",
       "      <td>real</td>\n",
       "      <td>Twenty-five years ago Aerosmith, the headliner...</td>\n",
       "      <td>Aerosmith, Relishing The Third Incarnation</td>\n",
       "      <td>Ann Powers</td>\n",
       "    </tr>\n",
       "  </tbody>\n",
       "</table>\n",
       "</div>"
      ],
      "text/plain": [
       "    domain  type                                            content  \\\n",
       "0  nytimes  real  FIRST PERSON\\n\\nAn Astonishingly Frank Self-Po...   \n",
       "1  nytimes  real  Under prodding from a federal judge, the Bush ...   \n",
       "2  nytimes  real  Twenty-five years ago Aerosmith, the headliner...   \n",
       "\n",
       "                                        title            authors  \n",
       "0                        The K.G.B. Candidate  Bernard Gwertzman  \n",
       "1   White House Sets Deadline on Forest Rules       Douglas Jehl  \n",
       "2  Aerosmith, Relishing The Third Incarnation         Ann Powers  "
      ]
     },
     "execution_count": 8,
     "metadata": {},
     "output_type": "execute_result"
    }
   ],
   "source": [
    "df['domain'] = df['domain'].astype(str).apply(extract_domain)\n",
    "df.head(3)"
   ]
  },
  {
   "cell_type": "markdown",
   "metadata": {},
   "source": [
    "## Cleaning up the content column by removing all the noises"
   ]
  },
  {
   "cell_type": "code",
   "execution_count": 9,
   "metadata": {
    "ExecuteTime": {
     "end_time": "2021-01-09T22:48:59.683561Z",
     "start_time": "2021-01-09T22:48:59.654565Z"
    }
   },
   "outputs": [],
   "source": [
    "# Portions of this are excerpts from Stack Overflow responses\n",
    "def remove_special_characters(text): \n",
    "    \"\"\"\n",
    "    Removes special characters from the text document\n",
    "    \"\"\"\n",
    "    # define the pattern to keep. You can check the regex using this url https://regexr.com/\n",
    "    pat = r'[^a-zA-z0-9.,!?/:;\\\"\\'\\s]'\n",
    "    return re.sub(pat, '', text)\n",
    "\n",
    "def remove_extra_whitespace_tabs(text): \n",
    "    \"\"\"\n",
    "    Removes extra whitespaces and remove_extra_whitespace_tabs\n",
    "    \"\"\"\n",
    "    #pattern = r'^\\s+$|\\s+$'\n",
    "    pattern = r'^\\s*|\\s\\s*'\n",
    "    return re.sub(pattern, ' ', text).strip()\n",
    "\n",
    "def remove_digits(text): \n",
    "    \"\"\"\n",
    "    Remove all digits from the text document\n",
    "     take string input and return a clean text without numbers.\n",
    "        Use regex to discard the numbers.\n",
    "    \"\"\"\n",
    "    result = ''.join(i for i in text if not i.isdigit()).lower()\n",
    "    return ' '.join(result.split())\n",
    "\n",
    "def remove_newlines(text): \n",
    "    \"\"\"\n",
    "    Remove newline characters from the text document\n",
    "    \"\"\"\n",
    "    return text.replace('\\\\n', ' ').replace('\\\\r', ' ').replace('\\n', ' ').replace('\\r', ' ').replace('\\\\', ' ')\n",
    "\n",
    "#normalize to the NFKD (Normalization Form Compatibility Decomposition) form\n",
    "#that present in the Unicode standard to remain compatible with other encodings\n",
    "def remove_accented_chars(text): \n",
    "    \"\"\"\n",
    "    Removes accented characters from the test\n",
    "    \"\"\"\n",
    "    new_text = unicodedata.normalize('NFKD', text).encode('ascii', 'ignore').decode('utf-8', 'ignore')\n",
    "    return new_text\n",
    "\n",
    "#expands contractions found in the text\n",
    "def expand_contractions(text, contraction_mapping=contractions_dict):\n",
    "\n",
    "    contractions_pattern = re.compile('({})'.format('|'.join(contraction_mapping.keys())), flags=re.IGNORECASE|re.DOTALL)\n",
    "    def expand_match(contraction):\n",
    "        match = contraction.group(0)\n",
    "        first_char = match[0]\n",
    "        expanded_contraction = contraction_mapping.get(match)\\\n",
    "                                if contraction_mapping.get(match)\\\n",
    "                                else contraction_mapping.get(match.lower())\n",
    "        expanded_contraction = first_char+expanded_contraction[1:]\n",
    "        return expanded_contraction\n",
    "\n",
    "    expanded_text = contractions_pattern.sub(expand_match, text)\n",
    "    expanded_text = re.sub(\"'\", \"\", expanded_text)\n",
    "    return expanded_text\n",
    "\n",
    "# replace punctuation characters with spaces\n",
    "def replace_punctuation(text):\n",
    "    filters = string.punctuation + '”' + '“' + '–' \n",
    "    translate_dict = dict((c, \" \") for c in filters)   \n",
    "    translate_map = str.maketrans(translate_dict)\n",
    "    text = text.translate(translate_map)\n",
    "    return text\n",
    "\n",
    "# Remove stopwords and remove words with 2 or less characters\n",
    "def stops_letters(text):\n",
    "    result = []\n",
    "    for token in gensim.utils.simple_preprocess(text):\n",
    "        if token not in gensim.parsing.preprocessing.STOPWORDS and len(token) > 2 and token not in stopword:\n",
    "            result.append(token)\n",
    "            \n",
    "    return \" \".join(result)\n",
    "\n",
    "#Removes any word that starts with either http or https\n",
    "def remove_urls (vTEXT):\n",
    "    #vTEXT = re.sub('http://\\S+|https://\\S+', '', vTEXT,flags=re.MULTILINE)\n",
    "    vTEXT = re.sub('http[s]?://\\S+', '', vTEXT,flags=re.MULTILINE)\n",
    "    return(vTEXT)\n",
    "\n",
    "#Remove words that starts with www\n",
    "def remove_www (vTEXT):\n",
    "    vTEXT = re.sub('www\\S+', '', vTEXT,flags=re.MULTILINE)\n",
    "    return(vTEXT)\n"
   ]
  },
  {
   "cell_type": "code",
   "execution_count": 10,
   "metadata": {
    "ExecuteTime": {
     "end_time": "2021-01-10T01:57:18.689020Z",
     "start_time": "2021-01-09T22:50:20.310567Z"
    }
   },
   "outputs": [
    {
     "name": "stdout",
     "output_type": "stream",
     "text": [
      "Wall time: 3h 6min 58s\n"
     ]
    }
   ],
   "source": [
    "%%time\n",
    "# Apply the functions to the dataframe\n",
    "\n",
    "# Step 1 - convert the text to lower case\n",
    "df['content']=df['content'].apply(lambda x: x.lower())\n",
    "df['title']=df['title'].apply(lambda x: x.lower())\n",
    "\n",
    "#step 2 - Remove URLS\n",
    "df['content']=df['content'].apply(remove_urls)\n",
    "df['title'] = df['title'].apply(remove_urls)\n",
    "\n",
    "#step 3 - Remove www\n",
    "df['content']=df['content'].apply(remove_www)\n",
    "df['title'] = df['title'].apply(remove_www)\n",
    "\n",
    "# Step 4 - remove special charcaters\n",
    "df['content']=df['content'].apply(remove_special_characters)\n",
    "df['title'] = df['title'].apply(remove_special_characters)\n",
    "\n",
    "#step 5 - Remove whitespaces and tabs\n",
    "df['content']=df['content'].apply(remove_extra_whitespace_tabs)\n",
    "df['title'] = df['title'].apply(remove_extra_whitespace_tabs)\n",
    "\n",
    "#step 6 - remove newlines and tabs\n",
    "df['content'] = df['content'].apply(remove_newlines)\n",
    "df['title'] = df['title'].apply(remove_newlines)\n",
    "\n",
    "# step 7 - Remove digits\n",
    "df['content']=df['content'].apply(remove_digits)\n",
    "df['title'] = df['title'].apply(remove_digits)\n",
    "\n",
    "#step 8 - remove accented characters\n",
    "df['content']=df['content'].apply(remove_accented_chars)\n",
    "df['title'] = df['title'].apply(remove_accented_chars)\n",
    "\n",
    "#step 9 - Expand contractions\n",
    "df['content']=df['content'].apply(expand_contractions)\n",
    "\n",
    "#step 10 - Replace punctuations with spaces \n",
    "df['content']= df['content'].apply(replace_punctuation)\n",
    "df['title'] = df['title'].apply(replace_punctuation)\n",
    "\n",
    "#step 11 - Remove stopwords, tokenize and remove words with 2 or less characters\n",
    "df['content']= df['content'].apply(stops_letters)\n",
    "df['title'] = df['title'].apply(stops_letters)\n"
   ]
  },
  {
   "cell_type": "markdown",
   "metadata": {},
   "source": [
    "## Normalization - Lemmatize the title and content columns"
   ]
  },
  {
   "cell_type": "code",
   "execution_count": 11,
   "metadata": {
    "ExecuteTime": {
     "end_time": "2021-01-10T01:58:07.650308Z",
     "start_time": "2021-01-10T01:58:07.572329Z"
    }
   },
   "outputs": [],
   "source": [
    "def lemmatized_word(text):\n",
    "    \"\"\"\n",
    "    lemmatize the text so as to get its root form \n",
    "    \"\"\"\n",
    "    word_tokens = nltk.word_tokenize(text)\n",
    "    lemmatized_word = [wordnet_lemmatizer.lemmatize(word) for word in word_tokens]\n",
    "    return  \" \".join(lemmatized_word) #combine the words into a giant string that vectorizer can accept\n"
   ]
  },
  {
   "cell_type": "code",
   "execution_count": 12,
   "metadata": {
    "ExecuteTime": {
     "end_time": "2021-01-10T03:09:23.442224Z",
     "start_time": "2021-01-10T01:58:13.909439Z"
    }
   },
   "outputs": [
    {
     "data": {
      "application/vnd.jupyter.widget-view+json": {
       "model_id": "",
       "version_major": 2,
       "version_minor": 0
      },
      "text/plain": [
       "progress-bar:   0%|          | 0/1090432 [00:00<?, ?it/s]"
      ]
     },
     "metadata": {},
     "output_type": "display_data"
    },
    {
     "data": {
      "application/vnd.jupyter.widget-view+json": {
       "model_id": "",
       "version_major": 2,
       "version_minor": 0
      },
      "text/plain": [
       "progress-bar:   0%|          | 0/1090432 [00:00<?, ?it/s]"
      ]
     },
     "metadata": {},
     "output_type": "display_data"
    }
   ],
   "source": [
    "df['content'] = df['content'].progress_apply(lemmatized_word)\n",
    "df['title'] = df['title'].progress_apply(lemmatized_word)\n"
   ]
  },
  {
   "cell_type": "markdown",
   "metadata": {},
   "source": [
    "## Create additional features"
   ]
  },
  {
   "cell_type": "code",
   "execution_count": 15,
   "metadata": {
    "ExecuteTime": {
     "end_time": "2021-01-10T03:13:20.318055Z",
     "start_time": "2021-01-10T03:12:00.090022Z"
    }
   },
   "outputs": [
    {
     "name": "stdout",
     "output_type": "stream",
     "text": [
      "Wall time: 1min 20s\n"
     ]
    }
   ],
   "source": [
    "%%time\n",
    "# word counts\n",
    "df['c_word_count'] = df[\"content\"].apply(lambda x: len(str(x).split(\" \")))\n",
    "df['t_word_count'] = df[\"title\"].apply(lambda x: len(str(x).split(\" \")))\n",
    "\n",
    "# Character counts\n",
    "df['c_character_count'] = df[\"content\"].apply(lambda x: sum(len(word) for word in str(x).split(\" \")))\n",
    "df['t_character_count'] = df[\"title\"].apply(lambda x: sum(len(word) for word in str(x).split(\" \")))\n",
    "\n",
    "#average word length\n",
    "df['c_avg_word_length'] = df['c_character_count'] / df['c_word_count']\n",
    "df['t_avg_word_length'] = df['t_character_count'] / df['t_word_count']\n"
   ]
  },
  {
   "cell_type": "markdown",
   "metadata": {},
   "source": [
    "## Identify sentiment in the title"
   ]
  },
  {
   "cell_type": "code",
   "execution_count": 16,
   "metadata": {
    "ExecuteTime": {
     "end_time": "2021-01-10T03:13:30.705903Z",
     "start_time": "2021-01-10T03:13:30.678900Z"
    }
   },
   "outputs": [],
   "source": [
    "# Add a new plot that shows the distribution of scores \n",
    "\n",
    "def sentiment_check (text):\n",
    "    polarity_score = TextBlob(text).sentiment.polarity\n",
    "    if polarity_score < 0:\n",
    "        return 'negative'\n",
    "    elif polarity_score == 0:\n",
    "        return 'neutral'\n",
    "    else:\n",
    "        return 'positive'"
   ]
  },
  {
   "cell_type": "code",
   "execution_count": 17,
   "metadata": {
    "ExecuteTime": {
     "end_time": "2021-01-10T03:19:07.082842Z",
     "start_time": "2021-01-10T03:13:37.592627Z"
    }
   },
   "outputs": [
    {
     "name": "stdout",
     "output_type": "stream",
     "text": [
      "Wall time: 5min 29s\n"
     ]
    },
    {
     "data": {
      "text/html": [
       "<div>\n",
       "<style scoped>\n",
       "    .dataframe tbody tr th:only-of-type {\n",
       "        vertical-align: middle;\n",
       "    }\n",
       "\n",
       "    .dataframe tbody tr th {\n",
       "        vertical-align: top;\n",
       "    }\n",
       "\n",
       "    .dataframe thead th {\n",
       "        text-align: right;\n",
       "    }\n",
       "</style>\n",
       "<table border=\"1\" class=\"dataframe\">\n",
       "  <thead>\n",
       "    <tr style=\"text-align: right;\">\n",
       "      <th></th>\n",
       "      <th>domain</th>\n",
       "      <th>type</th>\n",
       "      <th>content</th>\n",
       "      <th>title</th>\n",
       "      <th>authors</th>\n",
       "      <th>c_word_count</th>\n",
       "      <th>t_word_count</th>\n",
       "      <th>c_character_count</th>\n",
       "      <th>t_character_count</th>\n",
       "      <th>c_avg_word_length</th>\n",
       "      <th>t_avg_word_length</th>\n",
       "      <th>sentiment</th>\n",
       "    </tr>\n",
       "  </thead>\n",
       "  <tbody>\n",
       "    <tr>\n",
       "      <th>0</th>\n",
       "      <td>nytimes</td>\n",
       "      <td>real</td>\n",
       "      <td>person astonishingly frank selfportrait russia...</td>\n",
       "      <td>candidate</td>\n",
       "      <td>bernard gwertzman</td>\n",
       "      <td>423</td>\n",
       "      <td>1</td>\n",
       "      <td>2696</td>\n",
       "      <td>9</td>\n",
       "      <td>6.373522</td>\n",
       "      <td>9.000000</td>\n",
       "      <td>neutral</td>\n",
       "    </tr>\n",
       "    <tr>\n",
       "      <th>1</th>\n",
       "      <td>nytimes</td>\n",
       "      <td>real</td>\n",
       "      <td>prodding federal judge bush administration sai...</td>\n",
       "      <td>white house set deadline forest rule</td>\n",
       "      <td>douglas jehl</td>\n",
       "      <td>125</td>\n",
       "      <td>6</td>\n",
       "      <td>834</td>\n",
       "      <td>31</td>\n",
       "      <td>6.672000</td>\n",
       "      <td>5.166667</td>\n",
       "      <td>neutral</td>\n",
       "    </tr>\n",
       "    <tr>\n",
       "      <th>2</th>\n",
       "      <td>nytimes</td>\n",
       "      <td>real</td>\n",
       "      <td>twentyfive year ago aerosmith headliner saturd...</td>\n",
       "      <td>aerosmith relishing incarnation</td>\n",
       "      <td>ann powers</td>\n",
       "      <td>188</td>\n",
       "      <td>3</td>\n",
       "      <td>1208</td>\n",
       "      <td>29</td>\n",
       "      <td>6.425532</td>\n",
       "      <td>9.666667</td>\n",
       "      <td>neutral</td>\n",
       "    </tr>\n",
       "  </tbody>\n",
       "</table>\n",
       "</div>"
      ],
      "text/plain": [
       "    domain  type                                            content  \\\n",
       "0  nytimes  real  person astonishingly frank selfportrait russia...   \n",
       "1  nytimes  real  prodding federal judge bush administration sai...   \n",
       "2  nytimes  real  twentyfive year ago aerosmith headliner saturd...   \n",
       "\n",
       "                                  title            authors  c_word_count  \\\n",
       "0                             candidate  bernard gwertzman           423   \n",
       "1  white house set deadline forest rule       douglas jehl           125   \n",
       "2       aerosmith relishing incarnation         ann powers           188   \n",
       "\n",
       "   t_word_count  c_character_count  t_character_count  c_avg_word_length  \\\n",
       "0             1               2696                  9           6.373522   \n",
       "1             6                834                 31           6.672000   \n",
       "2             3               1208                 29           6.425532   \n",
       "\n",
       "   t_avg_word_length sentiment  \n",
       "0           9.000000   neutral  \n",
       "1           5.166667   neutral  \n",
       "2           9.666667   neutral  "
      ]
     },
     "execution_count": 17,
     "metadata": {},
     "output_type": "execute_result"
    }
   ],
   "source": [
    "%%time\n",
    "df['sentiment'] = df['title'].apply(sentiment_check)\n",
    "df.head(3)"
   ]
  },
  {
   "cell_type": "markdown",
   "metadata": {},
   "source": [
    "## Rename the target column"
   ]
  },
  {
   "cell_type": "code",
   "execution_count": 18,
   "metadata": {
    "ExecuteTime": {
     "end_time": "2021-01-10T03:24:03.966344Z",
     "start_time": "2021-01-10T03:24:03.517700Z"
    }
   },
   "outputs": [],
   "source": [
    "df = df.rename({'type': 'label'}, axis=1)  \n"
   ]
  },
  {
   "cell_type": "markdown",
   "metadata": {},
   "source": [
    "## Rearranged the order of the columns"
   ]
  },
  {
   "cell_type": "code",
   "execution_count": 19,
   "metadata": {
    "ExecuteTime": {
     "end_time": "2021-01-10T03:24:08.971452Z",
     "start_time": "2021-01-10T03:24:08.360452Z"
    }
   },
   "outputs": [
    {
     "data": {
      "text/html": [
       "<div>\n",
       "<style scoped>\n",
       "    .dataframe tbody tr th:only-of-type {\n",
       "        vertical-align: middle;\n",
       "    }\n",
       "\n",
       "    .dataframe tbody tr th {\n",
       "        vertical-align: top;\n",
       "    }\n",
       "\n",
       "    .dataframe thead th {\n",
       "        text-align: right;\n",
       "    }\n",
       "</style>\n",
       "<table border=\"1\" class=\"dataframe\">\n",
       "  <thead>\n",
       "    <tr style=\"text-align: right;\">\n",
       "      <th></th>\n",
       "      <th>domain</th>\n",
       "      <th>title</th>\n",
       "      <th>authors</th>\n",
       "      <th>content</th>\n",
       "      <th>c_word_count</th>\n",
       "      <th>t_word_count</th>\n",
       "      <th>c_character_count</th>\n",
       "      <th>t_character_count</th>\n",
       "      <th>c_avg_word_length</th>\n",
       "      <th>t_avg_word_length</th>\n",
       "      <th>sentiment</th>\n",
       "      <th>label</th>\n",
       "    </tr>\n",
       "  </thead>\n",
       "  <tbody>\n",
       "    <tr>\n",
       "      <th>0</th>\n",
       "      <td>nytimes</td>\n",
       "      <td>candidate</td>\n",
       "      <td>bernard gwertzman</td>\n",
       "      <td>person astonishingly frank selfportrait russia...</td>\n",
       "      <td>423</td>\n",
       "      <td>1</td>\n",
       "      <td>2696</td>\n",
       "      <td>9</td>\n",
       "      <td>6.373522</td>\n",
       "      <td>9.000000</td>\n",
       "      <td>neutral</td>\n",
       "      <td>real</td>\n",
       "    </tr>\n",
       "    <tr>\n",
       "      <th>1</th>\n",
       "      <td>nytimes</td>\n",
       "      <td>white house set deadline forest rule</td>\n",
       "      <td>douglas jehl</td>\n",
       "      <td>prodding federal judge bush administration sai...</td>\n",
       "      <td>125</td>\n",
       "      <td>6</td>\n",
       "      <td>834</td>\n",
       "      <td>31</td>\n",
       "      <td>6.672000</td>\n",
       "      <td>5.166667</td>\n",
       "      <td>neutral</td>\n",
       "      <td>real</td>\n",
       "    </tr>\n",
       "    <tr>\n",
       "      <th>2</th>\n",
       "      <td>nytimes</td>\n",
       "      <td>aerosmith relishing incarnation</td>\n",
       "      <td>ann powers</td>\n",
       "      <td>twentyfive year ago aerosmith headliner saturd...</td>\n",
       "      <td>188</td>\n",
       "      <td>3</td>\n",
       "      <td>1208</td>\n",
       "      <td>29</td>\n",
       "      <td>6.425532</td>\n",
       "      <td>9.666667</td>\n",
       "      <td>neutral</td>\n",
       "      <td>real</td>\n",
       "    </tr>\n",
       "  </tbody>\n",
       "</table>\n",
       "</div>"
      ],
      "text/plain": [
       "    domain                                 title            authors  \\\n",
       "0  nytimes                             candidate  bernard gwertzman   \n",
       "1  nytimes  white house set deadline forest rule       douglas jehl   \n",
       "2  nytimes       aerosmith relishing incarnation         ann powers   \n",
       "\n",
       "                                             content  c_word_count  \\\n",
       "0  person astonishingly frank selfportrait russia...           423   \n",
       "1  prodding federal judge bush administration sai...           125   \n",
       "2  twentyfive year ago aerosmith headliner saturd...           188   \n",
       "\n",
       "   t_word_count  c_character_count  t_character_count  c_avg_word_length  \\\n",
       "0             1               2696                  9           6.373522   \n",
       "1             6                834                 31           6.672000   \n",
       "2             3               1208                 29           6.425532   \n",
       "\n",
       "   t_avg_word_length sentiment label  \n",
       "0           9.000000   neutral  real  \n",
       "1           5.166667   neutral  real  \n",
       "2           9.666667   neutral  real  "
      ]
     },
     "execution_count": 19,
     "metadata": {},
     "output_type": "execute_result"
    }
   ],
   "source": [
    "df = df[['domain','title','content','c_word_count','t_word_count','c_character_count','t_character_count','c_avg_word_length','t_avg_word_length','sentiment','label']]\n",
    "df.head(3)"
   ]
  },
  {
   "cell_type": "code",
   "execution_count": 20,
   "metadata": {
    "ExecuteTime": {
     "end_time": "2021-01-10T03:24:15.527174Z",
     "start_time": "2021-01-10T03:24:15.017176Z"
    }
   },
   "outputs": [
    {
     "name": "stdout",
     "output_type": "stream",
     "text": [
      "<class 'pandas.core.frame.DataFrame'>\n",
      "RangeIndex: 1090432 entries, 0 to 1090431\n",
      "Data columns (total 12 columns):\n",
      " #   Column             Non-Null Count    Dtype  \n",
      "---  ------             --------------    -----  \n",
      " 0   domain             1090432 non-null  object \n",
      " 1   title              1090432 non-null  object \n",
      " 2   authors            1090432 non-null  object \n",
      " 3   content            1090432 non-null  object \n",
      " 4   c_word_count       1090432 non-null  int64  \n",
      " 5   t_word_count       1090432 non-null  int64  \n",
      " 6   c_character_count  1090432 non-null  int64  \n",
      " 7   t_character_count  1090432 non-null  int64  \n",
      " 8   c_avg_word_length  1090432 non-null  float64\n",
      " 9   t_avg_word_length  1090432 non-null  float64\n",
      " 10  sentiment          1090432 non-null  object \n",
      " 11  label              1090432 non-null  object \n",
      "dtypes: float64(2), int64(4), object(6)\n",
      "memory usage: 99.8+ MB\n"
     ]
    }
   ],
   "source": [
    "df.info()"
   ]
  },
  {
   "cell_type": "code",
   "execution_count": 21,
   "metadata": {
    "ExecuteTime": {
     "end_time": "2021-01-10T03:38:06.192463Z",
     "start_time": "2021-01-10T03:38:06.141472Z"
    }
   },
   "outputs": [
    {
     "data": {
      "text/html": [
       "<div>\n",
       "<style scoped>\n",
       "    .dataframe tbody tr th:only-of-type {\n",
       "        vertical-align: middle;\n",
       "    }\n",
       "\n",
       "    .dataframe tbody tr th {\n",
       "        vertical-align: top;\n",
       "    }\n",
       "\n",
       "    .dataframe thead th {\n",
       "        text-align: right;\n",
       "    }\n",
       "</style>\n",
       "<table border=\"1\" class=\"dataframe\">\n",
       "  <thead>\n",
       "    <tr style=\"text-align: right;\">\n",
       "      <th></th>\n",
       "      <th>domain</th>\n",
       "      <th>title</th>\n",
       "      <th>authors</th>\n",
       "      <th>content</th>\n",
       "      <th>c_word_count</th>\n",
       "      <th>t_word_count</th>\n",
       "      <th>c_character_count</th>\n",
       "      <th>t_character_count</th>\n",
       "      <th>c_avg_word_length</th>\n",
       "      <th>t_avg_word_length</th>\n",
       "      <th>sentiment</th>\n",
       "      <th>label</th>\n",
       "    </tr>\n",
       "  </thead>\n",
       "  <tbody>\n",
       "    <tr>\n",
       "      <th>0</th>\n",
       "      <td>nytimes</td>\n",
       "      <td>candidate</td>\n",
       "      <td>bernard gwertzman</td>\n",
       "      <td>person astonishingly frank selfportrait russia...</td>\n",
       "      <td>423</td>\n",
       "      <td>1</td>\n",
       "      <td>2696</td>\n",
       "      <td>9</td>\n",
       "      <td>6.373522</td>\n",
       "      <td>9.000000</td>\n",
       "      <td>neutral</td>\n",
       "      <td>real</td>\n",
       "    </tr>\n",
       "    <tr>\n",
       "      <th>1</th>\n",
       "      <td>nytimes</td>\n",
       "      <td>white house set deadline forest rule</td>\n",
       "      <td>douglas jehl</td>\n",
       "      <td>prodding federal judge bush administration sai...</td>\n",
       "      <td>125</td>\n",
       "      <td>6</td>\n",
       "      <td>834</td>\n",
       "      <td>31</td>\n",
       "      <td>6.672000</td>\n",
       "      <td>5.166667</td>\n",
       "      <td>neutral</td>\n",
       "      <td>real</td>\n",
       "    </tr>\n",
       "    <tr>\n",
       "      <th>2</th>\n",
       "      <td>nytimes</td>\n",
       "      <td>aerosmith relishing incarnation</td>\n",
       "      <td>ann powers</td>\n",
       "      <td>twentyfive year ago aerosmith headliner saturd...</td>\n",
       "      <td>188</td>\n",
       "      <td>3</td>\n",
       "      <td>1208</td>\n",
       "      <td>29</td>\n",
       "      <td>6.425532</td>\n",
       "      <td>9.666667</td>\n",
       "      <td>neutral</td>\n",
       "      <td>real</td>\n",
       "    </tr>\n",
       "    <tr>\n",
       "      <th>3</th>\n",
       "      <td>nytimes</td>\n",
       "      <td>college graduate year hoping chance throe reality</td>\n",
       "      <td>marc zawel</td>\n",
       "      <td>worstcase scenario newly minted college grad s...</td>\n",
       "      <td>288</td>\n",
       "      <td>7</td>\n",
       "      <td>1847</td>\n",
       "      <td>43</td>\n",
       "      <td>6.413194</td>\n",
       "      <td>6.142857</td>\n",
       "      <td>neutral</td>\n",
       "      <td>real</td>\n",
       "    </tr>\n",
       "  </tbody>\n",
       "</table>\n",
       "</div>"
      ],
      "text/plain": [
       "    domain                                              title  \\\n",
       "0  nytimes                                          candidate   \n",
       "1  nytimes               white house set deadline forest rule   \n",
       "2  nytimes                    aerosmith relishing incarnation   \n",
       "3  nytimes  college graduate year hoping chance throe reality   \n",
       "\n",
       "             authors                                            content  \\\n",
       "0  bernard gwertzman  person astonishingly frank selfportrait russia...   \n",
       "1       douglas jehl  prodding federal judge bush administration sai...   \n",
       "2         ann powers  twentyfive year ago aerosmith headliner saturd...   \n",
       "3         marc zawel  worstcase scenario newly minted college grad s...   \n",
       "\n",
       "   c_word_count  t_word_count  c_character_count  t_character_count  \\\n",
       "0           423             1               2696                  9   \n",
       "1           125             6                834                 31   \n",
       "2           188             3               1208                 29   \n",
       "3           288             7               1847                 43   \n",
       "\n",
       "   c_avg_word_length  t_avg_word_length sentiment label  \n",
       "0           6.373522           9.000000   neutral  real  \n",
       "1           6.672000           5.166667   neutral  real  \n",
       "2           6.425532           9.666667   neutral  real  \n",
       "3           6.413194           6.142857   neutral  real  "
      ]
     },
     "execution_count": 21,
     "metadata": {},
     "output_type": "execute_result"
    }
   ],
   "source": [
    "df.head(4)"
   ]
  },
  {
   "cell_type": "markdown",
   "metadata": {},
   "source": [
    "## Saving the preprocessed dataframe to csv"
   ]
  },
  {
   "cell_type": "code",
   "execution_count": 22,
   "metadata": {
    "ExecuteTime": {
     "end_time": "2021-01-10T03:38:52.968390Z",
     "start_time": "2021-01-10T03:38:52.956389Z"
    }
   },
   "outputs": [],
   "source": [
    "# path to save the preprocessed csv file\n",
    "file_path = r\"C:\\Users\\lanre\\Documents\\data_science\\capstone-preprocessed-data.csv\""
   ]
  },
  {
   "cell_type": "code",
   "execution_count": 23,
   "metadata": {
    "ExecuteTime": {
     "end_time": "2021-01-10T03:40:25.720460Z",
     "start_time": "2021-01-10T03:39:00.597390Z"
    }
   },
   "outputs": [],
   "source": [
    "df.to_csv(file_path, index=False)"
   ]
  }
 ],
 "metadata": {
  "kernelspec": {
   "display_name": "Python 3",
   "language": "python",
   "name": "python3"
  },
  "language_info": {
   "codemirror_mode": {
    "name": "ipython",
    "version": 3
   },
   "file_extension": ".py",
   "mimetype": "text/x-python",
   "name": "python",
   "nbconvert_exporter": "python",
   "pygments_lexer": "ipython3",
   "version": "3.8.5"
  }
 },
 "nbformat": 4,
 "nbformat_minor": 4
}
