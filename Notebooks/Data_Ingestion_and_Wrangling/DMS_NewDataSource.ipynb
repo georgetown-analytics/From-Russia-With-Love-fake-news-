{
 "cells": [
  {
   "cell_type": "code",
   "execution_count": 1,
   "metadata": {},
   "outputs": [
    {
     "name": "stdout",
     "output_type": "stream",
     "text": [
      "Requirement already satisfied: s3fs in /Users/daniellescaramella/opt/anaconda3/lib/python3.8/site-packages (0.5.1)\n",
      "Requirement already satisfied: aiobotocore>=1.0.1 in /Users/daniellescaramella/opt/anaconda3/lib/python3.8/site-packages (from s3fs) (1.1.2)\n",
      "Requirement already satisfied: fsspec>=0.8.0 in /Users/daniellescaramella/opt/anaconda3/lib/python3.8/site-packages (from s3fs) (0.8.4)\n",
      "Requirement already satisfied: aiohttp>=3.3.1 in /Users/daniellescaramella/opt/anaconda3/lib/python3.8/site-packages (from aiobotocore>=1.0.1->s3fs) (3.7.3)\n",
      "Collecting botocore<1.17.45,>=1.17.44\n",
      "  Using cached botocore-1.17.44-py2.py3-none-any.whl (6.5 MB)\n",
      "Requirement already satisfied: aioitertools>=0.5.1 in /Users/daniellescaramella/opt/anaconda3/lib/python3.8/site-packages (from aiobotocore>=1.0.1->s3fs) (0.7.1)\n",
      "Requirement already satisfied: wrapt>=1.10.10 in /Users/daniellescaramella/opt/anaconda3/lib/python3.8/site-packages (from aiobotocore>=1.0.1->s3fs) (1.11.2)\n",
      "Requirement already satisfied: typing-extensions>=3.6.5 in /Users/daniellescaramella/opt/anaconda3/lib/python3.8/site-packages (from aiohttp>=3.3.1->aiobotocore>=1.0.1->s3fs) (3.7.4.2)\n",
      "Requirement already satisfied: yarl<2.0,>=1.0 in /Users/daniellescaramella/opt/anaconda3/lib/python3.8/site-packages (from aiohttp>=3.3.1->aiobotocore>=1.0.1->s3fs) (1.6.3)\n",
      "Requirement already satisfied: chardet<4.0,>=2.0 in /Users/daniellescaramella/opt/anaconda3/lib/python3.8/site-packages (from aiohttp>=3.3.1->aiobotocore>=1.0.1->s3fs) (3.0.4)\n",
      "Requirement already satisfied: multidict<7.0,>=4.5 in /Users/daniellescaramella/opt/anaconda3/lib/python3.8/site-packages (from aiohttp>=3.3.1->aiobotocore>=1.0.1->s3fs) (5.1.0)\n",
      "Requirement already satisfied: async-timeout<4.0,>=3.0 in /Users/daniellescaramella/opt/anaconda3/lib/python3.8/site-packages (from aiohttp>=3.3.1->aiobotocore>=1.0.1->s3fs) (3.0.1)\n",
      "Requirement already satisfied: attrs>=17.3.0 in /Users/daniellescaramella/opt/anaconda3/lib/python3.8/site-packages (from aiohttp>=3.3.1->aiobotocore>=1.0.1->s3fs) (19.3.0)\n",
      "Requirement already satisfied: urllib3<1.26,>=1.20; python_version != \"3.4\" in /Users/daniellescaramella/opt/anaconda3/lib/python3.8/site-packages (from botocore<1.17.45,>=1.17.44->aiobotocore>=1.0.1->s3fs) (1.25.9)\n",
      "Requirement already satisfied: jmespath<1.0.0,>=0.7.1 in /Users/daniellescaramella/opt/anaconda3/lib/python3.8/site-packages (from botocore<1.17.45,>=1.17.44->aiobotocore>=1.0.1->s3fs) (0.10.0)\n",
      "Requirement already satisfied: python-dateutil<3.0.0,>=2.1 in /Users/daniellescaramella/opt/anaconda3/lib/python3.8/site-packages (from botocore<1.17.45,>=1.17.44->aiobotocore>=1.0.1->s3fs) (2.8.1)\n",
      "Requirement already satisfied: docutils<0.16,>=0.10 in /Users/daniellescaramella/opt/anaconda3/lib/python3.8/site-packages (from botocore<1.17.45,>=1.17.44->aiobotocore>=1.0.1->s3fs) (0.15.2)\n",
      "Requirement already satisfied: idna>=2.0 in /Users/daniellescaramella/opt/anaconda3/lib/python3.8/site-packages (from yarl<2.0,>=1.0->aiohttp>=3.3.1->aiobotocore>=1.0.1->s3fs) (2.10)\n",
      "Requirement already satisfied: six>=1.5 in /Users/daniellescaramella/opt/anaconda3/lib/python3.8/site-packages (from python-dateutil<3.0.0,>=2.1->botocore<1.17.45,>=1.17.44->aiobotocore>=1.0.1->s3fs) (1.15.0)\n",
      "\u001b[31mERROR: boto3 1.16.33 has requirement botocore<1.20.0,>=1.19.33, but you'll have botocore 1.17.44 which is incompatible.\u001b[0m\n",
      "Installing collected packages: botocore\n",
      "  Attempting uninstall: botocore\n",
      "    Found existing installation: botocore 1.19.33\n",
      "    Uninstalling botocore-1.19.33:\n",
      "      Successfully uninstalled botocore-1.19.33\n",
      "Successfully installed botocore-1.17.44\n",
      "Requirement already satisfied: unicodedata2 in /Users/daniellescaramella/opt/anaconda3/lib/python3.8/site-packages (13.0.0.post2)\n",
      "Requirement already satisfied: spacy in /Users/daniellescaramella/opt/anaconda3/lib/python3.8/site-packages (2.3.4)\n",
      "Requirement already satisfied: numpy>=1.15.0 in /Users/daniellescaramella/opt/anaconda3/lib/python3.8/site-packages (from spacy) (1.18.5)\n",
      "Requirement already satisfied: requests<3.0.0,>=2.13.0 in /Users/daniellescaramella/opt/anaconda3/lib/python3.8/site-packages (from spacy) (2.24.0)\n",
      "Requirement already satisfied: thinc<7.5.0,>=7.4.1 in /Users/daniellescaramella/opt/anaconda3/lib/python3.8/site-packages (from spacy) (7.4.4)\n",
      "Requirement already satisfied: tqdm<5.0.0,>=4.38.0 in /Users/daniellescaramella/opt/anaconda3/lib/python3.8/site-packages (from spacy) (4.47.0)\n",
      "Requirement already satisfied: murmurhash<1.1.0,>=0.28.0 in /Users/daniellescaramella/opt/anaconda3/lib/python3.8/site-packages (from spacy) (1.0.5)\n",
      "Requirement already satisfied: setuptools in /Users/daniellescaramella/opt/anaconda3/lib/python3.8/site-packages (from spacy) (49.2.0.post20200714)\n",
      "Requirement already satisfied: cymem<2.1.0,>=2.0.2 in /Users/daniellescaramella/opt/anaconda3/lib/python3.8/site-packages (from spacy) (2.0.5)\n",
      "Requirement already satisfied: plac<1.2.0,>=0.9.6 in /Users/daniellescaramella/opt/anaconda3/lib/python3.8/site-packages (from spacy) (1.1.3)\n",
      "Requirement already satisfied: catalogue<1.1.0,>=0.0.7 in /Users/daniellescaramella/opt/anaconda3/lib/python3.8/site-packages (from spacy) (1.0.0)\n",
      "Requirement already satisfied: blis<0.8.0,>=0.4.0; python_version >= \"3.6\" in /Users/daniellescaramella/opt/anaconda3/lib/python3.8/site-packages (from spacy) (0.7.4)\n",
      "Requirement already satisfied: srsly<1.1.0,>=1.0.2 in /Users/daniellescaramella/opt/anaconda3/lib/python3.8/site-packages (from spacy) (1.0.5)\n",
      "Requirement already satisfied: preshed<3.1.0,>=3.0.2 in /Users/daniellescaramella/opt/anaconda3/lib/python3.8/site-packages (from spacy) (3.0.5)\n",
      "Requirement already satisfied: wasabi<1.1.0,>=0.4.0 in /Users/daniellescaramella/opt/anaconda3/lib/python3.8/site-packages (from spacy) (0.8.0)\n",
      "Requirement already satisfied: urllib3!=1.25.0,!=1.25.1,<1.26,>=1.21.1 in /Users/daniellescaramella/opt/anaconda3/lib/python3.8/site-packages (from requests<3.0.0,>=2.13.0->spacy) (1.25.9)\n",
      "Requirement already satisfied: idna<3,>=2.5 in /Users/daniellescaramella/opt/anaconda3/lib/python3.8/site-packages (from requests<3.0.0,>=2.13.0->spacy) (2.10)\n",
      "Requirement already satisfied: certifi>=2017.4.17 in /Users/daniellescaramella/opt/anaconda3/lib/python3.8/site-packages (from requests<3.0.0,>=2.13.0->spacy) (2020.6.20)\n",
      "Requirement already satisfied: chardet<4,>=3.0.2 in /Users/daniellescaramella/opt/anaconda3/lib/python3.8/site-packages (from requests<3.0.0,>=2.13.0->spacy) (3.0.4)\n",
      "Requirement already satisfied: wordcloud in /Users/daniellescaramella/opt/anaconda3/lib/python3.8/site-packages (1.8.1)\n",
      "Requirement already satisfied: pillow in /Users/daniellescaramella/opt/anaconda3/lib/python3.8/site-packages (from wordcloud) (7.2.0)\n",
      "Requirement already satisfied: numpy>=1.6.1 in /Users/daniellescaramella/opt/anaconda3/lib/python3.8/site-packages (from wordcloud) (1.18.5)\n",
      "Requirement already satisfied: matplotlib in /Users/daniellescaramella/opt/anaconda3/lib/python3.8/site-packages (from wordcloud) (3.2.2)\n",
      "Requirement already satisfied: cycler>=0.10 in /Users/daniellescaramella/opt/anaconda3/lib/python3.8/site-packages (from matplotlib->wordcloud) (0.10.0)\n",
      "Requirement already satisfied: python-dateutil>=2.1 in /Users/daniellescaramella/opt/anaconda3/lib/python3.8/site-packages (from matplotlib->wordcloud) (2.8.1)\n",
      "Requirement already satisfied: kiwisolver>=1.0.1 in /Users/daniellescaramella/opt/anaconda3/lib/python3.8/site-packages (from matplotlib->wordcloud) (1.2.0)\n",
      "Requirement already satisfied: pyparsing!=2.0.4,!=2.1.2,!=2.1.6,>=2.0.1 in /Users/daniellescaramella/opt/anaconda3/lib/python3.8/site-packages (from matplotlib->wordcloud) (2.4.7)\n",
      "Requirement already satisfied: six in /Users/daniellescaramella/opt/anaconda3/lib/python3.8/site-packages (from cycler>=0.10->matplotlib->wordcloud) (1.15.0)\n",
      "Requirement already satisfied: gensim in /Users/daniellescaramella/opt/anaconda3/lib/python3.8/site-packages (3.8.3)\n",
      "Requirement already satisfied: scipy>=0.18.1 in /Users/daniellescaramella/opt/anaconda3/lib/python3.8/site-packages (from gensim) (1.5.0)\n",
      "Requirement already satisfied: numpy>=1.11.3 in /Users/daniellescaramella/opt/anaconda3/lib/python3.8/site-packages (from gensim) (1.18.5)\n",
      "Requirement already satisfied: smart-open>=1.8.1 in /Users/daniellescaramella/opt/anaconda3/lib/python3.8/site-packages (from gensim) (4.0.1)\n",
      "Requirement already satisfied: six>=1.5.0 in /Users/daniellescaramella/opt/anaconda3/lib/python3.8/site-packages (from gensim) (1.15.0)\n"
     ]
    },
    {
     "name": "stdout",
     "output_type": "stream",
     "text": [
      "Requirement already satisfied: en_core_web_sm==2.3.1 from https://github.com/explosion/spacy-models/releases/download/en_core_web_sm-2.3.1/en_core_web_sm-2.3.1.tar.gz#egg=en_core_web_sm==2.3.1 in /Users/daniellescaramella/opt/anaconda3/lib/python3.8/site-packages (2.3.1)\n",
      "Requirement already satisfied: spacy<2.4.0,>=2.3.0 in /Users/daniellescaramella/opt/anaconda3/lib/python3.8/site-packages (from en_core_web_sm==2.3.1) (2.3.4)\n",
      "Requirement already satisfied: cymem<2.1.0,>=2.0.2 in /Users/daniellescaramella/opt/anaconda3/lib/python3.8/site-packages (from spacy<2.4.0,>=2.3.0->en_core_web_sm==2.3.1) (2.0.5)\n",
      "Requirement already satisfied: plac<1.2.0,>=0.9.6 in /Users/daniellescaramella/opt/anaconda3/lib/python3.8/site-packages (from spacy<2.4.0,>=2.3.0->en_core_web_sm==2.3.1) (1.1.3)\n",
      "Requirement already satisfied: catalogue<1.1.0,>=0.0.7 in /Users/daniellescaramella/opt/anaconda3/lib/python3.8/site-packages (from spacy<2.4.0,>=2.3.0->en_core_web_sm==2.3.1) (1.0.0)\n",
      "Requirement already satisfied: tqdm<5.0.0,>=4.38.0 in /Users/daniellescaramella/opt/anaconda3/lib/python3.8/site-packages (from spacy<2.4.0,>=2.3.0->en_core_web_sm==2.3.1) (4.47.0)\n",
      "Requirement already satisfied: srsly<1.1.0,>=1.0.2 in /Users/daniellescaramella/opt/anaconda3/lib/python3.8/site-packages (from spacy<2.4.0,>=2.3.0->en_core_web_sm==2.3.1) (1.0.5)\n",
      "Requirement already satisfied: requests<3.0.0,>=2.13.0 in /Users/daniellescaramella/opt/anaconda3/lib/python3.8/site-packages (from spacy<2.4.0,>=2.3.0->en_core_web_sm==2.3.1) (2.24.0)\n",
      "Requirement already satisfied: setuptools in /Users/daniellescaramella/opt/anaconda3/lib/python3.8/site-packages (from spacy<2.4.0,>=2.3.0->en_core_web_sm==2.3.1) (49.2.0.post20200714)\n",
      "Requirement already satisfied: numpy>=1.15.0 in /Users/daniellescaramella/opt/anaconda3/lib/python3.8/site-packages (from spacy<2.4.0,>=2.3.0->en_core_web_sm==2.3.1) (1.18.5)\n",
      "Requirement already satisfied: murmurhash<1.1.0,>=0.28.0 in /Users/daniellescaramella/opt/anaconda3/lib/python3.8/site-packages (from spacy<2.4.0,>=2.3.0->en_core_web_sm==2.3.1) (1.0.5)\n",
      "Requirement already satisfied: preshed<3.1.0,>=3.0.2 in /Users/daniellescaramella/opt/anaconda3/lib/python3.8/site-packages (from spacy<2.4.0,>=2.3.0->en_core_web_sm==2.3.1) (3.0.5)\n",
      "Requirement already satisfied: thinc<7.5.0,>=7.4.1 in /Users/daniellescaramella/opt/anaconda3/lib/python3.8/site-packages (from spacy<2.4.0,>=2.3.0->en_core_web_sm==2.3.1) (7.4.4)\n",
      "Requirement already satisfied: wasabi<1.1.0,>=0.4.0 in /Users/daniellescaramella/opt/anaconda3/lib/python3.8/site-packages (from spacy<2.4.0,>=2.3.0->en_core_web_sm==2.3.1) (0.8.0)\n",
      "Requirement already satisfied: blis<0.8.0,>=0.4.0; python_version >= \"3.6\" in /Users/daniellescaramella/opt/anaconda3/lib/python3.8/site-packages (from spacy<2.4.0,>=2.3.0->en_core_web_sm==2.3.1) (0.7.4)\n",
      "Requirement already satisfied: certifi>=2017.4.17 in /Users/daniellescaramella/opt/anaconda3/lib/python3.8/site-packages (from requests<3.0.0,>=2.13.0->spacy<2.4.0,>=2.3.0->en_core_web_sm==2.3.1) (2020.6.20)\n",
      "Requirement already satisfied: chardet<4,>=3.0.2 in /Users/daniellescaramella/opt/anaconda3/lib/python3.8/site-packages (from requests<3.0.0,>=2.13.0->spacy<2.4.0,>=2.3.0->en_core_web_sm==2.3.1) (3.0.4)\n",
      "Requirement already satisfied: urllib3!=1.25.0,!=1.25.1,<1.26,>=1.21.1 in /Users/daniellescaramella/opt/anaconda3/lib/python3.8/site-packages (from requests<3.0.0,>=2.13.0->spacy<2.4.0,>=2.3.0->en_core_web_sm==2.3.1) (1.25.9)\n",
      "Requirement already satisfied: idna<3,>=2.5 in /Users/daniellescaramella/opt/anaconda3/lib/python3.8/site-packages (from requests<3.0.0,>=2.13.0->spacy<2.4.0,>=2.3.0->en_core_web_sm==2.3.1) (2.10)\n",
      "\u001b[38;5;2m✔ Download and installation successful\u001b[0m\n",
      "You can now load the model via spacy.load('en_core_web_sm')\n",
      "Requirement already satisfied: en_core_web_sm==2.3.1 from https://github.com/explosion/spacy-models/releases/download/en_core_web_sm-2.3.1/en_core_web_sm-2.3.1.tar.gz#egg=en_core_web_sm==2.3.1 in /Users/daniellescaramella/opt/anaconda3/lib/python3.8/site-packages (2.3.1)\n",
      "Requirement already satisfied: spacy<2.4.0,>=2.3.0 in /Users/daniellescaramella/opt/anaconda3/lib/python3.8/site-packages (from en_core_web_sm==2.3.1) (2.3.4)\n",
      "Requirement already satisfied: tqdm<5.0.0,>=4.38.0 in /Users/daniellescaramella/opt/anaconda3/lib/python3.8/site-packages (from spacy<2.4.0,>=2.3.0->en_core_web_sm==2.3.1) (4.47.0)\n",
      "Requirement already satisfied: thinc<7.5.0,>=7.4.1 in /Users/daniellescaramella/opt/anaconda3/lib/python3.8/site-packages (from spacy<2.4.0,>=2.3.0->en_core_web_sm==2.3.1) (7.4.4)\n",
      "Requirement already satisfied: plac<1.2.0,>=0.9.6 in /Users/daniellescaramella/opt/anaconda3/lib/python3.8/site-packages (from spacy<2.4.0,>=2.3.0->en_core_web_sm==2.3.1) (1.1.3)\n",
      "Requirement already satisfied: requests<3.0.0,>=2.13.0 in /Users/daniellescaramella/opt/anaconda3/lib/python3.8/site-packages (from spacy<2.4.0,>=2.3.0->en_core_web_sm==2.3.1) (2.24.0)\n",
      "Requirement already satisfied: cymem<2.1.0,>=2.0.2 in /Users/daniellescaramella/opt/anaconda3/lib/python3.8/site-packages (from spacy<2.4.0,>=2.3.0->en_core_web_sm==2.3.1) (2.0.5)\n",
      "Requirement already satisfied: catalogue<1.1.0,>=0.0.7 in /Users/daniellescaramella/opt/anaconda3/lib/python3.8/site-packages (from spacy<2.4.0,>=2.3.0->en_core_web_sm==2.3.1) (1.0.0)\n",
      "Requirement already satisfied: setuptools in /Users/daniellescaramella/opt/anaconda3/lib/python3.8/site-packages (from spacy<2.4.0,>=2.3.0->en_core_web_sm==2.3.1) (49.2.0.post20200714)\n",
      "Requirement already satisfied: numpy>=1.15.0 in /Users/daniellescaramella/opt/anaconda3/lib/python3.8/site-packages (from spacy<2.4.0,>=2.3.0->en_core_web_sm==2.3.1) (1.18.5)\n",
      "Requirement already satisfied: blis<0.8.0,>=0.4.0; python_version >= \"3.6\" in /Users/daniellescaramella/opt/anaconda3/lib/python3.8/site-packages (from spacy<2.4.0,>=2.3.0->en_core_web_sm==2.3.1) (0.7.4)\n",
      "Requirement already satisfied: srsly<1.1.0,>=1.0.2 in /Users/daniellescaramella/opt/anaconda3/lib/python3.8/site-packages (from spacy<2.4.0,>=2.3.0->en_core_web_sm==2.3.1) (1.0.5)\n",
      "Requirement already satisfied: murmurhash<1.1.0,>=0.28.0 in /Users/daniellescaramella/opt/anaconda3/lib/python3.8/site-packages (from spacy<2.4.0,>=2.3.0->en_core_web_sm==2.3.1) (1.0.5)\n",
      "Requirement already satisfied: preshed<3.1.0,>=3.0.2 in /Users/daniellescaramella/opt/anaconda3/lib/python3.8/site-packages (from spacy<2.4.0,>=2.3.0->en_core_web_sm==2.3.1) (3.0.5)\n",
      "Requirement already satisfied: wasabi<1.1.0,>=0.4.0 in /Users/daniellescaramella/opt/anaconda3/lib/python3.8/site-packages (from spacy<2.4.0,>=2.3.0->en_core_web_sm==2.3.1) (0.8.0)\n",
      "Requirement already satisfied: certifi>=2017.4.17 in /Users/daniellescaramella/opt/anaconda3/lib/python3.8/site-packages (from requests<3.0.0,>=2.13.0->spacy<2.4.0,>=2.3.0->en_core_web_sm==2.3.1) (2020.6.20)\n",
      "Requirement already satisfied: chardet<4,>=3.0.2 in /Users/daniellescaramella/opt/anaconda3/lib/python3.8/site-packages (from requests<3.0.0,>=2.13.0->spacy<2.4.0,>=2.3.0->en_core_web_sm==2.3.1) (3.0.4)\n",
      "Requirement already satisfied: urllib3!=1.25.0,!=1.25.1,<1.26,>=1.21.1 in /Users/daniellescaramella/opt/anaconda3/lib/python3.8/site-packages (from requests<3.0.0,>=2.13.0->spacy<2.4.0,>=2.3.0->en_core_web_sm==2.3.1) (1.25.9)\n",
      "Requirement already satisfied: idna<3,>=2.5 in /Users/daniellescaramella/opt/anaconda3/lib/python3.8/site-packages (from requests<3.0.0,>=2.13.0->spacy<2.4.0,>=2.3.0->en_core_web_sm==2.3.1) (2.10)\n",
      "\u001b[38;5;2m✔ Download and installation successful\u001b[0m\n",
      "You can now load the model via spacy.load('en_core_web_sm')\n",
      "\u001b[38;5;2m✔ Linking successful\u001b[0m\n",
      "/Users/daniellescaramella/opt/anaconda3/lib/python3.8/site-packages/en_core_web_sm\n",
      "-->\n",
      "/Users/daniellescaramella/opt/anaconda3/lib/python3.8/site-packages/spacy/data/en\n",
      "You can now load the model via spacy.load('en')\n",
      "Requirement already satisfied: boto3 in /Users/daniellescaramella/opt/anaconda3/lib/python3.8/site-packages (1.16.33)\n",
      "Requirement already satisfied: s3transfer<0.4.0,>=0.3.0 in /Users/daniellescaramella/opt/anaconda3/lib/python3.8/site-packages (from boto3) (0.3.3)\n",
      "Requirement already satisfied: jmespath<1.0.0,>=0.7.1 in /Users/daniellescaramella/opt/anaconda3/lib/python3.8/site-packages (from boto3) (0.10.0)\n",
      "Collecting botocore<1.20.0,>=1.19.33\n"
     ]
    },
    {
     "name": "stdout",
     "output_type": "stream",
     "text": [
      "  Downloading botocore-1.19.35-py2.py3-none-any.whl (7.1 MB)\n",
      "\u001b[K     |████████████████████████████████| 7.1 MB 2.1 MB/s eta 0:00:01\n",
      "\u001b[?25hRequirement already satisfied: python-dateutil<3.0.0,>=2.1 in /Users/daniellescaramella/opt/anaconda3/lib/python3.8/site-packages (from botocore<1.20.0,>=1.19.33->boto3) (2.8.1)\n",
      "Requirement already satisfied: urllib3<1.27,>=1.25.4; python_version != \"3.4\" in /Users/daniellescaramella/opt/anaconda3/lib/python3.8/site-packages (from botocore<1.20.0,>=1.19.33->boto3) (1.25.9)\n",
      "Requirement already satisfied: six>=1.5 in /Users/daniellescaramella/opt/anaconda3/lib/python3.8/site-packages (from python-dateutil<3.0.0,>=2.1->botocore<1.20.0,>=1.19.33->boto3) (1.15.0)\n",
      "\u001b[31mERROR: aiobotocore 1.1.2 has requirement botocore<1.17.45,>=1.17.44, but you'll have botocore 1.19.35 which is incompatible.\u001b[0m\n",
      "Installing collected packages: botocore\n",
      "  Attempting uninstall: botocore\n",
      "    Found existing installation: botocore 1.17.44\n",
      "    Uninstalling botocore-1.17.44:\n",
      "      Successfully uninstalled botocore-1.17.44\n",
      "Successfully installed botocore-1.19.35\n"
     ]
    }
   ],
   "source": [
    "!pip install s3fs # Needed so that pandas can read and right to s3. pandas uses s3fs for handling S3 connections \n",
    "!pip install unicodedata2 # needed to remove accented characters\n",
    "!pip install spacy\n",
    "!pip install wordcloud # to generate word cloud\n",
    "!pip install gensim\n",
    "!python3 -m spacy download en_core_web_sm\n",
    "!python3 -m spacy download en\n",
    "!pip install boto3"
   ]
  },
  {
   "cell_type": "code",
   "execution_count": 2,
   "metadata": {},
   "outputs": [
    {
     "name": "stderr",
     "output_type": "stream",
     "text": [
      "/Users/daniellescaramella/opt/anaconda3/lib/python3.8/site-packages/tqdm/std.py:668: FutureWarning: The Panel class is removed from pandas. Accessing it from the top-level namespace will also be removed in the next version\n",
      "  from pandas import Panel\n",
      "[nltk_data] Downloading package stopwords to\n",
      "[nltk_data]     /Users/daniellescaramella/nltk_data...\n",
      "[nltk_data]   Package stopwords is already up-to-date!\n"
     ]
    }
   ],
   "source": [
    "import pandas as pd\n",
    "import matplotlib.pyplot as plt\n",
    "import numpy as np\n",
    "import os\n",
    "import sys\n",
    "import csv\n",
    "from tqdm import tqdm\n",
    "tqdm.pandas(desc=\"progress-bar\")\n",
    "import seaborn as sns\n",
    "import re\n",
    "import boto3\n",
    "import string\n",
    "from io import StringIO\n",
    "import spacy\n",
    "from spacy.lang import punctuation\n",
    "import unicodedata2\n",
    "from contractions import CONTRACTION_DICT\n",
    "#from html.parser import HTMLParser\n",
    "#from pathlib import Path\n",
    "from wordcloud import WordCloud, STOPWORDS\n",
    "import nltk\n",
    "nltk.download('stopwords')\n",
    "from nltk.tokenize import ToktokTokenizer\n",
    "from nltk.corpus import stopwords\n",
    "from nltk.stem import WordNetLemmatizer\n",
    "from nltk.stem import SnowballStemmer\n",
    "from nltk import FreqDist\n",
    "from nltk import word_tokenize\n",
    "from nltk.stem.wordnet import WordNetLemmatizer\n",
    "from nltk.util import ngrams\n",
    "from collections import defaultdict\n",
    "from collections import Counter\n",
    "from sklearn.feature_extraction.text import CountVectorizer\n",
    "import gensim\n",
    "from gensim.models import word2vec\n",
    "from gensim.models.fasttext import FastText\n",
    "from gensim.utils import simple_preprocess\n",
    "from gensim.parsing.preprocessing import preprocess_string\n",
    "from gensim.parsing.preprocessing import STOPWORDS\n",
    "\n",
    "\n",
    "import warnings\n",
    "warnings.filterwarnings('ignore')\n",
    "\n",
    "%matplotlib inline\n",
    "sns.set(style='darkgrid',palette='Dark2',rc={'figure.figsize':(9,6),'figure.dpi':100})\n",
    "\n",
    "tokenizer = ToktokTokenizer()\n",
    "punctuation = string.punctuation + '”' + '“' + '–' + '““' + \"’’\" + '”'\n",
    "stopword = stopwords.words('english')\n",
    "wordnet_lemmatizer = WordNetLemmatizer()\n",
    "stop=set(stopwords.words('english'))\n",
    "snowball_stemmer = SnowballStemmer('english')\n",
    "stopwords = set(STOPWORDS)\n",
    "nlp = spacy.load('en',parse=True,tag=True, entity=True)\n",
    "# if you get error from the above , you will need to install the following to stage the proper file:\n",
    "#python -m spacy download en_core_web_sm\n",
    "#python -m spacy download en"
   ]
  },
  {
   "cell_type": "code",
   "execution_count": 3,
   "metadata": {},
   "outputs": [],
   "source": [
    "#Path to the huge csv file\n",
    "input_data = 's3://sagemaker-studio-zvdmh7fos3/news_cleaned_2018_02_13.csv'"
   ]
  },
  {
   "cell_type": "code",
   "execution_count": null,
   "metadata": {},
   "outputs": [],
   "source": [
    "%%time\n",
    "\n",
    "df_list = [] # list to hold the batch dataframe\n",
    "for chunk in tqdm (pd.read_csv(input_data, chunksize=chunksize, encoding='utf-8', engine='python')):\n",
    "    # append the chunk to list \n",
    "    df_list.append(chunk)"
   ]
  },
  {
   "cell_type": "code",
   "execution_count": null,
   "metadata": {},
   "outputs": [],
   "source": [
    "%%time\n",
    "# Merge all the chunked dataframes into one dataframe\n",
    "df = pd.concat(df_list)\n",
    "\n",
    "# Delete the chunked dataframe list to release memory\n",
    "del df_list\n",
    "\n",
    "# See what we have loaded\n",
    "df.info()"
   ]
  },
  {
   "cell_type": "code",
   "execution_count": null,
   "metadata": {},
   "outputs": [],
   "source": [
    "df.head()"
   ]
  },
  {
   "cell_type": "code",
   "execution_count": null,
   "metadata": {},
   "outputs": [],
   "source": [
    "# list of columns to drop from the datasets\n",
    "cols_to_drop = ['id','Unnamed: 0', 'url', 'source', 'summary', 'keywords', 'meta_description','updated_at', 'inserted_at','tags','meta_keywords']"
   ]
  },
  {
   "cell_type": "code",
   "execution_count": null,
   "metadata": {},
   "outputs": [],
   "source": [
    "# drop the columns and check the memory usage\n",
    "df.drop(cols_to_drop, axis=1, inplace=True)\n",
    "df.info()"
   ]
  },
  {
   "cell_type": "code",
   "execution_count": null,
   "metadata": {},
   "outputs": [],
   "source": [
    "df.shape\n",
    "print('The dataframe contains:', df.shape[0] ,'rows', 'and', df.shape[1], 'columns')"
   ]
  },
  {
   "cell_type": "code",
   "execution_count": null,
   "metadata": {},
   "outputs": [],
   "source": [
    "# list of classes in the type column that need to be dropped\n",
    "classes_to_drop = ['rumor','bias','political','conspiracy','unknown','clickbait','junksci','satire','unreliable','hate']\n",
    "\n",
    "# Getting the indexes for the classes\n",
    "index_names = df[ df['type'].isin(classes_to_drop)].index \n",
    "\n",
    "# dropping the rows based on the column indexes\n",
    "df.drop(index_names, inplace = True) "
   ]
  },
  {
   "cell_type": "code",
   "execution_count": null,
   "metadata": {},
   "outputs": [],
   "source": [
    "#Labeling the class\n",
    "class_labels = ['fake','real']\n",
    "\n",
    "#replace the class\n",
    "df['label'] = df['type'].replace(['fake','reliable'], class_labels)\n",
    "\n",
    "# check the column values\n",
    "df['label'].value_counts(dropna=False, ascending=False)"
   ]
  },
  {
   "cell_type": "code",
   "execution_count": null,
   "metadata": {},
   "outputs": [],
   "source": [
    "import s3fs\n",
    "\n",
    "s3 = s3fs.S3FileSystem(anon=False) # publicly-available,  # uses default credentials\n",
    "#s3 = s3fs.S3FileSystem(anon=False) # credentials explicitly supplied\n",
    "# Use 'w' for py3, 'wb' for py2\n",
    "with s3.open('(cleaned_frl_fake2.csv','w') as f:\n",
    "    df.to_csv(f) # Should have been df.to_csv(f, index=False)"
   ]
  },
  {
   "cell_type": "code",
   "execution_count": null,
   "metadata": {},
   "outputs": [],
   "source": [
    "def write_dataframe_to_csv_on_s3(dataframe, file_key):\n",
    "    \"\"\" Write a dataframe to a CSV on S3 \"\"\"\n",
    "    \"\"\"Sends csv to S3 from memory\"\"\"\n",
    "    print(\"Writing {} records to {}\".format(len(dataframe), file_key))\n",
    "     # Create buffer\n",
    "    csv_buffer = StringIO()\n",
    "    # Write dataframe to buffer\n",
    "    dataframe.to_csv(csv_buffer, index=False)\n",
    "    # Create S3 object\n",
    "    s3_resource = boto3.resource(\"s3\")\n",
    "    # Write buffer to S3 object\n",
    "    s3_resource.Object(myBucket, file_key).put(Body=csv_buffer.getvalue())"
   ]
  },
  {
   "cell_type": "code",
   "execution_count": null,
   "metadata": {},
   "outputs": [],
   "source": [
    "write_dataframe_to_csv_on_s3(df, 'cleaned_frl_fake.csv')"
   ]
  }
 ],
 "metadata": {
  "kernelspec": {
   "display_name": "Python 3",
   "language": "python",
   "name": "python3"
  },
  "language_info": {
   "codemirror_mode": {
    "name": "ipython",
    "version": 3
   },
   "file_extension": ".py",
   "mimetype": "text/x-python",
   "name": "python",
   "nbconvert_exporter": "python",
   "pygments_lexer": "ipython3",
   "version": "3.8.3"
  }
 },
 "nbformat": 4,
 "nbformat_minor": 4
}
