{
 "cells": [
  {
   "cell_type": "markdown",
   "metadata": {},
   "source": [
    "# Fake News Capstone Project Data Wrangling and Preprocessing"
   ]
  },
  {
   "cell_type": "code",
   "execution_count": 1,
   "metadata": {
    "ExecuteTime": {
     "end_time": "2021-01-05T02:21:09.673908Z",
     "start_time": "2021-01-05T02:21:02.243119Z"
    }
   },
   "outputs": [
    {
     "name": "stderr",
     "output_type": "stream",
     "text": [
      "<ipython-input-1-3bd910620f49>:8: TqdmExperimentalWarning: Using `tqdm.autonotebook.tqdm` in notebook mode. Use `tqdm.tqdm` instead to force console mode (e.g. in jupyter console)\n",
      "  from tqdm.autonotebook import tqdm\n",
      "C:\\ProgramData\\Anaconda3\\lib\\site-packages\\tqdm\\std.py:701: FutureWarning: The Panel class is removed from pandas. Accessing it from the top-level namespace will also be removed in the next version\n",
      "  from pandas import Panel\n"
     ]
    }
   ],
   "source": [
    "import s3fs\n",
    "import pandas as pd\n",
    "import matplotlib.pyplot as plt\n",
    "import numpy as np\n",
    "import seaborn as sns\n",
    "import re\n",
    "import tldextract\n",
    "from tqdm.autonotebook import tqdm\n",
    "tqdm.pandas(desc=\"progress-bar\", leave=False)\n",
    "import string\n",
    "import spacy\n",
    "from spacy.lang import punctuation\n",
    "import unicodedata  # might need to pip install unicodedate2 on aws sagemaker\n",
    "from contractions import CONTRACTION_DICT # need to have the contractions.py file copied to your path\n",
    "from textblob import TextBlob\n",
    "import nltk\n",
    "from nltk.corpus import stopwords\n",
    "from nltk.stem import WordNetLemmatizer\n",
    "from nltk import word_tokenize\n",
    "from nltk.stem.wordnet import WordNetLemmatizer\n",
    "import gensim\n",
    "from gensim.utils import simple_preprocess\n",
    "from gensim.parsing.preprocessing import preprocess_string\n",
    "from gensim.parsing.preprocessing import STOPWORDS\n",
    "import warnings\n",
    "warnings.filterwarnings('ignore')\n",
    "\n",
    "%matplotlib inline\n",
    "sns.set(style='darkgrid',palette='Dark2',rc={'figure.figsize':(9,6),'figure.dpi':90})\n",
    "\n",
    "punctuation = string.punctuation + '”' + '“' + '–' + '““' + \"’’\" + '”'\n",
    "stopword = stopwords.words('english')\n",
    "stopwords = set(STOPWORDS)\n",
    "wordnet_lemmatizer = WordNetLemmatizer()"
   ]
  },
  {
   "cell_type": "markdown",
   "metadata": {},
   "source": [
    "## Random seed"
   ]
  },
  {
   "cell_type": "code",
   "execution_count": 2,
   "metadata": {
    "ExecuteTime": {
     "end_time": "2021-01-05T02:21:09.689897Z",
     "start_time": "2021-01-05T02:21:09.676899Z"
    }
   },
   "outputs": [],
   "source": [
    "seed = 123"
   ]
  },
  {
   "cell_type": "markdown",
   "metadata": {},
   "source": [
    "## Read in the dataset"
   ]
  },
  {
   "cell_type": "code",
   "execution_count": 3,
   "metadata": {
    "ExecuteTime": {
     "end_time": "2021-01-05T02:27:25.867995Z",
     "start_time": "2021-01-05T02:21:09.694900Z"
    }
   },
   "outputs": [
    {
     "data": {
      "text/html": [
       "<div>\n",
       "<style scoped>\n",
       "    .dataframe tbody tr th:only-of-type {\n",
       "        vertical-align: middle;\n",
       "    }\n",
       "\n",
       "    .dataframe tbody tr th {\n",
       "        vertical-align: top;\n",
       "    }\n",
       "\n",
       "    .dataframe thead th {\n",
       "        text-align: right;\n",
       "    }\n",
       "</style>\n",
       "<table border=\"1\" class=\"dataframe\">\n",
       "  <thead>\n",
       "    <tr style=\"text-align: right;\">\n",
       "      <th></th>\n",
       "      <th>domain</th>\n",
       "      <th>type</th>\n",
       "      <th>content</th>\n",
       "      <th>title</th>\n",
       "      <th>authors</th>\n",
       "    </tr>\n",
       "  </thead>\n",
       "  <tbody>\n",
       "    <tr>\n",
       "      <th>0</th>\n",
       "      <td>nytimes.com</td>\n",
       "      <td>real</td>\n",
       "      <td>Paul Shanley, an ex-priest convicted of rape i...</td>\n",
       "      <td>Massachusetts: Court Upholds Ex-Priest’s Convi...</td>\n",
       "      <td>The Associated Press</td>\n",
       "    </tr>\n",
       "    <tr>\n",
       "      <th>1</th>\n",
       "      <td>nytimes.com</td>\n",
       "      <td>real</td>\n",
       "      <td>A federal district judge who has monitored the...</td>\n",
       "      <td>National Briefing | Southwest: Texas: Easing R...</td>\n",
       "      <td>Jim Yardley Nyt, Jim Yardley, Nyt</td>\n",
       "    </tr>\n",
       "    <tr>\n",
       "      <th>2</th>\n",
       "      <td>www.washingtonpost.com</td>\n",
       "      <td>real</td>\n",
       "      <td>NEW YORK — CNN and host Jake Tapper have both ...</td>\n",
       "      <td>CNN and Jake Tapper apologize for ‘unacceptabl...</td>\n",
       "      <td>Associated Press</td>\n",
       "    </tr>\n",
       "    <tr>\n",
       "      <th>3</th>\n",
       "      <td>nytimes.com</td>\n",
       "      <td>real</td>\n",
       "      <td>Photo\\n\\nWe’ve seen plenty of unexpected skin ...</td>\n",
       "      <td>Three’s a Trend: Asymmetrical Harnesses</td>\n",
       "      <td>Angela Koh</td>\n",
       "    </tr>\n",
       "    <tr>\n",
       "      <th>4</th>\n",
       "      <td>www.yahoo.com</td>\n",
       "      <td>real</td>\n",
       "      <td>By Rory Carroll (Reuters) - A prosecutor in Mi...</td>\n",
       "      <td>Minnesota officer charged with manslaughter in...</td>\n",
       "      <td>Rory Carroll</td>\n",
       "    </tr>\n",
       "  </tbody>\n",
       "</table>\n",
       "</div>"
      ],
      "text/plain": [
       "                   domain  type  \\\n",
       "0             nytimes.com  real   \n",
       "1             nytimes.com  real   \n",
       "2  www.washingtonpost.com  real   \n",
       "3             nytimes.com  real   \n",
       "4           www.yahoo.com  real   \n",
       "\n",
       "                                             content  \\\n",
       "0  Paul Shanley, an ex-priest convicted of rape i...   \n",
       "1  A federal district judge who has monitored the...   \n",
       "2  NEW YORK — CNN and host Jake Tapper have both ...   \n",
       "3  Photo\\n\\nWe’ve seen plenty of unexpected skin ...   \n",
       "4  By Rory Carroll (Reuters) - A prosecutor in Mi...   \n",
       "\n",
       "                                               title  \\\n",
       "0  Massachusetts: Court Upholds Ex-Priest’s Convi...   \n",
       "1  National Briefing | Southwest: Texas: Easing R...   \n",
       "2  CNN and Jake Tapper apologize for ‘unacceptabl...   \n",
       "3            Three’s a Trend: Asymmetrical Harnesses   \n",
       "4  Minnesota officer charged with manslaughter in...   \n",
       "\n",
       "                             authors  \n",
       "0               The Associated Press  \n",
       "1  Jim Yardley Nyt, Jim Yardley, Nyt  \n",
       "2                   Associated Press  \n",
       "3                         Angela Koh  \n",
       "4                       Rory Carroll  "
      ]
     },
     "execution_count": 3,
     "metadata": {},
     "output_type": "execute_result"
    }
   ],
   "source": [
    "df = pd.read_csv('s3://osanusi-auto/capstone_prep.csv')\n",
    "df.head(5)"
   ]
  },
  {
   "cell_type": "code",
   "execution_count": 4,
   "metadata": {
    "ExecuteTime": {
     "end_time": "2021-01-05T02:27:25.883973Z",
     "start_time": "2021-01-05T02:27:25.871974Z"
    }
   },
   "outputs": [],
   "source": [
    "# checking missing values\n",
    "def missing_value(df):\n",
    "    \"\"\"\" Function to calculate the number and percent of missing values in a dataframe\"\"\"\n",
    "    total = df.isnull().sum().sort_values(ascending=False)\n",
    "    percent = ((df.isnull().sum()/df.isnull().count())*100).sort_values(ascending=False)\n",
    "    missing_value = pd.concat([total, percent], axis=1, keys=['Total','Percent'])\n",
    "    return missing_value"
   ]
  },
  {
   "cell_type": "code",
   "execution_count": 5,
   "metadata": {
    "ExecuteTime": {
     "end_time": "2021-01-05T02:27:27.121723Z",
     "start_time": "2021-01-05T02:27:25.887978Z"
    }
   },
   "outputs": [
    {
     "data": {
      "text/html": [
       "<div>\n",
       "<style scoped>\n",
       "    .dataframe tbody tr th:only-of-type {\n",
       "        vertical-align: middle;\n",
       "    }\n",
       "\n",
       "    .dataframe tbody tr th {\n",
       "        vertical-align: top;\n",
       "    }\n",
       "\n",
       "    .dataframe thead th {\n",
       "        text-align: right;\n",
       "    }\n",
       "</style>\n",
       "<table border=\"1\" class=\"dataframe\">\n",
       "  <thead>\n",
       "    <tr style=\"text-align: right;\">\n",
       "      <th></th>\n",
       "      <th>Total</th>\n",
       "      <th>Percent</th>\n",
       "    </tr>\n",
       "  </thead>\n",
       "  <tbody>\n",
       "    <tr>\n",
       "      <th>authors</th>\n",
       "      <td>0</td>\n",
       "      <td>0.0</td>\n",
       "    </tr>\n",
       "    <tr>\n",
       "      <th>title</th>\n",
       "      <td>0</td>\n",
       "      <td>0.0</td>\n",
       "    </tr>\n",
       "    <tr>\n",
       "      <th>content</th>\n",
       "      <td>0</td>\n",
       "      <td>0.0</td>\n",
       "    </tr>\n",
       "    <tr>\n",
       "      <th>type</th>\n",
       "      <td>0</td>\n",
       "      <td>0.0</td>\n",
       "    </tr>\n",
       "    <tr>\n",
       "      <th>domain</th>\n",
       "      <td>0</td>\n",
       "      <td>0.0</td>\n",
       "    </tr>\n",
       "  </tbody>\n",
       "</table>\n",
       "</div>"
      ],
      "text/plain": [
       "         Total  Percent\n",
       "authors      0      0.0\n",
       "title        0      0.0\n",
       "content      0      0.0\n",
       "type         0      0.0\n",
       "domain       0      0.0"
      ]
     },
     "execution_count": 5,
     "metadata": {},
     "output_type": "execute_result"
    }
   ],
   "source": [
    "missing_value(df)"
   ]
  },
  {
   "cell_type": "code",
   "execution_count": 6,
   "metadata": {
    "ExecuteTime": {
     "end_time": "2021-01-05T02:27:27.517952Z",
     "start_time": "2021-01-05T02:27:27.123723Z"
    }
   },
   "outputs": [
    {
     "name": "stdout",
     "output_type": "stream",
     "text": [
      "<class 'pandas.core.frame.DataFrame'>\n",
      "RangeIndex: 1090432 entries, 0 to 1090431\n",
      "Data columns (total 5 columns):\n",
      " #   Column   Non-Null Count    Dtype \n",
      "---  ------   --------------    ----- \n",
      " 0   domain   1090432 non-null  object\n",
      " 1   type     1090432 non-null  object\n",
      " 2   content  1090432 non-null  object\n",
      " 3   title    1090432 non-null  object\n",
      " 4   authors  1090432 non-null  object\n",
      "dtypes: object(5)\n",
      "memory usage: 41.6+ MB\n"
     ]
    }
   ],
   "source": [
    "df.info()"
   ]
  },
  {
   "cell_type": "markdown",
   "metadata": {},
   "source": [
    "## Clean up the domain and check the unique domains"
   ]
  },
  {
   "cell_type": "code",
   "execution_count": 7,
   "metadata": {
    "ExecuteTime": {
     "end_time": "2021-01-05T02:27:27.533983Z",
     "start_time": "2021-01-05T02:27:27.521973Z"
    }
   },
   "outputs": [],
   "source": [
    "def extract_domain(url):\n",
    "    \"\"\"\n",
    "    Extract domain name from fld url\n",
    "    \"\"\"\n",
    "    info = tldextract.extract(url)\n",
    "    return info.domain"
   ]
  },
  {
   "cell_type": "code",
   "execution_count": 8,
   "metadata": {
    "ExecuteTime": {
     "end_time": "2021-01-05T02:27:36.870996Z",
     "start_time": "2021-01-05T02:27:27.539977Z"
    }
   },
   "outputs": [
    {
     "data": {
      "text/html": [
       "<div>\n",
       "<style scoped>\n",
       "    .dataframe tbody tr th:only-of-type {\n",
       "        vertical-align: middle;\n",
       "    }\n",
       "\n",
       "    .dataframe tbody tr th {\n",
       "        vertical-align: top;\n",
       "    }\n",
       "\n",
       "    .dataframe thead th {\n",
       "        text-align: right;\n",
       "    }\n",
       "</style>\n",
       "<table border=\"1\" class=\"dataframe\">\n",
       "  <thead>\n",
       "    <tr style=\"text-align: right;\">\n",
       "      <th></th>\n",
       "      <th>domain</th>\n",
       "      <th>type</th>\n",
       "      <th>content</th>\n",
       "      <th>title</th>\n",
       "      <th>authors</th>\n",
       "    </tr>\n",
       "  </thead>\n",
       "  <tbody>\n",
       "    <tr>\n",
       "      <th>0</th>\n",
       "      <td>nytimes</td>\n",
       "      <td>real</td>\n",
       "      <td>Paul Shanley, an ex-priest convicted of rape i...</td>\n",
       "      <td>Massachusetts: Court Upholds Ex-Priest’s Convi...</td>\n",
       "      <td>The Associated Press</td>\n",
       "    </tr>\n",
       "    <tr>\n",
       "      <th>1</th>\n",
       "      <td>nytimes</td>\n",
       "      <td>real</td>\n",
       "      <td>A federal district judge who has monitored the...</td>\n",
       "      <td>National Briefing | Southwest: Texas: Easing R...</td>\n",
       "      <td>Jim Yardley Nyt, Jim Yardley, Nyt</td>\n",
       "    </tr>\n",
       "    <tr>\n",
       "      <th>2</th>\n",
       "      <td>washingtonpost</td>\n",
       "      <td>real</td>\n",
       "      <td>NEW YORK — CNN and host Jake Tapper have both ...</td>\n",
       "      <td>CNN and Jake Tapper apologize for ‘unacceptabl...</td>\n",
       "      <td>Associated Press</td>\n",
       "    </tr>\n",
       "  </tbody>\n",
       "</table>\n",
       "</div>"
      ],
      "text/plain": [
       "           domain  type                                            content  \\\n",
       "0         nytimes  real  Paul Shanley, an ex-priest convicted of rape i...   \n",
       "1         nytimes  real  A federal district judge who has monitored the...   \n",
       "2  washingtonpost  real  NEW YORK — CNN and host Jake Tapper have both ...   \n",
       "\n",
       "                                               title  \\\n",
       "0  Massachusetts: Court Upholds Ex-Priest’s Convi...   \n",
       "1  National Briefing | Southwest: Texas: Easing R...   \n",
       "2  CNN and Jake Tapper apologize for ‘unacceptabl...   \n",
       "\n",
       "                             authors  \n",
       "0               The Associated Press  \n",
       "1  Jim Yardley Nyt, Jim Yardley, Nyt  \n",
       "2                   Associated Press  "
      ]
     },
     "execution_count": 8,
     "metadata": {},
     "output_type": "execute_result"
    }
   ],
   "source": [
    "df['domain'] = df['domain'].astype(str).apply(extract_domain)\n",
    "df.head(3)"
   ]
  },
  {
   "cell_type": "markdown",
   "metadata": {},
   "source": [
    "## Cleaning up the content column by removing all the noises"
   ]
  },
  {
   "cell_type": "code",
   "execution_count": 9,
   "metadata": {
    "ExecuteTime": {
     "end_time": "2021-01-05T02:27:36.902979Z",
     "start_time": "2021-01-05T02:27:36.874974Z"
    }
   },
   "outputs": [],
   "source": [
    "def remove_special_characters(text): \n",
    "    \"\"\"\n",
    "    Removes special characters from the text document\n",
    "    \"\"\"\n",
    "    # define the pattern to keep. You can check the regex using this url https://regexr.com/\n",
    "    pat = r'[^a-zA-z0-9.,!?/:;\\\"\\'\\s]'\n",
    "    return re.sub(pat, '', text)\n",
    "\n",
    "def remove_extra_whitespace_tabs(text): \n",
    "    \"\"\"\n",
    "    Removes extra whitespaces and remove_extra_whitespace_tabs\n",
    "    \"\"\"\n",
    "    #pattern = r'^\\s+$|\\s+$'\n",
    "    pattern = r'^\\s*|\\s\\s*'\n",
    "    return re.sub(pattern, ' ', text).strip()\n",
    "\n",
    "def remove_digits(text): \n",
    "    \"\"\"\n",
    "    Remove all digits from the text document\n",
    "     take string input and return a clean text without numbers.\n",
    "        Use regex to discard the numbers.\n",
    "    \"\"\"\n",
    "    result = ''.join(i for i in text if not i.isdigit()).lower()\n",
    "    return ' '.join(result.split())\n",
    "\n",
    "def remove_newlines(text): \n",
    "    \"\"\"\n",
    "    Remove newline characters from the text document\n",
    "    \"\"\"\n",
    "    return text.replace('\\\\n', ' ').replace('\\\\r', ' ').replace('\\n', ' ').replace('\\r', ' ').replace('\\\\', ' ')\n",
    "\n",
    "#normalize to the NFKD (Normalization Form Compatibility Decomposition) form\n",
    "#that present in the Unicode standard to remain compatible with other encodings\n",
    "def remove_accented_chars(text): \n",
    "    \"\"\"\n",
    "    Removes accented characters from the test\n",
    "    \"\"\"\n",
    "    new_text = unicodedata.normalize('NFKD', text).encode('ascii', 'ignore').decode('utf-8', 'ignore')\n",
    "    return new_text\n",
    "\n",
    "#expands contractions found in the text\n",
    "def expand_contractions(text, contraction_mapping=CONTRACTION_DICT):\n",
    "\n",
    "    contractions_pattern = re.compile('({})'.format('|'.join(contraction_mapping.keys())), flags=re.IGNORECASE|re.DOTALL)\n",
    "    def expand_match(contraction):\n",
    "        match = contraction.group(0)\n",
    "        first_char = match[0]\n",
    "        expanded_contraction = contraction_mapping.get(match)\\\n",
    "                                if contraction_mapping.get(match)\\\n",
    "                                else contraction_mapping.get(match.lower())\n",
    "        expanded_contraction = first_char+expanded_contraction[1:]\n",
    "        return expanded_contraction\n",
    "\n",
    "    expanded_text = contractions_pattern.sub(expand_match, text)\n",
    "    expanded_text = re.sub(\"'\", \"\", expanded_text)\n",
    "    return expanded_text\n",
    "\n",
    "# replace punctuation characters with spaces\n",
    "def replace_punctuation(text):\n",
    "    filters = string.punctuation + '”' + '“' + '–' \n",
    "    translate_dict = dict((c, \" \") for c in filters)   \n",
    "    translate_map = str.maketrans(translate_dict)\n",
    "    text = text.translate(translate_map)\n",
    "    return text\n",
    "\n",
    "# Remove stopwords and remove words with 2 or less characters\n",
    "def stops_letters(text):\n",
    "    result = []\n",
    "    for token in gensim.utils.simple_preprocess(text):\n",
    "        if token not in gensim.parsing.preprocessing.STOPWORDS and len(token) > 3 and token not in stopword:\n",
    "            result.append(token)\n",
    "            \n",
    "    return \" \".join(result)\n",
    "\n",
    "#Removes any word that starts with either http or https\n",
    "def remove_urls (vTEXT):\n",
    "    #vTEXT = re.sub('http://\\S+|https://\\S+', '', vTEXT,flags=re.MULTILINE)\n",
    "    vTEXT = re.sub('http[s]?://\\S+', '', vTEXT,flags=re.MULTILINE)\n",
    "    return(vTEXT)\n",
    "#Remove words that starts with www\n",
    "def remove_www (vTEXT):\n",
    "    vTEXT = re.sub('www\\S+', '', vTEXT,flags=re.MULTILINE)\n",
    "    return(vTEXT)\n"
   ]
  },
  {
   "cell_type": "code",
   "execution_count": 10,
   "metadata": {
    "ExecuteTime": {
     "end_time": "2021-01-05T05:32:33.125473Z",
     "start_time": "2021-01-05T02:27:36.905974Z"
    }
   },
   "outputs": [
    {
     "name": "stdout",
     "output_type": "stream",
     "text": [
      "Wall time: 3h 4min 56s\n"
     ]
    }
   ],
   "source": [
    "%%time\n",
    "# Apply the functions to the dataframe\n",
    "\n",
    "# Step 1 - convert the text to lower case\n",
    "df['content']=df['content'].apply(lambda x: x.lower())\n",
    "df['title']=df['title'].apply(lambda x: x.lower())\n",
    "df['authors']=df['authors'].apply(lambda x: x.lower())\n",
    "\n",
    "#step 2 - Remove URLS\n",
    "df['content']=df['content'].apply(remove_urls)\n",
    "df['title'] = df['title'].apply(remove_urls)\n",
    "\n",
    "#step 3 - Remove www\n",
    "df['content']=df['content'].apply(remove_www)\n",
    "df['title'] = df['title'].apply(remove_www)\n",
    "\n",
    "# Step 4 - remove special charcaters\n",
    "df['content']=df['content'].apply(remove_special_characters)\n",
    "df['title'] = df['title'].apply(remove_special_characters)\n",
    "\n",
    "#step 5 - Remove whitespaces and tabs\n",
    "df['content']=df['content'].apply(remove_extra_whitespace_tabs)\n",
    "df['title'] = df['title'].apply(remove_extra_whitespace_tabs)\n",
    "df['authors'] = df['authors'].apply(remove_extra_whitespace_tabs)\n",
    "\n",
    "#step 6 - remove newlines and tabs\n",
    "df['content'] = df['content'].apply(remove_newlines)\n",
    "df['title'] = df['title'].apply(remove_newlines)\n",
    "\n",
    "# step 7 - Remove digits\n",
    "df['content']=df['content'].apply(remove_digits)\n",
    "df['title'] = df['title'].apply(remove_digits)\n",
    "\n",
    "#step 8 - remove accented characters\n",
    "df['content']=df['content'].apply(remove_accented_chars)\n",
    "df['title'] = df['title'].apply(remove_accented_chars)\n",
    "\n",
    "#step 9 - Expand contractions\n",
    "df['content']=df['content'].apply(expand_contractions)\n",
    "\n",
    "#step 10 - Replace punctuations with spaces \n",
    "df['content']= df['content'].apply(replace_punctuation)\n",
    "df['title'] = df['title'].apply(replace_punctuation)\n",
    "df['authors'] = df['authors'].apply(replace_punctuation)\n",
    "\n",
    "#step 11 - Remove stopwords, tokenize and remove words with 3 letters or less\n",
    "df['content']= df['content'].apply(stops_letters)\n",
    "df['title'] = df['title'].apply(stops_letters)\n",
    "df['authors'] = df['authors'].apply(stops_letters)\n"
   ]
  },
  {
   "cell_type": "markdown",
   "metadata": {},
   "source": [
    "## Normalization - Lemmatize the title and content columns"
   ]
  },
  {
   "cell_type": "code",
   "execution_count": 11,
   "metadata": {
    "ExecuteTime": {
     "end_time": "2021-01-05T05:32:33.173453Z",
     "start_time": "2021-01-05T05:32:33.138446Z"
    }
   },
   "outputs": [],
   "source": [
    "def lemmatized_word(text):\n",
    "    \"\"\"\n",
    "    lemmatize the text so as to get its root form eg: functions,funtionality as function\n",
    "    \"\"\"\n",
    "    word_tokens = nltk.word_tokenize(text)\n",
    "    lemmatized_word = [wordnet_lemmatizer.lemmatize(word) for word in word_tokens]\n",
    "    return  \" \".join(lemmatized_word) #combine the words into a giant string that vectorizer can accept\n"
   ]
  },
  {
   "cell_type": "code",
   "execution_count": 12,
   "metadata": {
    "ExecuteTime": {
     "end_time": "2021-01-05T06:45:13.557755Z",
     "start_time": "2021-01-05T05:32:33.182450Z"
    }
   },
   "outputs": [
    {
     "data": {
      "application/vnd.jupyter.widget-view+json": {
       "model_id": "",
       "version_major": 2,
       "version_minor": 0
      },
      "text/plain": [
       "progress-bar:   0%|          | 0/1090432 [00:00<?, ?it/s]"
      ]
     },
     "metadata": {},
     "output_type": "display_data"
    },
    {
     "data": {
      "application/vnd.jupyter.widget-view+json": {
       "model_id": "",
       "version_major": 2,
       "version_minor": 0
      },
      "text/plain": [
       "progress-bar:   0%|          | 0/1090432 [00:00<?, ?it/s]"
      ]
     },
     "metadata": {},
     "output_type": "display_data"
    }
   ],
   "source": [
    "df['content'] = df['content'].progress_apply(lemmatized_word)\n",
    "df['title'] = df['title'].progress_apply(lemmatized_word)\n"
   ]
  },
  {
   "cell_type": "markdown",
   "metadata": {},
   "source": [
    "## Create additional features"
   ]
  },
  {
   "cell_type": "code",
   "execution_count": 13,
   "metadata": {
    "ExecuteTime": {
     "end_time": "2021-01-05T06:46:27.395123Z",
     "start_time": "2021-01-05T06:45:13.565709Z"
    }
   },
   "outputs": [
    {
     "name": "stdout",
     "output_type": "stream",
     "text": [
      "Wall time: 1min 13s\n"
     ]
    }
   ],
   "source": [
    "%%time\n",
    "# word counts\n",
    "df['c_word_count'] = df[\"content\"].apply(lambda x: len(str(x).split(\" \")))\n",
    "df['t_word_count'] = df[\"title\"].apply(lambda x: len(str(x).split(\" \")))\n",
    "\n",
    "# Character counts\n",
    "df['c_character_count'] = df[\"content\"].apply(lambda x: sum(len(word) for word in str(x).split(\" \")))\n",
    "df['t_character_count'] = df[\"title\"].apply(lambda x: sum(len(word) for word in str(x).split(\" \")))\n",
    "\n",
    "#average word length\n",
    "df['c_avg_word_length'] = df['c_character_count'] / df['c_word_count']\n",
    "df['t_avg_word_length'] = df['t_character_count'] / df['t_word_count']\n"
   ]
  },
  {
   "cell_type": "markdown",
   "metadata": {},
   "source": [
    "## Identify sentiment in the title"
   ]
  },
  {
   "cell_type": "code",
   "execution_count": 14,
   "metadata": {
    "ExecuteTime": {
     "end_time": "2021-01-05T06:46:27.411115Z",
     "start_time": "2021-01-05T06:46:27.399108Z"
    }
   },
   "outputs": [],
   "source": [
    "def sentiment_check (text):\n",
    "    polarity_score = TextBlob(text).sentiment.polarity\n",
    "    if polarity_score < 0:\n",
    "        return 'negative'\n",
    "    elif polarity_score == 0:\n",
    "        return 'neutral'\n",
    "    else:\n",
    "        return 'positive'"
   ]
  },
  {
   "cell_type": "code",
   "execution_count": 15,
   "metadata": {
    "ExecuteTime": {
     "end_time": "2021-01-05T06:54:00.492366Z",
     "start_time": "2021-01-05T06:46:27.419113Z"
    }
   },
   "outputs": [
    {
     "name": "stdout",
     "output_type": "stream",
     "text": [
      "Wall time: 7min 33s\n"
     ]
    },
    {
     "data": {
      "text/html": [
       "<div>\n",
       "<style scoped>\n",
       "    .dataframe tbody tr th:only-of-type {\n",
       "        vertical-align: middle;\n",
       "    }\n",
       "\n",
       "    .dataframe tbody tr th {\n",
       "        vertical-align: top;\n",
       "    }\n",
       "\n",
       "    .dataframe thead th {\n",
       "        text-align: right;\n",
       "    }\n",
       "</style>\n",
       "<table border=\"1\" class=\"dataframe\">\n",
       "  <thead>\n",
       "    <tr style=\"text-align: right;\">\n",
       "      <th></th>\n",
       "      <th>domain</th>\n",
       "      <th>type</th>\n",
       "      <th>content</th>\n",
       "      <th>title</th>\n",
       "      <th>authors</th>\n",
       "      <th>c_word_count</th>\n",
       "      <th>t_word_count</th>\n",
       "      <th>c_character_count</th>\n",
       "      <th>t_character_count</th>\n",
       "      <th>c_avg_word_length</th>\n",
       "      <th>t_avg_word_length</th>\n",
       "      <th>sentiment</th>\n",
       "    </tr>\n",
       "  </thead>\n",
       "  <tbody>\n",
       "    <tr>\n",
       "      <th>0</th>\n",
       "      <td>nytimes</td>\n",
       "      <td>real</td>\n",
       "      <td>paul shanley expriest convicted rape scandal s...</td>\n",
       "      <td>massachusetts court upholds expriests conviction</td>\n",
       "      <td>associated press</td>\n",
       "      <td>56</td>\n",
       "      <td>5</td>\n",
       "      <td>365</td>\n",
       "      <td>44</td>\n",
       "      <td>6.517857</td>\n",
       "      <td>8.800000</td>\n",
       "      <td>neutral</td>\n",
       "    </tr>\n",
       "    <tr>\n",
       "      <th>1</th>\n",
       "      <td>nytimes</td>\n",
       "      <td>real</td>\n",
       "      <td>federal district judge monitored state prison ...</td>\n",
       "      <td>national briefing southwest texas easing rein ...</td>\n",
       "      <td>yardley yardley</td>\n",
       "      <td>45</td>\n",
       "      <td>7</td>\n",
       "      <td>311</td>\n",
       "      <td>46</td>\n",
       "      <td>6.911111</td>\n",
       "      <td>6.571429</td>\n",
       "      <td>neutral</td>\n",
       "    </tr>\n",
       "    <tr>\n",
       "      <th>2</th>\n",
       "      <td>washingtonpost</td>\n",
       "      <td>real</td>\n",
       "      <td>york host jake tapper apologized onscreen bann...</td>\n",
       "      <td>jake tapper apologize unacceptable banner text</td>\n",
       "      <td>associated press</td>\n",
       "      <td>82</td>\n",
       "      <td>6</td>\n",
       "      <td>609</td>\n",
       "      <td>41</td>\n",
       "      <td>7.426829</td>\n",
       "      <td>6.833333</td>\n",
       "      <td>neutral</td>\n",
       "    </tr>\n",
       "  </tbody>\n",
       "</table>\n",
       "</div>"
      ],
      "text/plain": [
       "           domain  type                                            content  \\\n",
       "0         nytimes  real  paul shanley expriest convicted rape scandal s...   \n",
       "1         nytimes  real  federal district judge monitored state prison ...   \n",
       "2  washingtonpost  real  york host jake tapper apologized onscreen bann...   \n",
       "\n",
       "                                               title           authors  \\\n",
       "0   massachusetts court upholds expriests conviction  associated press   \n",
       "1  national briefing southwest texas easing rein ...   yardley yardley   \n",
       "2     jake tapper apologize unacceptable banner text  associated press   \n",
       "\n",
       "   c_word_count  t_word_count  c_character_count  t_character_count  \\\n",
       "0            56             5                365                 44   \n",
       "1            45             7                311                 46   \n",
       "2            82             6                609                 41   \n",
       "\n",
       "   c_avg_word_length  t_avg_word_length sentiment  \n",
       "0           6.517857           8.800000   neutral  \n",
       "1           6.911111           6.571429   neutral  \n",
       "2           7.426829           6.833333   neutral  "
      ]
     },
     "execution_count": 15,
     "metadata": {},
     "output_type": "execute_result"
    }
   ],
   "source": [
    "%%time\n",
    "df['sentiment'] = df['title'].apply(sentiment_check)\n",
    "df.head(3)"
   ]
  },
  {
   "cell_type": "markdown",
   "metadata": {},
   "source": [
    "## Rename the target column"
   ]
  },
  {
   "cell_type": "code",
   "execution_count": 17,
   "metadata": {
    "ExecuteTime": {
     "end_time": "2021-01-05T06:57:06.370774Z",
     "start_time": "2021-01-05T06:57:06.168779Z"
    }
   },
   "outputs": [],
   "source": [
    "df = df.rename({'type': 'label'}, axis=1)  \n"
   ]
  },
  {
   "cell_type": "markdown",
   "metadata": {},
   "source": [
    "## Rearranged the order of the columns"
   ]
  },
  {
   "cell_type": "code",
   "execution_count": 18,
   "metadata": {
    "ExecuteTime": {
     "end_time": "2021-01-05T06:57:10.790925Z",
     "start_time": "2021-01-05T06:57:10.233908Z"
    }
   },
   "outputs": [
    {
     "data": {
      "text/html": [
       "<div>\n",
       "<style scoped>\n",
       "    .dataframe tbody tr th:only-of-type {\n",
       "        vertical-align: middle;\n",
       "    }\n",
       "\n",
       "    .dataframe tbody tr th {\n",
       "        vertical-align: top;\n",
       "    }\n",
       "\n",
       "    .dataframe thead th {\n",
       "        text-align: right;\n",
       "    }\n",
       "</style>\n",
       "<table border=\"1\" class=\"dataframe\">\n",
       "  <thead>\n",
       "    <tr style=\"text-align: right;\">\n",
       "      <th></th>\n",
       "      <th>domain</th>\n",
       "      <th>title</th>\n",
       "      <th>authors</th>\n",
       "      <th>content</th>\n",
       "      <th>c_word_count</th>\n",
       "      <th>t_word_count</th>\n",
       "      <th>c_character_count</th>\n",
       "      <th>t_character_count</th>\n",
       "      <th>c_avg_word_length</th>\n",
       "      <th>t_avg_word_length</th>\n",
       "      <th>sentiment</th>\n",
       "      <th>label</th>\n",
       "    </tr>\n",
       "  </thead>\n",
       "  <tbody>\n",
       "    <tr>\n",
       "      <th>0</th>\n",
       "      <td>nytimes</td>\n",
       "      <td>massachusetts court upholds expriests conviction</td>\n",
       "      <td>associated press</td>\n",
       "      <td>paul shanley expriest convicted rape scandal s...</td>\n",
       "      <td>56</td>\n",
       "      <td>5</td>\n",
       "      <td>365</td>\n",
       "      <td>44</td>\n",
       "      <td>6.517857</td>\n",
       "      <td>8.800000</td>\n",
       "      <td>neutral</td>\n",
       "      <td>real</td>\n",
       "    </tr>\n",
       "    <tr>\n",
       "      <th>1</th>\n",
       "      <td>nytimes</td>\n",
       "      <td>national briefing southwest texas easing rein ...</td>\n",
       "      <td>yardley yardley</td>\n",
       "      <td>federal district judge monitored state prison ...</td>\n",
       "      <td>45</td>\n",
       "      <td>7</td>\n",
       "      <td>311</td>\n",
       "      <td>46</td>\n",
       "      <td>6.911111</td>\n",
       "      <td>6.571429</td>\n",
       "      <td>neutral</td>\n",
       "      <td>real</td>\n",
       "    </tr>\n",
       "    <tr>\n",
       "      <th>2</th>\n",
       "      <td>washingtonpost</td>\n",
       "      <td>jake tapper apologize unacceptable banner text</td>\n",
       "      <td>associated press</td>\n",
       "      <td>york host jake tapper apologized onscreen bann...</td>\n",
       "      <td>82</td>\n",
       "      <td>6</td>\n",
       "      <td>609</td>\n",
       "      <td>41</td>\n",
       "      <td>7.426829</td>\n",
       "      <td>6.833333</td>\n",
       "      <td>neutral</td>\n",
       "      <td>real</td>\n",
       "    </tr>\n",
       "  </tbody>\n",
       "</table>\n",
       "</div>"
      ],
      "text/plain": [
       "           domain                                              title  \\\n",
       "0         nytimes   massachusetts court upholds expriests conviction   \n",
       "1         nytimes  national briefing southwest texas easing rein ...   \n",
       "2  washingtonpost     jake tapper apologize unacceptable banner text   \n",
       "\n",
       "            authors                                            content  \\\n",
       "0  associated press  paul shanley expriest convicted rape scandal s...   \n",
       "1   yardley yardley  federal district judge monitored state prison ...   \n",
       "2  associated press  york host jake tapper apologized onscreen bann...   \n",
       "\n",
       "   c_word_count  t_word_count  c_character_count  t_character_count  \\\n",
       "0            56             5                365                 44   \n",
       "1            45             7                311                 46   \n",
       "2            82             6                609                 41   \n",
       "\n",
       "   c_avg_word_length  t_avg_word_length sentiment label  \n",
       "0           6.517857           8.800000   neutral  real  \n",
       "1           6.911111           6.571429   neutral  real  \n",
       "2           7.426829           6.833333   neutral  real  "
      ]
     },
     "execution_count": 18,
     "metadata": {},
     "output_type": "execute_result"
    }
   ],
   "source": [
    "df = df[['domain','title','authors','content','c_word_count','t_word_count','c_character_count','t_character_count','c_avg_word_length','t_avg_word_length','sentiment','label']]\n",
    "df.head(3)"
   ]
  },
  {
   "cell_type": "code",
   "execution_count": 19,
   "metadata": {
    "ExecuteTime": {
     "end_time": "2021-01-05T06:57:15.572470Z",
     "start_time": "2021-01-05T06:57:15.129944Z"
    }
   },
   "outputs": [
    {
     "name": "stdout",
     "output_type": "stream",
     "text": [
      "<class 'pandas.core.frame.DataFrame'>\n",
      "RangeIndex: 1090432 entries, 0 to 1090431\n",
      "Data columns (total 12 columns):\n",
      " #   Column             Non-Null Count    Dtype  \n",
      "---  ------             --------------    -----  \n",
      " 0   domain             1090432 non-null  object \n",
      " 1   title              1090432 non-null  object \n",
      " 2   authors            1090432 non-null  object \n",
      " 3   content            1090432 non-null  object \n",
      " 4   c_word_count       1090432 non-null  int64  \n",
      " 5   t_word_count       1090432 non-null  int64  \n",
      " 6   c_character_count  1090432 non-null  int64  \n",
      " 7   t_character_count  1090432 non-null  int64  \n",
      " 8   c_avg_word_length  1090432 non-null  float64\n",
      " 9   t_avg_word_length  1090432 non-null  float64\n",
      " 10  sentiment          1090432 non-null  object \n",
      " 11  label              1090432 non-null  object \n",
      "dtypes: float64(2), int64(4), object(6)\n",
      "memory usage: 99.8+ MB\n"
     ]
    }
   ],
   "source": [
    "df.info()"
   ]
  },
  {
   "cell_type": "code",
   "execution_count": 20,
   "metadata": {
    "ExecuteTime": {
     "end_time": "2021-01-05T06:58:14.889984Z",
     "start_time": "2021-01-05T06:58:14.847999Z"
    }
   },
   "outputs": [
    {
     "data": {
      "text/html": [
       "<div>\n",
       "<style scoped>\n",
       "    .dataframe tbody tr th:only-of-type {\n",
       "        vertical-align: middle;\n",
       "    }\n",
       "\n",
       "    .dataframe tbody tr th {\n",
       "        vertical-align: top;\n",
       "    }\n",
       "\n",
       "    .dataframe thead th {\n",
       "        text-align: right;\n",
       "    }\n",
       "</style>\n",
       "<table border=\"1\" class=\"dataframe\">\n",
       "  <thead>\n",
       "    <tr style=\"text-align: right;\">\n",
       "      <th></th>\n",
       "      <th>domain</th>\n",
       "      <th>title</th>\n",
       "      <th>authors</th>\n",
       "      <th>content</th>\n",
       "      <th>c_word_count</th>\n",
       "      <th>t_word_count</th>\n",
       "      <th>c_character_count</th>\n",
       "      <th>t_character_count</th>\n",
       "      <th>c_avg_word_length</th>\n",
       "      <th>t_avg_word_length</th>\n",
       "      <th>sentiment</th>\n",
       "      <th>label</th>\n",
       "    </tr>\n",
       "  </thead>\n",
       "  <tbody>\n",
       "    <tr>\n",
       "      <th>0</th>\n",
       "      <td>nytimes</td>\n",
       "      <td>massachusetts court upholds expriests conviction</td>\n",
       "      <td>associated press</td>\n",
       "      <td>paul shanley expriest convicted rape scandal s...</td>\n",
       "      <td>56</td>\n",
       "      <td>5</td>\n",
       "      <td>365</td>\n",
       "      <td>44</td>\n",
       "      <td>6.517857</td>\n",
       "      <td>8.800000</td>\n",
       "      <td>neutral</td>\n",
       "      <td>real</td>\n",
       "    </tr>\n",
       "    <tr>\n",
       "      <th>1</th>\n",
       "      <td>nytimes</td>\n",
       "      <td>national briefing southwest texas easing rein ...</td>\n",
       "      <td>yardley yardley</td>\n",
       "      <td>federal district judge monitored state prison ...</td>\n",
       "      <td>45</td>\n",
       "      <td>7</td>\n",
       "      <td>311</td>\n",
       "      <td>46</td>\n",
       "      <td>6.911111</td>\n",
       "      <td>6.571429</td>\n",
       "      <td>neutral</td>\n",
       "      <td>real</td>\n",
       "    </tr>\n",
       "    <tr>\n",
       "      <th>2</th>\n",
       "      <td>washingtonpost</td>\n",
       "      <td>jake tapper apologize unacceptable banner text</td>\n",
       "      <td>associated press</td>\n",
       "      <td>york host jake tapper apologized onscreen bann...</td>\n",
       "      <td>82</td>\n",
       "      <td>6</td>\n",
       "      <td>609</td>\n",
       "      <td>41</td>\n",
       "      <td>7.426829</td>\n",
       "      <td>6.833333</td>\n",
       "      <td>neutral</td>\n",
       "      <td>real</td>\n",
       "    </tr>\n",
       "    <tr>\n",
       "      <th>3</th>\n",
       "      <td>nytimes</td>\n",
       "      <td>three trend asymmetrical harness</td>\n",
       "      <td>angela</td>\n",
       "      <td>photo weve seen plenty unexpected skin london ...</td>\n",
       "      <td>65</td>\n",
       "      <td>4</td>\n",
       "      <td>407</td>\n",
       "      <td>29</td>\n",
       "      <td>6.261538</td>\n",
       "      <td>7.250000</td>\n",
       "      <td>neutral</td>\n",
       "      <td>real</td>\n",
       "    </tr>\n",
       "  </tbody>\n",
       "</table>\n",
       "</div>"
      ],
      "text/plain": [
       "           domain                                              title  \\\n",
       "0         nytimes   massachusetts court upholds expriests conviction   \n",
       "1         nytimes  national briefing southwest texas easing rein ...   \n",
       "2  washingtonpost     jake tapper apologize unacceptable banner text   \n",
       "3         nytimes                   three trend asymmetrical harness   \n",
       "\n",
       "            authors                                            content  \\\n",
       "0  associated press  paul shanley expriest convicted rape scandal s...   \n",
       "1   yardley yardley  federal district judge monitored state prison ...   \n",
       "2  associated press  york host jake tapper apologized onscreen bann...   \n",
       "3            angela  photo weve seen plenty unexpected skin london ...   \n",
       "\n",
       "   c_word_count  t_word_count  c_character_count  t_character_count  \\\n",
       "0            56             5                365                 44   \n",
       "1            45             7                311                 46   \n",
       "2            82             6                609                 41   \n",
       "3            65             4                407                 29   \n",
       "\n",
       "   c_avg_word_length  t_avg_word_length sentiment label  \n",
       "0           6.517857           8.800000   neutral  real  \n",
       "1           6.911111           6.571429   neutral  real  \n",
       "2           7.426829           6.833333   neutral  real  \n",
       "3           6.261538           7.250000   neutral  real  "
      ]
     },
     "execution_count": 20,
     "metadata": {},
     "output_type": "execute_result"
    }
   ],
   "source": [
    "df.head(4)"
   ]
  },
  {
   "cell_type": "markdown",
   "metadata": {},
   "source": [
    "## Saving the preprocessed dataframe to csv"
   ]
  },
  {
   "cell_type": "code",
   "execution_count": 21,
   "metadata": {
    "ExecuteTime": {
     "end_time": "2021-01-05T06:58:37.002805Z",
     "start_time": "2021-01-05T06:58:36.986791Z"
    }
   },
   "outputs": [],
   "source": [
    "# path to save the preprocessed csv file\n",
    "file_path = r\"C:\\Users\\lanre\\Documents\\data_science\\capstone-preprocessed.csv\""
   ]
  },
  {
   "cell_type": "code",
   "execution_count": 22,
   "metadata": {
    "ExecuteTime": {
     "end_time": "2021-01-05T07:00:16.063065Z",
     "start_time": "2021-01-05T06:58:58.229765Z"
    }
   },
   "outputs": [],
   "source": [
    "df.to_csv(file_path, index=False)"
   ]
  },
  {
   "cell_type": "code",
   "execution_count": null,
   "metadata": {},
   "outputs": [],
   "source": []
  }
 ],
 "metadata": {
  "kernelspec": {
   "display_name": "Python 3",
   "language": "python",
   "name": "python3"
  },
  "language_info": {
   "codemirror_mode": {
    "name": "ipython",
    "version": 3
   },
   "file_extension": ".py",
   "mimetype": "text/x-python",
   "name": "python",
   "nbconvert_exporter": "python",
   "pygments_lexer": "ipython3",
   "version": "3.8.5"
  }
 },
 "nbformat": 4,
 "nbformat_minor": 4
}
