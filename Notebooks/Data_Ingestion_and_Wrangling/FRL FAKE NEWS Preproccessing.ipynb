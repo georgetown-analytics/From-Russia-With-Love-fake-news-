{
 "cells": [
  {
   "cell_type": "markdown",
   "metadata": {},
   "source": [
    "# FRL Fake News Capstone Notebook part 2"
   ]
  },
  {
   "cell_type": "code",
   "execution_count": 1,
   "metadata": {
    "ExecuteTime": {
     "end_time": "2020-11-23T19:08:31.598957Z",
     "start_time": "2020-11-23T19:08:21.359086Z"
    }
   },
   "outputs": [],
   "source": [
    "#import all needed libraries and perform required configuration setup\n",
    "import pandas as pd\n",
    "import matplotlib.pyplot as plt\n",
    "import numpy as np\n",
    "import seaborn as sns\n",
    "import re\n",
    "import tldextract\n",
    "import string\n",
    "import spacy\n",
    "from spacy.lang import punctuation\n",
    "import unicodedata  # might need to pip install unicodedate2 on aws sagemaker\n",
    "from contractions import CONTRACTION_DICT # need to have the contractions.py file copied to your path\n",
    "from wordcloud import WordCloud, STOPWORDS\n",
    "import nltk\n",
    "from nltk.corpus import stopwords\n",
    "from nltk.stem import WordNetLemmatizer\n",
    "from nltk import FreqDist\n",
    "from nltk import word_tokenize\n",
    "from nltk.stem.wordnet import WordNetLemmatizer\n",
    "from nltk.util import ngrams\n",
    "from collections import defaultdict\n",
    "from collections import Counter\n",
    "from sklearn.preprocessing import OneHotEncoder\n",
    "from sklearn.compose import ColumnTransformer\n",
    "from sklearn.feature_extraction.text import CountVectorizer, TfidfVectorizer\n",
    "from sklearn.model_selection import train_test_split \n",
    "from sklearn.preprocessing import LabelEncoder\n",
    "from sklearn.neighbors import KNeighborsClassifier \n",
    "from sklearn.svm import SVC \n",
    "from sklearn.gaussian_process import GaussianProcessClassifier \n",
    "from sklearn.gaussian_process.kernels import RBF \n",
    "from sklearn.tree import DecisionTreeClassifier \n",
    "from sklearn.ensemble import RandomForestClassifier, AdaBoostClassifier \n",
    "from sklearn.neural_network import MLPClassifier \n",
    "from sklearn.naive_bayes import GaussianNB \n",
    "from sklearn.discriminant_analysis import QuadraticDiscriminantAnalysis \n",
    "from sklearn.metrics import accuracy_score, classification_report\n",
    "from sklearn.pipeline import Pipeline\n",
    "from sklearn.metrics import make_scorer\n",
    "from sklearn.metrics import precision_score\n",
    "from sklearn.metrics import recall_score\n",
    "from sklearn.metrics import f1_score\n",
    "from sklearn.model_selection import cross_val_score\n",
    "from sklearn.model_selection import KFold\n",
    "from sklearn.model_selection import cross_validate\n",
    "import gensim\n",
    "from gensim.models import word2vec\n",
    "from gensim.models.fasttext import FastText\n",
    "from gensim.utils import simple_preprocess\n",
    "from gensim.parsing.preprocessing import preprocess_string\n",
    "from gensim.parsing.preprocessing import STOPWORDS\n",
    "\n",
    "\n",
    "import warnings\n",
    "warnings.filterwarnings('ignore')\n",
    "\n",
    "%matplotlib inline\n",
    "sns.set(style='darkgrid',palette='Dark2',rc={'figure.figsize':(9,6),'figure.dpi':90})\n",
    "\n",
    "punctuation = string.punctuation + '”' + '“' + '–' + '““' + \"’’\" + '”'\n",
    "stopword = stopwords.words('english')\n",
    "stopwords = set(STOPWORDS)\n",
    "wordnet_lemmatizer = WordNetLemmatizer()\n",
    "\n",
    "nlp = spacy.load('en',parse=True,tag=True, entity=True)\n",
    "# if you get error from the above , you will need to install the following to stage the proper file:\n",
    "#python -m spacy download en_core_web_sm\n",
    "#python -m spacy download en"
   ]
  },
  {
   "cell_type": "code",
   "execution_count": 2,
   "metadata": {
    "ExecuteTime": {
     "end_time": "2020-11-23T19:08:50.222145Z",
     "start_time": "2020-11-23T19:08:50.207144Z"
    }
   },
   "outputs": [],
   "source": [
    "#set a random seed\n",
    "seed = 500"
   ]
  },
  {
   "cell_type": "markdown",
   "metadata": {},
   "source": [
    "## Reading in the precleaned fake news corpus "
   ]
  },
  {
   "cell_type": "code",
   "execution_count": 3,
   "metadata": {
    "ExecuteTime": {
     "end_time": "2020-11-23T19:10:01.996867Z",
     "start_time": "2020-11-23T19:08:53.918120Z"
    }
   },
   "outputs": [
    {
     "data": {
      "text/html": [
       "<div>\n",
       "<style scoped>\n",
       "    .dataframe tbody tr th:only-of-type {\n",
       "        vertical-align: middle;\n",
       "    }\n",
       "\n",
       "    .dataframe tbody tr th {\n",
       "        vertical-align: top;\n",
       "    }\n",
       "\n",
       "    .dataframe thead th {\n",
       "        text-align: right;\n",
       "    }\n",
       "</style>\n",
       "<table border=\"1\" class=\"dataframe\">\n",
       "  <thead>\n",
       "    <tr style=\"text-align: right;\">\n",
       "      <th></th>\n",
       "      <th>Unnamed: 0</th>\n",
       "      <th>domain</th>\n",
       "      <th>type</th>\n",
       "      <th>content</th>\n",
       "      <th>scraped_at</th>\n",
       "      <th>title</th>\n",
       "      <th>label</th>\n",
       "    </tr>\n",
       "  </thead>\n",
       "  <tbody>\n",
       "    <tr>\n",
       "      <th>0</th>\n",
       "      <td>7766484</td>\n",
       "      <td>nytimes.com</td>\n",
       "      <td>reliable</td>\n",
       "      <td>One month after a three-judge panel of a feder...</td>\n",
       "      <td>2018-02-11 00:42:14.935145+00:00</td>\n",
       "      <td>Appeal of Challenge to ‘No Child’ Law</td>\n",
       "      <td>real</td>\n",
       "    </tr>\n",
       "    <tr>\n",
       "      <th>1</th>\n",
       "      <td>6845267</td>\n",
       "      <td>www.yahoo.com</td>\n",
       "      <td>reliable</td>\n",
       "      <td>STOCKHOLM (Reuters) - Sweden will seek assuran...</td>\n",
       "      <td>2016-11-11 14:16:53.754000+00:00</td>\n",
       "      <td>Sweden seek assurances from Trump regarding de...</td>\n",
       "      <td>real</td>\n",
       "    </tr>\n",
       "    <tr>\n",
       "      <th>2</th>\n",
       "      <td>8102733</td>\n",
       "      <td>nytimes.com</td>\n",
       "      <td>reliable</td>\n",
       "      <td>But this week, the bus’s practices gained wide...</td>\n",
       "      <td>2018-02-11 00:45:31.225957+00:00</td>\n",
       "      <td>At Front of Brooklyn Bus, a Clash of Religious...</td>\n",
       "      <td>real</td>\n",
       "    </tr>\n",
       "    <tr>\n",
       "      <th>3</th>\n",
       "      <td>6917956</td>\n",
       "      <td>www.yahoo.com</td>\n",
       "      <td>reliable</td>\n",
       "      <td>BEIRUT (AP) — The Latest on developments in Sy...</td>\n",
       "      <td>2016-11-08 03:28:07.118000+00:00</td>\n",
       "      <td>The Latest: Turkey: Use of Kurds against IS 'n...</td>\n",
       "      <td>real</td>\n",
       "    </tr>\n",
       "    <tr>\n",
       "      <th>4</th>\n",
       "      <td>6965379</td>\n",
       "      <td>www.sfgate.com</td>\n",
       "      <td>reliable</td>\n",
       "      <td>Hot-shooting Tennessee Tech routs Alabama A&amp;M ...</td>\n",
       "      <td>2016-11-18 22:38:10.550000+00:00</td>\n",
       "      <td>Hot-shooting Tennessee Tech routs Alabama A&amp;M ...</td>\n",
       "      <td>real</td>\n",
       "    </tr>\n",
       "  </tbody>\n",
       "</table>\n",
       "</div>"
      ],
      "text/plain": [
       "   Unnamed: 0          domain      type  \\\n",
       "0     7766484     nytimes.com  reliable   \n",
       "1     6845267   www.yahoo.com  reliable   \n",
       "2     8102733     nytimes.com  reliable   \n",
       "3     6917956   www.yahoo.com  reliable   \n",
       "4     6965379  www.sfgate.com  reliable   \n",
       "\n",
       "                                             content  \\\n",
       "0  One month after a three-judge panel of a feder...   \n",
       "1  STOCKHOLM (Reuters) - Sweden will seek assuran...   \n",
       "2  But this week, the bus’s practices gained wide...   \n",
       "3  BEIRUT (AP) — The Latest on developments in Sy...   \n",
       "4  Hot-shooting Tennessee Tech routs Alabama A&M ...   \n",
       "\n",
       "                         scraped_at  \\\n",
       "0  2018-02-11 00:42:14.935145+00:00   \n",
       "1  2016-11-11 14:16:53.754000+00:00   \n",
       "2  2018-02-11 00:45:31.225957+00:00   \n",
       "3  2016-11-08 03:28:07.118000+00:00   \n",
       "4  2016-11-18 22:38:10.550000+00:00   \n",
       "\n",
       "                                               title label  \n",
       "0              Appeal of Challenge to ‘No Child’ Law  real  \n",
       "1  Sweden seek assurances from Trump regarding de...  real  \n",
       "2  At Front of Brooklyn Bus, a Clash of Religious...  real  \n",
       "3  The Latest: Turkey: Use of Kurds against IS 'n...  real  \n",
       "4  Hot-shooting Tennessee Tech routs Alabama A&M ...  real  "
      ]
     },
     "execution_count": 3,
     "metadata": {},
     "output_type": "execute_result"
    }
   ],
   "source": [
    "# Import the data\n",
    "df = pd.read_csv(r\"C:\\Users\\lanre\\Documents\\data_science\\cleaned_frl_fake2.csv\")\n",
    "df.head()"
   ]
  },
  {
   "cell_type": "markdown",
   "metadata": {},
   "source": [
    "## Dropping the unneeded columns "
   ]
  },
  {
   "cell_type": "code",
   "execution_count": 4,
   "metadata": {
    "ExecuteTime": {
     "end_time": "2020-11-23T19:10:15.449063Z",
     "start_time": "2020-11-23T19:10:15.194066Z"
    }
   },
   "outputs": [
    {
     "data": {
      "text/html": [
       "<div>\n",
       "<style scoped>\n",
       "    .dataframe tbody tr th:only-of-type {\n",
       "        vertical-align: middle;\n",
       "    }\n",
       "\n",
       "    .dataframe tbody tr th {\n",
       "        vertical-align: top;\n",
       "    }\n",
       "\n",
       "    .dataframe thead th {\n",
       "        text-align: right;\n",
       "    }\n",
       "</style>\n",
       "<table border=\"1\" class=\"dataframe\">\n",
       "  <thead>\n",
       "    <tr style=\"text-align: right;\">\n",
       "      <th></th>\n",
       "      <th>domain</th>\n",
       "      <th>content</th>\n",
       "      <th>scraped_at</th>\n",
       "      <th>title</th>\n",
       "      <th>label</th>\n",
       "    </tr>\n",
       "  </thead>\n",
       "  <tbody>\n",
       "    <tr>\n",
       "      <th>0</th>\n",
       "      <td>nytimes.com</td>\n",
       "      <td>One month after a three-judge panel of a feder...</td>\n",
       "      <td>2018-02-11 00:42:14.935145+00:00</td>\n",
       "      <td>Appeal of Challenge to ‘No Child’ Law</td>\n",
       "      <td>real</td>\n",
       "    </tr>\n",
       "    <tr>\n",
       "      <th>1</th>\n",
       "      <td>www.yahoo.com</td>\n",
       "      <td>STOCKHOLM (Reuters) - Sweden will seek assuran...</td>\n",
       "      <td>2016-11-11 14:16:53.754000+00:00</td>\n",
       "      <td>Sweden seek assurances from Trump regarding de...</td>\n",
       "      <td>real</td>\n",
       "    </tr>\n",
       "    <tr>\n",
       "      <th>2</th>\n",
       "      <td>nytimes.com</td>\n",
       "      <td>But this week, the bus’s practices gained wide...</td>\n",
       "      <td>2018-02-11 00:45:31.225957+00:00</td>\n",
       "      <td>At Front of Brooklyn Bus, a Clash of Religious...</td>\n",
       "      <td>real</td>\n",
       "    </tr>\n",
       "    <tr>\n",
       "      <th>3</th>\n",
       "      <td>www.yahoo.com</td>\n",
       "      <td>BEIRUT (AP) — The Latest on developments in Sy...</td>\n",
       "      <td>2016-11-08 03:28:07.118000+00:00</td>\n",
       "      <td>The Latest: Turkey: Use of Kurds against IS 'n...</td>\n",
       "      <td>real</td>\n",
       "    </tr>\n",
       "    <tr>\n",
       "      <th>4</th>\n",
       "      <td>www.sfgate.com</td>\n",
       "      <td>Hot-shooting Tennessee Tech routs Alabama A&amp;M ...</td>\n",
       "      <td>2016-11-18 22:38:10.550000+00:00</td>\n",
       "      <td>Hot-shooting Tennessee Tech routs Alabama A&amp;M ...</td>\n",
       "      <td>real</td>\n",
       "    </tr>\n",
       "  </tbody>\n",
       "</table>\n",
       "</div>"
      ],
      "text/plain": [
       "           domain                                            content  \\\n",
       "0     nytimes.com  One month after a three-judge panel of a feder...   \n",
       "1   www.yahoo.com  STOCKHOLM (Reuters) - Sweden will seek assuran...   \n",
       "2     nytimes.com  But this week, the bus’s practices gained wide...   \n",
       "3   www.yahoo.com  BEIRUT (AP) — The Latest on developments in Sy...   \n",
       "4  www.sfgate.com  Hot-shooting Tennessee Tech routs Alabama A&M ...   \n",
       "\n",
       "                         scraped_at  \\\n",
       "0  2018-02-11 00:42:14.935145+00:00   \n",
       "1  2016-11-11 14:16:53.754000+00:00   \n",
       "2  2018-02-11 00:45:31.225957+00:00   \n",
       "3  2016-11-08 03:28:07.118000+00:00   \n",
       "4  2016-11-18 22:38:10.550000+00:00   \n",
       "\n",
       "                                               title label  \n",
       "0              Appeal of Challenge to ‘No Child’ Law  real  \n",
       "1  Sweden seek assurances from Trump regarding de...  real  \n",
       "2  At Front of Brooklyn Bus, a Clash of Religious...  real  \n",
       "3  The Latest: Turkey: Use of Kurds against IS 'n...  real  \n",
       "4  Hot-shooting Tennessee Tech routs Alabama A&M ...  real  "
      ]
     },
     "execution_count": 4,
     "metadata": {},
     "output_type": "execute_result"
    }
   ],
   "source": [
    "# list of columns to drop from the datasets\n",
    "cols_to_drop = ['Unnamed: 0', 'type']\n",
    "\n",
    "# drop the columns and check the memory usage\n",
    "df.drop(cols_to_drop, axis=1, inplace=True)\n",
    "df.head()"
   ]
  },
  {
   "cell_type": "code",
   "execution_count": 5,
   "metadata": {
    "ExecuteTime": {
     "end_time": "2020-11-23T19:10:19.926111Z",
     "start_time": "2020-11-23T19:10:19.887115Z"
    }
   },
   "outputs": [
    {
     "name": "stdout",
     "output_type": "stream",
     "text": [
      "<class 'pandas.core.frame.DataFrame'>\n",
      "RangeIndex: 1788000 entries, 0 to 1787999\n",
      "Data columns (total 5 columns):\n",
      " #   Column      Dtype \n",
      "---  ------      ----- \n",
      " 0   domain      object\n",
      " 1   content     object\n",
      " 2   scraped_at  object\n",
      " 3   title       object\n",
      " 4   label       object\n",
      "dtypes: object(5)\n",
      "memory usage: 68.2+ MB\n"
     ]
    }
   ],
   "source": [
    "df.info()"
   ]
  },
  {
   "cell_type": "markdown",
   "metadata": {},
   "source": [
    "## Changing dtypes of some columns"
   ]
  },
  {
   "cell_type": "code",
   "execution_count": 6,
   "metadata": {
    "ExecuteTime": {
     "end_time": "2020-11-23T19:10:35.754835Z",
     "start_time": "2020-11-23T19:10:32.006934Z"
    }
   },
   "outputs": [
    {
     "name": "stdout",
     "output_type": "stream",
     "text": [
      "<class 'pandas.core.frame.DataFrame'>\n",
      "RangeIndex: 1788000 entries, 0 to 1787999\n",
      "Data columns (total 5 columns):\n",
      " #   Column      Dtype              \n",
      "---  ------      -----              \n",
      " 0   domain      category           \n",
      " 1   content     object             \n",
      " 2   scraped_at  datetime64[ns, UTC]\n",
      " 3   title       object             \n",
      " 4   label       object             \n",
      "dtypes: category(1), datetime64[ns, UTC](1), object(3)\n",
      "memory usage: 58.0+ MB\n"
     ]
    }
   ],
   "source": [
    "df['domain'] = df['domain'].astype('category')\n",
    "df['scraped_at'] = pd.to_datetime(df['scraped_at'], utc=True)\n",
    "df.info()"
   ]
  },
  {
   "cell_type": "code",
   "execution_count": 7,
   "metadata": {
    "ExecuteTime": {
     "end_time": "2020-11-23T19:10:45.194938Z",
     "start_time": "2020-11-23T19:10:45.172918Z"
    }
   },
   "outputs": [],
   "source": [
    "# checking missing values\n",
    "def missing_value(df):\n",
    "    \"\"\"\" Function to calculate the number and percent of missing values in a dataframe\"\"\"\n",
    "    total = df.isnull().sum().sort_values(ascending=False)\n",
    "    percent = ((df.isnull().sum()/df.isnull().count())*100).sort_values(ascending=False)\n",
    "    missing_value = pd.concat([total, percent], axis=1, keys=['Total','Percent'])\n",
    "    return missing_value"
   ]
  },
  {
   "cell_type": "code",
   "execution_count": 8,
   "metadata": {
    "ExecuteTime": {
     "end_time": "2020-11-23T19:10:50.896720Z",
     "start_time": "2020-11-23T19:10:48.712720Z"
    }
   },
   "outputs": [
    {
     "data": {
      "text/html": [
       "<div>\n",
       "<style scoped>\n",
       "    .dataframe tbody tr th:only-of-type {\n",
       "        vertical-align: middle;\n",
       "    }\n",
       "\n",
       "    .dataframe tbody tr th {\n",
       "        vertical-align: top;\n",
       "    }\n",
       "\n",
       "    .dataframe thead th {\n",
       "        text-align: right;\n",
       "    }\n",
       "</style>\n",
       "<table border=\"1\" class=\"dataframe\">\n",
       "  <thead>\n",
       "    <tr style=\"text-align: right;\">\n",
       "      <th></th>\n",
       "      <th>Total</th>\n",
       "      <th>Percent</th>\n",
       "    </tr>\n",
       "  </thead>\n",
       "  <tbody>\n",
       "    <tr>\n",
       "      <th>label</th>\n",
       "      <td>0</td>\n",
       "      <td>0.0</td>\n",
       "    </tr>\n",
       "    <tr>\n",
       "      <th>title</th>\n",
       "      <td>0</td>\n",
       "      <td>0.0</td>\n",
       "    </tr>\n",
       "    <tr>\n",
       "      <th>scraped_at</th>\n",
       "      <td>0</td>\n",
       "      <td>0.0</td>\n",
       "    </tr>\n",
       "    <tr>\n",
       "      <th>content</th>\n",
       "      <td>0</td>\n",
       "      <td>0.0</td>\n",
       "    </tr>\n",
       "    <tr>\n",
       "      <th>domain</th>\n",
       "      <td>0</td>\n",
       "      <td>0.0</td>\n",
       "    </tr>\n",
       "  </tbody>\n",
       "</table>\n",
       "</div>"
      ],
      "text/plain": [
       "            Total  Percent\n",
       "label           0      0.0\n",
       "title           0      0.0\n",
       "scraped_at      0      0.0\n",
       "content         0      0.0\n",
       "domain          0      0.0"
      ]
     },
     "execution_count": 8,
     "metadata": {},
     "output_type": "execute_result"
    }
   ],
   "source": [
    "missing_value(df)"
   ]
  },
  {
   "cell_type": "markdown",
   "metadata": {},
   "source": [
    "### Extract day name from `scraped_at` column"
   ]
  },
  {
   "cell_type": "code",
   "execution_count": 9,
   "metadata": {
    "ExecuteTime": {
     "end_time": "2020-11-23T19:10:56.816755Z",
     "start_time": "2020-11-23T19:10:55.558755Z"
    }
   },
   "outputs": [
    {
     "data": {
      "text/html": [
       "<div>\n",
       "<style scoped>\n",
       "    .dataframe tbody tr th:only-of-type {\n",
       "        vertical-align: middle;\n",
       "    }\n",
       "\n",
       "    .dataframe tbody tr th {\n",
       "        vertical-align: top;\n",
       "    }\n",
       "\n",
       "    .dataframe thead th {\n",
       "        text-align: right;\n",
       "    }\n",
       "</style>\n",
       "<table border=\"1\" class=\"dataframe\">\n",
       "  <thead>\n",
       "    <tr style=\"text-align: right;\">\n",
       "      <th></th>\n",
       "      <th>domain</th>\n",
       "      <th>content</th>\n",
       "      <th>scraped_at</th>\n",
       "      <th>title</th>\n",
       "      <th>label</th>\n",
       "      <th>day_name</th>\n",
       "    </tr>\n",
       "  </thead>\n",
       "  <tbody>\n",
       "    <tr>\n",
       "      <th>0</th>\n",
       "      <td>nytimes.com</td>\n",
       "      <td>One month after a three-judge panel of a feder...</td>\n",
       "      <td>2018-02-11 00:42:14.935145+00:00</td>\n",
       "      <td>Appeal of Challenge to ‘No Child’ Law</td>\n",
       "      <td>real</td>\n",
       "      <td>Sunday</td>\n",
       "    </tr>\n",
       "    <tr>\n",
       "      <th>1</th>\n",
       "      <td>www.yahoo.com</td>\n",
       "      <td>STOCKHOLM (Reuters) - Sweden will seek assuran...</td>\n",
       "      <td>2016-11-11 14:16:53.754000+00:00</td>\n",
       "      <td>Sweden seek assurances from Trump regarding de...</td>\n",
       "      <td>real</td>\n",
       "      <td>Friday</td>\n",
       "    </tr>\n",
       "    <tr>\n",
       "      <th>2</th>\n",
       "      <td>nytimes.com</td>\n",
       "      <td>But this week, the bus’s practices gained wide...</td>\n",
       "      <td>2018-02-11 00:45:31.225957+00:00</td>\n",
       "      <td>At Front of Brooklyn Bus, a Clash of Religious...</td>\n",
       "      <td>real</td>\n",
       "      <td>Sunday</td>\n",
       "    </tr>\n",
       "  </tbody>\n",
       "</table>\n",
       "</div>"
      ],
      "text/plain": [
       "          domain                                            content  \\\n",
       "0    nytimes.com  One month after a three-judge panel of a feder...   \n",
       "1  www.yahoo.com  STOCKHOLM (Reuters) - Sweden will seek assuran...   \n",
       "2    nytimes.com  But this week, the bus’s practices gained wide...   \n",
       "\n",
       "                        scraped_at  \\\n",
       "0 2018-02-11 00:42:14.935145+00:00   \n",
       "1 2016-11-11 14:16:53.754000+00:00   \n",
       "2 2018-02-11 00:45:31.225957+00:00   \n",
       "\n",
       "                                               title label day_name  \n",
       "0              Appeal of Challenge to ‘No Child’ Law  real   Sunday  \n",
       "1  Sweden seek assurances from Trump regarding de...  real   Friday  \n",
       "2  At Front of Brooklyn Bus, a Clash of Religious...  real   Sunday  "
      ]
     },
     "execution_count": 9,
     "metadata": {},
     "output_type": "execute_result"
    }
   ],
   "source": [
    "df['day_name'] = df['scraped_at'].dt.day_name()\n",
    "df.head(3)"
   ]
  },
  {
   "cell_type": "markdown",
   "metadata": {},
   "source": [
    "## Clean up the domain and check the unique domains"
   ]
  },
  {
   "cell_type": "code",
   "execution_count": 10,
   "metadata": {
    "ExecuteTime": {
     "end_time": "2020-11-23T19:11:03.042304Z",
     "start_time": "2020-11-23T19:11:03.032306Z"
    }
   },
   "outputs": [],
   "source": [
    "def extract_domain(url):\n",
    "    \"\"\"\n",
    "    Extract domain name from fld url\n",
    "    \"\"\"\n",
    "    info = tldextract.extract(url)\n",
    "    return info.domain"
   ]
  },
  {
   "cell_type": "code",
   "execution_count": 11,
   "metadata": {
    "ExecuteTime": {
     "end_time": "2020-11-23T19:11:26.494584Z",
     "start_time": "2020-11-23T19:11:08.683986Z"
    }
   },
   "outputs": [
    {
     "data": {
      "text/html": [
       "<div>\n",
       "<style scoped>\n",
       "    .dataframe tbody tr th:only-of-type {\n",
       "        vertical-align: middle;\n",
       "    }\n",
       "\n",
       "    .dataframe tbody tr th {\n",
       "        vertical-align: top;\n",
       "    }\n",
       "\n",
       "    .dataframe thead th {\n",
       "        text-align: right;\n",
       "    }\n",
       "</style>\n",
       "<table border=\"1\" class=\"dataframe\">\n",
       "  <thead>\n",
       "    <tr style=\"text-align: right;\">\n",
       "      <th></th>\n",
       "      <th>domain</th>\n",
       "      <th>content</th>\n",
       "      <th>scraped_at</th>\n",
       "      <th>title</th>\n",
       "      <th>label</th>\n",
       "      <th>day_name</th>\n",
       "    </tr>\n",
       "  </thead>\n",
       "  <tbody>\n",
       "    <tr>\n",
       "      <th>0</th>\n",
       "      <td>nytimes</td>\n",
       "      <td>One month after a three-judge panel of a feder...</td>\n",
       "      <td>2018-02-11 00:42:14.935145+00:00</td>\n",
       "      <td>Appeal of Challenge to ‘No Child’ Law</td>\n",
       "      <td>real</td>\n",
       "      <td>Sunday</td>\n",
       "    </tr>\n",
       "    <tr>\n",
       "      <th>1</th>\n",
       "      <td>yahoo</td>\n",
       "      <td>STOCKHOLM (Reuters) - Sweden will seek assuran...</td>\n",
       "      <td>2016-11-11 14:16:53.754000+00:00</td>\n",
       "      <td>Sweden seek assurances from Trump regarding de...</td>\n",
       "      <td>real</td>\n",
       "      <td>Friday</td>\n",
       "    </tr>\n",
       "    <tr>\n",
       "      <th>2</th>\n",
       "      <td>nytimes</td>\n",
       "      <td>But this week, the bus’s practices gained wide...</td>\n",
       "      <td>2018-02-11 00:45:31.225957+00:00</td>\n",
       "      <td>At Front of Brooklyn Bus, a Clash of Religious...</td>\n",
       "      <td>real</td>\n",
       "      <td>Sunday</td>\n",
       "    </tr>\n",
       "  </tbody>\n",
       "</table>\n",
       "</div>"
      ],
      "text/plain": [
       "    domain                                            content  \\\n",
       "0  nytimes  One month after a three-judge panel of a feder...   \n",
       "1    yahoo  STOCKHOLM (Reuters) - Sweden will seek assuran...   \n",
       "2  nytimes  But this week, the bus’s practices gained wide...   \n",
       "\n",
       "                        scraped_at  \\\n",
       "0 2018-02-11 00:42:14.935145+00:00   \n",
       "1 2016-11-11 14:16:53.754000+00:00   \n",
       "2 2018-02-11 00:45:31.225957+00:00   \n",
       "\n",
       "                                               title label day_name  \n",
       "0              Appeal of Challenge to ‘No Child’ Law  real   Sunday  \n",
       "1  Sweden seek assurances from Trump regarding de...  real   Friday  \n",
       "2  At Front of Brooklyn Bus, a Clash of Religious...  real   Sunday  "
      ]
     },
     "execution_count": 11,
     "metadata": {},
     "output_type": "execute_result"
    }
   ],
   "source": [
    "df['domain'] = df['domain'].astype(str).apply(extract_domain)\n",
    "df.head(3)"
   ]
  },
  {
   "cell_type": "markdown",
   "metadata": {},
   "source": [
    "## Unique domain counts"
   ]
  },
  {
   "cell_type": "code",
   "execution_count": 12,
   "metadata": {
    "ExecuteTime": {
     "end_time": "2020-11-23T19:11:46.812897Z",
     "start_time": "2020-11-23T19:11:45.620175Z"
    }
   },
   "outputs": [
    {
     "data": {
      "text/plain": [
       "<AxesSubplot:title={'center':'Distribution of the number of articles from first 25 domains'}>"
      ]
     },
     "execution_count": 12,
     "metadata": {},
     "output_type": "execute_result"
    },
    {
     "data": {
      "image/png": "[encoded data removed]",
      "text/plain": [
       "<Figure size 810x540 with 1 Axes>"
      ]
     },
     "metadata": {},
     "output_type": "display_data"
    }
   ],
   "source": [
    "df.domain.value_counts(ascending=False).head(25).plot.barh(title='Distribution of the number of articles from first 25 domains')"
   ]
  },
  {
   "cell_type": "code",
   "execution_count": 13,
   "metadata": {
    "ExecuteTime": {
     "end_time": "2020-11-23T19:12:04.194380Z",
     "start_time": "2020-11-23T19:12:02.497374Z"
    }
   },
   "outputs": [
    {
     "data": {
      "text/plain": [
       "<AxesSubplot:title={'center':'Distribution of domain with fake label'}>"
      ]
     },
     "execution_count": 13,
     "metadata": {},
     "output_type": "execute_result"
    },
    {
     "data": {
      "image/png": "[encoded data removed]",
      "text/plain": [
       "<Figure size 810x540 with 1 Axes>"
      ]
     },
     "metadata": {},
     "output_type": "display_data"
    }
   ],
   "source": [
    "# Class fake\n",
    "f_df = df[df['label']=='fake']\n",
    "f_df['domain'].value_counts(ascending=False).head(10).plot.barh(title='Distribution of domain with fake label')"
   ]
  },
  {
   "cell_type": "code",
   "execution_count": 14,
   "metadata": {
    "ExecuteTime": {
     "end_time": "2020-11-23T19:12:08.128186Z",
     "start_time": "2020-11-23T19:12:07.334182Z"
    }
   },
   "outputs": [
    {
     "data": {
      "image/png": "[encoded data removed]",
      "text/plain": [
       "<Figure size 810x540 with 1 Axes>"
      ]
     },
     "metadata": {},
     "output_type": "display_data"
    }
   ],
   "source": [
    "r_df = df[df['label']=='real']\n",
    "r_df['domain'].value_counts(ascending=False).head(10).plot.barh(title='Distribution of domain with real label');"
   ]
  },
  {
   "cell_type": "code",
   "execution_count": 15,
   "metadata": {
    "ExecuteTime": {
     "end_time": "2020-11-23T19:12:11.022724Z",
     "start_time": "2020-11-23T19:12:10.843711Z"
    }
   },
   "outputs": [],
   "source": [
    "del f_df\n",
    "del r_df"
   ]
  },
  {
   "cell_type": "markdown",
   "metadata": {},
   "source": [
    "### Unique count of day of the week"
   ]
  },
  {
   "cell_type": "code",
   "execution_count": 16,
   "metadata": {
    "ExecuteTime": {
     "end_time": "2020-11-23T19:12:17.221543Z",
     "start_time": "2020-11-23T19:12:15.560355Z"
    }
   },
   "outputs": [
    {
     "data": {
      "image/png": "[encoded data removed]",
      "text/plain": [
       "<Figure size 810x540 with 1 Axes>"
      ]
     },
     "metadata": {},
     "output_type": "display_data"
    }
   ],
   "source": [
    "sns.countplot(x='day_name', data=df).set_title('Distribution of the day name');"
   ]
  },
  {
   "cell_type": "markdown",
   "metadata": {},
   "source": [
    "## Distribution of type of news article in the  label columns of the corpus"
   ]
  },
  {
   "cell_type": "code",
   "execution_count": 17,
   "metadata": {
    "ExecuteTime": {
     "end_time": "2020-11-23T19:12:47.030596Z",
     "start_time": "2020-11-23T19:12:45.693592Z"
    }
   },
   "outputs": [
    {
     "data": {
      "image/png": "[encoded data removed]",
      "text/plain": [
       "<Figure size 810x540 with 1 Axes>"
      ]
     },
     "metadata": {},
     "output_type": "display_data"
    }
   ],
   "source": [
    "sns.countplot(x='label', data=df).set_title('Distribution of label');"
   ]
  },
  {
   "cell_type": "markdown",
   "metadata": {},
   "source": [
    "## Explore fundamental characteristics of text in the title and content columns"
   ]
  },
  {
   "cell_type": "code",
   "execution_count": 18,
   "metadata": {
    "ExecuteTime": {
     "end_time": "2020-11-23T19:12:52.620884Z",
     "start_time": "2020-11-23T19:12:52.606887Z"
    }
   },
   "outputs": [
    {
     "name": "stdout",
     "output_type": "stream",
     "text": [
      "Title 1:\n",
      " Appeal of Challenge to ‘No Child’ Law \n",
      "\n",
      "Title 2:\n",
      " Sweden seek assurances from Trump regarding defense agreement \n",
      "\n",
      "Title 3:\n",
      " At Front of Brooklyn Bus, a Clash of Religious and Women’s Rights \n",
      "\n",
      "Title 4:\n",
      " The Latest: Turkey: Use of Kurds against IS 'naive' \n",
      "\n",
      "Title 5:\n",
      " Hot-shooting Tennessee Tech routs Alabama A&M 95-61 - SFGate \n",
      "\n"
     ]
    }
   ],
   "source": [
    "#Taking a look at some few rows in the title\n",
    "for index,text in enumerate(df['title'][0:5]):\n",
    "    print('Title %d:\\n'%(index+1),text, '\\n')"
   ]
  },
  {
   "cell_type": "code",
   "execution_count": 19,
   "metadata": {
    "ExecuteTime": {
     "end_time": "2020-11-23T19:12:55.621426Z",
     "start_time": "2020-11-23T19:12:55.606430Z"
    }
   },
   "outputs": [
    {
     "name": "stdout",
     "output_type": "stream",
     "text": [
      "Content 1:\n",
      " One month after a three-judge panel of a federal appeals court revived a legal challenge to the federal No Child Left Behind law, Education Secretary Margaret Spellings said she would ask the United States Court of Appeals for the Sixth Circuit, in Cincinnati, to convene a larger panel to reconsider that ruling. In its 2-to-1 ruling on Jan. 7, the Sixth Circuit said that school districts in Michigan and several other states had been justified in their 2005 suit that argued the law required them to pay for testing and other programs without providing sufficient federal money. \n",
      "\n",
      "Content 2:\n",
      " STOCKHOLM (Reuters) - Sweden will seek assurances from U.S. president-elect Donald Trump that a recently signed defense cooperation agreement will be honored by the new administration and on his commitment to NATO, Defence Minister Peter Hultqvist said. After years of rising tensions with Russia in the Baltic region, Sweden and the United States signed a declaration of intent in June to increase defense cooperation.\n",
      "The deal includes joint exercises and adaptation of technologies and practices to a joint NATO-standard.\n",
      "\"He has through his own actions in the election campaign created a long series of question marks,\" Hultqvist, told Reuters.\n",
      "\"However, we assume that all contracts and agreements that we and other countries have signed with the United States still stand.\"\n",
      "During his election campaign Trump threatened to abandon U.S. allies in Europe if they do not spend enough on defense and praised Russian leader Vladimir Putin for his leadership.\n",
      "Hultqvist said he would seek assurances over Trump's position on NATO, Europe and how he sees the relationship with Russia.\n",
      "\"We will get in contact with the new administration as soon as there is a structure to communicate with,\" he said.\n",
      "Late last month Russian media reported that the country is sharply upgrading the firepower of its Baltic fleet by adding warships armed with long-range cruise missiles.\n",
      "Sweden, which is not a NATO member, mounted its biggest submarine hunt since the Cold War in 2014 when the military said there were several credible sightings of possible Russian vessels.\n",
      "Neighboring Finland has complained that Russian fighter jets have violated its air space.\n",
      "(Reporting by Johan Ahlander; Editing by Simon Johnson) \n",
      "\n",
      "Content 3:\n",
      " But this week, the bus’s practices gained widespread publicity after The New York World, a Columbia Journalism School publication, reported that a female rider was told by other riders that she had to leave the front. The story was quickly picked up by bloggers and even came to the attention of Mayor Michael R. Bloomberg.\n",
      "\n",
      "Speaking at a news conference on Wednesday, the mayor said that segregating men and women was “obviously not permitted” on public buses. “Private people: you can have a private bus,” he added. “Go rent a bus, and do what you want on it.”\n",
      "\n",
      "Even though a private operator runs the bus, it was awarded the route through a public and competitive bidding process. Seth Solomonow, a spokesman for the Transportation Department, said the bus was supposed to be “available for public use” and could not discriminate.\n",
      "\n",
      "Photo\n",
      "\n",
      "Anne Koenig, head of the department’s franchise division, sent a letter on Wednesday to Jacob Marmurstein, the bus company’s president, asking him to provide any complaints filed about its practices and to show what the company was doing to prevent discriminatory practices. Ms. Koenig gave the company one week to respond. Mr. Marmurstein could not be reached for comment.\n",
      "\n",
      "On Wednesday afternoon, the custom of women’s sitting at the back of the bus was evident, both in practice and in writing.\n",
      "\n",
      "Guidelines, posted in the front and the back, said that “when boarding a crowded bus with standing passengers in the front, women should board the back door after paying the driver in the front” and that “when the bus is crowded, passengers should stand in their designated areas.”\n",
      "\n",
      "Newsletter Sign Up Continue reading the main story Please verify you're not a robot by clicking the box. Invalid email address. Please re-enter. You must select a newsletter to subscribe to. Sign Up You agree to receive occasional updates and special offers for The New York Times's products and services. Thank you for subscribing. An error has occurred. Please try again later. View all New York Times newsletters.\n",
      "\n",
      "The women riding in the back included several full-time mothers and an accountant who commutes into Manhattan each day. One woman who would identify herself only by her initials, M. M., said other buses that cater to the Hasidic community sometimes separate men and women by having one sex sit on the left and the other on the right. She said women could not sit in the front and men sit in the back because “they’re not allowed to see the women.” But she acknowledged that the B110 bus was not just for members of the Hasidic community and other Orthodox Jews.\n",
      "\n",
      "“Everyone takes the bus; it’s not a strict thing,” she said. “Usually it’s full of people from the community. But it’s not always.”\n",
      "\n",
      "Advertisement Continue reading the main story\n",
      "\n",
      "A male photographer found it difficult to visit the back of the bus, filled with Hasidic riders loaded down with packages and the scent of freshly baked bread before the Jewish holiday Shemini Atzeret. The bus driver told him that only women were allowed there.\n",
      "\n",
      "While no male passengers sitting at the front of the bus explicitly told a female reporter to move, several riders said women did not belong there. One father who sat in the front with his son and daughter and declined to give his name said men and women “need to be separated.” He looked down at his daughter dressed in a bright red raincoat, with her blue eyes frozen in amazement, and said: “She’s small. When she’s big, she will sit in the back.”\n",
      "\n",
      "Even if the buses allow women to sit in the front, it may take longer for male riders to feel comfortable. As Asaf Amitay, a 35-year-old regular rider on the bus, rode home to Borough Park, he made it clear that he did not believe that women should be seated in the front.\n",
      "\n",
      "“I don’t like it,” he said. “The women is in the back. The men are in the front.” \n",
      "\n",
      "Content 4:\n",
      " BEIRUT (AP) — The Latest on developments in Syria, where U.S.-backed Kurdish-led fighters are pushing ahead in their offensive toward the Islamic State group's stronghold of Raqqa (all times local): 4:15 p.m.\n",
      "Turkey's president has reiterated the country's opposition to the use of Syrian Kurdish fighters in the fight against the Islamic State group.\n",
      "Turkey considers U.S.-backed Syrian Kurdish militia, the People's Protection Units, or YPG, and its political wing as terror organizations.\n",
      "President Recep Tayyip Erdogan said Monday \"no one in the world will buy this naïve attitude (attacking) DAESH with another terror organization.\" He was using the Arabic acronym for IS.\n",
      "Erdogan did not make a direct reference to the ongoing operation to free the IS stronghold of Raqqa, although Turkish officials have in the past spoken out against the use of Syrian Kurdish fighters in the offensive.\n",
      "Erdogan called the Syrian Kurdish groups \"a side branch\" of Turkey's outlawed Kurdish rebel group which has waged a three-decade insurgency against the Turkish state.\n",
      "___\n",
      "3 p.m.\n",
      "The commander of the U.S.-led coalition fighting the Islamic State group says the Kurdish offensive on the Syrian city of Raqqa is aiming at cutting off the extremists from the Iraqi city of Mosul.\n",
      "Lt. Gen. Townsend said in a statement on Monday that the coalition is providing air support to the Syria Democratic Forces carrying out the push toward Raqqa, the de facto IS capital.\n",
      "The SDF is a Kurdish-led coalition of Kurdish and Arab fighters.\n",
      "Townsend says the Arab element of the SDF is indigenous to the area and will help establish \"regional support\" for SDF operations.\n",
      "His comments appeared to be aimed at soothing Turkey's concerns that Syrian Kurdish forces would take over Raqqa, a predominantly Sunni Arab city.\n",
      "___\n",
      "2:30 p.m.\n",
      "Turkey has criticized an operation by U.S.-backed Kurdish-led Syrian fighters to free the city of Raqqa in Syria from the Islamic State group.\n",
      "Deputy Prime Minister Numan Kurtulmus says the use of non-Arab forces — a reference to the Kurds — to liberate Raqqa will not contribute to peace.\n",
      "Turkey considers the Syrian Kurdish militia to be a terror organization, claiming it is an extension of Turkey's outlawed Kurdish rebels. Ankara also fears the Syrian Kurds will take over Raqqa and change its demographic makeup.\n",
      "Kurtulmus says Turkey would not like to see \"Raqqa, which is an Arab city in its entirety, to be captured by elements that are not Arabs and to be administered by them.\"\n",
      "He spoke after a Cabinet meeting on Monday. The Turkish official also added that \"legitimacy cannot be obtained through a terror organization brandishing arms\" and that the \"United States will sooner or later see this reality.\"\n",
      "___\n",
      "1:50 p.m.\n",
      "The U.S. Central Command says aircraft of the American-led coalition have conducted 16 airstrikes in northern Syria, where Kurdish-led forces have launched an offensive aiming to liberate the city of Raqqa, the Islamic State group's de facto capital.\n",
      "Monday's command statement says the strikes hit near the Ein Issa area, north of Raqqa, and that they engaged 12 IS tactical units and destroyed six fighting positions, five vehicles and two vehicles rigged with explosives.\n",
      "It says the airstrikes were conducted on Sunday, the day when a coalition of Kurdish and Arab fighters known as the Syria Democratic Forces said they have started the march to liberate Raqqa.\n",
      "Activists and SDF reported intense clashes on Monday north of Raqqa.\n",
      "___\n",
      "1:30 p.m.\n",
      "U.S.-backed Kurdish-led Syrian fighters are clashing with Islamic State militants north of Raqqa in Syria, a day after announcing the start of a campaign to liberate the city from the extremist group.\n",
      "The Britain-based Syrian Observatory for Human Rights says fighting was underway on Monday north of Raqqa between IS and members of a coalition of Kurdish and Arab fighters known as the Syria Democratic Forces.\n",
      "SDF says its fighters destroyed a vehicle rigged with explosives in a farm north of Raqqa, de IS de facto capital.\n",
      "The IS-linked Aamaq news agency says IS militants hit an SDF armored vehicle north of Raqqa with a missile, killing everyone inside.\n",
      "The United States, France and Britain have said they would provide air support for the Kurdish forces' offensive on Raqqa. \n",
      "\n",
      "Content 5:\n",
      " Hot-shooting Tennessee Tech routs Alabama A&M 95-61 Published 7:57 pm, Thursday, November 17, 2016 COOKEVILLE, Tenn. (AP) — Markell Henderson scored 30 points to lead Tennessee Tech in a 95-61 rout of Alabama A&M on Thursday night. The Golden Eagles bounced back from shooting just 38 percent from the field in their 86-74 loss Monday night against visiting Central Michigan. Tennessee Tech shot 59 percent on 37-of-63 shooting, and hit 10 of 21 3-point shots. Henderson shot 11 of 15 from the floor and made five 3-pointers. Savonte Frazier had 14 points and Courtney Alexander added 12 points for Tennessee Tech. Kajon Mack chipped in 11 points and five assists. De'Edrick Petty scored 17 points to lead Alabama A&M (0-3). Quinterian McConico had 11 points and 11 rebounds. The Golden Eagles had a 12-point halftime lead and Alabama A&M didn't pull closer. It was the first meeting between the schools. Latest from the SFGATE homepage: Click below for the top news from around the Bay Area and beyond. Sign up for our newsletters to be the first to learn about breaking news and more. Go to 'Sign In' and 'Manage Profile' at the top of the page. FOAM SPILLS OUT OF BUILDING  \n",
      "\n"
     ]
    }
   ],
   "source": [
    "#Now, looking at the content*\n",
    "for index,text in enumerate(df['content'][0:5]):\n",
    "    print('Content %d:\\n'%(index+1),text, '\\n')"
   ]
  },
  {
   "cell_type": "markdown",
   "metadata": {},
   "source": [
    "# Text Data Preprocessing"
   ]
  },
  {
   "cell_type": "markdown",
   "metadata": {},
   "source": [
    "## Cleaning up the content column by removing all the noises"
   ]
  },
  {
   "cell_type": "markdown",
   "metadata": {},
   "source": [
    "**The folllowing functions will be used to remove noise such as accented characters, whitespaces and spacial characters, digits, punctuations**"
   ]
  },
  {
   "cell_type": "code",
   "execution_count": 20,
   "metadata": {
    "ExecuteTime": {
     "end_time": "2020-11-23T19:13:16.722562Z",
     "start_time": "2020-11-23T19:13:16.571545Z"
    }
   },
   "outputs": [],
   "source": [
    "def remove_special_characters(text): \n",
    "    \"\"\"\n",
    "    Removes special characters from the text document\n",
    "    \"\"\"\n",
    "    # define the pattern to keep. You can check the regex using this url https://regexr.com/\n",
    "    pat = r'[^a-zA-z0-9.,!?/:;\\\"\\'\\s]'\n",
    "    return re.sub(pat, '', text)\n",
    "\n",
    "def remove_extra_whitespace_tabs(text): \n",
    "    \"\"\"\n",
    "    Removes extra whitespaces and remove_extra_whitespace_tabs\n",
    "    \"\"\"\n",
    "    #pattern = r'^\\s+$|\\s+$'\n",
    "    pattern = r'^\\s*|\\s\\s*'\n",
    "    return re.sub(pattern, ' ', text).strip()\n",
    "\n",
    "def remove_digits(text): \n",
    "    \"\"\"\n",
    "    Remove all digits from the text document\n",
    "     take string input and return a clean text without numbers.\n",
    "        Use regex to discard the numbers.\n",
    "    \"\"\"\n",
    "    result = ''.join(i for i in text if not i.isdigit()).lower()\n",
    "    return ' '.join(result.split())\n",
    "\n",
    "def remove_newlines(text): \n",
    "    \"\"\"\n",
    "    Remove newline characters from the text document\n",
    "    \"\"\"\n",
    "    return text.replace('\\\\n', ' ').replace('\\\\r', ' ').replace('\\n', ' ').replace('\\r', ' ').replace('\\\\', ' ')\n",
    "\n",
    "#normalize to the NFKD (Normalization Form Compatibility Decomposition) form\n",
    "#that present in the Unicode standard to remain compatible with other encodings\n",
    "def remove_accented_chars(text): \n",
    "    \"\"\"\n",
    "    Removes accented characters from the test\n",
    "    \"\"\"\n",
    "    new_text = unicodedata.normalize('NFKD', text).encode('ascii', 'ignore').decode('utf-8', 'ignore')\n",
    "    return new_text\n",
    "\n",
    "#expands contractions found in the text\n",
    "def expand_contractions(text, contraction_mapping=CONTRACTION_DICT):\n",
    "\n",
    "    contractions_pattern = re.compile('({})'.format('|'.join(contraction_mapping.keys())), flags=re.IGNORECASE|re.DOTALL)\n",
    "    def expand_match(contraction):\n",
    "        match = contraction.group(0)\n",
    "        first_char = match[0]\n",
    "        expanded_contraction = contraction_mapping.get(match)\\\n",
    "                                if contraction_mapping.get(match)\\\n",
    "                                else contraction_mapping.get(match.lower())\n",
    "        expanded_contraction = first_char+expanded_contraction[1:]\n",
    "        return expanded_contraction\n",
    "\n",
    "    expanded_text = contractions_pattern.sub(expand_match, text)\n",
    "    expanded_text = re.sub(\"'\", \"\", expanded_text)\n",
    "    return expanded_text\n",
    "\n",
    "# replace punctuation characters with spaces\n",
    "def replace_punctuation(text):\n",
    "    filters = string.punctuation + '”' + '“' + '–' \n",
    "    translate_dict = dict((c, \" \") for c in filters)   \n",
    "    translate_map = str.maketrans(translate_dict)\n",
    "    text = text.translate(translate_map)\n",
    "    return text\n",
    "\n",
    "# Remove stopwords and remove words with 2 or less characters\n",
    "def stops_letters(text):\n",
    "    result = []\n",
    "    for token in gensim.utils.simple_preprocess(text):\n",
    "        if token not in gensim.parsing.preprocessing.STOPWORDS and len(token) > 3 and token not in stopword:\n",
    "            result.append(token)\n",
    "            \n",
    "    return \" \".join(result)\n",
    "\n",
    "#Removes any word that starts with either http or https\n",
    "def remove_urls (vTEXT):\n",
    "    #vTEXT = re.sub('http://\\S+|https://\\S+', '', vTEXT,flags=re.MULTILINE)\n",
    "    vTEXT = re.sub('http[s]?://\\S+', '', vTEXT,flags=re.MULTILINE)\n",
    "    return(vTEXT)\n",
    "#Remove words that starts with www\n",
    "def remove_www (vTEXT):\n",
    "    vTEXT = re.sub('www\\S+', '', vTEXT,flags=re.MULTILINE)\n",
    "    return(vTEXT)\n"
   ]
  },
  {
   "cell_type": "code",
   "execution_count": 21,
   "metadata": {
    "ExecuteTime": {
     "end_time": "2020-11-24T00:06:41.269206Z",
     "start_time": "2020-11-23T19:13:29.762433Z"
    }
   },
   "outputs": [
    {
     "name": "stdout",
     "output_type": "stream",
     "text": [
      "Wall time: 4h 53min 11s\n"
     ]
    }
   ],
   "source": [
    "%%time\n",
    "# Apply the functions to the dataframe\n",
    "\n",
    "# Step 1 - convert the text to lower case\n",
    "df['content']=df['content'].apply(lambda x: x.lower())\n",
    "df['title']=df['title'].apply(lambda x: x.lower())\n",
    "df['day_name']=df['day_name'].apply(lambda x: x.lower())\n",
    "\n",
    "#step 2 - Remove URLS\n",
    "df['content']=df['content'].apply(remove_urls)\n",
    "df['title'] = df['title'].apply(remove_urls)\n",
    "\n",
    "#step 3 - Remove www\n",
    "df['content']=df['content'].apply(remove_www)\n",
    "df['title'] = df['title'].apply(remove_www)\n",
    "\n",
    "# Step 4 - remove special charcaters\n",
    "df['content']=df['content'].apply(remove_special_characters)\n",
    "df['title'] = df['title'].apply(remove_special_characters)\n",
    "\n",
    "#step 5 - Remove whitespaces and tabs\n",
    "df['content']=df['content'].apply(remove_extra_whitespace_tabs)\n",
    "df['title'] = df['title'].apply(remove_extra_whitespace_tabs)\n",
    "\n",
    "#step 6 - remove newlines and tabs\n",
    "df['content'] = df['content'].apply(remove_newlines)\n",
    "df['title'] = df['title'].apply(remove_newlines)\n",
    "\n",
    "# step 7 - Remove digits\n",
    "df['content']=df['content'].apply(remove_digits)\n",
    "df['title'] = df['title'].apply(remove_digits)\n",
    "\n",
    "#step 8 - remove accented characters\n",
    "df['content']=df['content'].apply(remove_accented_chars)\n",
    "df['title'] = df['title'].apply(remove_accented_chars)\n",
    "\n",
    "#step 9 - Expand contractions\n",
    "df['content']=df['content'].apply(expand_contractions)\n",
    "\n",
    "#step 10 - Replace punctuations with spaces \n",
    "df['content']= df['content'].apply(replace_punctuation)\n",
    "df['title'] = df['title'].apply(replace_punctuation)\n",
    "\n",
    "#step 11 - Remove stopwords, tokenize and remove words with 3 letters or less\n",
    "df['content']= df['content'].apply(stops_letters)\n",
    "df['title'] = df['title'].apply(stops_letters)\n"
   ]
  },
  {
   "cell_type": "markdown",
   "metadata": {},
   "source": [
    "## View the datasets after noise removal"
   ]
  },
  {
   "cell_type": "code",
   "execution_count": 22,
   "metadata": {
    "ExecuteTime": {
     "end_time": "2020-11-24T00:10:55.616066Z",
     "start_time": "2020-11-24T00:10:55.538073Z"
    }
   },
   "outputs": [
    {
     "name": "stdout",
     "output_type": "stream",
     "text": [
      "Title 1:\n",
      " china threat \n",
      "\n",
      "Title 2:\n",
      " surprisingly simple thanksgiving dish plays \n",
      "\n",
      "Title 3:\n",
      " world briefing europe netherlands bank profit rises \n",
      "\n",
      "Title 4:\n",
      " democratic party chief reproaches bush \n",
      "\n",
      "Title 5:\n",
      " paid notice deaths lowenheim henry \n",
      "\n"
     ]
    }
   ],
   "source": [
    "for index,text in enumerate(df['title'][10:15]):\n",
    "    print('Title %d:\\n'%(index+1),text, '\\n')"
   ]
  },
  {
   "cell_type": "code",
   "execution_count": 23,
   "metadata": {
    "ExecuteTime": {
     "end_time": "2020-11-24T00:11:00.270517Z",
     "start_time": "2020-11-24T00:11:00.234515Z"
    }
   },
   "outputs": [
    {
     "name": "stdout",
     "output_type": "stream",
     "text": [
      "Content 1:\n",
      " vein fury erupted country weeks earlier reports japanese businessmen engaged orgy chinese prostitutes southern city zhuhai chinese rage hypocritical country hundreds thousands prostitutes blatantly wares zhengzhou year army prostitutes practically battered hotel room door cowered inside chinese recounting history hysterical rape nanjing brutal need exaggerate appalled witness killing john rabe death toll miner searle bates estimated civilians soldiers killed chinese delegate league nations time civilian toll communist chinese newspaper period newsletter sign continue reading main story verify robot clicking invalid email address reenter select newsletter subscribe sign agree receive occasional updates special offers york timess products services thank subscribing error occurred later view york times newsletters china proclaims based accounts stand little scrutiny killed hyperbole abuses history denial japanese rightists rape nanjing nurtures nationalism defining china victim state worlds punching aggressive defending interests rising nationalism warps chinese decisionmaking risks conflicts japan example disputed senkaku diaoyu islands forces government tough international disputes particularly case taiwan miscalculation conceivably lead chinese military leaders saying japan secretly taiwans moves referendum independence warned wellconnected chinese knows nonsense japanese plot steal taiwan china reasons rising chinese nationalism complex include justified anger japans reluctance apologize atrocities factor chinese government pushing nationalist buttons effort create national glue hold country ideology dissolves constantly excoriating japanese nationalists emulating lessons japan germany ferocious nationalism real global security risk matter countries respectfully raise president credit farsighted chinese intellectuals calling changing chinas victim mentality recognizing greatest obstacles chinas maturing global leader west bashing china unfairly demagogically exports missing risk chinas rise menace trade policies nationalist psychology \n",
      "\n",
      "Content 2:\n",
      " editors note year thanksgiving meal virtual potluck writers editors signed provide dishes tested recipes brought contenders final tasteoff vote heres winning dish slowcooked tuscan kale recipe miss glazed carrots green bean casserole thanksgiving roast turkey mashed potatoes necessities theres wrong swapping brussels sprouts year sneaking dash cumin sweet potatoes meal nearly predetermined dishes provide cooks freedom slowcooked kale easy transport helps menu solid foundation showmanship turkey richness mashed potatoes tartness cranberry sauce sweetness pies lacks little kick recipe slowcooked tuscan kale thats angeles chef restaurateur suzanne goins slowcooked kale comes excellent thanksgiving dish needs portability simplicity unexpected heat dried chiles rbol bold pierce meals butter cream strong overpowering caters dietary restriction thanksgiving central essential menu planner recipe shatters cliches cooking kale isnt massaged olive sauted bacon doesnt taste healthful important trait avoid virtuous holidays goins sixingredient recipe originally published cookbook adapted years likes food apptit cooked long slow greens turned dark color cooks usually taught avoid rosemary offers taste familiar golden onions mellow spice result sort dish plays nicely holiday staples resurface dinner parties year devout purists dont tell vegan scale print rate recipe recipe finder slowcooked tuscan kale servings greens little provide nice counterpoint table laden traditional thanksgiving dishes ahead finished dish refrigerated days advance reheat covered degree oven adapted suzanne goin recipe food ingredients tablespoon plus teaspoons salt pounds tuscan kale cavolo nero stems removed rinsed extravirgin olive sprigs fresh rosemary dried arbol peppers stemmed seeded half cups sliced onions large onions teaspoon freshly ground black pepper cloves garlic thinly sliced steps bring large water tablespoon salt boil high heat working batches blanch kale rapidly boiling water minutes drain cool squeeze moisture possible coarsely chop heat large dutch oven medium heat shimmers rosemary sprigs dried arbol chilies taste sizzle minutes reduce heat mediumlow onions teaspoons salt black pepper cook minutes stirring stir sliced garlic cook minutes stirring wooden spoon onions start pick color kale tossing coat season remaining teaspoon salt reduce heat cook minutes stirring greens turn dark black color slightly crispy edges discard rosemary sprigs arbol chilies serving nutrition serving calories protein carbohydrates saturated cholesterol sodium dietary fiber sugar food questions cooking join live chat wednesdays noon \n",
      "\n",
      "Content 3:\n",
      " banking concern amro holding posted percent increase firstquarter profit million euros million largely result costcutting measures surge lending mortgage units united states abns firstquarter results helped partial sale insurance operations brought million euros million abns profit rose percent yearearlier period gregory crouch \n",
      "\n",
      "Content 4:\n",
      " mcauliffes speech toughest democrat including possible presidential contenders bush september historically leaders political parties flexibility making kinds attacks mcauliffe known particularly harddriving party chairman mcauliffes aides said viewed long period attacks bush largely muted effort usher political season spoke democratic leaders closed meeting increasingly confident bush defeated problems economy wall street expressed confidence maintain increase numbers senate fall control house mcauliffe promptly attacked counterpart republican national committee marc racicot described speech reckless political rhetoric newsletter sign continue reading main story verify robot clicking invalid email address reenter select newsletter subscribe sign agree receive occasional updates special offers york timess products services thank subscribing error occurred later view york times newsletters attacks today vegas disservice political presidents efforts bring americans deal nations issues racicot said americans deserve thoughtful debate parties mcauliffe said reviewed speech president clinton house minority leader richard gephardt daschle senate majority leader days democratic leaders repeatedly said believed concerns corporate malfeasance hurt republicans elections speech today mcauliffe argued bush position crack questionable corporate practices business background raised questions financial dealings harken energy corporation bush board advertisement continue reading main story president bush unwilling spend political capital necessary corporate reforms mcauliffe said worse past leaves unable lead issue restore confidence wall street engaged practices condemns today mcauliffe invoked players corporate scandals criticized bushs handling economy americans trusted george bush straight state federal budget accounting gimmicks destroyed enron hide descent deficit spending mcauliffe said whistles boos partisan crowd gathered ballroom hallway away slot machines rows gambling tables vegas hilton \n",
      "\n",
      "Content 5:\n",
      " lowenheim henry july suddenly beloved husband maralyn loving father carol park gwen hedy fatherinlaw stephen park stuart goldstein patricia wood cherished grandfather matthew frieda rosa devoted brother rabbi lowenheim jerry meyer dear friend claudia rothman services today shermans flatbush memorial chapel coney island brooklyn \n",
      "\n"
     ]
    }
   ],
   "source": [
    "for index,text in enumerate(df['content'][10:15]):\n",
    "    print('Content %d:\\n'%(index+1),text, '\\n')"
   ]
  },
  {
   "cell_type": "code",
   "execution_count": 24,
   "metadata": {
    "ExecuteTime": {
     "end_time": "2020-11-24T00:11:30.105043Z",
     "start_time": "2020-11-24T00:11:30.066053Z"
    }
   },
   "outputs": [
    {
     "name": "stdout",
     "output_type": "stream",
     "text": [
      "Content 1:\n",
      " month threejudge panel federal appeals court revived legal challenge federal child left education secretary margaret spellings said united states court appeals sixth circuit cincinnati convene larger panel reconsider ruling ruling sixth circuit said school districts michigan states justified suit argued required testing programs providing sufficient federal money \n",
      "\n",
      "Content 2:\n",
      " stockholm reuters sweden seek assurances presidentelect donald trump recently signed defense cooperation agreement honored administration commitment nato defence minister peter hultqvist said years rising tensions russia baltic region sweden united states signed declaration intent june increase defense cooperation deal includes joint exercises adaptation technologies practices joint natostandard actions election campaign created long series question marks hultqvist told reuters assume contracts agreements countries signed united states stand election campaign trump threatened abandon allies europe spend defense praised russian leader vladimir putin leadership hultqvist said seek assurances trumps position nato europe sees relationship russia contact administration soon structure communicate said late month russian media reported country sharply upgrading firepower baltic fleet adding warships armed longrange cruise missiles sweden nato member mounted biggest submarine hunt cold military said credible sightings possible russian vessels neighboring finland complained russian fighter jets violated space reporting johan ahlander editing simon johnson \n",
      "\n",
      "Content 3:\n",
      " week buss practices gained widespread publicity york world columbia journalism school publication reported female rider told riders leave story quickly picked bloggers came attention mayor michael bloomberg speaking news conference wednesday mayor said segregating women obviously permitted public buses private people private added rent want private operator runs awarded route public competitive bidding process seth solomonow spokesman transportation department said supposed available public discriminate photo anne koenig head departments franchise division sent letter wednesday jacob marmurstein companys president asking provide complaints filed practices company prevent discriminatory practices koenig gave company week respond marmurstein reached comment wednesday afternoon custom womens sitting evident practice writing guidelines posted said boarding crowded standing passengers women board door paying driver crowded passengers stand designated areas newsletter sign continue reading main story verify robot clicking invalid email address reenter select newsletter subscribe sign agree receive occasional updates special offers york timess products services thank subscribing error occurred later view york times newsletters women riding included fulltime mothers accountant commutes manhattan woman identify initials said buses cater hasidic community separate women left right said women theyre allowed women acknowledged members hasidic community orthodox jews takes strict thing said usually people community advertisement continue reading main story male photographer difficult visit filled hasidic riders loaded packages scent freshly baked bread jewish holiday shemini atzeret driver told women allowed male passengers sitting explicitly told female reporter riders said women belong father daughter declined said women need separated looked daughter dressed bright raincoat blue eyes frozen amazement said shes small shes buses allow women longer male riders feel comfortable asaf amitay yearold regular rider rode home borough park clear believe women seated dont like said women \n",
      "\n",
      "Content 4:\n",
      " beirut latest developments syria backed kurdishled fighters pushing ahead offensive islamic state groups stronghold raqqa times local turkeys president reiterated countrys opposition syrian kurdish fighters fight islamic state group turkey considers backed syrian kurdish militia peoples protection units political wing terror organizations president recep tayyip erdogan said monday world nave attitude attacking daesh terror organization arabic acronym erdogan direct reference ongoing operation free stronghold raqqa turkish officials past spoken syrian kurdish fighters offensive erdogan called syrian kurdish groups branch turkeys outlawed kurdish rebel group waged threedecade insurgency turkish state commander coalition fighting islamic state group says kurdish offensive syrian city raqqa aiming cutting extremists iraqi city mosul townsend said statement monday coalition providing support syria democratic forces carrying push raqqa facto capital kurdishled coalition kurdish arab fighters townsend says arab element indigenous area help establish regional support operations comments appeared aimed soothing turkeys concerns syrian kurdish forces raqqa predominantly sunni arab city turkey criticized operation backed kurdishled syrian fighters free city raqqa syria islamic state group deputy prime minister numan kurtulmus says nonarab forces reference kurds liberate raqqa contribute peace turkey considers syrian kurdish militia terror organization claiming extension turkeys outlawed kurdish rebels ankara fears syrian kurds raqqa change demographic makeup kurtulmus says turkey like raqqa arab city entirety captured elements arabs administered spoke cabinet meeting monday turkish official added legitimacy obtained terror organization brandishing arms united states sooner later reality central command says aircraft americanled coalition conducted airstrikes northern syria kurdishled forces launched offensive aiming liberate city raqqa islamic state groups facto capital mondays command statement says strikes near issa area north raqqa engaged tactical units destroyed fighting positions vehicles vehicles rigged explosives says airstrikes conducted sunday coalition kurdish arab fighters known syria democratic forces said started march liberate raqqa activists reported intense clashes monday north raqqa backed kurdishled syrian fighters clashing islamic state militants north raqqa syria announcing start campaign liberate city extremist group britainbased syrian observatory human rights says fighting underway monday north raqqa members coalition kurdish arab fighters known syria democratic forces says fighters destroyed vehicle rigged explosives farm north raqqa facto capital islinked aamaq news agency says militants armored vehicle north raqqa missile killing inside united states france britain said provide support kurdish forces offensive raqqa \n",
      "\n",
      "Content 5:\n",
      " hotshooting tennessee tech routs alabama published thursday november cookeville tenn markell henderson scored points lead tennessee tech rout alabama thursday night golden eagles bounced shooting percent field loss monday night visiting central michigan tennessee tech shot percent shooting point shots henderson shot floor pointers savonte frazier points courtney alexander added points tennessee tech kajon mack chipped points assists deedrick petty scored points lead alabama quinterian mcconico points rebounds golden eagles point halftime lead alabama pull closer meeting schools latest sfgate homepage click news area sign newsletters learn breaking news sign manage profile page foam spills building \n",
      "\n"
     ]
    }
   ],
   "source": [
    "for index,text in enumerate(df['content'][0:5]):\n",
    "    print('Content %d:\\n'%(index+1),text, '\\n')"
   ]
  },
  {
   "cell_type": "markdown",
   "metadata": {},
   "source": [
    "## Frequencies of words"
   ]
  },
  {
   "cell_type": "markdown",
   "metadata": {},
   "source": [
    "**The `counter` function from the `collections` library will be used to count and store the occurrences of each word in a list of tuples. This is a very useful function when we deal with word-level analysis in natural language processing**"
   ]
  },
  {
   "cell_type": "code",
   "execution_count": 25,
   "metadata": {
    "ExecuteTime": {
     "end_time": "2020-11-24T00:12:05.846058Z",
     "start_time": "2020-11-24T00:12:05.797055Z"
    }
   },
   "outputs": [],
   "source": [
    "from nltk.corpus import stopwords\n",
    "from collections import Counter\n",
    "\n",
    "def plot_top_non_stopwords_barchart(text):\n",
    "    stop=set(stopwords.words('english'))\n",
    "    new= text.str.split()\n",
    "    new=new.values.tolist()\n",
    "    corpus=[word for i in new for word in i]\n",
    "    counter=Counter(corpus)\n",
    "    most=counter.most_common()\n",
    "    x, y=[], []\n",
    "    for word,count in most[:20]:\n",
    "        if (word not in stop):\n",
    "            x.append(word)\n",
    "            y.append(count)\n",
    "    sns.barplot(x=y,y=x)\n"
   ]
  },
  {
   "cell_type": "markdown",
   "metadata": {},
   "source": [
    "###  Plot of words in the title"
   ]
  },
  {
   "cell_type": "code",
   "execution_count": 26,
   "metadata": {
    "ExecuteTime": {
     "end_time": "2020-11-24T00:12:19.390900Z",
     "start_time": "2020-11-24T00:12:08.803204Z"
    }
   },
   "outputs": [
    {
     "data": {
      "image/png": "[encoded data removed]",
      "text/plain": [
       "<Figure size 810x540 with 1 Axes>"
      ]
     },
     "metadata": {},
     "output_type": "display_data"
    }
   ],
   "source": [
    "plot_top_non_stopwords_barchart(df['title']);"
   ]
  },
  {
   "cell_type": "markdown",
   "metadata": {},
   "source": [
    "**Decided to just continue the preprocessing and come back to doing EDA and word frequencies analysis after saving the preprocessed datasets**"
   ]
  },
  {
   "cell_type": "markdown",
   "metadata": {},
   "source": [
    "## Lemmatize the title and content columns"
   ]
  },
  {
   "cell_type": "code",
   "execution_count": 27,
   "metadata": {
    "ExecuteTime": {
     "end_time": "2020-11-24T00:16:32.970343Z",
     "start_time": "2020-11-24T00:16:32.945343Z"
    }
   },
   "outputs": [],
   "source": [
    "def lemmatized_word(text):\n",
    "    \"\"\"\n",
    "    lemmatize the text so as to get its root form eg: functions,funtionality as function\n",
    "    \"\"\"\n",
    "    word_tokens = nltk.word_tokenize(text)\n",
    "    lemmatized_word = [wordnet_lemmatizer.lemmatize(word) for word in word_tokens]\n",
    "    return  \" \".join(lemmatized_word)\n"
   ]
  },
  {
   "cell_type": "code",
   "execution_count": 28,
   "metadata": {
    "ExecuteTime": {
     "end_time": "2020-11-24T01:47:07.760424Z",
     "start_time": "2020-11-24T00:17:11.033222Z"
    }
   },
   "outputs": [
    {
     "data": {
      "text/html": [
       "<div>\n",
       "<style scoped>\n",
       "    .dataframe tbody tr th:only-of-type {\n",
       "        vertical-align: middle;\n",
       "    }\n",
       "\n",
       "    .dataframe tbody tr th {\n",
       "        vertical-align: top;\n",
       "    }\n",
       "\n",
       "    .dataframe thead th {\n",
       "        text-align: right;\n",
       "    }\n",
       "</style>\n",
       "<table border=\"1\" class=\"dataframe\">\n",
       "  <thead>\n",
       "    <tr style=\"text-align: right;\">\n",
       "      <th></th>\n",
       "      <th>domain</th>\n",
       "      <th>content</th>\n",
       "      <th>scraped_at</th>\n",
       "      <th>title</th>\n",
       "      <th>label</th>\n",
       "      <th>day_name</th>\n",
       "    </tr>\n",
       "  </thead>\n",
       "  <tbody>\n",
       "    <tr>\n",
       "      <th>0</th>\n",
       "      <td>nytimes</td>\n",
       "      <td>month threejudge panel federal appeal court re...</td>\n",
       "      <td>2018-02-11 00:42:14.935145+00:00</td>\n",
       "      <td>appeal challenge child</td>\n",
       "      <td>real</td>\n",
       "      <td>sunday</td>\n",
       "    </tr>\n",
       "    <tr>\n",
       "      <th>1</th>\n",
       "      <td>yahoo</td>\n",
       "      <td>stockholm reuters sweden seek assurance presid...</td>\n",
       "      <td>2016-11-11 14:16:53.754000+00:00</td>\n",
       "      <td>sweden seek assurance trump defense agreement</td>\n",
       "      <td>real</td>\n",
       "      <td>friday</td>\n",
       "    </tr>\n",
       "    <tr>\n",
       "      <th>2</th>\n",
       "      <td>nytimes</td>\n",
       "      <td>week bus practice gained widespread publicity ...</td>\n",
       "      <td>2018-02-11 00:45:31.225957+00:00</td>\n",
       "      <td>brooklyn clash religious woman right</td>\n",
       "      <td>real</td>\n",
       "      <td>sunday</td>\n",
       "    </tr>\n",
       "  </tbody>\n",
       "</table>\n",
       "</div>"
      ],
      "text/plain": [
       "    domain                                            content  \\\n",
       "0  nytimes  month threejudge panel federal appeal court re...   \n",
       "1    yahoo  stockholm reuters sweden seek assurance presid...   \n",
       "2  nytimes  week bus practice gained widespread publicity ...   \n",
       "\n",
       "                        scraped_at  \\\n",
       "0 2018-02-11 00:42:14.935145+00:00   \n",
       "1 2016-11-11 14:16:53.754000+00:00   \n",
       "2 2018-02-11 00:45:31.225957+00:00   \n",
       "\n",
       "                                           title label day_name  \n",
       "0                         appeal challenge child  real   sunday  \n",
       "1  sweden seek assurance trump defense agreement  real   friday  \n",
       "2           brooklyn clash religious woman right  real   sunday  "
      ]
     },
     "execution_count": 28,
     "metadata": {},
     "output_type": "execute_result"
    }
   ],
   "source": [
    "df['content'] = df['content'].apply(lemmatized_word)\n",
    "df['title'] = df['title'].apply(lemmatized_word)\n",
    "df.head(3)"
   ]
  },
  {
   "cell_type": "code",
   "execution_count": 29,
   "metadata": {
    "ExecuteTime": {
     "end_time": "2020-11-24T01:56:31.546886Z",
     "start_time": "2020-11-24T01:56:31.497892Z"
    }
   },
   "outputs": [
    {
     "name": "stdout",
     "output_type": "stream",
     "text": [
      "Content 1:\n",
      " month threejudge panel federal appeal court revived legal challenge federal child left education secretary margaret spelling said united state court appeal sixth circuit cincinnati convene larger panel reconsider ruling ruling sixth circuit said school district michigan state justified suit argued required testing program providing sufficient federal money \n",
      "\n",
      "Content 2:\n",
      " stockholm reuters sweden seek assurance presidentelect donald trump recently signed defense cooperation agreement honored administration commitment nato defence minister peter hultqvist said year rising tension russia baltic region sweden united state signed declaration intent june increase defense cooperation deal includes joint exercise adaptation technology practice joint natostandard action election campaign created long series question mark hultqvist told reuters assume contract agreement country signed united state stand election campaign trump threatened abandon ally europe spend defense praised russian leader vladimir putin leadership hultqvist said seek assurance trump position nato europe see relationship russia contact administration soon structure communicate said late month russian medium reported country sharply upgrading firepower baltic fleet adding warship armed longrange cruise missile sweden nato member mounted biggest submarine hunt cold military said credible sighting possible russian vessel neighboring finland complained russian fighter jet violated space reporting johan ahlander editing simon johnson \n",
      "\n",
      "Content 3:\n",
      " week bus practice gained widespread publicity york world columbia journalism school publication reported female rider told rider leave story quickly picked blogger came attention mayor michael bloomberg speaking news conference wednesday mayor said segregating woman obviously permitted public bus private people private added rent want private operator run awarded route public competitive bidding process seth solomonow spokesman transportation department said supposed available public discriminate photo anne koenig head department franchise division sent letter wednesday jacob marmurstein company president asking provide complaint filed practice company prevent discriminatory practice koenig gave company week respond marmurstein reached comment wednesday afternoon custom woman sitting evident practice writing guideline posted said boarding crowded standing passenger woman board door paying driver crowded passenger stand designated area newsletter sign continue reading main story verify robot clicking invalid email address reenter select newsletter subscribe sign agree receive occasional update special offer york times product service thank subscribing error occurred later view york time newsletter woman riding included fulltime mother accountant commute manhattan woman identify initial said bus cater hasidic community separate woman left right said woman theyre allowed woman acknowledged member hasidic community orthodox jew take strict thing said usually people community advertisement continue reading main story male photographer difficult visit filled hasidic rider loaded package scent freshly baked bread jewish holiday shemini atzeret driver told woman allowed male passenger sitting explicitly told female reporter rider said woman belong father daughter declined said woman need separated looked daughter dressed bright raincoat blue eye frozen amazement said shes small shes bus allow woman longer male rider feel comfortable asaf amitay yearold regular rider rode home borough park clear believe woman seated dont like said woman \n",
      "\n",
      "Content 4:\n",
      " beirut latest development syria backed kurdishled fighter pushing ahead offensive islamic state group stronghold raqqa time local turkey president reiterated country opposition syrian kurdish fighter fight islamic state group turkey considers backed syrian kurdish militia people protection unit political wing terror organization president recep tayyip erdogan said monday world nave attitude attacking daesh terror organization arabic acronym erdogan direct reference ongoing operation free stronghold raqqa turkish official past spoken syrian kurdish fighter offensive erdogan called syrian kurdish group branch turkey outlawed kurdish rebel group waged threedecade insurgency turkish state commander coalition fighting islamic state group say kurdish offensive syrian city raqqa aiming cutting extremist iraqi city mosul townsend said statement monday coalition providing support syria democratic force carrying push raqqa facto capital kurdishled coalition kurdish arab fighter townsend say arab element indigenous area help establish regional support operation comment appeared aimed soothing turkey concern syrian kurdish force raqqa predominantly sunni arab city turkey criticized operation backed kurdishled syrian fighter free city raqqa syria islamic state group deputy prime minister numan kurtulmus say nonarab force reference kurd liberate raqqa contribute peace turkey considers syrian kurdish militia terror organization claiming extension turkey outlawed kurdish rebel ankara fear syrian kurd raqqa change demographic makeup kurtulmus say turkey like raqqa arab city entirety captured element arab administered spoke cabinet meeting monday turkish official added legitimacy obtained terror organization brandishing arm united state sooner later reality central command say aircraft americanled coalition conducted airstrikes northern syria kurdishled force launched offensive aiming liberate city raqqa islamic state group facto capital monday command statement say strike near issa area north raqqa engaged tactical unit destroyed fighting position vehicle vehicle rigged explosive say airstrikes conducted sunday coalition kurdish arab fighter known syria democratic force said started march liberate raqqa activist reported intense clash monday north raqqa backed kurdishled syrian fighter clashing islamic state militant north raqqa syria announcing start campaign liberate city extremist group britainbased syrian observatory human right say fighting underway monday north raqqa member coalition kurdish arab fighter known syria democratic force say fighter destroyed vehicle rigged explosive farm north raqqa facto capital islinked aamaq news agency say militant armored vehicle north raqqa missile killing inside united state france britain said provide support kurdish force offensive raqqa \n",
      "\n",
      "Content 5:\n",
      " hotshooting tennessee tech rout alabama published thursday november cookeville tenn markell henderson scored point lead tennessee tech rout alabama thursday night golden eagle bounced shooting percent field loss monday night visiting central michigan tennessee tech shot percent shooting point shot henderson shot floor pointer savonte frazier point courtney alexander added point tennessee tech kajon mack chipped point assist deedrick petty scored point lead alabama quinterian mcconico point rebound golden eagle point halftime lead alabama pull closer meeting school latest sfgate homepage click news area sign newsletter learn breaking news sign manage profile page foam spill building \n",
      "\n"
     ]
    }
   ],
   "source": [
    "for index,text in enumerate(df['content'][0:5]):\n",
    "    print('Content %d:\\n'%(index+1),text, '\\n')"
   ]
  },
  {
   "cell_type": "markdown",
   "metadata": {},
   "source": [
    "# Saving the preprocessed datasets into a csv file"
   ]
  },
  {
   "cell_type": "code",
   "execution_count": 30,
   "metadata": {
    "ExecuteTime": {
     "end_time": "2020-11-24T02:02:28.878482Z",
     "start_time": "2020-11-24T01:59:51.898626Z"
    }
   },
   "outputs": [],
   "source": [
    "df.to_csv(r\"C:\\Users\\lanre\\Documents\\data_science\\preprocessed_frl_fake.csv\", index=False)"
   ]
  },
  {
   "cell_type": "markdown",
   "metadata": {},
   "source": [
    "### Reading back the saved datasets to make sure it saved correctly"
   ]
  },
  {
   "cell_type": "code",
   "execution_count": 31,
   "metadata": {
    "ExecuteTime": {
     "end_time": "2020-11-24T02:05:39.096833Z",
     "start_time": "2020-11-24T02:04:45.790366Z"
    }
   },
   "outputs": [
    {
     "data": {
      "text/html": [
       "<div>\n",
       "<style scoped>\n",
       "    .dataframe tbody tr th:only-of-type {\n",
       "        vertical-align: middle;\n",
       "    }\n",
       "\n",
       "    .dataframe tbody tr th {\n",
       "        vertical-align: top;\n",
       "    }\n",
       "\n",
       "    .dataframe thead th {\n",
       "        text-align: right;\n",
       "    }\n",
       "</style>\n",
       "<table border=\"1\" class=\"dataframe\">\n",
       "  <thead>\n",
       "    <tr style=\"text-align: right;\">\n",
       "      <th></th>\n",
       "      <th>domain</th>\n",
       "      <th>content</th>\n",
       "      <th>scraped_at</th>\n",
       "      <th>title</th>\n",
       "      <th>label</th>\n",
       "      <th>day_name</th>\n",
       "    </tr>\n",
       "  </thead>\n",
       "  <tbody>\n",
       "    <tr>\n",
       "      <th>0</th>\n",
       "      <td>nytimes</td>\n",
       "      <td>month threejudge panel federal appeal court re...</td>\n",
       "      <td>2018-02-11 00:42:14.935145+00:00</td>\n",
       "      <td>appeal challenge child</td>\n",
       "      <td>real</td>\n",
       "      <td>sunday</td>\n",
       "    </tr>\n",
       "    <tr>\n",
       "      <th>1</th>\n",
       "      <td>yahoo</td>\n",
       "      <td>stockholm reuters sweden seek assurance presid...</td>\n",
       "      <td>2016-11-11 14:16:53.754000+00:00</td>\n",
       "      <td>sweden seek assurance trump defense agreement</td>\n",
       "      <td>real</td>\n",
       "      <td>friday</td>\n",
       "    </tr>\n",
       "    <tr>\n",
       "      <th>2</th>\n",
       "      <td>nytimes</td>\n",
       "      <td>week bus practice gained widespread publicity ...</td>\n",
       "      <td>2018-02-11 00:45:31.225957+00:00</td>\n",
       "      <td>brooklyn clash religious woman right</td>\n",
       "      <td>real</td>\n",
       "      <td>sunday</td>\n",
       "    </tr>\n",
       "    <tr>\n",
       "      <th>3</th>\n",
       "      <td>yahoo</td>\n",
       "      <td>beirut latest development syria backed kurdish...</td>\n",
       "      <td>2016-11-08 03:28:07.118000+00:00</td>\n",
       "      <td>latest turkey kurd naive</td>\n",
       "      <td>real</td>\n",
       "      <td>tuesday</td>\n",
       "    </tr>\n",
       "    <tr>\n",
       "      <th>4</th>\n",
       "      <td>sfgate</td>\n",
       "      <td>hotshooting tennessee tech rout alabama publis...</td>\n",
       "      <td>2016-11-18 22:38:10.550000+00:00</td>\n",
       "      <td>hotshooting tennessee tech rout alabama sfgate</td>\n",
       "      <td>real</td>\n",
       "      <td>friday</td>\n",
       "    </tr>\n",
       "  </tbody>\n",
       "</table>\n",
       "</div>"
      ],
      "text/plain": [
       "    domain                                            content  \\\n",
       "0  nytimes  month threejudge panel federal appeal court re...   \n",
       "1    yahoo  stockholm reuters sweden seek assurance presid...   \n",
       "2  nytimes  week bus practice gained widespread publicity ...   \n",
       "3    yahoo  beirut latest development syria backed kurdish...   \n",
       "4   sfgate  hotshooting tennessee tech rout alabama publis...   \n",
       "\n",
       "                         scraped_at  \\\n",
       "0  2018-02-11 00:42:14.935145+00:00   \n",
       "1  2016-11-11 14:16:53.754000+00:00   \n",
       "2  2018-02-11 00:45:31.225957+00:00   \n",
       "3  2016-11-08 03:28:07.118000+00:00   \n",
       "4  2016-11-18 22:38:10.550000+00:00   \n",
       "\n",
       "                                            title label day_name  \n",
       "0                          appeal challenge child  real   sunday  \n",
       "1   sweden seek assurance trump defense agreement  real   friday  \n",
       "2            brooklyn clash religious woman right  real   sunday  \n",
       "3                        latest turkey kurd naive  real  tuesday  \n",
       "4  hotshooting tennessee tech rout alabama sfgate  real   friday  "
      ]
     },
     "execution_count": 31,
     "metadata": {},
     "output_type": "execute_result"
    }
   ],
   "source": [
    "dfa = pd.read_csv(r\"C:\\Users\\lanre\\Documents\\data_science\\preprocessed_frl_fake.csv\")\n",
    "dfa.head()"
   ]
  },
  {
   "cell_type": "markdown",
   "metadata": {},
   "source": [
    "**Examining the preprocessed data**"
   ]
  },
  {
   "cell_type": "code",
   "execution_count": 32,
   "metadata": {
    "ExecuteTime": {
     "end_time": "2020-11-24T02:06:03.940451Z",
     "start_time": "2020-11-24T02:06:03.898451Z"
    }
   },
   "outputs": [
    {
     "name": "stdout",
     "output_type": "stream",
     "text": [
      "<class 'pandas.core.frame.DataFrame'>\n",
      "RangeIndex: 1788000 entries, 0 to 1787999\n",
      "Data columns (total 6 columns):\n",
      " #   Column      Dtype \n",
      "---  ------      ----- \n",
      " 0   domain      object\n",
      " 1   content     object\n",
      " 2   scraped_at  object\n",
      " 3   title       object\n",
      " 4   label       object\n",
      " 5   day_name    object\n",
      "dtypes: object(6)\n",
      "memory usage: 81.8+ MB\n"
     ]
    }
   ],
   "source": [
    "dfa.info()"
   ]
  },
  {
   "cell_type": "markdown",
   "metadata": {},
   "source": [
    "**Examinining the original datasets to make sure no data was lost during the preprocessing**"
   ]
  },
  {
   "cell_type": "code",
   "execution_count": 33,
   "metadata": {
    "ExecuteTime": {
     "end_time": "2020-11-24T02:06:16.181830Z",
     "start_time": "2020-11-24T02:06:16.156807Z"
    }
   },
   "outputs": [
    {
     "name": "stdout",
     "output_type": "stream",
     "text": [
      "<class 'pandas.core.frame.DataFrame'>\n",
      "RangeIndex: 1788000 entries, 0 to 1787999\n",
      "Data columns (total 6 columns):\n",
      " #   Column      Dtype              \n",
      "---  ------      -----              \n",
      " 0   domain      object             \n",
      " 1   content     object             \n",
      " 2   scraped_at  datetime64[ns, UTC]\n",
      " 3   title       object             \n",
      " 4   label       object             \n",
      " 5   day_name    object             \n",
      "dtypes: datetime64[ns, UTC](1), object(5)\n",
      "memory usage: 81.8+ MB\n"
     ]
    }
   ],
   "source": [
    "df.info()"
   ]
  },
  {
   "cell_type": "code",
   "execution_count": null,
   "metadata": {},
   "outputs": [],
   "source": []
  }
 ],
 "metadata": {
  "kernelspec": {
   "display_name": "Python 3",
   "language": "python",
   "name": "python3"
  },
  "language_info": {
   "codemirror_mode": {
    "name": "ipython",
    "version": 3
   },
   "file_extension": ".py",
   "mimetype": "text/x-python",
   "name": "python",
   "nbconvert_exporter": "python",
   "pygments_lexer": "ipython3",
   "version": "3.8.5"
  }
 },
 "nbformat": 4,
 "nbformat_minor": 4
}
