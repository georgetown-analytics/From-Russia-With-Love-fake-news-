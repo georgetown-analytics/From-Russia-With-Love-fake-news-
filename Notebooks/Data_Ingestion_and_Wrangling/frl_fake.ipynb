{
 "cells": [
  {
   "cell_type": "code",
   "execution_count": 1,
   "metadata": {},
   "outputs": [
    {
     "name": "stdout",
     "output_type": "stream",
     "text": [
      "# packages in environment at /opt/conda:\n",
      "#\n",
      "# Name                    Version                   Build  Channel\n",
      "_ipyw_jlab_nb_ext_conf    0.1.0                    py37_0  \n",
      "_libgcc_mutex             0.1                        main  \n",
      "alabaster                 0.7.12                   py37_0  \n",
      "anaconda                  2020.02                  py37_0  \n",
      "anaconda-client           1.7.2                    py37_0  \n",
      "anaconda-navigator        1.9.12                   py37_0  \n",
      "anaconda-project          0.8.4                      py_0  \n",
      "argh                      0.26.2                   py37_0  \n",
      "asn1crypto                1.3.0                    py37_0  \n",
      "astroid                   2.3.3                    py37_0  \n",
      "astropy                   4.0              py37h7b6447c_0  \n",
      "atomicwrites              1.3.0                    py37_1  \n",
      "attrs                     19.3.0                     py_0  \n",
      "autopep8                  1.4.4                      py_0  \n",
      "awscli                    1.18.160                 pypi_0    pypi\n",
      "babel                     2.8.0                      py_0  \n",
      "backcall                  0.1.0                    py37_0  \n",
      "backports                 1.0                        py_2  \n",
      "backports.functools_lru_cache 1.6.1                      py_0  \n",
      "backports.shutil_get_terminal_size 1.0.0                    py37_2  \n",
      "backports.tempfile        1.0                        py_1  \n",
      "backports.weakref         1.0.post1                  py_1  \n",
      "bcrypt                    3.2.0                    pypi_0    pypi\n",
      "beautifulsoup4            4.8.2                    py37_0  \n",
      "bitarray                  1.2.1            py37h7b6447c_0  \n",
      "bkcharts                  0.2                      py37_0  \n",
      "blas                      1.0                         mkl  \n",
      "bleach                    3.1.0                    py37_0  \n",
      "blosc                     1.16.3               hd408876_0  \n",
      "bokeh                     1.4.0                    py37_0  \n",
      "boto                      2.49.0                   py37_0  \n",
      "boto3                     1.16.0                   pypi_0    pypi\n",
      "botocore                  1.19.0                   pypi_0    pypi\n",
      "bottleneck                1.3.2            py37heb32a55_0  \n",
      "bzip2                     1.0.8                h7b6447c_0  \n",
      "ca-certificates           2020.1.1                      0  \n",
      "cached-property           1.5.2                    pypi_0    pypi\n",
      "cairo                     1.14.12              h8948797_3  \n",
      "certifi                   2019.11.28               py37_0  \n",
      "cffi                      1.14.0           py37h2e261b9_0  \n",
      "chardet                   3.0.4                 py37_1003  \n",
      "click                     7.0                      py37_0  \n",
      "cloudpickle               1.3.0                      py_0  \n",
      "clyent                    1.2.2                    py37_1  \n",
      "colorama                  0.4.3                      py_0  \n",
      "conda                     4.8.2                    py37_0  \n",
      "conda-build               3.18.11                  py37_0  \n",
      "conda-env                 2.6.0                         1  \n",
      "conda-package-handling    1.6.0            py37h7b6447c_0  \n",
      "conda-verify              3.4.2                      py_1  \n",
      "contextlib2               0.6.0.post1                py_0  \n",
      "cryptography              2.8              py37h1ba5d50_0  \n",
      "curl                      7.68.0               hbc83047_0  \n",
      "cycler                    0.10.0                   py37_0  \n",
      "cython                    0.29.15          py37he6710b0_0  \n",
      "cytoolz                   0.10.1           py37h7b6447c_0  \n",
      "dask                      2.11.0                     py_0  \n",
      "dask-core                 2.11.0                     py_0  \n",
      "dbus                      1.13.12              h746ee38_0  \n",
      "decorator                 4.4.1                      py_0  \n",
      "defusedxml                0.6.0                      py_0  \n",
      "diff-match-patch          20181111                   py_0  \n",
      "distributed               2.11.0                   py37_0  \n",
      "distro                    1.5.0                    pypi_0    pypi\n",
      "docker                    4.3.1                    pypi_0    pypi\n",
      "docker-compose            1.27.4                   pypi_0    pypi\n",
      "dockerpty                 0.4.1                    pypi_0    pypi\n",
      "docopt                    0.6.2                    pypi_0    pypi\n",
      "docutils                  0.15.2                   pypi_0    pypi\n",
      "entrypoints               0.3                      py37_0  \n",
      "et_xmlfile                1.0.1                    py37_0  \n",
      "expat                     2.2.6                he6710b0_0  \n",
      "fastcache                 1.1.0            py37h7b6447c_0  \n",
      "filelock                  3.0.12                     py_0  \n",
      "flake8                    3.7.9                    py37_0  \n",
      "flask                     1.1.1                      py_0  \n",
      "fontconfig                2.13.0               h9420a91_0  \n",
      "freetype                  2.9.1                h8a8886c_1  \n",
      "fribidi                   1.0.5                h7b6447c_0  \n",
      "fsspec                    0.6.2                      py_0  \n",
      "future                    0.18.2                   py37_0  \n",
      "get_terminal_size         1.0.0                haa9412d_0  \n",
      "gevent                    1.4.0            py37h7b6447c_0  \n",
      "glib                      2.63.1               h5a9c865_0  \n",
      "glob2                     0.7                        py_0  \n",
      "gmp                       6.1.2                h6c8ec71_1  \n",
      "gmpy2                     2.0.8            py37h10f8cd9_2  \n",
      "google-pasta              0.2.0                    pypi_0    pypi\n",
      "graphite2                 1.3.13               h23475e2_0  \n",
      "greenlet                  0.4.15           py37h7b6447c_0  \n",
      "gst-plugins-base          1.14.0               hbbd80ab_1  \n",
      "gstreamer                 1.14.0               hb453b48_1  \n",
      "h5py                      2.10.0           py37h7918eee_0  \n",
      "harfbuzz                  1.8.8                hffaf4a1_0  \n",
      "hdf5                      1.10.4               hb1b8bf9_0  \n",
      "heapdict                  1.0.1                      py_0  \n",
      "html5lib                  1.0.1                    py37_0  \n",
      "hypothesis                5.5.4                      py_0  \n",
      "icu                       58.2                 h9c2bf20_1  \n",
      "idna                      2.8                      py37_0  \n",
      "imageio                   2.6.1                    py37_0  \n",
      "imagesize                 1.2.0                      py_0  \n",
      "importlib_metadata        1.5.0                    py37_0  \n",
      "intel-openmp              2020.0                      166  \n",
      "intervaltree              3.0.2                      py_0  \n",
      "ipykernel                 5.1.4            py37h39e3cac_0  \n",
      "ipython                   7.12.0           py37h5ca1d4c_0  \n",
      "ipython_genutils          0.2.0                    py37_0  \n",
      "ipywidgets                7.5.1                      py_0  \n",
      "isort                     4.3.21                   py37_0  \n",
      "itsdangerous              1.1.0                    py37_0  \n",
      "jbig                      2.1                  hdba287a_0  \n",
      "jdcal                     1.4.1                      py_0  \n",
      "jedi                      0.14.1                   py37_0  \n",
      "jeepney                   0.4.2                      py_0  \n",
      "jinja2                    2.11.1                     py_0  \n",
      "jmespath                  0.10.0                   pypi_0    pypi\n",
      "joblib                    0.14.1                     py_0  \n",
      "jpeg                      9b                   h024ee3a_2  \n",
      "json5                     0.9.1                      py_0  \n",
      "jsonschema                3.2.0                    py37_0  \n",
      "jupyter                   1.0.0                    py37_7  \n",
      "jupyter_client            5.3.4                    py37_0  \n",
      "jupyter_console           6.1.0                      py_0  \n",
      "jupyter_core              4.6.1                    py37_0  \n",
      "jupyterlab                1.2.6              pyhf63ae98_0  \n",
      "jupyterlab_server         1.0.6                      py_0  \n",
      "keyring                   21.1.0                   py37_0  \n",
      "kiwisolver                1.1.0            py37he6710b0_0  \n",
      "krb5                      1.17.1               h173b8e3_0  \n",
      "lazy-object-proxy         1.4.3            py37h7b6447c_0  \n",
      "ld_impl_linux-64          2.33.1               h53a641e_7  \n",
      "libarchive                3.3.3                h5d8350f_5  \n",
      "libcurl                   7.68.0               h20c2e04_0  \n",
      "libedit                   3.1.20181209         hc058e9b_0  \n",
      "libffi                    3.2.1                hd88cf55_4  \n",
      "libgcc-ng                 9.1.0                hdf63c60_0  \n",
      "libgfortran-ng            7.3.0                hdf63c60_0  \n",
      "liblief                   0.9.0                h7725739_2  \n",
      "libpng                    1.6.37               hbc83047_0  \n",
      "libsodium                 1.0.16               h1bed415_0  \n",
      "libspatialindex           1.9.3                he6710b0_0  \n",
      "libssh2                   1.8.2                h1ba5d50_0  \n",
      "libstdcxx-ng              9.1.0                hdf63c60_0  \n",
      "libtiff                   4.1.0                h2733197_0  \n",
      "libtool                   2.4.6                h7b6447c_5  \n",
      "libuuid                   1.0.3                h1bed415_2  \n",
      "libxcb                    1.13                 h1bed415_1  \n",
      "libxml2                   2.9.9                hea5a465_1  \n",
      "libxslt                   1.1.33               h7d1a2b0_0  \n",
      "llvmlite                  0.31.0           py37hd408876_0  \n",
      "locket                    0.2.0                    py37_1  \n",
      "lxml                      4.5.0            py37hefd8a0e_0  \n",
      "lz4-c                     1.8.1.2              h14c3975_0  \n",
      "lzo                       2.10                 h49e0be7_2  \n",
      "markupsafe                1.1.1            py37h7b6447c_0  \n",
      "matplotlib                3.1.3                    py37_0  \n",
      "matplotlib-base           3.1.3            py37hef1b27d_0  \n",
      "mccabe                    0.6.1                    py37_1  \n",
      "mistune                   0.8.4            py37h7b6447c_0  \n",
      "mkl                       2020.0                      166  \n",
      "mkl-service               2.3.0            py37he904b0f_0  \n",
      "mkl_fft                   1.0.15           py37ha843d7b_0  \n",
      "mkl_random                1.1.0            py37hd6b4f25_0  \n",
      "mock                      4.0.1                      py_0  \n",
      "more-itertools            8.2.0                      py_0  \n",
      "mpc                       1.1.0                h10f8cd9_1  \n",
      "mpfr                      4.0.1                hdf1c602_3  \n",
      "mpmath                    1.1.0                    py37_0  \n",
      "msgpack-python            0.6.1            py37hfd86e86_1  \n",
      "multipledispatch          0.6.0                    py37_0  \n",
      "navigator-updater         0.2.1                    py37_0  \n",
      "nbconvert                 5.6.1                    py37_0  \n",
      "nbformat                  5.0.4                      py_0  \n",
      "ncurses                   6.2                  he6710b0_0  \n",
      "networkx                  2.4                        py_0  \n",
      "nltk                      3.4.5                    py37_0  \n",
      "nose                      1.3.7                    py37_2  \n",
      "notebook                  6.0.3                    py37_0  \n",
      "numba                     0.48.0           py37h0573a6f_0  \n",
      "numexpr                   2.7.1            py37h423224d_0  \n",
      "numpy                     1.18.1           py37h4f9e942_0  \n",
      "numpy-base                1.18.1           py37hde5b4d6_1  \n",
      "numpydoc                  0.9.2                      py_0  \n",
      "olefile                   0.46                     py37_0  \n",
      "openpyxl                  3.0.3                      py_0  \n",
      "openssl                   1.1.1d               h7b6447c_4  \n",
      "packaging                 20.1                       py_0  \n",
      "pandas                    1.0.1            py37h0573a6f_0  \n",
      "pandoc                    2.2.3.2                       0  \n",
      "pandocfilters             1.4.2                    py37_1  \n",
      "pango                     1.42.4               h049681c_0  \n",
      "paramiko                  2.7.2                    pypi_0    pypi\n",
      "parso                     0.5.2                      py_0  \n",
      "partd                     1.1.0                      py_0  \n",
      "patchelf                  0.10                 he6710b0_0  \n",
      "path                      13.1.0                   py37_0  \n",
      "path.py                   12.4.0                        0  \n",
      "pathlib2                  2.3.5                    py37_0  \n",
      "pathtools                 0.1.2                      py_1  \n",
      "patsy                     0.5.1                    py37_0  \n",
      "pcre                      8.43                 he6710b0_0  \n",
      "pep8                      1.7.1                    py37_0  \n",
      "pexpect                   4.8.0                    py37_0  \n",
      "pickleshare               0.7.5                    py37_0  \n",
      "pillow                    7.0.0            py37hb39fc2d_0  \n",
      "pip                       20.0.2                   py37_1  \n",
      "pixman                    0.38.0               h7b6447c_0  \n",
      "pkginfo                   1.5.0.1                  py37_0  \n",
      "pluggy                    0.13.1                   py37_0  \n",
      "ply                       3.11                     py37_0  \n",
      "prometheus_client         0.7.1                      py_0  \n",
      "prompt_toolkit            3.0.3                      py_0  \n",
      "protobuf                  3.13.0                   pypi_0    pypi\n",
      "protobuf3-to-dict         0.1.5                    pypi_0    pypi\n",
      "psutil                    5.6.7            py37h7b6447c_0  \n",
      "ptyprocess                0.6.0                    py37_0  \n",
      "py                        1.8.1                      py_0  \n",
      "py-lief                   0.9.0            py37h7725739_2  \n",
      "pyasn1                    0.4.8                    pypi_0    pypi\n",
      "pycodestyle               2.5.0                    py37_0  \n",
      "pycosat                   0.6.3            py37h7b6447c_0  \n",
      "pycparser                 2.19                     py37_0  \n",
      "pycrypto                  2.6.1            py37h14c3975_9  \n",
      "pycurl                    7.43.0.5         py37h1ba5d50_0  \n",
      "pydocstyle                4.0.1                      py_0  \n",
      "pyflakes                  2.1.1                    py37_0  \n",
      "pygments                  2.5.2                      py_0  \n",
      "pylint                    2.4.4                    py37_0  \n",
      "pynacl                    1.4.0                    pypi_0    pypi\n",
      "pyodbc                    4.0.30           py37he6710b0_0  \n",
      "pyopenssl                 19.1.0                   py37_0  \n",
      "pyparsing                 2.4.6                      py_0  \n",
      "pyqt                      5.9.2            py37h05f1152_2  \n",
      "pyrsistent                0.15.7           py37h7b6447c_0  \n",
      "pysocks                   1.7.1                    py37_0  \n",
      "pytables                  3.6.1            py37h71ec239_0  \n",
      "pytest                    5.3.5                    py37_0  \n",
      "pytest-arraydiff          0.3              py37h39e3cac_0  \n",
      "pytest-astropy            0.8.0                      py_0  \n",
      "pytest-astropy-header     0.1.2                      py_0  \n",
      "pytest-doctestplus        0.5.0                      py_0  \n",
      "pytest-openfiles          0.4.0                      py_0  \n",
      "pytest-remotedata         0.3.2                    py37_0  \n",
      "python                    3.7.6                h0371630_2  \n",
      "python-dateutil           2.8.1                      py_0  \n",
      "python-dotenv             0.14.0                   pypi_0    pypi\n",
      "python-jsonrpc-server     0.3.4                      py_0  \n",
      "python-language-server    0.31.7                   py37_0  \n",
      "python-libarchive-c       2.8                     py37_13  \n",
      "pytz                      2019.3                     py_0  \n",
      "pywavelets                1.1.1            py37h7b6447c_0  \n",
      "pyxdg                     0.26                       py_0  \n",
      "pyyaml                    5.3              py37h7b6447c_0  \n",
      "pyzmq                     18.1.1           py37he6710b0_0  \n",
      "qdarkstyle                2.8                        py_0  \n",
      "qt                        5.9.7                h5867ecd_1  \n",
      "qtawesome                 0.6.1                      py_0  \n",
      "qtconsole                 4.6.0                      py_1  \n",
      "qtpy                      1.9.0                      py_0  \n",
      "readline                  7.0                  h7b6447c_5  \n",
      "requests                  2.22.0                   py37_1  \n",
      "ripgrep                   11.0.2               he32d670_0  \n",
      "rope                      0.16.0                     py_0  \n",
      "rsa                       4.5                      pypi_0    pypi\n",
      "rtree                     0.9.3                    py37_0  \n",
      "ruamel_yaml               0.15.87          py37h7b6447c_0  \n",
      "s3transfer                0.3.3                    pypi_0    pypi\n",
      "sagemaker                 2.15.2                   pypi_0    pypi\n",
      "scikit-image              0.16.2           py37h0573a6f_0  \n",
      "scikit-learn              0.22.1           py37hd81dba3_0  \n",
      "scipy                     1.4.1            py37h0b6359f_0  \n",
      "seaborn                   0.10.0                     py_0  \n",
      "secretstorage             3.1.2                    py37_0  \n",
      "send2trash                1.5.0                    py37_0  \n",
      "setuptools                45.2.0                   py37_0  \n",
      "simplegeneric             0.8.1                    py37_2  \n",
      "singledispatch            3.4.0.3                  py37_0  \n",
      "sip                       4.19.8           py37hf484d3e_0  \n",
      "six                       1.14.0                   py37_0  \n",
      "smdebug-rulesconfig       0.1.5                    pypi_0    pypi\n",
      "snappy                    1.1.7                hbae5bb6_3  \n",
      "snowballstemmer           2.0.0                      py_0  \n",
      "sortedcollections         1.1.2                    py37_0  \n",
      "sortedcontainers          2.1.0                    py37_0  \n",
      "soupsieve                 1.9.5                    py37_0  \n",
      "sphinx                    2.4.0                      py_0  \n",
      "sphinxcontrib             1.0                      py37_1  \n",
      "sphinxcontrib-applehelp   1.0.1                      py_0  \n",
      "sphinxcontrib-devhelp     1.0.1                      py_0  \n",
      "sphinxcontrib-htmlhelp    1.0.2                      py_0  \n",
      "sphinxcontrib-jsmath      1.0.1                      py_0  \n",
      "sphinxcontrib-qthelp      1.0.2                      py_0  \n",
      "sphinxcontrib-serializinghtml 1.1.3                      py_0  \n",
      "sphinxcontrib-websupport  1.2.0                      py_0  \n",
      "spyder                    4.0.1                    py37_0  \n",
      "spyder-kernels            1.8.1                    py37_0  \n",
      "sqlalchemy                1.3.13           py37h7b6447c_0  \n",
      "sqlite                    3.31.1               h7b6447c_0  \n",
      "statsmodels               0.11.0           py37h7b6447c_0  \n",
      "sympy                     1.5.1                    py37_0  \n",
      "tbb                       2020.0               hfd86e86_0  \n",
      "tblib                     1.6.0                      py_0  \n",
      "terminado                 0.8.3                    py37_0  \n",
      "testpath                  0.4.4                      py_0  \n",
      "texttable                 1.6.3                    pypi_0    pypi\n",
      "tk                        8.6.8                hbc83047_0  \n",
      "toolz                     0.10.0                     py_0  \n",
      "tornado                   6.0.3            py37h7b6447c_3  \n",
      "tqdm                      4.42.1                     py_0  \n",
      "traitlets                 4.3.3                    py37_0  \n",
      "ujson                     1.35             py37h14c3975_0  \n",
      "unicodecsv                0.14.1                   py37_0  \n",
      "unixodbc                  2.3.7                h14c3975_0  \n",
      "urllib3                   1.25.8                   py37_0  \n",
      "watchdog                  0.10.2                   py37_0  \n",
      "wcwidth                   0.1.8                      py_0  \n",
      "webencodings              0.5.1                    py37_1  \n",
      "websocket-client          0.57.0                   pypi_0    pypi\n",
      "werkzeug                  1.0.0                      py_0  \n",
      "wheel                     0.34.2                   py37_0  \n",
      "widgetsnbextension        3.5.1                    py37_0  \n",
      "wrapt                     1.11.2           py37h7b6447c_0  \n",
      "wurlitzer                 2.0.0                    py37_0  \n",
      "xlrd                      1.2.0                    py37_0  \n",
      "xlsxwriter                1.2.7                      py_0  \n",
      "xlwt                      1.3.0                    py37_0  \n",
      "xmltodict                 0.12.0                     py_0  \n",
      "xz                        5.2.4                h14c3975_4  \n",
      "yaml                      0.1.7                had09818_2  \n",
      "yapf                      0.28.0                     py_0  \n",
      "zeromq                    4.3.1                he6710b0_3  \n",
      "zict                      1.0.0                      py_0  \n",
      "zipp                      2.2.0                      py_0  \n",
      "zlib                      1.2.11               h7b6447c_3  \n",
      "zstd                      1.3.7                h0b5b093_0  \n"
     ]
    }
   ],
   "source": [
    "!conda list"
   ]
  },
  {
   "cell_type": "code",
   "execution_count": 3,
   "metadata": {},
   "outputs": [
    {
     "name": "stdout",
     "output_type": "stream",
     "text": [
      "\n",
      "CommandNotFoundError: No command 'conda conda-forge'.\n",
      "\n",
      "\n",
      "Note: you may need to restart the kernel to use updated packages.\n"
     ]
    }
   ],
   "source": [
    "conda -c conda-forge install unicode"
   ]
  },
  {
   "cell_type": "code",
   "execution_count": 4,
   "metadata": {},
   "outputs": [
    {
     "name": "stdout",
     "output_type": "stream",
     "text": [
      "Collecting package metadata (current_repodata.json): done\n",
      "Solving environment: / \n",
      "The environment is inconsistent, please check the package plan carefully\n",
      "The following packages are causing the inconsistency:\n",
      "\n",
      "  - defaults/linux-64::anaconda==2020.02=py37_0\n",
      "  - defaults/noarch::numpydoc==0.9.2=py_0\n",
      "  - defaults/noarch::sphinx==2.4.0=py_0\n",
      "  - defaults/linux-64::spyder==4.0.1=py37_0\n",
      "failed with initial frozen solve. Retrying with flexible solve.\n",
      "Solving environment: done\n",
      "Collecting package metadata (repodata.json): done\n",
      "Solving environment: \\ \n",
      "The environment is inconsistent, please check the package plan carefully\n",
      "The following packages are causing the inconsistency:\n",
      "\n",
      "  - defaults/linux-64::anaconda==2020.02=py37_0\n",
      "  - defaults/noarch::numpydoc==0.9.2=py_0\n",
      "  - defaults/noarch::sphinx==2.4.0=py_0\n",
      "  - defaults/linux-64::spyder==4.0.1=py37_0\n",
      "done\n",
      "\n",
      "## Package Plan ##\n",
      "\n",
      "  environment location: /opt/conda\n",
      "\n",
      "  added / updated specs:\n",
      "    - s3fs\n",
      "\n",
      "\n",
      "The following packages will be downloaded:\n",
      "\n",
      "    package                    |            build\n",
      "    ---------------------------|-----------------\n",
      "    _anaconda_depends-2020.02  |           py37_0           6 KB\n",
      "    anaconda-custom            |           py37_1           3 KB\n",
      "    boto3-1.16.7               |     pyhd3eb1b0_0          70 KB\n",
      "    botocore-1.19.7            |     pyhd3eb1b0_0         3.2 MB\n",
      "    ca-certificates-2020.10.14 |                0         121 KB\n",
      "    certifi-2020.6.20          |   py37h06a4308_2         149 KB\n",
      "    conda-4.9.1                |   py37h06a4308_0         2.9 MB\n",
      "    docutils-0.15.2            |           py37_0         660 KB\n",
      "    jmespath-0.10.0            |             py_0          23 KB\n",
      "    openssl-1.1.1h             |       h7b6447c_0         2.5 MB\n",
      "    s3fs-0.4.2                 |             py_0          27 KB\n",
      "    s3transfer-0.3.3           |           py37_1          92 KB\n",
      "    ------------------------------------------------------------\n",
      "                                           Total:         9.8 MB\n",
      "\n",
      "The following NEW packages will be INSTALLED:\n",
      "\n",
      "  _anaconda_depends  pkgs/main/linux-64::_anaconda_depends-2020.02-py37_0\n",
      "  boto3              pkgs/main/noarch::boto3-1.16.7-pyhd3eb1b0_0\n",
      "  botocore           pkgs/main/noarch::botocore-1.19.7-pyhd3eb1b0_0\n",
      "  docutils           pkgs/main/linux-64::docutils-0.15.2-py37_0\n",
      "  jmespath           pkgs/main/noarch::jmespath-0.10.0-py_0\n",
      "  s3fs               pkgs/main/noarch::s3fs-0.4.2-py_0\n",
      "  s3transfer         pkgs/main/linux-64::s3transfer-0.3.3-py37_1\n",
      "\n",
      "The following packages will be UPDATED:\n",
      "\n",
      "  ca-certificates                                2020.1.1-0 --> 2020.10.14-0\n",
      "  certifi                                 2019.11.28-py37_0 --> 2020.6.20-py37h06a4308_2\n",
      "  conda                                        4.8.2-py37_0 --> 4.9.1-py37h06a4308_0\n",
      "  openssl                                 1.1.1d-h7b6447c_4 --> 1.1.1h-h7b6447c_0\n",
      "\n",
      "The following packages will be DOWNGRADED:\n",
      "\n",
      "  anaconda                                   2020.02-py37_0 --> custom-py37_1\n",
      "\n",
      "\n",
      "\n",
      "Downloading and Extracting Packages\n",
      "s3fs-0.4.2           | 27 KB     | ##################################### | 100% \n",
      "anaconda-custom      | 3 KB      | ##################################### | 100% \n",
      "openssl-1.1.1h       | 2.5 MB    | ##################################### | 100% \n",
      "botocore-1.19.7      | 3.2 MB    | ##################################### | 100% \n",
      "conda-4.9.1          | 2.9 MB    | ##################################### | 100% \n",
      "_anaconda_depends-20 | 6 KB      | ##################################### | 100% \n",
      "docutils-0.15.2      | 660 KB    | ##################################### | 100% \n",
      "boto3-1.16.7         | 70 KB     | ##################################### | 100% \n",
      "jmespath-0.10.0      | 23 KB     | ##################################### | 100% \n",
      "certifi-2020.6.20    | 149 KB    | ##################################### | 100% \n",
      "ca-certificates-2020 | 121 KB    | ##################################### | 100% \n",
      "s3transfer-0.3.3     | 92 KB     | ##################################### | 100% \n",
      "Preparing transaction: done\n",
      "Verifying transaction: done\n",
      "Executing transaction: done\n",
      "\n",
      "Note: you may need to restart the kernel to use updated packages.\n"
     ]
    }
   ],
   "source": [
    "conda install s3fs -y"
   ]
  },
  {
   "cell_type": "code",
   "execution_count": 1,
   "metadata": {},
   "outputs": [],
   "source": [
    "import s3fs"
   ]
  },
  {
   "cell_type": "code",
   "execution_count": 2,
   "metadata": {},
   "outputs": [],
   "source": [
    "import csv\n",
    "import sys"
   ]
  },
  {
   "cell_type": "markdown",
   "metadata": {},
   "source": [
    "**Checking the field size limit for csv because from past attempt to load the data, i get `_csv.Error: field larger than field limit (131072)`"
   ]
  },
  {
   "cell_type": "code",
   "execution_count": 3,
   "metadata": {},
   "outputs": [
    {
     "data": {
      "text/plain": [
       "131072"
      ]
     },
     "execution_count": 3,
     "metadata": {},
     "output_type": "execute_result"
    }
   ],
   "source": [
    "csv.field_size_limit()"
   ]
  },
  {
   "cell_type": "markdown",
   "metadata": {},
   "source": [
    "**The following script i found on stackoverflow will increase the csv filed limit to the maximmum**"
   ]
  },
  {
   "cell_type": "code",
   "execution_count": 4,
   "metadata": {},
   "outputs": [],
   "source": [
    "\n",
    "maxInt = sys.maxsize\n",
    "\n",
    "while True:\n",
    "    # decrease the maxInt value by factor 10 \n",
    "    # as long as the OverflowError occurs.\n",
    "\n",
    "    try:\n",
    "        csv.field_size_limit(maxInt)\n",
    "        break\n",
    "    except OverflowError:\n",
    "        maxInt = int(maxInt/10)\n",
    "        \n"
   ]
  },
  {
   "cell_type": "code",
   "execution_count": 5,
   "metadata": {},
   "outputs": [
    {
     "data": {
      "text/plain": [
       "9223372036854775807"
      ]
     },
     "execution_count": 5,
     "metadata": {},
     "output_type": "execute_result"
    }
   ],
   "source": [
    "csv.field_size_limit()"
   ]
  },
  {
   "cell_type": "code",
   "execution_count": 6,
   "metadata": {},
   "outputs": [],
   "source": [
    "import pandas as pd\n",
    "input_data = 's3://sagemaker-studio-zvdmh7fos3/news_cleaned_2018_02_13.csv'"
   ]
  },
  {
   "cell_type": "code",
   "execution_count": 7,
   "metadata": {},
   "outputs": [],
   "source": [
    "chunksize = 500000 # 500 thousand rows at one go."
   ]
  },
  {
   "cell_type": "code",
   "execution_count": 9,
   "metadata": {},
   "outputs": [],
   "source": [
    "import pandas as pd\n",
    "import matplotlib.pyplot as plt\n",
    "import numpy as np\n",
    "import os\n",
    "import sys\n",
    "import csv\n",
    "from tqdm import tqdm\n",
    "tqdm.pandas(desc=\"progress-bar\")\n",
    "import seaborn as sns\n",
    "import dask.dataframe as dd\n",
    "import warnings\n",
    "warnings.filterwarnings('ignore')\n",
    "\n",
    "%matplotlib inline\n",
    "sns.set(style='darkgrid',palette='Dark2',rc={'figure.figsize':(9,6),'figure.dpi':100}) #setting seaborn plot size and resolution"
   ]
  },
  {
   "cell_type": "code",
   "execution_count": 10,
   "metadata": {},
   "outputs": [
    {
     "name": "stderr",
     "output_type": "stream",
     "text": [
      "18it [25:24, 84.72s/it]"
     ]
    },
    {
     "name": "stdout",
     "output_type": "stream",
     "text": [
      "CPU times: user 8min 38s, sys: 1min 37s, total: 10min 15s\n",
      "Wall time: 25min 25s\n"
     ]
    },
    {
     "name": "stderr",
     "output_type": "stream",
     "text": [
      "\n"
     ]
    }
   ],
   "source": [
    "%%time\n",
    "df_list = [] # list to hold the batch dataframe\n",
    "\n",
    "for df_chunk in tqdm(pd.read_csv(input_data, chunksize=chunksize, encoding ='utf-8', engine='python')):\n",
    "    \n",
    "    # append the chunk to list and merge all\n",
    "    df_list.append(df_chunk)"
   ]
  },
  {
   "cell_type": "code",
   "execution_count": 11,
   "metadata": {},
   "outputs": [
    {
     "name": "stdout",
     "output_type": "stream",
     "text": [
      "<class 'pandas.core.frame.DataFrame'>\n",
      "RangeIndex: 8529090 entries, 0 to 8529089\n",
      "Data columns (total 17 columns):\n",
      " #   Column            Dtype  \n",
      "---  ------            -----  \n",
      " 0   Unnamed: 0        object \n",
      " 1   id                object \n",
      " 2   domain            object \n",
      " 3   type              object \n",
      " 4   url               object \n",
      " 5   content           object \n",
      " 6   scraped_at        object \n",
      " 7   inserted_at       object \n",
      " 8   updated_at        object \n",
      " 9   title             object \n",
      " 10  authors           object \n",
      " 11  keywords          float64\n",
      " 12  meta_keywords     object \n",
      " 13  meta_description  object \n",
      " 14  tags              object \n",
      " 15  summary           float64\n",
      " 16  source            object \n",
      "dtypes: float64(2), object(15)\n",
      "memory usage: 1.1+ GB\n",
      "CPU times: user 8.53 s, sys: 2.32 s, total: 10.9 s\n",
      "Wall time: 10.8 s\n"
     ]
    }
   ],
   "source": [
    "\n",
    "%%time\n",
    "# Merge all the chunked dataframes into one dataframe\n",
    "frl_df = pd.concat(df_list)\n",
    "\n",
    "# Delete the chunked dataframe list to release memory\n",
    "del df_list\n",
    "\n",
    "# See what we have loaded\n",
    "frl_df.info()\n",
    "\n"
   ]
  },
  {
   "cell_type": "code",
   "execution_count": 12,
   "metadata": {},
   "outputs": [],
   "source": [
    "def missing_value(df):\n",
    "    \"\"\"\" Function to calculate the number and percent of missing values in a dataframe\"\"\"\n",
    "    total = df.isnull().sum().sort_values(ascending=False)\n",
    "    percent = ((df.isnull().sum()/df.isnull().count())*100).sort_values(ascending=False)\n",
    "    missing_value = pd.concat([total, percent], axis=1, keys=['Total','Percent'])\n",
    "    return missing_value"
   ]
  },
  {
   "cell_type": "code",
   "execution_count": 13,
   "metadata": {},
   "outputs": [
    {
     "data": {
      "text/html": [
       "<div>\n",
       "<style scoped>\n",
       "    .dataframe tbody tr th:only-of-type {\n",
       "        vertical-align: middle;\n",
       "    }\n",
       "\n",
       "    .dataframe tbody tr th {\n",
       "        vertical-align: top;\n",
       "    }\n",
       "\n",
       "    .dataframe thead th {\n",
       "        text-align: right;\n",
       "    }\n",
       "</style>\n",
       "<table border=\"1\" class=\"dataframe\">\n",
       "  <thead>\n",
       "    <tr style=\"text-align: right;\">\n",
       "      <th></th>\n",
       "      <th>Total</th>\n",
       "      <th>Percent</th>\n",
       "    </tr>\n",
       "  </thead>\n",
       "  <tbody>\n",
       "    <tr>\n",
       "      <th>keywords</th>\n",
       "      <td>8529090</td>\n",
       "      <td>100.000000</td>\n",
       "    </tr>\n",
       "    <tr>\n",
       "      <th>summary</th>\n",
       "      <td>8529090</td>\n",
       "      <td>100.000000</td>\n",
       "    </tr>\n",
       "    <tr>\n",
       "      <th>source</th>\n",
       "      <td>6648509</td>\n",
       "      <td>77.950977</td>\n",
       "    </tr>\n",
       "    <tr>\n",
       "      <th>tags</th>\n",
       "      <td>6560614</td>\n",
       "      <td>76.920445</td>\n",
       "    </tr>\n",
       "    <tr>\n",
       "      <th>meta_description</th>\n",
       "      <td>4481955</td>\n",
       "      <td>52.549041</td>\n",
       "    </tr>\n",
       "    <tr>\n",
       "      <th>authors</th>\n",
       "      <td>3791648</td>\n",
       "      <td>44.455481</td>\n",
       "    </tr>\n",
       "    <tr>\n",
       "      <th>type</th>\n",
       "      <td>403332</td>\n",
       "      <td>4.728898</td>\n",
       "    </tr>\n",
       "    <tr>\n",
       "      <th>meta_keywords</th>\n",
       "      <td>338030</td>\n",
       "      <td>3.963260</td>\n",
       "    </tr>\n",
       "    <tr>\n",
       "      <th>title</th>\n",
       "      <td>73368</td>\n",
       "      <td>0.860209</td>\n",
       "    </tr>\n",
       "    <tr>\n",
       "      <th>scraped_at</th>\n",
       "      <td>147</td>\n",
       "      <td>0.001724</td>\n",
       "    </tr>\n",
       "    <tr>\n",
       "      <th>updated_at</th>\n",
       "      <td>147</td>\n",
       "      <td>0.001724</td>\n",
       "    </tr>\n",
       "    <tr>\n",
       "      <th>inserted_at</th>\n",
       "      <td>147</td>\n",
       "      <td>0.001724</td>\n",
       "    </tr>\n",
       "    <tr>\n",
       "      <th>content</th>\n",
       "      <td>134</td>\n",
       "      <td>0.001571</td>\n",
       "    </tr>\n",
       "    <tr>\n",
       "      <th>url</th>\n",
       "      <td>121</td>\n",
       "      <td>0.001419</td>\n",
       "    </tr>\n",
       "    <tr>\n",
       "      <th>domain</th>\n",
       "      <td>121</td>\n",
       "      <td>0.001419</td>\n",
       "    </tr>\n",
       "    <tr>\n",
       "      <th>id</th>\n",
       "      <td>49</td>\n",
       "      <td>0.000575</td>\n",
       "    </tr>\n",
       "    <tr>\n",
       "      <th>Unnamed: 0</th>\n",
       "      <td>13</td>\n",
       "      <td>0.000152</td>\n",
       "    </tr>\n",
       "  </tbody>\n",
       "</table>\n",
       "</div>"
      ],
      "text/plain": [
       "                    Total     Percent\n",
       "keywords          8529090  100.000000\n",
       "summary           8529090  100.000000\n",
       "source            6648509   77.950977\n",
       "tags              6560614   76.920445\n",
       "meta_description  4481955   52.549041\n",
       "authors           3791648   44.455481\n",
       "type               403332    4.728898\n",
       "meta_keywords      338030    3.963260\n",
       "title               73368    0.860209\n",
       "scraped_at            147    0.001724\n",
       "updated_at            147    0.001724\n",
       "inserted_at           147    0.001724\n",
       "content               134    0.001571\n",
       "url                   121    0.001419\n",
       "domain                121    0.001419\n",
       "id                     49    0.000575\n",
       "Unnamed: 0             13    0.000152"
      ]
     },
     "execution_count": 13,
     "metadata": {},
     "output_type": "execute_result"
    }
   ],
   "source": [
    "missing_value(frl_df)"
   ]
  },
  {
   "cell_type": "code",
   "execution_count": 14,
   "metadata": {},
   "outputs": [
    {
     "name": "stdout",
     "output_type": "stream",
     "text": [
      "  Unnamed: 0 id              domain   type  \\\n",
      "0          0  2       express.co.uk  rumor   \n",
      "1          1  6  barenakedislam.com   hate   \n",
      "2          2  7  barenakedislam.com   hate   \n",
      "3          3  8  barenakedislam.com   hate   \n",
      "4          4  9  barenakedislam.com   hate   \n",
      "\n",
      "                                                 url  \\\n",
      "0  https://www.express.co.uk/news/science/738402/...   \n",
      "1  http://barenakedislam.com/category/donald-trum...   \n",
      "2  http://barenakedislam.com/category/donald-trum...   \n",
      "3  http://barenakedislam.com/2017/12/24/more-winn...   \n",
      "4  http://barenakedislam.com/2017/12/25/oh-trump-...   \n",
      "\n",
      "                                             content  \\\n",
      "0  Life is an illusion, at least on a quantum lev...   \n",
      "1  Unfortunately, he hasn’t yet attacked her for ...   \n",
      "2  The Los Angeles Police Department has been den...   \n",
      "3  The White House has decided to quietly withdra...   \n",
      "4  “The time has come to cut off the tongues of t...   \n",
      "\n",
      "                   scraped_at                 inserted_at  \\\n",
      "0  2018-01-25 16:17:44.789555  2018-02-02 01:19:41.756632   \n",
      "1  2018-01-25 16:17:44.789555  2018-02-02 01:19:41.756632   \n",
      "2  2018-01-25 16:17:44.789555  2018-02-02 01:19:41.756632   \n",
      "3  2018-01-25 16:17:44.789555  2018-02-02 01:19:41.756632   \n",
      "4  2018-01-25 16:17:44.789555  2018-02-02 01:19:41.756632   \n",
      "\n",
      "                   updated_at  \\\n",
      "0  2018-02-02 01:19:41.756664   \n",
      "1  2018-02-02 01:19:41.756664   \n",
      "2  2018-02-02 01:19:41.756664   \n",
      "3  2018-02-02 01:19:41.756664   \n",
      "4  2018-02-02 01:19:41.756664   \n",
      "\n",
      "                                               title  \\\n",
      "0  Is life an ILLUSION? Researchers prove 'realit...   \n",
      "1                                       Donald Trump   \n",
      "2                                       Donald Trump   \n",
      "3  MORE WINNING! Israeli intelligence source, DEB...   \n",
      "4  “Oh, Trump, you coward, you just wait, we will...   \n",
      "\n",
      "                                             authors  keywords meta_keywords  \\\n",
      "0                                        Sean Martin       NaN          ['']   \n",
      "1  Linda Rivera, Conrad Calvano, Az Gal, Lincoln ...       NaN          ['']   \n",
      "2  Linda Rivera, Conrad Calvano, Az Gal, Lincoln ...       NaN          ['']   \n",
      "3  Cleavis Nowell, Cleavisnowell, Clarence J. Fei...       NaN          ['']   \n",
      "4  F.N. Lehner, Don Spilman, Clarence J. Feinour,...       NaN          ['']   \n",
      "\n",
      "                                    meta_description tags  summary source  \n",
      "0  THE UNIVERSE ceases to exist when we are not l...  NaN      NaN    NaN  \n",
      "1                                                NaN  NaN      NaN    NaN  \n",
      "2                                                NaN  NaN      NaN    NaN  \n",
      "3                                                NaN  NaN      NaN    NaN  \n",
      "4                                                NaN  NaN      NaN    NaN  \n",
      "        Unnamed: 0       id       domain      type  \\\n",
      "8529085       8951  9878292  nytimes.com  reliable   \n",
      "8529086       8952  9878293  nytimes.com  reliable   \n",
      "8529087       8953  9878294  nytimes.com  reliable   \n",
      "8529088       8954  9878295  nytimes.com  reliable   \n",
      "8529089       8955  9878296  nytimes.com  reliable   \n",
      "\n",
      "                                                       url  \\\n",
      "8529085  https://www.nytimes.com/2018/02/06/opinion/cor...   \n",
      "8529086  https://www.nytimes.com/2018/02/06/business/st...   \n",
      "8529087  https://www.nytimes.com/2018/02/06/nyregion/he...   \n",
      "8529088  https://www.nytimes.com/2018/02/06/opinion/pep...   \n",
      "8529089  https://www.nytimes.com/2018/02/06/science/bom...   \n",
      "\n",
      "                                                   content  \\\n",
      "8529085  Photo\\n\\nMan does not live by bread alone, it ...   \n",
      "8529086  VIX, which measures investor expectations that...   \n",
      "8529087  Housing Authority residents in the audience we...   \n",
      "8529088  He has a curious way of expressing it, though....   \n",
      "8529089  Video\\n\\nFor most prey, the game is over once ...   \n",
      "\n",
      "                         scraped_at                 inserted_at  \\\n",
      "8529085  2018-02-11 00:49:52.109651  2018-02-11 00:14:20.346838   \n",
      "8529086  2018-02-11 00:49:52.110404  2018-02-11 00:14:20.346838   \n",
      "8529087  2018-02-11 00:49:52.111090  2018-02-11 00:14:20.346838   \n",
      "8529088  2018-02-11 00:49:52.111794  2018-02-11 00:14:20.346838   \n",
      "8529089  2018-02-11 00:49:52.112447  2018-02-11 00:14:20.346838   \n",
      "\n",
      "                         updated_at  \\\n",
      "8529085  2018-02-11 00:14:20.346871   \n",
      "8529086  2018-02-11 00:14:20.346871   \n",
      "8529087  2018-02-11 00:14:20.346871   \n",
      "8529088  2018-02-11 00:14:20.346871   \n",
      "8529089  2018-02-11 00:14:20.346871   \n",
      "\n",
      "                                                     title  \\\n",
      "8529085              Corruption With a Chance of Meatballs   \n",
      "8529086  Volatility Rattles Stocks, and Investors Who B...   \n",
      "8529087  As 4 of 5 in Public Housing Lost Heat, a Deman...   \n",
      "8529088          Who Said It: Pepé Le Pew or Donald Trump?   \n",
      "8529089  Toads Eat Beetles. Sometimes, Beetles Make The...   \n",
      "\n",
      "                        authors  keywords  \\\n",
      "8529085          Clyde Haberman       NaN   \n",
      "8529086       Landon Thomas Jr.       NaN   \n",
      "8529087          William Neuman       NaN   \n",
      "8529088  Jennifer Finney Boylan       NaN   \n",
      "8529089         Douglas Quenqua       NaN   \n",
      "\n",
      "                                             meta_keywords  \\\n",
      "8529085  ['Bribery and Kickbacks', 'Corruption (Institu...   \n",
      "8529086  ['Stocks and Bonds', 'Chicago Board Options Ex...   \n",
      "8529087  ['Public and Subsidized Housing', 'Heating', '...   \n",
      "8529088  ['Cartoons and Cartoonists', 'Looney Tunes', '...   \n",
      "8529089  ['Frogs', 'Beetles', 'Poisoning and Poisons', ...   \n",
      "\n",
      "                                          meta_description tags  summary  \\\n",
      "8529085  From boxes of “ziti” to “tea money,” food and ...  NaN      NaN   \n",
      "8529086  Banks have created a variety of risky funds th...  NaN      NaN   \n",
      "8529087  In a dramatic City Council hearing, officials ...  NaN      NaN   \n",
      "8529088  What the president has in common with Looney T...  NaN      NaN   \n",
      "8529089  When toads swallow bombardier beetles, the bee...  NaN      NaN   \n",
      "\n",
      "          source  \n",
      "8529085  nytimes  \n",
      "8529086  nytimes  \n",
      "8529087  nytimes  \n",
      "8529088  nytimes  \n",
      "8529089  nytimes  \n"
     ]
    }
   ],
   "source": [
    "print(frl_df.head())\n",
    "print(frl_df.tail())"
   ]
  },
  {
   "cell_type": "code",
   "execution_count": 15,
   "metadata": {},
   "outputs": [
    {
     "data": {
      "text/plain": [
       "['Unnamed: 0',\n",
       " 'id',\n",
       " 'domain',\n",
       " 'type',\n",
       " 'url',\n",
       " 'content',\n",
       " 'scraped_at',\n",
       " 'inserted_at',\n",
       " 'updated_at',\n",
       " 'title',\n",
       " 'authors',\n",
       " 'keywords',\n",
       " 'meta_keywords',\n",
       " 'meta_description',\n",
       " 'tags',\n",
       " 'summary',\n",
       " 'source']"
      ]
     },
     "execution_count": 15,
     "metadata": {},
     "output_type": "execute_result"
    }
   ],
   "source": [
    "list(frl_df.columns)"
   ]
  },
  {
   "cell_type": "markdown",
   "metadata": {},
   "source": [
    "**Out of the 17 columns, I decided to drop all columns with more than 76% missing values plus url, id, Unnamed**"
   ]
  },
  {
   "cell_type": "code",
   "execution_count": 16,
   "metadata": {},
   "outputs": [],
   "source": [
    "frl_df.drop(['id','keywords','url','content','meta_description','meta_keywords','authors','summary','source','Unnamed: 0'], axis=1, inplace=True)"
   ]
  },
  {
   "cell_type": "code",
   "execution_count": 17,
   "metadata": {},
   "outputs": [
    {
     "data": {
      "text/html": [
       "<div>\n",
       "<style scoped>\n",
       "    .dataframe tbody tr th:only-of-type {\n",
       "        vertical-align: middle;\n",
       "    }\n",
       "\n",
       "    .dataframe tbody tr th {\n",
       "        vertical-align: top;\n",
       "    }\n",
       "\n",
       "    .dataframe thead th {\n",
       "        text-align: right;\n",
       "    }\n",
       "</style>\n",
       "<table border=\"1\" class=\"dataframe\">\n",
       "  <thead>\n",
       "    <tr style=\"text-align: right;\">\n",
       "      <th></th>\n",
       "      <th>domain</th>\n",
       "      <th>type</th>\n",
       "      <th>scraped_at</th>\n",
       "      <th>inserted_at</th>\n",
       "      <th>updated_at</th>\n",
       "      <th>title</th>\n",
       "      <th>tags</th>\n",
       "    </tr>\n",
       "  </thead>\n",
       "  <tbody>\n",
       "    <tr>\n",
       "      <th>0</th>\n",
       "      <td>express.co.uk</td>\n",
       "      <td>rumor</td>\n",
       "      <td>2018-01-25 16:17:44.789555</td>\n",
       "      <td>2018-02-02 01:19:41.756632</td>\n",
       "      <td>2018-02-02 01:19:41.756664</td>\n",
       "      <td>Is life an ILLUSION? Researchers prove 'realit...</td>\n",
       "      <td>NaN</td>\n",
       "    </tr>\n",
       "    <tr>\n",
       "      <th>1</th>\n",
       "      <td>barenakedislam.com</td>\n",
       "      <td>hate</td>\n",
       "      <td>2018-01-25 16:17:44.789555</td>\n",
       "      <td>2018-02-02 01:19:41.756632</td>\n",
       "      <td>2018-02-02 01:19:41.756664</td>\n",
       "      <td>Donald Trump</td>\n",
       "      <td>NaN</td>\n",
       "    </tr>\n",
       "    <tr>\n",
       "      <th>2</th>\n",
       "      <td>barenakedislam.com</td>\n",
       "      <td>hate</td>\n",
       "      <td>2018-01-25 16:17:44.789555</td>\n",
       "      <td>2018-02-02 01:19:41.756632</td>\n",
       "      <td>2018-02-02 01:19:41.756664</td>\n",
       "      <td>Donald Trump</td>\n",
       "      <td>NaN</td>\n",
       "    </tr>\n",
       "    <tr>\n",
       "      <th>3</th>\n",
       "      <td>barenakedislam.com</td>\n",
       "      <td>hate</td>\n",
       "      <td>2018-01-25 16:17:44.789555</td>\n",
       "      <td>2018-02-02 01:19:41.756632</td>\n",
       "      <td>2018-02-02 01:19:41.756664</td>\n",
       "      <td>MORE WINNING! Israeli intelligence source, DEB...</td>\n",
       "      <td>NaN</td>\n",
       "    </tr>\n",
       "    <tr>\n",
       "      <th>4</th>\n",
       "      <td>barenakedislam.com</td>\n",
       "      <td>hate</td>\n",
       "      <td>2018-01-25 16:17:44.789555</td>\n",
       "      <td>2018-02-02 01:19:41.756632</td>\n",
       "      <td>2018-02-02 01:19:41.756664</td>\n",
       "      <td>“Oh, Trump, you coward, you just wait, we will...</td>\n",
       "      <td>NaN</td>\n",
       "    </tr>\n",
       "  </tbody>\n",
       "</table>\n",
       "</div>"
      ],
      "text/plain": [
       "               domain   type                  scraped_at  \\\n",
       "0       express.co.uk  rumor  2018-01-25 16:17:44.789555   \n",
       "1  barenakedislam.com   hate  2018-01-25 16:17:44.789555   \n",
       "2  barenakedislam.com   hate  2018-01-25 16:17:44.789555   \n",
       "3  barenakedislam.com   hate  2018-01-25 16:17:44.789555   \n",
       "4  barenakedislam.com   hate  2018-01-25 16:17:44.789555   \n",
       "\n",
       "                  inserted_at                  updated_at  \\\n",
       "0  2018-02-02 01:19:41.756632  2018-02-02 01:19:41.756664   \n",
       "1  2018-02-02 01:19:41.756632  2018-02-02 01:19:41.756664   \n",
       "2  2018-02-02 01:19:41.756632  2018-02-02 01:19:41.756664   \n",
       "3  2018-02-02 01:19:41.756632  2018-02-02 01:19:41.756664   \n",
       "4  2018-02-02 01:19:41.756632  2018-02-02 01:19:41.756664   \n",
       "\n",
       "                                               title tags  \n",
       "0  Is life an ILLUSION? Researchers prove 'realit...  NaN  \n",
       "1                                       Donald Trump  NaN  \n",
       "2                                       Donald Trump  NaN  \n",
       "3  MORE WINNING! Israeli intelligence source, DEB...  NaN  \n",
       "4  “Oh, Trump, you coward, you just wait, we will...  NaN  "
      ]
     },
     "execution_count": 17,
     "metadata": {},
     "output_type": "execute_result"
    }
   ],
   "source": [
    "frl_df.head()"
   ]
  },
  {
   "cell_type": "markdown",
   "metadata": {},
   "source": [
    "**Converted the dates to datetime**"
   ]
  },
  {
   "cell_type": "code",
   "execution_count": 19,
   "metadata": {},
   "outputs": [
    {
     "name": "stdout",
     "output_type": "stream",
     "text": [
      "<class 'pandas.core.frame.DataFrame'>\n",
      "RangeIndex: 8529090 entries, 0 to 8529089\n",
      "Data columns (total 7 columns):\n",
      " #   Column       Dtype         \n",
      "---  ------       -----         \n",
      " 0   domain       object        \n",
      " 1   type         object        \n",
      " 2   scraped_at   object        \n",
      " 3   inserted_at  datetime64[ns]\n",
      " 4   updated_at   datetime64[ns]\n",
      " 5   title        object        \n",
      " 6   tags         object        \n",
      "dtypes: datetime64[ns](2), object(5)\n",
      "memory usage: 455.5+ MB\n"
     ]
    }
   ],
   "source": [
    "frl_df['scraped_at'] = pd.to_datetime(frl_df['scraped_at'])\n",
    "frl_df['inserted_at'] = pd.to_datetime(frl_df['inserted_at'])\n",
    "frl_df['updated_at'] = pd.to_datetime(frl_df['updated_at'])\n",
    "\n",
    "frl_df.info()"
   ]
  },
  {
   "cell_type": "code",
   "execution_count": 21,
   "metadata": {},
   "outputs": [
    {
     "name": "stdout",
     "output_type": "stream",
     "text": [
      "<class 'pandas.core.frame.DataFrame'>\n",
      "RangeIndex: 8529090 entries, 0 to 8529089\n",
      "Data columns (total 7 columns):\n",
      " #   Column       Dtype              \n",
      "---  ------       -----              \n",
      " 0   domain       object             \n",
      " 1   type         object             \n",
      " 2   scraped_at   datetime64[ns, UTC]\n",
      " 3   inserted_at  datetime64[ns]     \n",
      " 4   updated_at   datetime64[ns]     \n",
      " 5   title        object             \n",
      " 6   tags         object             \n",
      "dtypes: datetime64[ns, UTC](1), datetime64[ns](2), object(4)\n",
      "memory usage: 455.5+ MB\n"
     ]
    }
   ],
   "source": [
    "frl_df['scraped_at'] = pd.to_datetime(frl_df['scraped_at'], utc=True)\n",
    "frl_df.info()"
   ]
  },
  {
   "cell_type": "markdown",
   "metadata": {},
   "source": [
    "**Remove the extensions from the domain**"
   ]
  },
  {
   "cell_type": "code",
   "execution_count": 22,
   "metadata": {},
   "outputs": [],
   "source": [
    "def clean_domain(text):\n",
    "    \"\"\"\n",
    "    Function to remove the extension from the clean_domain\n",
    "    Use .split('.',1)[0] if domain in format: domain.com\n",
    "    alternately, use .split('.')[1] if domain in format: www.domain.com\n",
    "    \"\"\"\n",
    "    site_url = text.split('.',1)[0]\n",
    "    return site_url"
   ]
  },
  {
   "cell_type": "code",
   "execution_count": 24,
   "metadata": {},
   "outputs": [
    {
     "name": "stdout",
     "output_type": "stream",
     "text": [
      "           domain   type                       scraped_at  \\\n",
      "0         express  rumor 2018-01-25 16:17:44.789555+00:00   \n",
      "1  barenakedislam   hate 2018-01-25 16:17:44.789555+00:00   \n",
      "2  barenakedislam   hate 2018-01-25 16:17:44.789555+00:00   \n",
      "3  barenakedislam   hate 2018-01-25 16:17:44.789555+00:00   \n",
      "4  barenakedislam   hate 2018-01-25 16:17:44.789555+00:00   \n",
      "\n",
      "                 inserted_at                 updated_at  \\\n",
      "0 2018-02-02 01:19:41.756632 2018-02-02 01:19:41.756664   \n",
      "1 2018-02-02 01:19:41.756632 2018-02-02 01:19:41.756664   \n",
      "2 2018-02-02 01:19:41.756632 2018-02-02 01:19:41.756664   \n",
      "3 2018-02-02 01:19:41.756632 2018-02-02 01:19:41.756664   \n",
      "4 2018-02-02 01:19:41.756632 2018-02-02 01:19:41.756664   \n",
      "\n",
      "                                               title tags  \n",
      "0  Is life an ILLUSION? Researchers prove 'realit...  NaN  \n",
      "1                                       Donald Trump  NaN  \n",
      "2                                       Donald Trump  NaN  \n",
      "3  MORE WINNING! Israeli intelligence source, DEB...  NaN  \n",
      "4  “Oh, Trump, you coward, you just wait, we will...  NaN  \n"
     ]
    }
   ],
   "source": [
    "frl_df['domain'] = frl_df['domain'].astype(str).apply(clean_domain)\n",
    "print(frl_df.head())"
   ]
  },
  {
   "cell_type": "markdown",
   "metadata": {},
   "source": [
    "**Checking the min and max dates for all the dates column**"
   ]
  },
  {
   "cell_type": "code",
   "execution_count": 25,
   "metadata": {},
   "outputs": [
    {
     "name": "stdout",
     "output_type": "stream",
     "text": [
      "2016-10-31 22:00:13.187000+00:00 2018-02-11 00:49:52.112447+00:00\n"
     ]
    }
   ],
   "source": [
    "print(frl_df['scraped_at'].min(), frl_df['scraped_at'].max() )"
   ]
  },
  {
   "cell_type": "code",
   "execution_count": 26,
   "metadata": {},
   "outputs": [
    {
     "name": "stdout",
     "output_type": "stream",
     "text": [
      "2018-02-02 01:19:41.756632 2018-02-11 00:14:20.346838\n"
     ]
    }
   ],
   "source": [
    "print(frl_df['inserted_at'].min(), frl_df['inserted_at'].max() )"
   ]
  },
  {
   "cell_type": "code",
   "execution_count": 27,
   "metadata": {},
   "outputs": [
    {
     "name": "stdout",
     "output_type": "stream",
     "text": [
      "2018-02-02 01:19:41.756664 2018-02-11 00:14:20.346871\n"
     ]
    }
   ],
   "source": [
    "print(frl_df['updated_at'].min(), frl_df['updated_at'].max() )"
   ]
  },
  {
   "cell_type": "markdown",
   "metadata": {},
   "source": [
    "**Since the date range from `scraped_at` column is the only one that span two years. It can be used in the model. The other two can be dropped from the dataframe**"
   ]
  },
  {
   "cell_type": "code",
   "execution_count": 28,
   "metadata": {},
   "outputs": [
    {
     "name": "stdout",
     "output_type": "stream",
     "text": [
      "(8529090, 5)\n",
      "\n",
      "           domain      type                       scraped_at  \\\n",
      "8529085  nytimes  reliable 2018-02-11 00:49:52.109651+00:00   \n",
      "8529086  nytimes  reliable 2018-02-11 00:49:52.110404+00:00   \n",
      "8529087  nytimes  reliable 2018-02-11 00:49:52.111090+00:00   \n",
      "8529088  nytimes  reliable 2018-02-11 00:49:52.111794+00:00   \n",
      "8529089  nytimes  reliable 2018-02-11 00:49:52.112447+00:00   \n",
      "\n",
      "                                                     title tags  \n",
      "8529085              Corruption With a Chance of Meatballs  NaN  \n",
      "8529086  Volatility Rattles Stocks, and Investors Who B...  NaN  \n",
      "8529087  As 4 of 5 in Public Housing Lost Heat, a Deman...  NaN  \n",
      "8529088          Who Said It: Pepé Le Pew or Donald Trump?  NaN  \n",
      "8529089  Toads Eat Beetles. Sometimes, Beetles Make The...  NaN  \n"
     ]
    }
   ],
   "source": [
    "frl_df.drop(['inserted_at','updated_at'], axis=1, inplace=True)\n",
    "print(frl_df.shape)\n",
    "\n",
    "print('\\n', frl_df.tail())"
   ]
  },
  {
   "cell_type": "code",
   "execution_count": 30,
   "metadata": {},
   "outputs": [
    {
     "data": {
      "text/html": [
       "<div>\n",
       "<style scoped>\n",
       "    .dataframe tbody tr th:only-of-type {\n",
       "        vertical-align: middle;\n",
       "    }\n",
       "\n",
       "    .dataframe tbody tr th {\n",
       "        vertical-align: top;\n",
       "    }\n",
       "\n",
       "    .dataframe thead th {\n",
       "        text-align: right;\n",
       "    }\n",
       "</style>\n",
       "<table border=\"1\" class=\"dataframe\">\n",
       "  <thead>\n",
       "    <tr style=\"text-align: right;\">\n",
       "      <th></th>\n",
       "      <th>domain</th>\n",
       "      <th>type</th>\n",
       "      <th>scraped_at</th>\n",
       "      <th>title</th>\n",
       "      <th>tags</th>\n",
       "    </tr>\n",
       "  </thead>\n",
       "  <tbody>\n",
       "    <tr>\n",
       "      <th>0</th>\n",
       "      <td>express</td>\n",
       "      <td>rumor</td>\n",
       "      <td>2018-01-25 16:17:44.789555+00:00</td>\n",
       "      <td>Is life an ILLUSION? Researchers prove 'realit...</td>\n",
       "      <td>NaN</td>\n",
       "    </tr>\n",
       "    <tr>\n",
       "      <th>1</th>\n",
       "      <td>barenakedislam</td>\n",
       "      <td>hate</td>\n",
       "      <td>2018-01-25 16:17:44.789555+00:00</td>\n",
       "      <td>Donald Trump</td>\n",
       "      <td>NaN</td>\n",
       "    </tr>\n",
       "    <tr>\n",
       "      <th>2</th>\n",
       "      <td>barenakedislam</td>\n",
       "      <td>hate</td>\n",
       "      <td>2018-01-25 16:17:44.789555+00:00</td>\n",
       "      <td>Donald Trump</td>\n",
       "      <td>NaN</td>\n",
       "    </tr>\n",
       "    <tr>\n",
       "      <th>3</th>\n",
       "      <td>barenakedislam</td>\n",
       "      <td>hate</td>\n",
       "      <td>2018-01-25 16:17:44.789555+00:00</td>\n",
       "      <td>MORE WINNING! Israeli intelligence source, DEB...</td>\n",
       "      <td>NaN</td>\n",
       "    </tr>\n",
       "    <tr>\n",
       "      <th>4</th>\n",
       "      <td>barenakedislam</td>\n",
       "      <td>hate</td>\n",
       "      <td>2018-01-25 16:17:44.789555+00:00</td>\n",
       "      <td>“Oh, Trump, you coward, you just wait, we will...</td>\n",
       "      <td>NaN</td>\n",
       "    </tr>\n",
       "  </tbody>\n",
       "</table>\n",
       "</div>"
      ],
      "text/plain": [
       "           domain   type                       scraped_at  \\\n",
       "0         express  rumor 2018-01-25 16:17:44.789555+00:00   \n",
       "1  barenakedislam   hate 2018-01-25 16:17:44.789555+00:00   \n",
       "2  barenakedislam   hate 2018-01-25 16:17:44.789555+00:00   \n",
       "3  barenakedislam   hate 2018-01-25 16:17:44.789555+00:00   \n",
       "4  barenakedislam   hate 2018-01-25 16:17:44.789555+00:00   \n",
       "\n",
       "                                               title tags  \n",
       "0  Is life an ILLUSION? Researchers prove 'realit...  NaN  \n",
       "1                                       Donald Trump  NaN  \n",
       "2                                       Donald Trump  NaN  \n",
       "3  MORE WINNING! Israeli intelligence source, DEB...  NaN  \n",
       "4  “Oh, Trump, you coward, you just wait, we will...  NaN  "
      ]
     },
     "execution_count": 30,
     "metadata": {},
     "output_type": "execute_result"
    }
   ],
   "source": [
    "frl_df.head()"
   ]
  },
  {
   "cell_type": "code",
   "execution_count": 31,
   "metadata": {},
   "outputs": [
    {
     "data": {
      "text/plain": [
       "domain\n",
       "100percentfedup           97\n",
       "16wmpo                     1\n",
       "2016-11-13T15:38:41        1\n",
       "2016-11-13T17:37:15        1\n",
       "2016-11-14T00:36:52        1\n",
       "                       ...  \n",
       "yournewswire           10620\n",
       "zeenews                 2672\n",
       "zengardner                 1\n",
       "zerohedge              36533\n",
       "zootfeed                 166\n",
       "Length: 668, dtype: int64"
      ]
     },
     "execution_count": 31,
     "metadata": {},
     "output_type": "execute_result"
    }
   ],
   "source": [
    "frl_df.groupby('domain').size()"
   ]
  },
  {
   "cell_type": "code",
   "execution_count": 33,
   "metadata": {},
   "outputs": [
    {
     "data": {
      "text/plain": [
       "nytimes          1542685\n",
       "beforeitsnews     781009\n",
       "dailykos          660626\n",
       "www               535845\n",
       "express           477264\n",
       "                  ...   \n",
       "politicalears          1\n",
       "bighairynews           1\n",
       "ushealthylife          1\n",
       "16wmpo                 1\n",
       "patriotupdate          1\n",
       "Name: domain, Length: 668, dtype: int64"
      ]
     },
     "execution_count": 33,
     "metadata": {},
     "output_type": "execute_result"
    }
   ],
   "source": [
    "frl_df['domain'].value_counts(ascending=False, dropna=False)"
   ]
  },
  {
   "cell_type": "code",
   "execution_count": 36,
   "metadata": {},
   "outputs": [
    {
     "data": {
      "text/plain": [
       "usanewsflash           1\n",
       "2016-11-14T00:36:52    1\n",
       "realplanetnews         1\n",
       "conspiracyplanet       1\n",
       "creativitymovement     1\n",
       "2016-11-29T18:16:28    1\n",
       "2016-11-17T20:50:20    1\n",
       "Zengardner             1\n",
       "therundownlive         1\n",
       "2016-11-29T14:53:26    1\n",
       "bostonleader           1\n",
       "thetruthseeker         1\n",
       "libertyalliance        1\n",
       "drudgereport           1\n",
       "2016-11-14T09:12:00    1\n",
       "politicalears          1\n",
       "bighairynews           1\n",
       "ushealthylife          1\n",
       "16wmpo                 1\n",
       "patriotupdate          1\n",
       "Name: domain, dtype: int64"
      ]
     },
     "execution_count": 36,
     "metadata": {},
     "output_type": "execute_result"
    }
   ],
   "source": [
    "frl_df['domain'].value_counts(ascending=False, dropna=False).tail(20)"
   ]
  },
  {
   "cell_type": "code",
   "execution_count": 37,
   "metadata": {},
   "outputs": [
    {
     "data": {
      "text/plain": [
       "nytimes                1542685\n",
       "beforeitsnews           781009\n",
       "dailykos                660626\n",
       "www                     535845\n",
       "express                 477264\n",
       "nationalreview          319556\n",
       "sputniknews             318745\n",
       "abovetopsecret          238622\n",
       "wikileaks               207852\n",
       "pravda                   95141\n",
       "wikispooks               80683\n",
       "lifezette                76999\n",
       "investmentwatchblog      68559\n",
       "dailycaller              66706\n",
       "breitbart                60436\n",
       "thepostemail             59236\n",
       "rawstory                 58659\n",
       "naturalnews              56383\n",
       "pjmedia                  52642\n",
       "thedailysheeple          51321\n",
       "Name: domain, dtype: int64"
      ]
     },
     "execution_count": 37,
     "metadata": {},
     "output_type": "execute_result"
    }
   ],
   "source": [
    "frl_df['domain'].value_counts(ascending=False, dropna=False).head(20)"
   ]
  },
  {
   "cell_type": "code",
   "execution_count": 41,
   "metadata": {},
   "outputs": [
    {
     "data": {
      "text/plain": [
       "Index([                  'reliable',                  'political',\n",
       "                             'bias',                       'fake',\n",
       "                       'conspiracy',                      'rumor',\n",
       "                                nan,                    'unknown',\n",
       "                       'unreliable',                  'clickbait',\n",
       "                          'junksci',                     'satire',\n",
       "                             'hate', '2018-02-10 13:43:39.521661'],\n",
       "      dtype='object')"
      ]
     },
     "execution_count": 41,
     "metadata": {},
     "output_type": "execute_result"
    }
   ],
   "source": [
    "type.index"
   ]
  },
  {
   "cell_type": "code",
   "execution_count": 43,
   "metadata": {},
   "outputs": [
    {
     "data": {
      "text/plain": [
       "array([1913222, 1657224, 1138998,  894746,  831235,  481158,  403332,\n",
       "        371518,  298784,  231949,  117467,  112948,   76496,      13])"
      ]
     },
     "execution_count": 43,
     "metadata": {},
     "output_type": "execute_result"
    }
   ],
   "source": [
    "type.values"
   ]
  },
  {
   "cell_type": "code",
   "execution_count": 46,
   "metadata": {},
   "outputs": [
    {
     "data": {
      "text/plain": [
       "<matplotlib.axes._subplots.AxesSubplot at 0x7ff8bec5fc90>"
      ]
     },
     "execution_count": 46,
     "metadata": {},
     "output_type": "execute_result"
    },
    {
     "data": {
      "image/png": "[encoded data removed]",
      "text/plain": [
       "<Figure size 900x600 with 1 Axes>"
      ]
     },
     "metadata": {},
     "output_type": "display_data"
    }
   ],
   "source": [
    "type.plot.barh()"
   ]
  },
  {
   "cell_type": "code",
   "execution_count": 47,
   "metadata": {},
   "outputs": [
    {
     "data": {
      "text/plain": [
       "0     Is life an ILLUSION? Researchers prove 'realit...\n",
       "1                                          Donald Trump\n",
       "2                                          Donald Trump\n",
       "3     MORE WINNING! Israeli intelligence source, DEB...\n",
       "4     “Oh, Trump, you coward, you just wait, we will...\n",
       "5     Following Guatemala’s decision to move its emb...\n",
       "6     UN-Backed Police Massacred Haitians With Impunity\n",
       "7                                   Black Agenda Report\n",
       "8                                   Black Agenda Report\n",
       "9     Zambia Must Clarify Whether It Will Host Israe...\n",
       "10                                    BlackGenocide.org\n",
       "11                          Request Speaking Engagement\n",
       "12                                    BlackGenocide.org\n",
       "13                     Why We Oppose Planned Parenthood\n",
       "14                                     Email Protection\n",
       "Name: title, dtype: object"
      ]
     },
     "execution_count": 47,
     "metadata": {},
     "output_type": "execute_result"
    }
   ],
   "source": [
    "frl_df['title'].head(15)"
   ]
  },
  {
   "cell_type": "code",
   "execution_count": 49,
   "metadata": {},
   "outputs": [
    {
     "data": {
      "text/plain": [
       "8529080    Eric Holder’s Group Targets All-G.O.P. States ...\n",
       "8529081    Snap Reverses Slide as User Growth and Revenue...\n",
       "8529082    Do You Think Donald Trump Is Ready for a Real ...\n",
       "8529083    Protesters in South Sudan Denounce U.S. Arms E...\n",
       "8529084    Idaho Stripped Climate Change From School Guid...\n",
       "8529085                Corruption With a Chance of Meatballs\n",
       "8529086    Volatility Rattles Stocks, and Investors Who B...\n",
       "8529087    As 4 of 5 in Public Housing Lost Heat, a Deman...\n",
       "8529088            Who Said It: Pepé Le Pew or Donald Trump?\n",
       "8529089    Toads Eat Beetles. Sometimes, Beetles Make The...\n",
       "Name: title, dtype: object"
      ]
     },
     "execution_count": 49,
     "metadata": {},
     "output_type": "execute_result"
    }
   ],
   "source": [
    "frl_df['title'].tail(10)"
   ]
  },
  {
   "cell_type": "code",
   "execution_count": 58,
   "metadata": {},
   "outputs": [
    {
     "name": "stderr",
     "output_type": "stream",
     "text": [
      "[nltk_data] Downloading package stopwords to /root/nltk_data...\n",
      "[nltk_data]   Package stopwords is already up-to-date!\n"
     ]
    },
    {
     "data": {
      "text/plain": [
       "True"
      ]
     },
     "execution_count": 58,
     "metadata": {},
     "output_type": "execute_result"
    }
   ],
   "source": [
    "import nltk\n",
    "nltk.download('stopwords')\n"
   ]
  },
  {
   "cell_type": "code",
   "execution_count": null,
   "metadata": {},
   "outputs": [],
   "source": []
  }
 ],
 "metadata": {
  "kernelspec": {
   "display_name": "Python 3 (Data Science)",
   "language": "python",
   "name": "python3__SAGEMAKER_INTERNAL__arn:aws:sagemaker:us-east-1:081325390199:image/datascience-1.0"
  },
  "language_info": {
   "codemirror_mode": {
    "name": "ipython",
    "version": 3
   },
   "file_extension": ".py",
   "mimetype": "text/x-python",
   "name": "python",
   "nbconvert_exporter": "python",
   "pygments_lexer": "ipython3",
   "version": "3.7.6"
  }
 },
 "nbformat": 4,
 "nbformat_minor": 4
}
