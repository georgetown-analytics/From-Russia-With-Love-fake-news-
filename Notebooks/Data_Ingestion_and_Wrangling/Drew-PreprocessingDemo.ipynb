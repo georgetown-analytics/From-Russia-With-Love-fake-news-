{
 "cells": [
  {
   "cell_type": "markdown",
   "metadata": {},
   "source": [
    "# Drew - Preprocessing Demo Notebook"
   ]
  },
  {
   "cell_type": "markdown",
   "metadata": {},
   "source": [
    "## This notebook demonstrates...\n",
    "1. How to split a dataset into train and test sets\n",
    "2. How to remove stop words from text using gensim\n",
    "3. How to remove punctuation from text using standard python code\n",
    "4. How to perform tokenization with spacy\n",
    "5. How to perform stemming with NLTK\n",
    "6. How to perform lemmatization with spacy"
   ]
  },
  {
   "cell_type": "markdown",
   "metadata": {},
   "source": [
    "## #1 Split Dataset into train and test"
   ]
  },
  {
   "cell_type": "code",
   "execution_count": 1,
   "metadata": {},
   "outputs": [],
   "source": [
    "import pandas as pd\n",
    "import csv\n",
    "import numpy as np\n",
    "from sklearn.model_selection import train_test_split"
   ]
  },
  {
   "cell_type": "code",
   "execution_count": 2,
   "metadata": {},
   "outputs": [
    {
     "name": "stdout",
     "output_type": "stream",
     "text": [
      "CPU times: user 2min 11s, sys: 6.75 s, total: 2min 18s\n",
      "Wall time: 2min 19s\n"
     ]
    },
    {
     "data": {
      "text/html": [
       "<div>\n",
       "<style scoped>\n",
       "    .dataframe tbody tr th:only-of-type {\n",
       "        vertical-align: middle;\n",
       "    }\n",
       "\n",
       "    .dataframe tbody tr th {\n",
       "        vertical-align: top;\n",
       "    }\n",
       "\n",
       "    .dataframe thead th {\n",
       "        text-align: right;\n",
       "    }\n",
       "</style>\n",
       "<table border=\"1\" class=\"dataframe\">\n",
       "  <thead>\n",
       "    <tr style=\"text-align: right;\">\n",
       "      <th></th>\n",
       "      <th>Unnamed: 0</th>\n",
       "      <th>domain</th>\n",
       "      <th>type</th>\n",
       "      <th>content</th>\n",
       "      <th>scraped_at</th>\n",
       "      <th>title</th>\n",
       "      <th>label</th>\n",
       "    </tr>\n",
       "  </thead>\n",
       "  <tbody>\n",
       "    <tr>\n",
       "      <th>535508</th>\n",
       "      <td>7872230</td>\n",
       "      <td>nytimes.com</td>\n",
       "      <td>reliable</td>\n",
       "      <td>Proving that this decade really is the 1980s i...</td>\n",
       "      <td>2018-02-11 00:43:19.062365+00:00</td>\n",
       "      <td>Michael Jackson to Play ‘Final’ Concerts in Lo...</td>\n",
       "      <td>real</td>\n",
       "    </tr>\n",
       "    <tr>\n",
       "      <th>1739964</th>\n",
       "      <td>1652583</td>\n",
       "      <td>beforeitsnews.com</td>\n",
       "      <td>fake</td>\n",
       "      <td>% of readers think this story is Fact. Add you...</td>\n",
       "      <td>2017-11-10 11:18:44.524042+00:00</td>\n",
       "      <td>Clip time lapse thú vị của anh chàng cơ khí</td>\n",
       "      <td>fake</td>\n",
       "    </tr>\n",
       "    <tr>\n",
       "      <th>396202</th>\n",
       "      <td>7071895</td>\n",
       "      <td>nytimes.com</td>\n",
       "      <td>reliable</td>\n",
       "      <td>Following are excerpts from Vice President Al ...</td>\n",
       "      <td>2018-02-11 00:35:34.945186+00:00</td>\n",
       "      <td>Excerpts From '60 Minutes' Interview</td>\n",
       "      <td>real</td>\n",
       "    </tr>\n",
       "    <tr>\n",
       "      <th>1375639</th>\n",
       "      <td>5542923</td>\n",
       "      <td>beforeitsnews.com</td>\n",
       "      <td>fake</td>\n",
       "      <td>Jawbone UP Users: How Is Your End Cap Holding ...</td>\n",
       "      <td>2017-11-27 01:14:08.745400+00:00</td>\n",
       "      <td>Jawbone UP Users: How Is Your End Cap Holding Up?</td>\n",
       "      <td>fake</td>\n",
       "    </tr>\n",
       "    <tr>\n",
       "      <th>785612</th>\n",
       "      <td>7918506</td>\n",
       "      <td>nytimes.com</td>\n",
       "      <td>reliable</td>\n",
       "      <td>Tom Williams, a wing, went off bleeding from t...</td>\n",
       "      <td>2018-02-11 00:43:44.145806+00:00</td>\n",
       "      <td>With a Scandal, Rugby’s Image Is at Stake</td>\n",
       "      <td>real</td>\n",
       "    </tr>\n",
       "  </tbody>\n",
       "</table>\n",
       "</div>"
      ],
      "text/plain": [
       "         Unnamed: 0             domain      type  \\\n",
       "535508      7872230        nytimes.com  reliable   \n",
       "1739964     1652583  beforeitsnews.com      fake   \n",
       "396202      7071895        nytimes.com  reliable   \n",
       "1375639     5542923  beforeitsnews.com      fake   \n",
       "785612      7918506        nytimes.com  reliable   \n",
       "\n",
       "                                                   content  \\\n",
       "535508   Proving that this decade really is the 1980s i...   \n",
       "1739964  % of readers think this story is Fact. Add you...   \n",
       "396202   Following are excerpts from Vice President Al ...   \n",
       "1375639  Jawbone UP Users: How Is Your End Cap Holding ...   \n",
       "785612   Tom Williams, a wing, went off bleeding from t...   \n",
       "\n",
       "                               scraped_at  \\\n",
       "535508   2018-02-11 00:43:19.062365+00:00   \n",
       "1739964  2017-11-10 11:18:44.524042+00:00   \n",
       "396202   2018-02-11 00:35:34.945186+00:00   \n",
       "1375639  2017-11-27 01:14:08.745400+00:00   \n",
       "785612   2018-02-11 00:43:44.145806+00:00   \n",
       "\n",
       "                                                     title label  \n",
       "535508   Michael Jackson to Play ‘Final’ Concerts in Lo...  real  \n",
       "1739964        Clip time lapse thú vị của anh chàng cơ khí  fake  \n",
       "396202                Excerpts From '60 Minutes' Interview  real  \n",
       "1375639  Jawbone UP Users: How Is Your End Cap Holding Up?  fake  \n",
       "785612           With a Scandal, Rugby’s Image Is at Stake  real  "
      ]
     },
     "execution_count": 2,
     "metadata": {},
     "output_type": "execute_result"
    }
   ],
   "source": [
    "%%time\n",
    "#Read Initial Dataset\n",
    "df = pd.read_csv('../Datasets/Final/cleaned_reliable_fake.csv')\n",
    "#Split Train and Test Datasets and save to CSVs\n",
    "df_train, df_test = train_test_split(df, test_size=0.2, random_state=42, shuffle=True) #80/20 split with consistent state\n",
    "df_train.to_csv('../Datasets/Model_1/train.csv', sep=',', index=False)\n",
    "df_test.to_csv('../Datasets/Model_1/test.csv', sep=',', index=False)\n",
    "df_train.head()"
   ]
  },
  {
   "cell_type": "markdown",
   "metadata": {},
   "source": [
    "## #2 Remove Stop Words with gensim"
   ]
  },
  {
   "cell_type": "code",
   "execution_count": 3,
   "metadata": {},
   "outputs": [],
   "source": [
    "from gensim.parsing.preprocessing import remove_stopwords\n",
    "import gensim\n",
    "gensim_stopwords = gensim.parsing.preprocessing.STOPWORDS"
   ]
  },
  {
   "cell_type": "code",
   "execution_count": 4,
   "metadata": {},
   "outputs": [
    {
     "name": "stdout",
     "output_type": "stream",
     "text": [
      "Sample content with stop words:\n",
      "\n",
      "Proving that this decade really is the 1980s in quotation marks, Michael Jackson, right, announced on Thursday that he would perform a series of concerts in London this summer, in what he called a “final curtain call,” Reuters reported. Mr. Jackson, 50, revealed the details of the concerts at a news conference in London, where he said he would perform 10 shows at the O2 Arena, beginning July 8. “When I say this is it, I mean this is it,” Mr. Jackson said, according to Reuters. “I’ll be performing the songs my fans want to hear.” The shows would be Mr. Jackson’s first major performances since 2001 and 2002, when he appeared at a pair of 30th anniversary celebrations and two benefit concerts. His brief appearance at the World Music Awards in 2006 was booed by some audience members.\n",
      "\n",
      "\n",
      "Sample content without stop words:\n",
      "\n",
      "proving decade 1980s quotation marks, michael jackson, right, announced thursday perform series concerts london summer, called “final curtain call,” reuters reported. mr. jackson, 50, revealed details concerts news conference london, said perform 10 shows o2 arena, beginning july 8. “when it, mean it,” mr. jackson said, according reuters. “i’ll performing songs fans want hear.” shows mr. jackson’s major performances 2001 2002, appeared pair 30th anniversary celebrations benefit concerts. brief appearance world music awards 2006 booed audience members.\n",
      "\n",
      "\n",
      "CPU times: user 3min 38s, sys: 1.94 s, total: 3min 40s\n",
      "Wall time: 3min 40s\n"
     ]
    }
   ],
   "source": [
    "%%time\n",
    "text_SW = []\n",
    "for index, row in df_train.iterrows():\n",
    "    text = remove_stopwords(str(row['content']).lower()) #narrowing scope to just content\n",
    "    text_SW.append(text)\n",
    "print('Sample content with stop words:\\n\\n%s\\n\\n' %df_train['content'].iloc[0])\n",
    "print('Sample content without stop words:\\n\\n%s\\n\\n' %text_SW[0])"
   ]
  },
  {
   "cell_type": "markdown",
   "metadata": {},
   "source": [
    "## #3 Remove Punctuation"
   ]
  },
  {
   "cell_type": "code",
   "execution_count": 26,
   "metadata": {},
   "outputs": [
    {
     "name": "stdout",
     "output_type": "stream",
     "text": [
      "Sample content with punctuation:\n",
      "\n",
      "Proving that this decade really is the 1980s in quotation marks, Michael Jackson, right, announced on Thursday that he would perform a series of concerts in London this summer, in what he called a “final curtain call,” Reuters reported. Mr. Jackson, 50, revealed the details of the concerts at a news conference in London, where he said he would perform 10 shows at the O2 Arena, beginning July 8. “When I say this is it, I mean this is it,” Mr. Jackson said, according to Reuters. “I’ll be performing the songs my fans want to hear.” The shows would be Mr. Jackson’s first major performances since 2001 and 2002, when he appeared at a pair of 30th anniversary celebrations and two benefit concerts. His brief appearance at the World Music Awards in 2006 was booed by some audience members.\n",
      "\n",
      "\n",
      "Sample content without punctuation:\n",
      "\n",
      "Proving that this decade really is the 1980s in quotation marks Michael Jackson right announced on Thursday that he would perform a series of concerts in London this summer in what he called a final curtain call Reuters reported Mr Jackson 50 revealed the details of the concerts at a news conference in London where he said he would perform 10 shows at the O2 Arena beginning July 8 When I say this is it I mean this is it Mr Jackson said according to Reuters Ill be performing the songs my fans want to hear The shows would be Mr Jacksons first major performances since 2001 and 2002 when he appeared at a pair of 30th anniversary celebrations and two benefit concerts His brief appearance at the World Music Awards in 2006 was booed by some audience members\n",
      "\n",
      "\n",
      "CPU times: user 11min 54s, sys: 1min 10s, total: 13min 5s\n",
      "Wall time: 15min 11s\n"
     ]
    }
   ],
   "source": [
    "%%time\n",
    "punc = '''!()-[]{};:'\"\\,<>./?@#$%^&*_~’“”'''\n",
    "text_list = []\n",
    "text_P = []\n",
    "for index, row in df_train.iterrows(): \n",
    "    text_list.append(str(row['content']))\n",
    "\n",
    "for item in text_list:\n",
    "    for element in item:\n",
    "        if element in punc:\n",
    "            item = item.replace(element, \"\")\n",
    "    text_P.append(item)\n",
    "    \n",
    "print('Sample content with punctuation:\\n\\n%s\\n\\n' %df_train['content'].iloc[0])\n",
    "print('Sample content without punctuation:\\n\\n%s\\n\\n' %text_P[0])"
   ]
  },
  {
   "cell_type": "markdown",
   "metadata": {},
   "source": [
    "## #4 Tokenization with spacy"
   ]
  },
  {
   "cell_type": "code",
   "execution_count": 8,
   "metadata": {},
   "outputs": [
    {
     "name": "stdout",
     "output_type": "stream",
     "text": [
      "\u001b[38;5;2m✔ Download and installation successful\u001b[0m\n",
      "You can now load the model via spacy.load('en_core_web_sm')\n",
      "\u001b[38;5;2m✔ Linking successful\u001b[0m\n",
      "/Users/intel/opt/anaconda3/lib/python3.7/site-packages/en_core_web_sm -->\n",
      "/opt/anaconda3/lib/python3.7/site-packages/spacy/data/en\n",
      "You can now load the model via spacy.load('en')\n",
      "None\n"
     ]
    }
   ],
   "source": [
    "import spacy\n",
    "from spacy.cli import download\n",
    "print(download('en'))"
   ]
  },
  {
   "cell_type": "code",
   "execution_count": 27,
   "metadata": {},
   "outputs": [
    {
     "name": "stdout",
     "output_type": "stream",
     "text": [
      "Sample content before tokenization:\n",
      "\n",
      "Proving that this decade really is the 1980s in quotation marks, Michael Jackson, right, announced on Thursday that he would perform a series of concerts in London this summer, in what he called a “final curtain call,” Reuters reported. Mr. Jackson, 50, revealed the details of the concerts at a news conference in London, where he said he would perform 10 shows at the O2 Arena, beginning July 8. “When I say this is it, I mean this is it,” Mr. Jackson said, according to Reuters. “I’ll be performing the songs my fans want to hear.” The shows would be Mr. Jackson’s first major performances since 2001 and 2002, when he appeared at a pair of 30th anniversary celebrations and two benefit concerts. His brief appearance at the World Music Awards in 2006 was booed by some audience members.\n",
      "\n",
      "\n",
      "Sample content after tokenization:\n",
      "\n",
      "Proving that this decade really is the 1980s in quotation marks, Michael Jackson, right, announced on Thursday that he would perform a series of concerts in London this summer, in what he called a “final curtain call,” Reuters reported. Mr. Jackson, 50, revealed the details of the concerts at a news conference in London, where he said he would perform 10 shows at the O2 Arena, beginning July 8. “When I say this is it, I mean this is it,” Mr. Jackson said, according to Reuters. “I’ll be performing the songs my fans want to hear.” The shows would be Mr. Jackson’s first major performances since 2001 and 2002, when he appeared at a pair of 30th anniversary celebrations and two benefit concerts. His brief appearance at the World Music Awards in 2006 was booed by some audience members.\n",
      "\n",
      "\n",
      "CPU times: user 1.05 s, sys: 49.6 ms, total: 1.1 s\n",
      "Wall time: 1.14 s\n"
     ]
    }
   ],
   "source": [
    "%%time\n",
    "en_nlp = spacy.load('en_core_web_sm') #load spacy's english language models\n",
    "text_T = []\n",
    "count = 0\n",
    "for item in text_list:\n",
    "    text_spacy = en_nlp(item)\n",
    "    text_T.append(text_spacy)\n",
    "    count = count + 1\n",
    "    if count == 5:\n",
    "        break\n",
    "    \n",
    "print('Sample content before tokenization:\\n\\n%s\\n\\n' %df_train['content'].iloc[0])\n",
    "print('Sample content after tokenization:\\n\\n%s\\n\\n' %text_T[0])"
   ]
  },
  {
   "cell_type": "markdown",
   "metadata": {},
   "source": [
    "## #5 Stemming with NLTK"
   ]
  },
  {
   "cell_type": "code",
   "execution_count": 28,
   "metadata": {},
   "outputs": [
    {
     "name": "stdout",
     "output_type": "stream",
     "text": [
      "Sample stems:\n",
      "\n",
      "['prove', 'that', 'thi', 'decad', 'realli', 'is', 'the', '1980', 'in', 'quotat', 'mark', ',', 'michael', 'jackson', ',', 'right', ',', 'announc', 'on', 'thursday']\n",
      "\n",
      "\n",
      "CPU times: user 26.3 ms, sys: 1.91 ms, total: 28.2 ms\n",
      "Wall time: 27.8 ms\n"
     ]
    }
   ],
   "source": [
    "%%time\n",
    "import nltk\n",
    "stemmer = nltk.stem.PorterStemmer() #instantiate nltk's porter stemmer\n",
    "\n",
    "stems = []\n",
    "count = 0\n",
    "for item in text_list:\n",
    "    text_spacy = en_nlp(item)\n",
    "    for ts in text_spacy:\n",
    "        stems.append(stemmer.stem(ts.norm_.lower()))\n",
    "        count = count + 1\n",
    "        if count == 20:\n",
    "            break\n",
    "    break\n",
    "    \n",
    "print('Sample stems:\\n\\n%s\\n\\n' %stems[0:20])"
   ]
  },
  {
   "cell_type": "markdown",
   "metadata": {},
   "source": [
    "## #6 Lemmatization with spacy"
   ]
  },
  {
   "cell_type": "code",
   "execution_count": 29,
   "metadata": {},
   "outputs": [
    {
     "name": "stdout",
     "output_type": "stream",
     "text": [
      "Sample lemmas:\n",
      "\n",
      "['prove', 'that', 'this', 'decade', 'really', 'be', 'the', '1980s', 'in', 'quotation', 'mark', ',', 'Michael', 'Jackson', ',', 'right', ',', 'announce', 'on', 'Thursday']\n",
      "\n",
      "\n",
      "CPU times: user 23.3 ms, sys: 1.45 ms, total: 24.7 ms\n",
      "Wall time: 23.6 ms\n"
     ]
    }
   ],
   "source": [
    "%%time\n",
    "lemmas = []\n",
    "count = 0\n",
    "for item in text_list:\n",
    "    text_spacy = en_nlp(item)\n",
    "    for ts in text_spacy:\n",
    "        lemmas.append(ts.lemma_)\n",
    "        count = count + 1\n",
    "        if count == 20:\n",
    "            break\n",
    "    break\n",
    "        \n",
    "print('Sample lemmas:\\n\\n%s\\n\\n' %lemmas[0:20])"
   ]
  },
  {
   "cell_type": "code",
   "execution_count": null,
   "metadata": {},
   "outputs": [],
   "source": []
  }
 ],
 "metadata": {
  "kernelspec": {
   "display_name": "Python 3",
   "language": "python",
   "name": "python3"
  },
  "language_info": {
   "codemirror_mode": {
    "name": "ipython",
    "version": 3
   },
   "file_extension": ".py",
   "mimetype": "text/x-python",
   "name": "python",
   "nbconvert_exporter": "python",
   "pygments_lexer": "ipython3",
   "version": "3.7.9"
  }
 },
 "nbformat": 4,
 "nbformat_minor": 4
}
