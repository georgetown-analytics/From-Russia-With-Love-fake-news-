{
 "cells": [
  {
   "cell_type": "code",
   "execution_count": 4,
   "metadata": {
    "ExecuteTime": {
     "end_time": "2020-12-11T02:43:38.211552Z",
     "start_time": "2020-12-11T02:43:38.140551Z"
    }
   },
   "outputs": [
    {
     "data": {
      "application/vnd.jupyter.widget-view+json": {
       "model_id": "5cada288cc0d4e6f89128686a3363546",
       "version_major": 2,
       "version_minor": 0
      },
      "text/plain": [
       "HBox(children=(HTML(value=''), FloatProgress(value=1.0, bar_style='info', layout=Layout(width='20px'), max=1.0…"
      ]
     },
     "metadata": {},
     "output_type": "display_data"
    },
    {
     "name": "stdout",
     "output_type": "stream",
     "text": [
      "\n"
     ]
    }
   ],
   "source": [
    "#import all needed libraries and perform required configuration setup\n",
    "import pandas as pd\n",
    "import matplotlib.pyplot as plt\n",
    "import numpy as np\n",
    "import sys\n",
    "import csv\n",
    "import tldextract\n",
    "import socket \n",
    "#from tqdm._tqdm_notebook import tqdm_notebook\n",
    "from tqdm import tqdm, tqdm_notebook\n",
    "tqdm_notebook().pandas(desc=\"progress-bar\", leave=False)\n",
    "#tqdm.pandas(desc=\"progress-bar\")\n",
    "import seaborn as sns\n",
    "import s3fs\n",
    "import warnings\n",
    "warnings.filterwarnings('ignore')\n",
    "\n",
    "%matplotlib inline\n",
    "sns.set(style='darkgrid',palette='Dark2',rc={'figure.figsize':(9,6),'figure.dpi':100})\n"
   ]
  },
  {
   "cell_type": "markdown",
   "metadata": {},
   "source": [
    "## Read datasets"
   ]
  },
  {
   "cell_type": "code",
   "execution_count": 5,
   "metadata": {
    "ExecuteTime": {
     "end_time": "2020-12-11T02:56:27.893835Z",
     "start_time": "2020-12-11T02:44:26.868960Z"
    }
   },
   "outputs": [
    {
     "data": {
      "text/html": [
       "<div>\n",
       "<style scoped>\n",
       "    .dataframe tbody tr th:only-of-type {\n",
       "        vertical-align: middle;\n",
       "    }\n",
       "\n",
       "    .dataframe tbody tr th {\n",
       "        vertical-align: top;\n",
       "    }\n",
       "\n",
       "    .dataframe thead th {\n",
       "        text-align: right;\n",
       "    }\n",
       "</style>\n",
       "<table border=\"1\" class=\"dataframe\">\n",
       "  <thead>\n",
       "    <tr style=\"text-align: right;\">\n",
       "      <th></th>\n",
       "      <th>Unnamed: 0</th>\n",
       "      <th>domain</th>\n",
       "      <th>type</th>\n",
       "      <th>content</th>\n",
       "      <th>scraped_at</th>\n",
       "      <th>title</th>\n",
       "      <th>label</th>\n",
       "    </tr>\n",
       "  </thead>\n",
       "  <tbody>\n",
       "    <tr>\n",
       "      <th>0</th>\n",
       "      <td>7766484</td>\n",
       "      <td>nytimes.com</td>\n",
       "      <td>reliable</td>\n",
       "      <td>One month after a three-judge panel of a feder...</td>\n",
       "      <td>2018-02-11 00:42:14.935145+00:00</td>\n",
       "      <td>Appeal of Challenge to ‘No Child’ Law</td>\n",
       "      <td>real</td>\n",
       "    </tr>\n",
       "    <tr>\n",
       "      <th>1</th>\n",
       "      <td>6845267</td>\n",
       "      <td>www.yahoo.com</td>\n",
       "      <td>reliable</td>\n",
       "      <td>STOCKHOLM (Reuters) - Sweden will seek assuran...</td>\n",
       "      <td>2016-11-11 14:16:53.754000+00:00</td>\n",
       "      <td>Sweden seek assurances from Trump regarding de...</td>\n",
       "      <td>real</td>\n",
       "    </tr>\n",
       "    <tr>\n",
       "      <th>2</th>\n",
       "      <td>8102733</td>\n",
       "      <td>nytimes.com</td>\n",
       "      <td>reliable</td>\n",
       "      <td>But this week, the bus’s practices gained wide...</td>\n",
       "      <td>2018-02-11 00:45:31.225957+00:00</td>\n",
       "      <td>At Front of Brooklyn Bus, a Clash of Religious...</td>\n",
       "      <td>real</td>\n",
       "    </tr>\n",
       "    <tr>\n",
       "      <th>3</th>\n",
       "      <td>6917956</td>\n",
       "      <td>www.yahoo.com</td>\n",
       "      <td>reliable</td>\n",
       "      <td>BEIRUT (AP) — The Latest on developments in Sy...</td>\n",
       "      <td>2016-11-08 03:28:07.118000+00:00</td>\n",
       "      <td>The Latest: Turkey: Use of Kurds against IS 'n...</td>\n",
       "      <td>real</td>\n",
       "    </tr>\n",
       "    <tr>\n",
       "      <th>4</th>\n",
       "      <td>6965379</td>\n",
       "      <td>www.sfgate.com</td>\n",
       "      <td>reliable</td>\n",
       "      <td>Hot-shooting Tennessee Tech routs Alabama A&amp;M ...</td>\n",
       "      <td>2016-11-18 22:38:10.550000+00:00</td>\n",
       "      <td>Hot-shooting Tennessee Tech routs Alabama A&amp;M ...</td>\n",
       "      <td>real</td>\n",
       "    </tr>\n",
       "  </tbody>\n",
       "</table>\n",
       "</div>"
      ],
      "text/plain": [
       "   Unnamed: 0          domain      type  \\\n",
       "0     7766484     nytimes.com  reliable   \n",
       "1     6845267   www.yahoo.com  reliable   \n",
       "2     8102733     nytimes.com  reliable   \n",
       "3     6917956   www.yahoo.com  reliable   \n",
       "4     6965379  www.sfgate.com  reliable   \n",
       "\n",
       "                                             content  \\\n",
       "0  One month after a three-judge panel of a feder...   \n",
       "1  STOCKHOLM (Reuters) - Sweden will seek assuran...   \n",
       "2  But this week, the bus’s practices gained wide...   \n",
       "3  BEIRUT (AP) — The Latest on developments in Sy...   \n",
       "4  Hot-shooting Tennessee Tech routs Alabama A&M ...   \n",
       "\n",
       "                         scraped_at  \\\n",
       "0  2018-02-11 00:42:14.935145+00:00   \n",
       "1  2016-11-11 14:16:53.754000+00:00   \n",
       "2  2018-02-11 00:45:31.225957+00:00   \n",
       "3  2016-11-08 03:28:07.118000+00:00   \n",
       "4  2016-11-18 22:38:10.550000+00:00   \n",
       "\n",
       "                                               title label  \n",
       "0              Appeal of Challenge to ‘No Child’ Law  real  \n",
       "1  Sweden seek assurances from Trump regarding de...  real  \n",
       "2  At Front of Brooklyn Bus, a Clash of Religious...  real  \n",
       "3  The Latest: Turkey: Use of Kurds against IS 'n...  real  \n",
       "4  Hot-shooting Tennessee Tech routs Alabama A&M ...  real  "
      ]
     },
     "execution_count": 5,
     "metadata": {},
     "output_type": "execute_result"
    }
   ],
   "source": [
    "test = pd.read_csv('s3://osanusi-auto/cleaned_frl_fake2.csv')\n",
    "test.head(5)"
   ]
  },
  {
   "cell_type": "markdown",
   "metadata": {},
   "source": [
    "## Obtain domain IP address"
   ]
  },
  {
   "cell_type": "code",
   "execution_count": 6,
   "metadata": {
    "ExecuteTime": {
     "end_time": "2020-12-11T03:08:31.897873Z",
     "start_time": "2020-12-11T03:08:31.883877Z"
    }
   },
   "outputs": [],
   "source": [
    "# Importing socket library \n",
    "import socket "
   ]
  },
  {
   "cell_type": "code",
   "execution_count": 7,
   "metadata": {
    "ExecuteTime": {
     "end_time": "2020-12-11T03:08:35.372887Z",
     "start_time": "2020-12-11T03:08:35.353883Z"
    }
   },
   "outputs": [],
   "source": [
    "def get_domain_IP(text): \n",
    "    try: \n",
    "        #host_name = socket.gethostname(text) \n",
    "        #host = socket.gethostbyaddr(addr)\n",
    "        #hostname = host[0]\n",
    "        host_ip = socket.gethostbyname(text) \n",
    "        #print(\"Hostname : \",host_name) \n",
    "        return host_ip \n",
    "    except: \n",
    "        return \"unknown\" \n"
   ]
  },
  {
   "cell_type": "code",
   "execution_count": 8,
   "metadata": {
    "ExecuteTime": {
     "end_time": "2020-12-11T09:14:02.965189Z",
     "start_time": "2020-12-11T03:08:37.737872Z"
    }
   },
   "outputs": [
    {
     "data": {
      "application/vnd.jupyter.widget-view+json": {
       "model_id": "",
       "version_major": 2,
       "version_minor": 0
      },
      "text/plain": [
       "HBox(children=(HTML(value='progress-bar'), FloatProgress(value=0.0, max=1788000.0), HTML(value='')))"
      ]
     },
     "metadata": {},
     "output_type": "display_data"
    },
    {
     "data": {
      "text/html": [
       "<div>\n",
       "<style scoped>\n",
       "    .dataframe tbody tr th:only-of-type {\n",
       "        vertical-align: middle;\n",
       "    }\n",
       "\n",
       "    .dataframe tbody tr th {\n",
       "        vertical-align: top;\n",
       "    }\n",
       "\n",
       "    .dataframe thead th {\n",
       "        text-align: right;\n",
       "    }\n",
       "</style>\n",
       "<table border=\"1\" class=\"dataframe\">\n",
       "  <thead>\n",
       "    <tr style=\"text-align: right;\">\n",
       "      <th></th>\n",
       "      <th>Unnamed: 0</th>\n",
       "      <th>domain</th>\n",
       "      <th>type</th>\n",
       "      <th>content</th>\n",
       "      <th>scraped_at</th>\n",
       "      <th>title</th>\n",
       "      <th>label</th>\n",
       "      <th>domain_ip</th>\n",
       "    </tr>\n",
       "  </thead>\n",
       "  <tbody>\n",
       "    <tr>\n",
       "      <th>0</th>\n",
       "      <td>7766484</td>\n",
       "      <td>nytimes.com</td>\n",
       "      <td>reliable</td>\n",
       "      <td>One month after a three-judge panel of a feder...</td>\n",
       "      <td>2018-02-11 00:42:14.935145+00:00</td>\n",
       "      <td>Appeal of Challenge to ‘No Child’ Law</td>\n",
       "      <td>real</td>\n",
       "      <td>151.101.129.164</td>\n",
       "    </tr>\n",
       "    <tr>\n",
       "      <th>1</th>\n",
       "      <td>6845267</td>\n",
       "      <td>www.yahoo.com</td>\n",
       "      <td>reliable</td>\n",
       "      <td>STOCKHOLM (Reuters) - Sweden will seek assuran...</td>\n",
       "      <td>2016-11-11 14:16:53.754000+00:00</td>\n",
       "      <td>Sweden seek assurances from Trump regarding de...</td>\n",
       "      <td>real</td>\n",
       "      <td>74.6.231.20</td>\n",
       "    </tr>\n",
       "    <tr>\n",
       "      <th>2</th>\n",
       "      <td>8102733</td>\n",
       "      <td>nytimes.com</td>\n",
       "      <td>reliable</td>\n",
       "      <td>But this week, the bus’s practices gained wide...</td>\n",
       "      <td>2018-02-11 00:45:31.225957+00:00</td>\n",
       "      <td>At Front of Brooklyn Bus, a Clash of Religious...</td>\n",
       "      <td>real</td>\n",
       "      <td>151.101.129.164</td>\n",
       "    </tr>\n",
       "    <tr>\n",
       "      <th>3</th>\n",
       "      <td>6917956</td>\n",
       "      <td>www.yahoo.com</td>\n",
       "      <td>reliable</td>\n",
       "      <td>BEIRUT (AP) — The Latest on developments in Sy...</td>\n",
       "      <td>2016-11-08 03:28:07.118000+00:00</td>\n",
       "      <td>The Latest: Turkey: Use of Kurds against IS 'n...</td>\n",
       "      <td>real</td>\n",
       "      <td>74.6.231.20</td>\n",
       "    </tr>\n",
       "    <tr>\n",
       "      <th>4</th>\n",
       "      <td>6965379</td>\n",
       "      <td>www.sfgate.com</td>\n",
       "      <td>reliable</td>\n",
       "      <td>Hot-shooting Tennessee Tech routs Alabama A&amp;M ...</td>\n",
       "      <td>2016-11-18 22:38:10.550000+00:00</td>\n",
       "      <td>Hot-shooting Tennessee Tech routs Alabama A&amp;M ...</td>\n",
       "      <td>real</td>\n",
       "      <td>151.101.248.200</td>\n",
       "    </tr>\n",
       "    <tr>\n",
       "      <th>...</th>\n",
       "      <td>...</td>\n",
       "      <td>...</td>\n",
       "      <td>...</td>\n",
       "      <td>...</td>\n",
       "      <td>...</td>\n",
       "      <td>...</td>\n",
       "      <td>...</td>\n",
       "      <td>...</td>\n",
       "    </tr>\n",
       "    <tr>\n",
       "      <th>1787995</th>\n",
       "      <td>2479097</td>\n",
       "      <td>dailyheadlines.net</td>\n",
       "      <td>fake</td>\n",
       "      <td>At DailyHeadlines.net, the privacy of our visi...</td>\n",
       "      <td>2017-11-18 20:01:27.400599+00:00</td>\n",
       "      <td>Privacy Policy</td>\n",
       "      <td>fake</td>\n",
       "      <td>104.18.53.134</td>\n",
       "    </tr>\n",
       "    <tr>\n",
       "      <th>1787996</th>\n",
       "      <td>3466830</td>\n",
       "      <td>coed.com</td>\n",
       "      <td>fake</td>\n",
       "      <td>Catherine Deneuve turns 70 years old today–but...</td>\n",
       "      <td>2017-11-27 01:14:21.395055+00:00</td>\n",
       "      <td>Catherine Deneuve: 63 Sexy Photos for Her 70th...</td>\n",
       "      <td>fake</td>\n",
       "      <td>104.21.235.160</td>\n",
       "    </tr>\n",
       "    <tr>\n",
       "      <th>1787997</th>\n",
       "      <td>4848793</td>\n",
       "      <td>beforeitsnews.com</td>\n",
       "      <td>fake</td>\n",
       "      <td>How Well Can You See\\n\\n(Before It's News)\\n\\n...</td>\n",
       "      <td>2017-11-27 01:14:08.745400+00:00</td>\n",
       "      <td>How Well Can You See</td>\n",
       "      <td>fake</td>\n",
       "      <td>104.22.75.138</td>\n",
       "    </tr>\n",
       "    <tr>\n",
       "      <th>1787998</th>\n",
       "      <td>3376221</td>\n",
       "      <td>ushealthyadvisor.com</td>\n",
       "      <td>fake</td>\n",
       "      <td>President Trump reported on Wednesday that the...</td>\n",
       "      <td>2017-11-27 01:15:37.733539+00:00</td>\n",
       "      <td>military Archives</td>\n",
       "      <td>fake</td>\n",
       "      <td>204.11.56.48</td>\n",
       "    </tr>\n",
       "    <tr>\n",
       "      <th>1787999</th>\n",
       "      <td>4789587</td>\n",
       "      <td>beforeitsnews.com</td>\n",
       "      <td>fake</td>\n",
       "      <td>Procyclicalists Across the Atlantic Too\\n\\n(Be...</td>\n",
       "      <td>2017-11-27 01:14:08.745400+00:00</td>\n",
       "      <td>Procyclicalists Across the Atlantic Too</td>\n",
       "      <td>fake</td>\n",
       "      <td>104.22.75.138</td>\n",
       "    </tr>\n",
       "  </tbody>\n",
       "</table>\n",
       "<p>1788000 rows × 8 columns</p>\n",
       "</div>"
      ],
      "text/plain": [
       "         Unnamed: 0                domain      type  \\\n",
       "0           7766484           nytimes.com  reliable   \n",
       "1           6845267         www.yahoo.com  reliable   \n",
       "2           8102733           nytimes.com  reliable   \n",
       "3           6917956         www.yahoo.com  reliable   \n",
       "4           6965379        www.sfgate.com  reliable   \n",
       "...             ...                   ...       ...   \n",
       "1787995     2479097    dailyheadlines.net      fake   \n",
       "1787996     3466830              coed.com      fake   \n",
       "1787997     4848793     beforeitsnews.com      fake   \n",
       "1787998     3376221  ushealthyadvisor.com      fake   \n",
       "1787999     4789587     beforeitsnews.com      fake   \n",
       "\n",
       "                                                   content  \\\n",
       "0        One month after a three-judge panel of a feder...   \n",
       "1        STOCKHOLM (Reuters) - Sweden will seek assuran...   \n",
       "2        But this week, the bus’s practices gained wide...   \n",
       "3        BEIRUT (AP) — The Latest on developments in Sy...   \n",
       "4        Hot-shooting Tennessee Tech routs Alabama A&M ...   \n",
       "...                                                    ...   \n",
       "1787995  At DailyHeadlines.net, the privacy of our visi...   \n",
       "1787996  Catherine Deneuve turns 70 years old today–but...   \n",
       "1787997  How Well Can You See\\n\\n(Before It's News)\\n\\n...   \n",
       "1787998  President Trump reported on Wednesday that the...   \n",
       "1787999  Procyclicalists Across the Atlantic Too\\n\\n(Be...   \n",
       "\n",
       "                               scraped_at  \\\n",
       "0        2018-02-11 00:42:14.935145+00:00   \n",
       "1        2016-11-11 14:16:53.754000+00:00   \n",
       "2        2018-02-11 00:45:31.225957+00:00   \n",
       "3        2016-11-08 03:28:07.118000+00:00   \n",
       "4        2016-11-18 22:38:10.550000+00:00   \n",
       "...                                   ...   \n",
       "1787995  2017-11-18 20:01:27.400599+00:00   \n",
       "1787996  2017-11-27 01:14:21.395055+00:00   \n",
       "1787997  2017-11-27 01:14:08.745400+00:00   \n",
       "1787998  2017-11-27 01:15:37.733539+00:00   \n",
       "1787999  2017-11-27 01:14:08.745400+00:00   \n",
       "\n",
       "                                                     title label  \\\n",
       "0                    Appeal of Challenge to ‘No Child’ Law  real   \n",
       "1        Sweden seek assurances from Trump regarding de...  real   \n",
       "2        At Front of Brooklyn Bus, a Clash of Religious...  real   \n",
       "3        The Latest: Turkey: Use of Kurds against IS 'n...  real   \n",
       "4        Hot-shooting Tennessee Tech routs Alabama A&M ...  real   \n",
       "...                                                    ...   ...   \n",
       "1787995                                     Privacy Policy  fake   \n",
       "1787996  Catherine Deneuve: 63 Sexy Photos for Her 70th...  fake   \n",
       "1787997                               How Well Can You See  fake   \n",
       "1787998                                  military Archives  fake   \n",
       "1787999            Procyclicalists Across the Atlantic Too  fake   \n",
       "\n",
       "               domain_ip  \n",
       "0        151.101.129.164  \n",
       "1            74.6.231.20  \n",
       "2        151.101.129.164  \n",
       "3            74.6.231.20  \n",
       "4        151.101.248.200  \n",
       "...                  ...  \n",
       "1787995    104.18.53.134  \n",
       "1787996   104.21.235.160  \n",
       "1787997    104.22.75.138  \n",
       "1787998     204.11.56.48  \n",
       "1787999    104.22.75.138  \n",
       "\n",
       "[1788000 rows x 8 columns]"
      ]
     },
     "execution_count": 8,
     "metadata": {},
     "output_type": "execute_result"
    }
   ],
   "source": [
    "test['domain_ip'] = test['domain'].progress_apply(get_domain_IP)\n",
    "test"
   ]
  },
  {
   "cell_type": "markdown",
   "metadata": {},
   "source": [
    "## Extract unique domain name from url"
   ]
  },
  {
   "cell_type": "code",
   "execution_count": 9,
   "metadata": {
    "ExecuteTime": {
     "end_time": "2020-12-11T09:22:43.956588Z",
     "start_time": "2020-12-11T09:22:43.940563Z"
    }
   },
   "outputs": [],
   "source": [
    "import tldextract\n",
    "def extract_domain(url):\n",
    "    \"\"\"\n",
    "    Extract domain name from fld url\n",
    "    \"\"\"\n",
    "    info = tldextract.extract(url)\n",
    "    return info.domain"
   ]
  },
  {
   "cell_type": "code",
   "execution_count": 10,
   "metadata": {
    "ExecuteTime": {
     "end_time": "2020-12-11T09:23:09.969143Z",
     "start_time": "2020-12-11T09:22:46.985122Z"
    }
   },
   "outputs": [
    {
     "data": {
      "application/vnd.jupyter.widget-view+json": {
       "model_id": "",
       "version_major": 2,
       "version_minor": 0
      },
      "text/plain": [
       "HBox(children=(HTML(value='progress-bar'), FloatProgress(value=0.0, max=1788000.0), HTML(value='')))"
      ]
     },
     "metadata": {},
     "output_type": "display_data"
    },
    {
     "data": {
      "text/html": [
       "<div>\n",
       "<style scoped>\n",
       "    .dataframe tbody tr th:only-of-type {\n",
       "        vertical-align: middle;\n",
       "    }\n",
       "\n",
       "    .dataframe tbody tr th {\n",
       "        vertical-align: top;\n",
       "    }\n",
       "\n",
       "    .dataframe thead th {\n",
       "        text-align: right;\n",
       "    }\n",
       "</style>\n",
       "<table border=\"1\" class=\"dataframe\">\n",
       "  <thead>\n",
       "    <tr style=\"text-align: right;\">\n",
       "      <th></th>\n",
       "      <th>Unnamed: 0</th>\n",
       "      <th>domain</th>\n",
       "      <th>type</th>\n",
       "      <th>content</th>\n",
       "      <th>scraped_at</th>\n",
       "      <th>title</th>\n",
       "      <th>label</th>\n",
       "      <th>domain_ip</th>\n",
       "    </tr>\n",
       "  </thead>\n",
       "  <tbody>\n",
       "    <tr>\n",
       "      <th>0</th>\n",
       "      <td>7766484</td>\n",
       "      <td>nytimes</td>\n",
       "      <td>reliable</td>\n",
       "      <td>One month after a three-judge panel of a feder...</td>\n",
       "      <td>2018-02-11 00:42:14.935145+00:00</td>\n",
       "      <td>Appeal of Challenge to ‘No Child’ Law</td>\n",
       "      <td>real</td>\n",
       "      <td>151.101.129.164</td>\n",
       "    </tr>\n",
       "    <tr>\n",
       "      <th>1</th>\n",
       "      <td>6845267</td>\n",
       "      <td>yahoo</td>\n",
       "      <td>reliable</td>\n",
       "      <td>STOCKHOLM (Reuters) - Sweden will seek assuran...</td>\n",
       "      <td>2016-11-11 14:16:53.754000+00:00</td>\n",
       "      <td>Sweden seek assurances from Trump regarding de...</td>\n",
       "      <td>real</td>\n",
       "      <td>74.6.231.20</td>\n",
       "    </tr>\n",
       "    <tr>\n",
       "      <th>2</th>\n",
       "      <td>8102733</td>\n",
       "      <td>nytimes</td>\n",
       "      <td>reliable</td>\n",
       "      <td>But this week, the bus’s practices gained wide...</td>\n",
       "      <td>2018-02-11 00:45:31.225957+00:00</td>\n",
       "      <td>At Front of Brooklyn Bus, a Clash of Religious...</td>\n",
       "      <td>real</td>\n",
       "      <td>151.101.129.164</td>\n",
       "    </tr>\n",
       "    <tr>\n",
       "      <th>3</th>\n",
       "      <td>6917956</td>\n",
       "      <td>yahoo</td>\n",
       "      <td>reliable</td>\n",
       "      <td>BEIRUT (AP) — The Latest on developments in Sy...</td>\n",
       "      <td>2016-11-08 03:28:07.118000+00:00</td>\n",
       "      <td>The Latest: Turkey: Use of Kurds against IS 'n...</td>\n",
       "      <td>real</td>\n",
       "      <td>74.6.231.20</td>\n",
       "    </tr>\n",
       "    <tr>\n",
       "      <th>4</th>\n",
       "      <td>6965379</td>\n",
       "      <td>sfgate</td>\n",
       "      <td>reliable</td>\n",
       "      <td>Hot-shooting Tennessee Tech routs Alabama A&amp;M ...</td>\n",
       "      <td>2016-11-18 22:38:10.550000+00:00</td>\n",
       "      <td>Hot-shooting Tennessee Tech routs Alabama A&amp;M ...</td>\n",
       "      <td>real</td>\n",
       "      <td>151.101.248.200</td>\n",
       "    </tr>\n",
       "    <tr>\n",
       "      <th>5</th>\n",
       "      <td>7989942</td>\n",
       "      <td>nytimes</td>\n",
       "      <td>reliable</td>\n",
       "      <td>WADING THROUGH FLOWERS IN LISSE, THE NETHERLAN...</td>\n",
       "      <td>2018-02-11 00:44:27.176480+00:00</td>\n",
       "      <td>WHY WE TRAVEL</td>\n",
       "      <td>real</td>\n",
       "      <td>151.101.129.164</td>\n",
       "    </tr>\n",
       "    <tr>\n",
       "      <th>6</th>\n",
       "      <td>7051291</td>\n",
       "      <td>nytimes</td>\n",
       "      <td>reliable</td>\n",
       "      <td>Fatigue a Labor Issue\\n\\nLabor unions and legi...</td>\n",
       "      <td>2018-02-11 00:35:22.958955+00:00</td>\n",
       "      <td>INSIDE</td>\n",
       "      <td>real</td>\n",
       "      <td>151.101.129.164</td>\n",
       "    </tr>\n",
       "    <tr>\n",
       "      <th>7</th>\n",
       "      <td>7170560</td>\n",
       "      <td>nytimes</td>\n",
       "      <td>reliable</td>\n",
       "      <td>José Fajardo, a Cuban flutist who was one of t...</td>\n",
       "      <td>2018-02-11 00:36:25.417832+00:00</td>\n",
       "      <td>José Fajardo, 82, Flutist And Bandleader, Is Dead</td>\n",
       "      <td>real</td>\n",
       "      <td>151.101.129.164</td>\n",
       "    </tr>\n",
       "    <tr>\n",
       "      <th>8</th>\n",
       "      <td>6857018</td>\n",
       "      <td>businessinsider</td>\n",
       "      <td>reliable</td>\n",
       "      <td>print \\nDemocratic presidential candidate Hill...</td>\n",
       "      <td>2016-11-06 19:44:20.154000+00:00</td>\n",
       "      <td>Georgia senators break with party, say they'll...</td>\n",
       "      <td>real</td>\n",
       "      <td>151.101.201.171</td>\n",
       "    </tr>\n",
       "    <tr>\n",
       "      <th>9</th>\n",
       "      <td>8113576</td>\n",
       "      <td>nytimes</td>\n",
       "      <td>reliable</td>\n",
       "      <td>ONE of my patients called me with a high fever...</td>\n",
       "      <td>2018-02-11 00:45:40.180827+00:00</td>\n",
       "      <td>Bring Health Care Home</td>\n",
       "      <td>real</td>\n",
       "      <td>151.101.129.164</td>\n",
       "    </tr>\n",
       "  </tbody>\n",
       "</table>\n",
       "</div>"
      ],
      "text/plain": [
       "   Unnamed: 0           domain      type  \\\n",
       "0     7766484          nytimes  reliable   \n",
       "1     6845267            yahoo  reliable   \n",
       "2     8102733          nytimes  reliable   \n",
       "3     6917956            yahoo  reliable   \n",
       "4     6965379           sfgate  reliable   \n",
       "5     7989942          nytimes  reliable   \n",
       "6     7051291          nytimes  reliable   \n",
       "7     7170560          nytimes  reliable   \n",
       "8     6857018  businessinsider  reliable   \n",
       "9     8113576          nytimes  reliable   \n",
       "\n",
       "                                             content  \\\n",
       "0  One month after a three-judge panel of a feder...   \n",
       "1  STOCKHOLM (Reuters) - Sweden will seek assuran...   \n",
       "2  But this week, the bus’s practices gained wide...   \n",
       "3  BEIRUT (AP) — The Latest on developments in Sy...   \n",
       "4  Hot-shooting Tennessee Tech routs Alabama A&M ...   \n",
       "5  WADING THROUGH FLOWERS IN LISSE, THE NETHERLAN...   \n",
       "6  Fatigue a Labor Issue\\n\\nLabor unions and legi...   \n",
       "7  José Fajardo, a Cuban flutist who was one of t...   \n",
       "8  print \\nDemocratic presidential candidate Hill...   \n",
       "9  ONE of my patients called me with a high fever...   \n",
       "\n",
       "                         scraped_at  \\\n",
       "0  2018-02-11 00:42:14.935145+00:00   \n",
       "1  2016-11-11 14:16:53.754000+00:00   \n",
       "2  2018-02-11 00:45:31.225957+00:00   \n",
       "3  2016-11-08 03:28:07.118000+00:00   \n",
       "4  2016-11-18 22:38:10.550000+00:00   \n",
       "5  2018-02-11 00:44:27.176480+00:00   \n",
       "6  2018-02-11 00:35:22.958955+00:00   \n",
       "7  2018-02-11 00:36:25.417832+00:00   \n",
       "8  2016-11-06 19:44:20.154000+00:00   \n",
       "9  2018-02-11 00:45:40.180827+00:00   \n",
       "\n",
       "                                               title label        domain_ip  \n",
       "0              Appeal of Challenge to ‘No Child’ Law  real  151.101.129.164  \n",
       "1  Sweden seek assurances from Trump regarding de...  real      74.6.231.20  \n",
       "2  At Front of Brooklyn Bus, a Clash of Religious...  real  151.101.129.164  \n",
       "3  The Latest: Turkey: Use of Kurds against IS 'n...  real      74.6.231.20  \n",
       "4  Hot-shooting Tennessee Tech routs Alabama A&M ...  real  151.101.248.200  \n",
       "5                                      WHY WE TRAVEL  real  151.101.129.164  \n",
       "6                                             INSIDE  real  151.101.129.164  \n",
       "7  José Fajardo, 82, Flutist And Bandleader, Is Dead  real  151.101.129.164  \n",
       "8  Georgia senators break with party, say they'll...  real  151.101.201.171  \n",
       "9                             Bring Health Care Home  real  151.101.129.164  "
      ]
     },
     "execution_count": 10,
     "metadata": {},
     "output_type": "execute_result"
    }
   ],
   "source": [
    "test['domain'] = test['domain'].progress_apply(extract_domain)\n",
    "test.head(10)"
   ]
  },
  {
   "cell_type": "markdown",
   "metadata": {},
   "source": [
    "## Unique counts of domain"
   ]
  },
  {
   "cell_type": "code",
   "execution_count": 11,
   "metadata": {
    "ExecuteTime": {
     "end_time": "2020-12-11T09:23:38.232817Z",
     "start_time": "2020-12-11T09:23:37.928825Z"
    }
   },
   "outputs": [
    {
     "data": {
      "text/plain": [
       "beforeitsnews           780368\n",
       "nytimes                 723138\n",
       "yahoo                    34776\n",
       "reuters                  27109\n",
       "threepercenternation     24344\n",
       "                         ...  \n",
       "libertyalliance              1\n",
       "bighairynews                 1\n",
       "interestingdailynews         1\n",
       "ushealthylife                1\n",
       "thetruthseeker               1\n",
       "Name: domain, Length: 156, dtype: int64"
      ]
     },
     "execution_count": 11,
     "metadata": {},
     "output_type": "execute_result"
    }
   ],
   "source": [
    "test['domain'].value_counts(dropna=False, ascending=False)"
   ]
  },
  {
   "cell_type": "code",
   "execution_count": 12,
   "metadata": {
    "ExecuteTime": {
     "end_time": "2020-12-11T09:24:05.574838Z",
     "start_time": "2020-12-11T09:24:04.484836Z"
    }
   },
   "outputs": [
    {
     "data": {
      "text/plain": [
       "<AxesSubplot:title={'center':'Distribution of the number of articles from first 25 domains'}>"
      ]
     },
     "execution_count": 12,
     "metadata": {},
     "output_type": "execute_result"
    },
    {
     "data": {
      "image/png": "[encoded data removed]",
      "text/plain": [
       "<Figure size 900x600 with 1 Axes>"
      ]
     },
     "metadata": {},
     "output_type": "display_data"
    }
   ],
   "source": [
    "test.domain.value_counts(ascending=False).head(25).plot.barh(title='Distribution of the number of articles from first 25 domains')"
   ]
  },
  {
   "cell_type": "markdown",
   "metadata": {},
   "source": [
    "## Unique counts of domain ip address"
   ]
  },
  {
   "cell_type": "code",
   "execution_count": 13,
   "metadata": {
    "ExecuteTime": {
     "end_time": "2020-12-11T09:24:35.969940Z",
     "start_time": "2020-12-11T09:24:35.642750Z"
    }
   },
   "outputs": [
    {
     "data": {
      "text/plain": [
       "151.101.193.164    309330\n",
       "104.22.74.138      277003\n",
       "104.22.75.138      275546\n",
       "172.67.14.110      227819\n",
       "151.101.1.164      227075\n",
       "                    ...  \n",
       "104.24.97.2             1\n",
       "172.67.178.43           1\n",
       "172.67.223.154          1\n",
       "69.162.80.51            1\n",
       "216.15.207.174          1\n",
       "Name: domain_ip, Length: 330, dtype: int64"
      ]
     },
     "execution_count": 13,
     "metadata": {},
     "output_type": "execute_result"
    }
   ],
   "source": [
    "test['domain_ip'].value_counts(dropna=False, ascending=False)"
   ]
  },
  {
   "cell_type": "code",
   "execution_count": 14,
   "metadata": {
    "ExecuteTime": {
     "end_time": "2020-12-11T09:24:54.233472Z",
     "start_time": "2020-12-11T09:24:53.413499Z"
    }
   },
   "outputs": [
    {
     "data": {
      "text/plain": [
       "<AxesSubplot:title={'center':'Distribution of the number of articles from first 25 domain ip address'}>"
      ]
     },
     "execution_count": 14,
     "metadata": {},
     "output_type": "execute_result"
    },
    {
     "data": {
      "image/png": "[encoded data removed]",
      "text/plain": [
       "<Figure size 900x600 with 1 Axes>"
      ]
     },
     "metadata": {},
     "output_type": "display_data"
    }
   ],
   "source": [
    "test['domain_ip'].value_counts(ascending=False).head(25).plot.barh(title='Distribution of the number of articles from first 25 domain ip address')"
   ]
  },
  {
   "cell_type": "code",
   "execution_count": 15,
   "metadata": {
    "ExecuteTime": {
     "end_time": "2020-12-11T09:25:03.543627Z",
     "start_time": "2020-12-11T09:25:02.531639Z"
    }
   },
   "outputs": [
    {
     "data": {
      "text/html": [
       "<div>\n",
       "<style scoped>\n",
       "    .dataframe tbody tr th:only-of-type {\n",
       "        vertical-align: middle;\n",
       "    }\n",
       "\n",
       "    .dataframe tbody tr th {\n",
       "        vertical-align: top;\n",
       "    }\n",
       "\n",
       "    .dataframe thead th {\n",
       "        text-align: right;\n",
       "    }\n",
       "</style>\n",
       "<table border=\"1\" class=\"dataframe\">\n",
       "  <thead>\n",
       "    <tr style=\"text-align: right;\">\n",
       "      <th></th>\n",
       "      <th>Unnamed: 0</th>\n",
       "      <th>domain</th>\n",
       "      <th>type</th>\n",
       "      <th>content</th>\n",
       "      <th>scraped_at</th>\n",
       "      <th>title</th>\n",
       "      <th>label</th>\n",
       "      <th>domain_ip</th>\n",
       "    </tr>\n",
       "  </thead>\n",
       "  <tbody>\n",
       "    <tr>\n",
       "      <th>387</th>\n",
       "      <td>6945864</td>\n",
       "      <td>bloomberg</td>\n",
       "      <td>reliable</td>\n",
       "      <td>Asian Stocks Drop as Fed Hike Nears; Nikkei 22...</td>\n",
       "      <td>2016-11-18 14:52:22.152000+00:00</td>\n",
       "      <td>Asian Stocks Drop as Fed Hike Nears; Nikkei 22...</td>\n",
       "      <td>real</td>\n",
       "      <td>unknown</td>\n",
       "    </tr>\n",
       "    <tr>\n",
       "      <th>745</th>\n",
       "      <td>6658674</td>\n",
       "      <td>bloomberg</td>\n",
       "      <td>reliable</td>\n",
       "      <td>China Flips Roles With U.S. in Trump Era With ...</td>\n",
       "      <td>2016-11-21 03:23:33.702000+00:00</td>\n",
       "      <td>China Flips Roles With U.S. in Trump Era With ...</td>\n",
       "      <td>real</td>\n",
       "      <td>unknown</td>\n",
       "    </tr>\n",
       "    <tr>\n",
       "      <th>2711</th>\n",
       "      <td>6969670</td>\n",
       "      <td>reuters</td>\n",
       "      <td>reliable</td>\n",
       "      <td>Stratus, a product launch and marketing agency...</td>\n",
       "      <td>2016-11-18 05:20:41.408000+00:00</td>\n",
       "      <td>Toyota says testing Mirai fuel-cell vehicle in...</td>\n",
       "      <td>real</td>\n",
       "      <td>unknown</td>\n",
       "    </tr>\n",
       "    <tr>\n",
       "      <th>3969</th>\n",
       "      <td>6700489</td>\n",
       "      <td>reuters</td>\n",
       "      <td>reliable</td>\n",
       "      <td>0 Comments U.S. crude stockpiles fall as impor...</td>\n",
       "      <td>2016-11-23 17:53:08.160000+00:00</td>\n",
       "      <td>U.S. crude stockpiles fall as imports drop, re...</td>\n",
       "      <td>real</td>\n",
       "      <td>unknown</td>\n",
       "    </tr>\n",
       "    <tr>\n",
       "      <th>4150</th>\n",
       "      <td>6786789</td>\n",
       "      <td>reuters</td>\n",
       "      <td>reliable</td>\n",
       "      <td>Nov 3 Aclaris Therapeutics Inc :\\n* Files for ...</td>\n",
       "      <td>2016-11-02 22:41:06.493000+00:00</td>\n",
       "      <td>BRIEF-Aclaris Therapeutics files for mixed she...</td>\n",
       "      <td>real</td>\n",
       "      <td>unknown</td>\n",
       "    </tr>\n",
       "    <tr>\n",
       "      <th>...</th>\n",
       "      <td>...</td>\n",
       "      <td>...</td>\n",
       "      <td>...</td>\n",
       "      <td>...</td>\n",
       "      <td>...</td>\n",
       "      <td>...</td>\n",
       "      <td>...</td>\n",
       "      <td>...</td>\n",
       "    </tr>\n",
       "    <tr>\n",
       "      <th>1786772</th>\n",
       "      <td>5138171</td>\n",
       "      <td>thetruthdivision</td>\n",
       "      <td>fake</td>\n",
       "      <td>BREAKING: Federal Watchdog Makes Hillary’s Wor...</td>\n",
       "      <td>2017-11-27 01:15:32.269834+00:00</td>\n",
       "      <td>Anthony Weiner Archives</td>\n",
       "      <td>fake</td>\n",
       "      <td>unknown</td>\n",
       "    </tr>\n",
       "    <tr>\n",
       "      <th>1786999</th>\n",
       "      <td>5141341</td>\n",
       "      <td>thetruthdivision</td>\n",
       "      <td>fake</td>\n",
       "      <td>Earlier this week, ISIS suffered a major defea...</td>\n",
       "      <td>2017-11-27 01:15:32.269834+00:00</td>\n",
       "      <td>Saudi King Issues Incredible Message To Trump ...</td>\n",
       "      <td>fake</td>\n",
       "      <td>unknown</td>\n",
       "    </tr>\n",
       "    <tr>\n",
       "      <th>1787277</th>\n",
       "      <td>5167316</td>\n",
       "      <td>thetruthdivision</td>\n",
       "      <td>fake</td>\n",
       "      <td>WOW: 24 Hours After Cancer Diagnosis, McCain I...</td>\n",
       "      <td>2017-11-27 01:15:32.269834+00:00</td>\n",
       "      <td>The Truth Division, Author at The Truth Division</td>\n",
       "      <td>fake</td>\n",
       "      <td>unknown</td>\n",
       "    </tr>\n",
       "    <tr>\n",
       "      <th>1787441</th>\n",
       "      <td>5176149</td>\n",
       "      <td>thetruthdivision</td>\n",
       "      <td>fake</td>\n",
       "      <td>The leakers are beginning to be purged — and t...</td>\n",
       "      <td>2017-11-27 01:15:32.269834+00:00</td>\n",
       "      <td>BUSTED: Anderson Cooper Has Ties To Arrested N...</td>\n",
       "      <td>fake</td>\n",
       "      <td>unknown</td>\n",
       "    </tr>\n",
       "    <tr>\n",
       "      <th>1787594</th>\n",
       "      <td>5158011</td>\n",
       "      <td>thetruthdivision</td>\n",
       "      <td>fake</td>\n",
       "      <td>Rick Santorum called out President Obama — big...</td>\n",
       "      <td>2017-11-27 01:15:32.269834+00:00</td>\n",
       "      <td>BOOM: Rick Santorum Calls Out “Bully” Obama In...</td>\n",
       "      <td>fake</td>\n",
       "      <td>unknown</td>\n",
       "    </tr>\n",
       "  </tbody>\n",
       "</table>\n",
       "<p>5451 rows × 8 columns</p>\n",
       "</div>"
      ],
      "text/plain": [
       "         Unnamed: 0            domain      type  \\\n",
       "387         6945864         bloomberg  reliable   \n",
       "745         6658674         bloomberg  reliable   \n",
       "2711        6969670           reuters  reliable   \n",
       "3969        6700489           reuters  reliable   \n",
       "4150        6786789           reuters  reliable   \n",
       "...             ...               ...       ...   \n",
       "1786772     5138171  thetruthdivision      fake   \n",
       "1786999     5141341  thetruthdivision      fake   \n",
       "1787277     5167316  thetruthdivision      fake   \n",
       "1787441     5176149  thetruthdivision      fake   \n",
       "1787594     5158011  thetruthdivision      fake   \n",
       "\n",
       "                                                   content  \\\n",
       "387      Asian Stocks Drop as Fed Hike Nears; Nikkei 22...   \n",
       "745      China Flips Roles With U.S. in Trump Era With ...   \n",
       "2711     Stratus, a product launch and marketing agency...   \n",
       "3969     0 Comments U.S. crude stockpiles fall as impor...   \n",
       "4150     Nov 3 Aclaris Therapeutics Inc :\\n* Files for ...   \n",
       "...                                                    ...   \n",
       "1786772  BREAKING: Federal Watchdog Makes Hillary’s Wor...   \n",
       "1786999  Earlier this week, ISIS suffered a major defea...   \n",
       "1787277  WOW: 24 Hours After Cancer Diagnosis, McCain I...   \n",
       "1787441  The leakers are beginning to be purged — and t...   \n",
       "1787594  Rick Santorum called out President Obama — big...   \n",
       "\n",
       "                               scraped_at  \\\n",
       "387      2016-11-18 14:52:22.152000+00:00   \n",
       "745      2016-11-21 03:23:33.702000+00:00   \n",
       "2711     2016-11-18 05:20:41.408000+00:00   \n",
       "3969     2016-11-23 17:53:08.160000+00:00   \n",
       "4150     2016-11-02 22:41:06.493000+00:00   \n",
       "...                                   ...   \n",
       "1786772  2017-11-27 01:15:32.269834+00:00   \n",
       "1786999  2017-11-27 01:15:32.269834+00:00   \n",
       "1787277  2017-11-27 01:15:32.269834+00:00   \n",
       "1787441  2017-11-27 01:15:32.269834+00:00   \n",
       "1787594  2017-11-27 01:15:32.269834+00:00   \n",
       "\n",
       "                                                     title label domain_ip  \n",
       "387      Asian Stocks Drop as Fed Hike Nears; Nikkei 22...  real   unknown  \n",
       "745      China Flips Roles With U.S. in Trump Era With ...  real   unknown  \n",
       "2711     Toyota says testing Mirai fuel-cell vehicle in...  real   unknown  \n",
       "3969     U.S. crude stockpiles fall as imports drop, re...  real   unknown  \n",
       "4150     BRIEF-Aclaris Therapeutics files for mixed she...  real   unknown  \n",
       "...                                                    ...   ...       ...  \n",
       "1786772                            Anthony Weiner Archives  fake   unknown  \n",
       "1786999  Saudi King Issues Incredible Message To Trump ...  fake   unknown  \n",
       "1787277   The Truth Division, Author at The Truth Division  fake   unknown  \n",
       "1787441  BUSTED: Anderson Cooper Has Ties To Arrested N...  fake   unknown  \n",
       "1787594  BOOM: Rick Santorum Calls Out “Bully” Obama In...  fake   unknown  \n",
       "\n",
       "[5451 rows x 8 columns]"
      ]
     },
     "execution_count": 15,
     "metadata": {},
     "output_type": "execute_result"
    }
   ],
   "source": [
    "test[test['domain_ip']=='unknown']"
   ]
  },
  {
   "cell_type": "markdown",
   "metadata": {},
   "source": [
    "## Distribution of the type column"
   ]
  },
  {
   "cell_type": "code",
   "execution_count": 17,
   "metadata": {
    "ExecuteTime": {
     "end_time": "2020-12-11T09:30:52.359835Z",
     "start_time": "2020-12-11T09:30:52.143817Z"
    }
   },
   "outputs": [
    {
     "data": {
      "text/plain": [
       "fake        894000\n",
       "reliable    894000\n",
       "Name: type, dtype: int64"
      ]
     },
     "execution_count": 17,
     "metadata": {},
     "output_type": "execute_result"
    }
   ],
   "source": [
    "test.type.value_counts(dropna=False, ascending=False)"
   ]
  },
  {
   "cell_type": "code",
   "execution_count": 18,
   "metadata": {
    "ExecuteTime": {
     "end_time": "2020-12-11T09:30:56.956800Z",
     "start_time": "2020-12-11T09:30:56.388827Z"
    }
   },
   "outputs": [
    {
     "data": {
      "text/plain": [
       "<AxesSubplot:>"
      ]
     },
     "execution_count": 18,
     "metadata": {},
     "output_type": "execute_result"
    },
    {
     "data": {
      "image/png": "[encoded data removed]",
      "text/plain": [
       "<Figure size 900x600 with 1 Axes>"
      ]
     },
     "metadata": {},
     "output_type": "display_data"
    }
   ],
   "source": [
    "test.type.value_counts(dropna=False, ascending=False).plot.bar(rot=0)"
   ]
  },
  {
   "cell_type": "code",
   "execution_count": null,
   "metadata": {},
   "outputs": [],
   "source": []
  }
 ],
 "metadata": {
  "kernelspec": {
   "display_name": "Python 3",
   "language": "python",
   "name": "python3"
  },
  "language_info": {
   "codemirror_mode": {
    "name": "ipython",
    "version": 3
   },
   "file_extension": ".py",
   "mimetype": "text/x-python",
   "name": "python",
   "nbconvert_exporter": "python",
   "pygments_lexer": "ipython3",
   "version": "3.8.5"
  }
 },
 "nbformat": 4,
 "nbformat_minor": 4
}
